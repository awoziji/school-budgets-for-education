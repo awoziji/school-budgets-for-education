{
  "nbformat": 4,
  "nbformat_minor": 0,
  "metadata": {
    "colab": {
      "name": "1_0_agglomerative_clustering.ipynb",
      "version": "0.3.2",
      "provenance": [],
      "toc_visible": true
    },
    "language_info": {
      "codemirror_mode": {
        "name": "ipython",
        "version": 3
      },
      "file_extension": ".py",
      "mimetype": "text/x-python",
      "name": "python",
      "nbconvert_exporter": "python",
      "pygments_lexer": "ipython3",
      "version": "3.6.7"
    },
    "kernelspec": {
      "name": "python3",
      "display_name": "Python 3"
    },
    "accelerator": "GPU"
  },
  "cells": [
    {
      "cell_type": "markdown",
      "metadata": {
        "id": "PqCFyeQ_sW8W",
        "colab_type": "text"
      },
      "source": [
        "## Import libraries and load files"
      ]
    },
    {
      "cell_type": "code",
      "metadata": {
        "id": "qUiEzprZfYSG",
        "colab_type": "code",
        "colab": {}
      },
      "source": [
        "from tensorflow.python.client import device_lib\n",
        "\n",
        "def get_available_gpus():\n",
        "    local_device_protos = device_lib.list_local_devices()\n",
        "    return [x.name for x in local_device_protos if x.device_type == 'GPU']"
      ],
      "execution_count": 0,
      "outputs": []
    },
    {
      "cell_type": "code",
      "metadata": {
        "id": "Y8T4LH03farA",
        "colab_type": "code",
        "outputId": "9bc1c2b2-40d7-46fc-b801-21b3adf042e7",
        "colab": {
          "base_uri": "https://localhost:8080/",
          "height": 34
        }
      },
      "source": [
        "get_available_gpus()"
      ],
      "execution_count": 2,
      "outputs": [
        {
          "output_type": "execute_result",
          "data": {
            "text/plain": [
              "['/device:GPU:0']"
            ]
          },
          "metadata": {
            "tags": []
          },
          "execution_count": 2
        }
      ]
    },
    {
      "cell_type": "code",
      "metadata": {
        "colab_type": "code",
        "id": "ZsrhZTaxKEQj",
        "colab": {}
      },
      "source": [
        "import tensorflow as tf\n",
        "\n",
        "import pandas as pd\n",
        "import numpy as np\n",
        "from sklearn.feature_extraction.text import HashingVectorizer\n",
        "from sklearn.pipeline import FeatureUnion, Pipeline\n",
        "from sklearn.impute import SimpleImputer\n",
        "from sklearn.preprocessing import FunctionTransformer, LabelEncoder\n",
        "from sklearn.decomposition import TruncatedSVD\n",
        "from sklearn.metrics import SCORERS\n",
        "\n",
        "from sklearn.model_selection import KFold\n",
        "from sklearn.cluster import AgglomerativeClustering\n",
        "from sklearn.model_selection import GridSearchCV\n",
        "from sklearn.decomposition import TruncatedSVD\n",
        "from warnings import warn\n",
        "\n",
        "import numpy as np\n",
        "import pandas as pd\n",
        "from datetime import datetime\n",
        "\n",
        "from imblearn.under_sampling import RandomUnderSampler\n",
        "from sklearn.metrics import silhouette_samples, silhouette_score, davies_bouldin_score, adjusted_rand_score"
      ],
      "execution_count": 0,
      "outputs": []
    },
    {
      "cell_type": "code",
      "metadata": {
        "colab_type": "code",
        "id": "AhRExPjIKk0Z",
        "colab": {}
      },
      "source": [
        "#Read the data using the Unnamed (probably id) as index\n",
        "url = 'https://s3.amazonaws.com/drivendata/data/4/public/81e8f2de-9915-4934-b9ae-9705685c9d50.csv'\n",
        "#url = '../src/data/raw/training.csv'\n",
        "training = pd.read_csv(url, index_col='Unnamed: 0')\n",
        "\n",
        "labels = ['Function', 'Object_Type', 'Operating_Status', 'Position_Type', 'Pre_K', 'Reporting', \n",
        "          'Sharing', 'Student_Type', 'Use']\n",
        "\n",
        "numeric = ['FTE', 'Total']\n",
        "\n",
        "categoric = [ 'Facility_or_Department', 'Function_Description', \n",
        "            'Fund_Description', 'Job_Title_Description', 'Location_Description', \n",
        "            'Object_Description', 'Position_Extra', 'Program_Description', 'SubFund_Description', \n",
        "            'Sub_Object_Description', \n",
        "            'Text_1', 'Text_2', 'Text_3', 'Text_4']"
      ],
      "execution_count": 0,
      "outputs": []
    },
    {
      "cell_type": "markdown",
      "metadata": {
        "colab_type": "text",
        "id": "Vpbmr1_LJ9RX"
      },
      "source": [
        "### FunctionTransformers"
      ]
    },
    {
      "cell_type": "code",
      "metadata": {
        "colab_type": "code",
        "id": "gd4Nfma5J0n0",
        "colab": {}
      },
      "source": [
        "# Define combine_text_columns()\n",
        "def combine_text_columns(data_frame):\n",
        "    \"\"\" converts all text in each row of data_frame to single vector \"\"\"\n",
        "    \n",
        "    # Drop non-text columns that are in the df\n",
        "    text_data = data_frame[categoric].copy()\n",
        "    \n",
        "    # Replace nans with blanks\n",
        "    text_data.fillna(\"\", inplace=True)\n",
        "    \n",
        "    for category in categoric:\n",
        "      training.loc[:,category] = training[category].str.lower()\n",
        "    \n",
        "    \n",
        "    # Join all text items in a row that have a space in between\n",
        "    return text_data.apply(lambda x: \" \".join(x), axis=1)"
      ],
      "execution_count": 0,
      "outputs": []
    },
    {
      "cell_type": "code",
      "metadata": {
        "colab_type": "code",
        "id": "zKQx45RdKR4o",
        "colab": {}
      },
      "source": [
        "groupped_FTE = training[['FTE', 'Object_Type']].groupby(by='Object_Type')\n",
        "groupped_total = training[['Total', 'Object_Type']].groupby(by='Object_Type')\n",
        "# Define combine_numeric_columns()\n",
        "def combine_numeric_columns(data_frame, groupped_FTE=groupped_FTE, groupped_total=groupped_total):\n",
        "    \"\"\" process all the numeric data \"\"\"\n",
        "    \n",
        "    # Drop non-numeric columns that are in the df\n",
        "    data = data_frame[numeric].copy()\n",
        "    \n",
        "    #Remove inconsistent data\n",
        "    data.loc[(data[numeric[0]] < 0) | (data[numeric[0]] > 1), numeric[0]] = np.nan\n",
        "    data.loc[(data[numeric[1]] < 0), numeric[1]] = np.nan\n",
        "    \n",
        "    #Impute the missing data with the median from each class\n",
        "    for group in groupped_FTE.median().index:\n",
        "      indexes_FTE = groupped_FTE.get_group(group).index.values\n",
        "      indexes_total = groupped_total.get_group(group).index.values\n",
        "      data.loc[ data.FTE.isnull() & np.isin(data.index.values,indexes_FTE), 'FTE'] = groupped_FTE.median().loc[group, \"FTE\"]\n",
        "      data.loc[ data.Total.isnull() & np.isin(data.index.values,indexes_total), 'Total'] = groupped_total.median().loc[group,\"Total\"]\n",
        "      \n",
        "    return data"
      ],
      "execution_count": 0,
      "outputs": []
    },
    {
      "cell_type": "code",
      "metadata": {
        "colab_type": "code",
        "id": "k1BlfwlPKWnC",
        "colab": {}
      },
      "source": [
        "# Preprocess the text data: get_text_data\n",
        "get_text_data = FunctionTransformer(combine_text_columns, validate=False)\n",
        "\n",
        "# Preprocess the numeric data: get_numeric_data\n",
        "get_numeric_data = FunctionTransformer(combine_numeric_columns, validate=False)"
      ],
      "execution_count": 0,
      "outputs": []
    },
    {
      "cell_type": "code",
      "metadata": {
        "colab_type": "code",
        "id": "kP0v3M2_5DH1",
        "colab": {}
      },
      "source": [
        "# Recover the targets and split the data\n",
        "y = pd.get_dummies(training['Object_Type'])\n",
        "\n",
        "X = training.drop(columns=labels)\n",
        "\n",
        "# rus = RandomUnderSampler(random_state=0)\n",
        "# X_resampled, y_resampled = rus.fit_resample(X, y)"
      ],
      "execution_count": 0,
      "outputs": []
    },
    {
      "cell_type": "markdown",
      "metadata": {
        "colab_type": "text",
        "id": "yfHLD6La5GAY"
      },
      "source": [
        "### Pipeline\n",
        "\n",
        "Apply the transformations on numeric and categorica data. Neither dimension reduction or standard scaler are used."
      ]
    },
    {
      "cell_type": "code",
      "metadata": {
        "colab_type": "code",
        "id": "fF2c4SLDhTGI",
        "colab": {}
      },
      "source": [
        "pl = Pipeline([\n",
        "        ('union', FeatureUnion(\n",
        "            transformer_list = [\n",
        "                ('numeric_features', Pipeline([\n",
        "                    ('selector', get_numeric_data),\n",
        "                    ('imp', SimpleImputer())\n",
        "                ])),\n",
        "                ('text_features', Pipeline([\n",
        "                    ('selector', get_text_data),\n",
        "                    ('vectorizer',HashingVectorizer(token_pattern=\"[A-Za-z0-9]+(?=\\\\s+)\", \n",
        "                                                    norm=None, \n",
        "                                                    binary=False,\n",
        "                                                    ngram_range=(1,2)) \n",
        "                    )\n",
        "                ]))\n",
        "             ]\n",
        "        )),\n",
        "        ('reduce_dim', TruncatedSVD(n_components = 100)),\n",
        "        # ('clf', AgglomerativeClustering(memory='mycachedir', \n",
        "        #                     compute_full_tree=True, n_clusters=3))\n",
        "        \n",
        "    ])"
      ],
      "execution_count": 0,
      "outputs": []
    },
    {
      "cell_type": "code",
      "metadata": {
        "id": "xiw5npG6vQFP",
        "colab_type": "code",
        "colab": {}
      },
      "source": [
        "col_names = list(range(0,11))"
      ],
      "execution_count": 0,
      "outputs": []
    },
    {
      "cell_type": "code",
      "metadata": {
        "id": "Ep4kxtAFvQ_7",
        "colab_type": "code",
        "colab": {}
      },
      "source": [
        "y.columns = col_names"
      ],
      "execution_count": 0,
      "outputs": []
    },
    {
      "cell_type": "code",
      "metadata": {
        "id": "DQYUtTQmvaWV",
        "colab_type": "code",
        "colab": {}
      },
      "source": [
        "labels_true = y.idxmax(axis=1)"
      ],
      "execution_count": 0,
      "outputs": []
    },
    {
      "cell_type": "markdown",
      "metadata": {
        "colab_type": "text",
        "id": "8i9c6MQV6xoE"
      },
      "source": [
        "Applying the steps, we got a sparse matrix with 1048578 features."
      ]
    },
    {
      "cell_type": "code",
      "metadata": {
        "id": "OMF0sGuqHAmm",
        "colab_type": "code",
        "colab": {}
      },
      "source": [
        "data_X= pl.fit_transform(X, labels_true)"
      ],
      "execution_count": 0,
      "outputs": []
    },
    {
      "cell_type": "code",
      "metadata": {
        "id": "EjyoWAxvIHDN",
        "colab_type": "code",
        "colab": {}
      },
      "source": [
        "rus = RandomUnderSampler()\n",
        "X_resampled, y_resampled = rus.fit_resample(data_X, labels_true)"
      ],
      "execution_count": 0,
      "outputs": []
    },
    {
      "cell_type": "code",
      "metadata": {
        "id": "Co8UpknaLjSR",
        "colab_type": "code",
        "outputId": "02cad2c0-142a-420b-b598-70b8e30e7b53",
        "colab": {
          "base_uri": "https://localhost:8080/",
          "height": 34
        }
      },
      "source": [
        "X_resampled.shape"
      ],
      "execution_count": 28,
      "outputs": [
        {
          "output_type": "execute_result",
          "data": {
            "text/plain": [
              "(35420, 100)"
            ]
          },
          "metadata": {
            "tags": []
          },
          "execution_count": 28
        }
      ]
    },
    {
      "cell_type": "code",
      "metadata": {
        "id": "vVDALl0YLmjd",
        "colab_type": "code",
        "outputId": "5f4fa9ec-8f3e-4c50-faa6-962d762311ca",
        "colab": {
          "base_uri": "https://localhost:8080/",
          "height": 34
        }
      },
      "source": [
        "y_resampled.shape"
      ],
      "execution_count": 29,
      "outputs": [
        {
          "output_type": "execute_result",
          "data": {
            "text/plain": [
              "(35420,)"
            ]
          },
          "metadata": {
            "tags": []
          },
          "execution_count": 29
        }
      ]
    },
    {
      "cell_type": "markdown",
      "metadata": {
        "id": "14R1WTuCrSeN",
        "colab_type": "text"
      },
      "source": [
        "With the purpose of calculating the adjusted rand score, we need to set the labels to numbers between 0 and 10."
      ]
    },
    {
      "cell_type": "markdown",
      "metadata": {
        "id": "bjKicnDBv4B0",
        "colab_type": "text"
      },
      "source": [
        "## Training\n",
        "The model is trained and tested using the number of groups varying between 2 and 20. As the agglomerative clustering method is deterministic, the model is fitted only one time."
      ]
    },
    {
      "cell_type": "code",
      "metadata": {
        "id": "osCoNLbMHrLR",
        "colab_type": "code",
        "colab": {}
      },
      "source": [
        "results = []"
      ],
      "execution_count": 0,
      "outputs": []
    },
    {
      "cell_type": "code",
      "metadata": {
        "colab_type": "code",
        "id": "09avNYUp4zw5",
        "outputId": "9173ef58-8ff6-4110-de38-9c744997dbf5",
        "colab": {
          "base_uri": "https://localhost:8080/",
          "height": 2128
        }
      },
      "source": [
        "for k in range(2, 21):\n",
        "  agg = AgglomerativeClustering(memory='mycachedir', \n",
        "                             compute_full_tree=True, n_clusters=k)\n",
        "  start = datetime.now()\n",
        "  with tf.device('/gpu:0'):\n",
        "    #fit model to data\n",
        "    cluster_labels = agg.fit_predict(X_resampled)\n",
        "  \n",
        "  end = datetime.now()\n",
        "  # The silhouette_score gives the average value for all the samples.\n",
        "  # This gives a perspective into the density and separation of the formed\n",
        "  # clusters\n",
        "  silhouette_avg = silhouette_score(X_resampled, cluster_labels)\n",
        "  print(\"For n_clusters =\", k,\n",
        "        \"The average silhouette_score is :\", silhouette_avg)\n",
        "  \n",
        "  db_avg = davies_bouldin_score(X_resampled, cluster_labels)\n",
        "  print(\"The average db_score is :\", db_avg)\n",
        "  \n",
        "  ars_avg = adjusted_rand_score(y_resampled, cluster_labels)\n",
        "  print(\"The average ars_score is :\", ars_avg)\n",
        "  \n",
        "  \n",
        "  # Append the results\n",
        "  results.append({'k':k, 'silhouette': silhouette_avg,\n",
        "                 'db': db_avg,'time': end-start, 'ars':ars_avg})"
      ],
      "execution_count": 30,
      "outputs": [
        {
          "output_type": "stream",
          "text": [
            "For n_clusters = 2 The average silhouette_score is : 0.9973498370915256\n",
            "The average db_score is : 0.4211945242711094\n",
            "The average ars_score is : 6.826789991637767e-08\n"
          ],
          "name": "stdout"
        },
        {
          "output_type": "stream",
          "text": [
            "/usr/local/lib/python3.6/dist-packages/sklearn/metrics/cluster/unsupervised.py:342: RuntimeWarning: divide by zero encountered in true_divide\n",
            "  score = (intra_dists[:, None] + intra_dists) / centroid_distances\n"
          ],
          "name": "stderr"
        },
        {
          "output_type": "stream",
          "text": [
            "For n_clusters = 3 The average silhouette_score is : 0.9964424674442612\n",
            "The average db_score is : 0.28115923326168085\n",
            "The average ars_score is : 5.869728293764621e-08\n"
          ],
          "name": "stdout"
        },
        {
          "output_type": "stream",
          "text": [
            "/usr/local/lib/python3.6/dist-packages/sklearn/metrics/cluster/unsupervised.py:342: RuntimeWarning: divide by zero encountered in true_divide\n",
            "  score = (intra_dists[:, None] + intra_dists) / centroid_distances\n"
          ],
          "name": "stderr"
        },
        {
          "output_type": "stream",
          "text": [
            "For n_clusters = 4 The average silhouette_score is : 0.9849724617183053\n",
            "The average db_score is : 0.4357246758086379\n",
            "The average ars_score is : 5.364189628559041e-06\n"
          ],
          "name": "stdout"
        },
        {
          "output_type": "stream",
          "text": [
            "/usr/local/lib/python3.6/dist-packages/sklearn/metrics/cluster/unsupervised.py:342: RuntimeWarning: divide by zero encountered in true_divide\n",
            "  score = (intra_dists[:, None] + intra_dists) / centroid_distances\n"
          ],
          "name": "stderr"
        },
        {
          "output_type": "stream",
          "text": [
            "For n_clusters = 5 The average silhouette_score is : 0.9794985495571461\n",
            "The average db_score is : 0.3641012123493891\n",
            "The average ars_score is : 4.637751608437424e-06\n"
          ],
          "name": "stdout"
        },
        {
          "output_type": "stream",
          "text": [
            "/usr/local/lib/python3.6/dist-packages/sklearn/metrics/cluster/unsupervised.py:342: RuntimeWarning: divide by zero encountered in true_divide\n",
            "  score = (intra_dists[:, None] + intra_dists) / centroid_distances\n"
          ],
          "name": "stderr"
        },
        {
          "output_type": "stream",
          "text": [
            "For n_clusters = 6 The average silhouette_score is : 0.9425739600913966\n",
            "The average db_score is : 0.42960720202325803\n",
            "The average ars_score is : 3.5984523510150614e-05\n"
          ],
          "name": "stdout"
        },
        {
          "output_type": "stream",
          "text": [
            "/usr/local/lib/python3.6/dist-packages/sklearn/metrics/cluster/unsupervised.py:342: RuntimeWarning: divide by zero encountered in true_divide\n",
            "  score = (intra_dists[:, None] + intra_dists) / centroid_distances\n"
          ],
          "name": "stderr"
        },
        {
          "output_type": "stream",
          "text": [
            "For n_clusters = 7 The average silhouette_score is : 0.9425444483970711\n",
            "The average db_score is : 0.34833445596588203\n",
            "The average ars_score is : 3.598484757111938e-05\n"
          ],
          "name": "stdout"
        },
        {
          "output_type": "stream",
          "text": [
            "/usr/local/lib/python3.6/dist-packages/sklearn/metrics/cluster/unsupervised.py:342: RuntimeWarning: divide by zero encountered in true_divide\n",
            "  score = (intra_dists[:, None] + intra_dists) / centroid_distances\n",
            "/usr/local/lib/python3.6/dist-packages/sklearn/metrics/cluster/unsupervised.py:342: RuntimeWarning: invalid value encountered in true_divide\n",
            "  score = (intra_dists[:, None] + intra_dists) / centroid_distances\n"
          ],
          "name": "stderr"
        },
        {
          "output_type": "stream",
          "text": [
            "For n_clusters = 8 The average silhouette_score is : 0.8482087265492515\n",
            "The average db_score is : 0.40799396511072\n",
            "The average ars_score is : 0.008518353178158803\n"
          ],
          "name": "stdout"
        },
        {
          "output_type": "stream",
          "text": [
            "/usr/local/lib/python3.6/dist-packages/sklearn/metrics/cluster/unsupervised.py:342: RuntimeWarning: divide by zero encountered in true_divide\n",
            "  score = (intra_dists[:, None] + intra_dists) / centroid_distances\n",
            "/usr/local/lib/python3.6/dist-packages/sklearn/metrics/cluster/unsupervised.py:342: RuntimeWarning: invalid value encountered in true_divide\n",
            "  score = (intra_dists[:, None] + intra_dists) / centroid_distances\n"
          ],
          "name": "stderr"
        },
        {
          "output_type": "stream",
          "text": [
            "For n_clusters = 9 The average silhouette_score is : 0.8481915588744184\n",
            "The average db_score is : 0.3774952012337176\n",
            "The average ars_score is : 0.008518342418604231\n"
          ],
          "name": "stdout"
        },
        {
          "output_type": "stream",
          "text": [
            "/usr/local/lib/python3.6/dist-packages/sklearn/metrics/cluster/unsupervised.py:342: RuntimeWarning: divide by zero encountered in true_divide\n",
            "  score = (intra_dists[:, None] + intra_dists) / centroid_distances\n",
            "/usr/local/lib/python3.6/dist-packages/sklearn/metrics/cluster/unsupervised.py:342: RuntimeWarning: invalid value encountered in true_divide\n",
            "  score = (intra_dists[:, None] + intra_dists) / centroid_distances\n"
          ],
          "name": "stderr"
        },
        {
          "output_type": "stream",
          "text": [
            "For n_clusters = 10 The average silhouette_score is : 0.8485213011384071\n",
            "The average db_score is : 0.3670659898316187\n",
            "The average ars_score is : 0.008517652978329638\n"
          ],
          "name": "stdout"
        },
        {
          "output_type": "stream",
          "text": [
            "/usr/local/lib/python3.6/dist-packages/sklearn/metrics/cluster/unsupervised.py:342: RuntimeWarning: divide by zero encountered in true_divide\n",
            "  score = (intra_dists[:, None] + intra_dists) / centroid_distances\n",
            "/usr/local/lib/python3.6/dist-packages/sklearn/metrics/cluster/unsupervised.py:342: RuntimeWarning: invalid value encountered in true_divide\n",
            "  score = (intra_dists[:, None] + intra_dists) / centroid_distances\n"
          ],
          "name": "stderr"
        },
        {
          "output_type": "stream",
          "text": [
            "For n_clusters = 11 The average silhouette_score is : 0.8485244250920837\n",
            "The average db_score is : 0.37462622653035815\n",
            "The average ars_score is : 0.008517647474047901\n"
          ],
          "name": "stdout"
        },
        {
          "output_type": "stream",
          "text": [
            "/usr/local/lib/python3.6/dist-packages/sklearn/metrics/cluster/unsupervised.py:342: RuntimeWarning: divide by zero encountered in true_divide\n",
            "  score = (intra_dists[:, None] + intra_dists) / centroid_distances\n",
            "/usr/local/lib/python3.6/dist-packages/sklearn/metrics/cluster/unsupervised.py:342: RuntimeWarning: invalid value encountered in true_divide\n",
            "  score = (intra_dists[:, None] + intra_dists) / centroid_distances\n"
          ],
          "name": "stderr"
        },
        {
          "output_type": "stream",
          "text": [
            "For n_clusters = 12 The average silhouette_score is : 0.848547318457863\n",
            "The average db_score is : 0.3757308576169158\n",
            "The average ars_score is : 0.00851764323470704\n"
          ],
          "name": "stdout"
        },
        {
          "output_type": "stream",
          "text": [
            "/usr/local/lib/python3.6/dist-packages/sklearn/metrics/cluster/unsupervised.py:342: RuntimeWarning: divide by zero encountered in true_divide\n",
            "  score = (intra_dists[:, None] + intra_dists) / centroid_distances\n",
            "/usr/local/lib/python3.6/dist-packages/sklearn/metrics/cluster/unsupervised.py:342: RuntimeWarning: invalid value encountered in true_divide\n",
            "  score = (intra_dists[:, None] + intra_dists) / centroid_distances\n"
          ],
          "name": "stderr"
        },
        {
          "output_type": "stream",
          "text": [
            "For n_clusters = 13 The average silhouette_score is : 0.8591464814408256\n",
            "The average db_score is : 0.37144624351326133\n",
            "The average ars_score is : 0.007146449145134277\n"
          ],
          "name": "stdout"
        },
        {
          "output_type": "stream",
          "text": [
            "/usr/local/lib/python3.6/dist-packages/sklearn/metrics/cluster/unsupervised.py:342: RuntimeWarning: divide by zero encountered in true_divide\n",
            "  score = (intra_dists[:, None] + intra_dists) / centroid_distances\n",
            "/usr/local/lib/python3.6/dist-packages/sklearn/metrics/cluster/unsupervised.py:342: RuntimeWarning: invalid value encountered in true_divide\n",
            "  score = (intra_dists[:, None] + intra_dists) / centroid_distances\n"
          ],
          "name": "stderr"
        },
        {
          "output_type": "stream",
          "text": [
            "For n_clusters = 14 The average silhouette_score is : 0.8593726994996256\n",
            "The average db_score is : 0.3854007402075614\n",
            "The average ars_score is : 0.007141427501139917\n"
          ],
          "name": "stdout"
        },
        {
          "output_type": "stream",
          "text": [
            "/usr/local/lib/python3.6/dist-packages/sklearn/metrics/cluster/unsupervised.py:342: RuntimeWarning: divide by zero encountered in true_divide\n",
            "  score = (intra_dists[:, None] + intra_dists) / centroid_distances\n",
            "/usr/local/lib/python3.6/dist-packages/sklearn/metrics/cluster/unsupervised.py:342: RuntimeWarning: invalid value encountered in true_divide\n",
            "  score = (intra_dists[:, None] + intra_dists) / centroid_distances\n"
          ],
          "name": "stderr"
        },
        {
          "output_type": "stream",
          "text": [
            "For n_clusters = 15 The average silhouette_score is : 0.8594753918210228\n",
            "The average db_score is : 0.4045885207246708\n",
            "The average ars_score is : 0.007140871033413861\n"
          ],
          "name": "stdout"
        },
        {
          "output_type": "stream",
          "text": [
            "/usr/local/lib/python3.6/dist-packages/sklearn/metrics/cluster/unsupervised.py:342: RuntimeWarning: divide by zero encountered in true_divide\n",
            "  score = (intra_dists[:, None] + intra_dists) / centroid_distances\n",
            "/usr/local/lib/python3.6/dist-packages/sklearn/metrics/cluster/unsupervised.py:342: RuntimeWarning: invalid value encountered in true_divide\n",
            "  score = (intra_dists[:, None] + intra_dists) / centroid_distances\n"
          ],
          "name": "stderr"
        },
        {
          "output_type": "stream",
          "text": [
            "For n_clusters = 16 The average silhouette_score is : 0.846053953994106\n",
            "The average db_score is : 0.4056957813153646\n",
            "The average ars_score is : 0.006056527893821542\n"
          ],
          "name": "stdout"
        },
        {
          "output_type": "stream",
          "text": [
            "/usr/local/lib/python3.6/dist-packages/sklearn/metrics/cluster/unsupervised.py:342: RuntimeWarning: divide by zero encountered in true_divide\n",
            "  score = (intra_dists[:, None] + intra_dists) / centroid_distances\n",
            "/usr/local/lib/python3.6/dist-packages/sklearn/metrics/cluster/unsupervised.py:342: RuntimeWarning: invalid value encountered in true_divide\n",
            "  score = (intra_dists[:, None] + intra_dists) / centroid_distances\n"
          ],
          "name": "stderr"
        },
        {
          "output_type": "stream",
          "text": [
            "For n_clusters = 17 The average silhouette_score is : 0.846048453496104\n",
            "The average db_score is : 0.39795821139614657\n",
            "The average ars_score is : 0.006056520626419885\n"
          ],
          "name": "stdout"
        },
        {
          "output_type": "stream",
          "text": [
            "/usr/local/lib/python3.6/dist-packages/sklearn/metrics/cluster/unsupervised.py:342: RuntimeWarning: divide by zero encountered in true_divide\n",
            "  score = (intra_dists[:, None] + intra_dists) / centroid_distances\n",
            "/usr/local/lib/python3.6/dist-packages/sklearn/metrics/cluster/unsupervised.py:342: RuntimeWarning: invalid value encountered in true_divide\n",
            "  score = (intra_dists[:, None] + intra_dists) / centroid_distances\n"
          ],
          "name": "stderr"
        },
        {
          "output_type": "stream",
          "text": [
            "For n_clusters = 18 The average silhouette_score is : 0.8460472089288835\n",
            "The average db_score is : 0.40332733625182865\n",
            "The average ars_score is : 0.006056488164145407\n"
          ],
          "name": "stdout"
        },
        {
          "output_type": "stream",
          "text": [
            "/usr/local/lib/python3.6/dist-packages/sklearn/metrics/cluster/unsupervised.py:342: RuntimeWarning: divide by zero encountered in true_divide\n",
            "  score = (intra_dists[:, None] + intra_dists) / centroid_distances\n",
            "/usr/local/lib/python3.6/dist-packages/sklearn/metrics/cluster/unsupervised.py:342: RuntimeWarning: invalid value encountered in true_divide\n",
            "  score = (intra_dists[:, None] + intra_dists) / centroid_distances\n"
          ],
          "name": "stderr"
        },
        {
          "output_type": "stream",
          "text": [
            "For n_clusters = 19 The average silhouette_score is : 0.8460969288020156\n",
            "The average db_score is : 0.4116977425946152\n",
            "The average ars_score is : 0.006056434919371806\n"
          ],
          "name": "stdout"
        },
        {
          "output_type": "stream",
          "text": [
            "/usr/local/lib/python3.6/dist-packages/sklearn/metrics/cluster/unsupervised.py:342: RuntimeWarning: divide by zero encountered in true_divide\n",
            "  score = (intra_dists[:, None] + intra_dists) / centroid_distances\n",
            "/usr/local/lib/python3.6/dist-packages/sklearn/metrics/cluster/unsupervised.py:342: RuntimeWarning: invalid value encountered in true_divide\n",
            "  score = (intra_dists[:, None] + intra_dists) / centroid_distances\n"
          ],
          "name": "stderr"
        },
        {
          "output_type": "stream",
          "text": [
            "For n_clusters = 20 The average silhouette_score is : 0.8466226999056143\n",
            "The average db_score is : 0.4169241235310883\n",
            "The average ars_score is : 0.005987016830860013\n"
          ],
          "name": "stdout"
        },
        {
          "output_type": "stream",
          "text": [
            "/usr/local/lib/python3.6/dist-packages/sklearn/metrics/cluster/unsupervised.py:342: RuntimeWarning: divide by zero encountered in true_divide\n",
            "  score = (intra_dists[:, None] + intra_dists) / centroid_distances\n",
            "/usr/local/lib/python3.6/dist-packages/sklearn/metrics/cluster/unsupervised.py:342: RuntimeWarning: invalid value encountered in true_divide\n",
            "  score = (intra_dists[:, None] + intra_dists) / centroid_distances\n"
          ],
          "name": "stderr"
        }
      ]
    },
    {
      "cell_type": "code",
      "metadata": {
        "id": "MZFv7EeAzgNn",
        "colab_type": "code",
        "outputId": "c2b66614-4026-4dfe-98dd-838300875f57",
        "colab": {
          "base_uri": "https://localhost:8080/",
          "height": 34
        }
      },
      "source": [
        "len(results)"
      ],
      "execution_count": 31,
      "outputs": [
        {
          "output_type": "execute_result",
          "data": {
            "text/plain": [
              "19"
            ]
          },
          "metadata": {
            "tags": []
          },
          "execution_count": 31
        }
      ]
    },
    {
      "cell_type": "code",
      "metadata": {
        "id": "SMM4z1go0R01",
        "colab_type": "code",
        "colab": {}
      },
      "source": [
        "results_df = pd.DataFrame(results)"
      ],
      "execution_count": 0,
      "outputs": []
    },
    {
      "cell_type": "code",
      "metadata": {
        "id": "bWqnAmHQxsYB",
        "colab_type": "code",
        "outputId": "16d3f3f1-79ec-4f60-8712-cc6edccbf3d0",
        "colab": {
          "base_uri": "https://localhost:8080/",
          "height": 204
        }
      },
      "source": [
        "results_df.head()"
      ],
      "execution_count": 33,
      "outputs": [
        {
          "output_type": "execute_result",
          "data": {
            "text/html": [
              "<div>\n",
              "<style scoped>\n",
              "    .dataframe tbody tr th:only-of-type {\n",
              "        vertical-align: middle;\n",
              "    }\n",
              "\n",
              "    .dataframe tbody tr th {\n",
              "        vertical-align: top;\n",
              "    }\n",
              "\n",
              "    .dataframe thead th {\n",
              "        text-align: right;\n",
              "    }\n",
              "</style>\n",
              "<table border=\"1\" class=\"dataframe\">\n",
              "  <thead>\n",
              "    <tr style=\"text-align: right;\">\n",
              "      <th></th>\n",
              "      <th>ars</th>\n",
              "      <th>db</th>\n",
              "      <th>k</th>\n",
              "      <th>silhouette</th>\n",
              "      <th>time</th>\n",
              "    </tr>\n",
              "  </thead>\n",
              "  <tbody>\n",
              "    <tr>\n",
              "      <th>0</th>\n",
              "      <td>6.826790e-08</td>\n",
              "      <td>0.421195</td>\n",
              "      <td>2</td>\n",
              "      <td>0.997350</td>\n",
              "      <td>00:01:53.251386</td>\n",
              "    </tr>\n",
              "    <tr>\n",
              "      <th>1</th>\n",
              "      <td>5.869728e-08</td>\n",
              "      <td>0.281159</td>\n",
              "      <td>3</td>\n",
              "      <td>0.996442</td>\n",
              "      <td>00:00:00.120037</td>\n",
              "    </tr>\n",
              "    <tr>\n",
              "      <th>2</th>\n",
              "      <td>5.364190e-06</td>\n",
              "      <td>0.435725</td>\n",
              "      <td>4</td>\n",
              "      <td>0.984972</td>\n",
              "      <td>00:00:00.112248</td>\n",
              "    </tr>\n",
              "    <tr>\n",
              "      <th>3</th>\n",
              "      <td>4.637752e-06</td>\n",
              "      <td>0.364101</td>\n",
              "      <td>5</td>\n",
              "      <td>0.979499</td>\n",
              "      <td>00:00:00.114934</td>\n",
              "    </tr>\n",
              "    <tr>\n",
              "      <th>4</th>\n",
              "      <td>3.598452e-05</td>\n",
              "      <td>0.429607</td>\n",
              "      <td>6</td>\n",
              "      <td>0.942574</td>\n",
              "      <td>00:00:00.110663</td>\n",
              "    </tr>\n",
              "  </tbody>\n",
              "</table>\n",
              "</div>"
            ],
            "text/plain": [
              "            ars        db  k  silhouette            time\n",
              "0  6.826790e-08  0.421195  2    0.997350 00:01:53.251386\n",
              "1  5.869728e-08  0.281159  3    0.996442 00:00:00.120037\n",
              "2  5.364190e-06  0.435725  4    0.984972 00:00:00.112248\n",
              "3  4.637752e-06  0.364101  5    0.979499 00:00:00.114934\n",
              "4  3.598452e-05  0.429607  6    0.942574 00:00:00.110663"
            ]
          },
          "metadata": {
            "tags": []
          },
          "execution_count": 33
        }
      ]
    },
    {
      "cell_type": "code",
      "metadata": {
        "id": "UbHCRzSl46kK",
        "colab_type": "code",
        "colab": {}
      },
      "source": [
        ""
      ],
      "execution_count": 0,
      "outputs": []
    },
    {
      "cell_type": "code",
      "metadata": {
        "id": "43wQuVO14gR5",
        "colab_type": "code",
        "colab": {}
      },
      "source": [
        "results_df['seconds'] = results_df.time.apply(lambda x: x.total_seconds() )"
      ],
      "execution_count": 0,
      "outputs": []
    },
    {
      "cell_type": "code",
      "metadata": {
        "id": "NlXDpr3k40th",
        "colab_type": "code",
        "outputId": "74d592fe-c510-4e2b-830b-7656b3fc65d3",
        "colab": {
          "base_uri": "https://localhost:8080/",
          "height": 204
        }
      },
      "source": [
        "results_df.head()"
      ],
      "execution_count": 35,
      "outputs": [
        {
          "output_type": "execute_result",
          "data": {
            "text/html": [
              "<div>\n",
              "<style scoped>\n",
              "    .dataframe tbody tr th:only-of-type {\n",
              "        vertical-align: middle;\n",
              "    }\n",
              "\n",
              "    .dataframe tbody tr th {\n",
              "        vertical-align: top;\n",
              "    }\n",
              "\n",
              "    .dataframe thead th {\n",
              "        text-align: right;\n",
              "    }\n",
              "</style>\n",
              "<table border=\"1\" class=\"dataframe\">\n",
              "  <thead>\n",
              "    <tr style=\"text-align: right;\">\n",
              "      <th></th>\n",
              "      <th>ars</th>\n",
              "      <th>db</th>\n",
              "      <th>k</th>\n",
              "      <th>silhouette</th>\n",
              "      <th>time</th>\n",
              "      <th>seconds</th>\n",
              "    </tr>\n",
              "  </thead>\n",
              "  <tbody>\n",
              "    <tr>\n",
              "      <th>0</th>\n",
              "      <td>6.826790e-08</td>\n",
              "      <td>0.421195</td>\n",
              "      <td>2</td>\n",
              "      <td>0.997350</td>\n",
              "      <td>00:01:53.251386</td>\n",
              "      <td>113.251386</td>\n",
              "    </tr>\n",
              "    <tr>\n",
              "      <th>1</th>\n",
              "      <td>5.869728e-08</td>\n",
              "      <td>0.281159</td>\n",
              "      <td>3</td>\n",
              "      <td>0.996442</td>\n",
              "      <td>00:00:00.120037</td>\n",
              "      <td>0.120037</td>\n",
              "    </tr>\n",
              "    <tr>\n",
              "      <th>2</th>\n",
              "      <td>5.364190e-06</td>\n",
              "      <td>0.435725</td>\n",
              "      <td>4</td>\n",
              "      <td>0.984972</td>\n",
              "      <td>00:00:00.112248</td>\n",
              "      <td>0.112248</td>\n",
              "    </tr>\n",
              "    <tr>\n",
              "      <th>3</th>\n",
              "      <td>4.637752e-06</td>\n",
              "      <td>0.364101</td>\n",
              "      <td>5</td>\n",
              "      <td>0.979499</td>\n",
              "      <td>00:00:00.114934</td>\n",
              "      <td>0.114934</td>\n",
              "    </tr>\n",
              "    <tr>\n",
              "      <th>4</th>\n",
              "      <td>3.598452e-05</td>\n",
              "      <td>0.429607</td>\n",
              "      <td>6</td>\n",
              "      <td>0.942574</td>\n",
              "      <td>00:00:00.110663</td>\n",
              "      <td>0.110663</td>\n",
              "    </tr>\n",
              "  </tbody>\n",
              "</table>\n",
              "</div>"
            ],
            "text/plain": [
              "            ars        db  k  silhouette            time     seconds\n",
              "0  6.826790e-08  0.421195  2    0.997350 00:01:53.251386  113.251386\n",
              "1  5.869728e-08  0.281159  3    0.996442 00:00:00.120037    0.120037\n",
              "2  5.364190e-06  0.435725  4    0.984972 00:00:00.112248    0.112248\n",
              "3  4.637752e-06  0.364101  5    0.979499 00:00:00.114934    0.114934\n",
              "4  3.598452e-05  0.429607  6    0.942574 00:00:00.110663    0.110663"
            ]
          },
          "metadata": {
            "tags": []
          },
          "execution_count": 35
        }
      ]
    },
    {
      "cell_type": "code",
      "metadata": {
        "id": "fwBZfyOVxyGv",
        "colab_type": "code",
        "colab": {}
      },
      "source": [
        "import seaborn as sns"
      ],
      "execution_count": 0,
      "outputs": []
    },
    {
      "cell_type": "code",
      "metadata": {
        "id": "hzx7DHinx_ns",
        "colab_type": "code",
        "outputId": "54fd49f9-d4d8-45fc-e6f6-cfaa43e12587",
        "colab": {
          "base_uri": "https://localhost:8080/",
          "height": 300
        }
      },
      "source": [
        "sns.lineplot(results_df.k, results_df.silhouette)"
      ],
      "execution_count": 37,
      "outputs": [
        {
          "output_type": "execute_result",
          "data": {
            "text/plain": [
              "<matplotlib.axes._subplots.AxesSubplot at 0x7f9bfbf19f98>"
            ]
          },
          "metadata": {
            "tags": []
          },
          "execution_count": 37
        },
        {
          "output_type": "display_data",
          "data": {
            "image/png": "[encoded data removed]",
            "text/plain": [
              "<Figure size 432x288 with 1 Axes>"
            ]
          },
          "metadata": {
            "tags": []
          }
        }
      ]
    },
    {
      "cell_type": "code",
      "metadata": {
        "id": "VwCHieJZyMO9",
        "colab_type": "code",
        "outputId": "24bb8878-8805-4886-f4e4-6b174fdc2274",
        "colab": {
          "base_uri": "https://localhost:8080/",
          "height": 283
        }
      },
      "source": [
        "ax = sns.lineplot(\"k\", \"db\", data=results_df,markers=True)"
      ],
      "execution_count": 38,
      "outputs": [
        {
          "output_type": "display_data",
          "data": {
            "image/png": "[encoded data removed]",
            "text/plain": [
              "<Figure size 432x288 with 1 Axes>"
            ]
          },
          "metadata": {
            "tags": []
          }
        }
      ]
    },
    {
      "cell_type": "code",
      "metadata": {
        "id": "dErd5xZI0nfn",
        "colab_type": "code",
        "outputId": "d179ca4d-cf61-4561-9185-00f2dfc04e8c",
        "colab": {
          "base_uri": "https://localhost:8080/",
          "height": 283
        }
      },
      "source": [
        "ax = sns.lineplot(\"k\", \"seconds\", data=results_df)"
      ],
      "execution_count": 39,
      "outputs": [
        {
          "output_type": "display_data",
          "data": {
            "image/png": "[encoded data removed]",
            "text/plain": [
              "<Figure size 432x288 with 1 Axes>"
            ]
          },
          "metadata": {
            "tags": []
          }
        }
      ]
    },
    {
      "cell_type": "code",
      "metadata": {
        "id": "uuNRODxBy3xz",
        "colab_type": "code",
        "colab": {
          "base_uri": "https://localhost:8080/",
          "height": 283
        },
        "outputId": "0a3fd50e-2a88-4c78-e869-3f0aec91d1b5"
      },
      "source": [
        "ax = sns.lineplot(\"k\", \"ars\", data=results_df)"
      ],
      "execution_count": 40,
      "outputs": [
        {
          "output_type": "display_data",
          "data": {
            "image/png": "[encoded data removed]",
            "text/plain": [
              "<Figure size 432x288 with 1 Axes>"
            ]
          },
          "metadata": {
            "tags": []
          }
        }
      ]
    },
    {
      "cell_type": "code",
      "metadata": {
        "id": "V0fjkMvl5f-9",
        "colab_type": "code",
        "colab": {}
      },
      "source": [
        "results_df.to_csv('agg_clustering.csv')"
      ],
      "execution_count": 0,
      "outputs": []
    }
  ]
}