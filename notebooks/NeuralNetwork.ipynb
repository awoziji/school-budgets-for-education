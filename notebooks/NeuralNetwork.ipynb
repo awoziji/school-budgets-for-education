{
 "cells": [
  {
   "cell_type": "code",
   "execution_count": 7,
   "metadata": {
    "colab": {},
    "colab_type": "code",
    "id": "SRi3OITJrHGd"
   },
   "outputs": [],
   "source": [
    "import pandas as pd\n",
    "import numpy as np\n",
    "from sklearn.feature_extraction.text import HashingVectorizer\n",
    "#from sklearn.impute import SimpleImputer\n",
    "from sklearn.preprocessing import Imputer\n",
    "from matplotlib import pyplot as plt"
   ]
  },
  {
   "cell_type": "code",
   "execution_count": 8,
   "metadata": {
    "colab": {},
    "colab_type": "code",
    "id": "71F8c2fsrHGl"
   },
   "outputs": [],
   "source": [
    "#Read the data using the Unnamed (probably id) as index\n",
    "url = 'https://s3.amazonaws.com/drivendata/data/4/public/81e8f2de-9915-4934-b9ae-9705685c9d50.csv'\n",
    "training = pd.read_csv(url, index_col='Unnamed: 0')\n",
    "\n",
    "labels = ['Function', 'Object_Type', 'Operating_Status', 'Position_Type', 'Pre_K', 'Reporting', \n",
    "          'Sharing', 'Student_Type', 'Use']\n",
    "\n",
    "numeric = ['FTE', 'Total']\n",
    "\n",
    "categoric = [ 'Facility_or_Department', 'Function_Description', \n",
    "            'Fund_Description', 'Job_Title_Description', 'Location_Description', \n",
    "            'Object_Description', 'Position_Extra', 'Program_Description', 'SubFund_Description', \n",
    "            'Sub_Object_Description', \n",
    "            'Text_1', 'Text_2', 'Text_3', 'Text_4']"
   ]
  },
  {
   "cell_type": "code",
   "execution_count": 0,
   "metadata": {
    "colab": {},
    "colab_type": "code",
    "id": "pmf07mFjrHGq"
   },
   "outputs": [],
   "source": [
    "training.info()"
   ]
  },
  {
   "cell_type": "markdown",
   "metadata": {
    "colab_type": "text",
    "id": "iBuZgSpSrHGz"
   },
   "source": [
    "## Pre-Processing"
   ]
  },
  {
   "cell_type": "code",
   "execution_count": 2,
   "metadata": {
    "colab": {},
    "colab_type": "code",
    "id": "wy1Zx5fwrHHe"
   },
   "outputs": [],
   "source": [
    "#Imputing data in Total column\n",
    "def impute_func_total(data):\n",
    "    if(pd.isnull(data['Total'])):        \n",
    "        if(data['Object_Type'] == 'Base Salary/Compensation'):\n",
    "            return 24146\n",
    "        if(data['Object_Type'] == 'Benefits'):\n",
    "            return 38163\n",
    "        if(data['Object_Type'] == 'Contracted Services'):\n",
    "            return 24146\n",
    "        if(data['Object_Type'] == 'Equipment & Equipment Lease'):\n",
    "            return 11257\n",
    "        if(data['Object_Type'] == 'NO_LABEL'):\n",
    "            return 58545\n",
    "        if(data['Object_Type'] == 'Other Compensation/Stipend'):\n",
    "            return 1605\n",
    "        if(data['Object_Type'] == 'Other Non-Compensation'):\n",
    "            return 10646\n",
    "        if(data['Object_Type'] == 'Rent/Utilities'):\n",
    "            return 46611\n",
    "        if(data['Object_Type'] == 'Substitute Compensation'):\n",
    "            return 1090\n",
    "        if(data['Object_Type'] == 'Supplies/Materials'):\n",
    "            return 7745\n",
    "        if(data['Object_Type'] == 'Travel & Conferences'):\n",
    "            return 1659\n",
    "    else:\n",
    "        return data['Total']"
   ]
  },
  {
   "cell_type": "code",
   "execution_count": 3,
   "metadata": {
    "colab": {},
    "colab_type": "code",
    "id": "fbKnXV9RrHIX"
   },
   "outputs": [],
   "source": [
    "#Imputing data in FTE column\n",
    "def impute_func_FTE(data):\n",
    "    if(pd.isnull(data['FTE'])):        \n",
    "        if(data['Object_Type'] == 'Base Salary/Compensation'):\n",
    "            return 0.45\n",
    "        if(data['Object_Type'] == 'Benefits'):\n",
    "            return 0.0\n",
    "        if(data['Object_Type'] == 'Contracted Services'):\n",
    "            return 0.0\n",
    "        if(data['Object_Type'] == 'Equipment & Equipment Lease'):\n",
    "            return 0.0\n",
    "        if(data['Object_Type'] == 'NO_LABEL'):\n",
    "            return 0.75\n",
    "        if(data['Object_Type'] == 'Other Compensation/Stipend'):\n",
    "            return 0.000107\n",
    "        if(data['Object_Type'] == 'Other Non-Compensation'):\n",
    "            return 0.0\n",
    "        if(data['Object_Type'] == 'Rent/Utilities'):\n",
    "            return 0.0\n",
    "        if(data['Object_Type'] == 'Substitute Compensation'):\n",
    "            return 0.000059\n",
    "        if(data['Object_Type'] == 'Supplies/Materials'):\n",
    "            return 0.0\n",
    "        if(data['Object_Type'] == 'Travel & Conferences'):\n",
    "            return 0.0\n",
    "    else:\n",
    "        return data['FTE']"
   ]
  },
  {
   "cell_type": "code",
   "execution_count": 5,
   "metadata": {
    "colab": {},
    "colab_type": "code",
    "id": "JuVDA5sarHG2"
   },
   "outputs": [],
   "source": [
    "def preProcessing(training):\n",
    "    # Remove inconsistent data\n",
    "    training.loc[training['FTE'] < 0, 'FTE'] = np.nan\n",
    "    training.loc[training['Total'] < 0, 'Total'] = np.nan\n",
    "    \n",
    "    training['Total'] = training.apply(impute_func_total, axis = 1)\n",
    "    \n",
    "    #Put FET data greater than 1 in percentage \n",
    "    mask = training['FTE'] > 1\n",
    "    df_ToAtt = training[mask]\n",
    "    training.loc[mask, 'FTE'] = df_ToAtt['FTE'].div(100)\n",
    "    \n",
    "    training['FTE'] = training.apply(impute_func_FTE, axis = 1)\n",
    "    \n",
    "    for category in categoric:\n",
    "        training[category] = training[category].str.lower()\n",
    "    \n",
    "    training[categoric] = training[categoric].fillna(\"\")\n",
    "    \n",
    "    return training"
   ]
  },
  {
   "cell_type": "code",
   "execution_count": 9,
   "metadata": {},
   "outputs": [],
   "source": [
    "df_training = preProcessing(training)"
   ]
  },
  {
   "cell_type": "code",
   "execution_count": 16,
   "metadata": {
    "collapsed": true
   },
   "outputs": [
    {
     "name": "stdout",
     "output_type": "stream",
     "text": [
      "<class 'pandas.core.frame.DataFrame'>\n",
      "Int64Index: 400277 entries, 134338 to 415831\n",
      "Data columns (total 25 columns):\n",
      "Function                  400277 non-null object\n",
      "Use                       400277 non-null object\n",
      "Sharing                   400277 non-null object\n",
      "Reporting                 400277 non-null object\n",
      "Student_Type              400277 non-null object\n",
      "Position_Type             400277 non-null object\n",
      "Object_Type               400277 non-null object\n",
      "Pre_K                     400277 non-null object\n",
      "Operating_Status          400277 non-null object\n",
      "Object_Description        400277 non-null object\n",
      "Text_2                    400277 non-null object\n",
      "SubFund_Description       400277 non-null object\n",
      "Job_Title_Description     400277 non-null object\n",
      "Text_3                    400277 non-null object\n",
      "Text_4                    400277 non-null object\n",
      "Sub_Object_Description    400277 non-null object\n",
      "Location_Description      400277 non-null object\n",
      "FTE                       400277 non-null float64\n",
      "Function_Description      400277 non-null object\n",
      "Facility_or_Department    400277 non-null object\n",
      "Position_Extra            400277 non-null object\n",
      "Total                     400277 non-null float64\n",
      "Program_Description       400277 non-null object\n",
      "Fund_Description          400277 non-null object\n",
      "Text_1                    400277 non-null object\n",
      "dtypes: float64(2), object(23)\n",
      "memory usage: 79.4+ MB\n"
     ]
    }
   ],
   "source": [
    "df_training.info()"
   ]
  },
  {
   "cell_type": "markdown",
   "metadata": {
    "colab_type": "text",
    "id": "bpV76t37rHJ-"
   },
   "source": [
    "## CountVectorizer & HashVectorizer"
   ]
  },
  {
   "cell_type": "code",
   "execution_count": 11,
   "metadata": {
    "colab": {},
    "colab_type": "code",
    "id": "sdE9gNePrHJ_"
   },
   "outputs": [],
   "source": [
    "# Join all text items in a row that have a space in between\n",
    "text_data = df_training[categoric].apply(lambda x: \" \".join(x), axis = 1)"
   ]
  },
  {
   "cell_type": "code",
   "execution_count": 12,
   "metadata": {
    "colab": {},
    "colab_type": "code",
    "id": "LU1bRm7_rHKM"
   },
   "outputs": [],
   "source": [
    "#Stop word list https://aclweb.org/anthology/W18-2502\n",
    "stop_words = ['a', 'e', 'i', 'o', 'u', 'to', 'all', 'of', 'for', 'and', 'or', 'b', 'with', 'not', 'than', 'other', 'top', 's', 'k', 'in', 'the']"
   ]
  },
  {
   "cell_type": "code",
   "execution_count": 14,
   "metadata": {
    "colab": {},
    "colab_type": "code",
    "id": "3uJ98b38rHKU",
    "outputId": "ee5e9cb3-25d4-4877-f787-5d11d874f65e"
   },
   "outputs": [],
   "source": [
    "from sklearn.feature_extraction.text import CountVectorizer\n",
    "\n",
    "vec = CountVectorizer(token_pattern=\"[A-Za-z0-9]+(?=\\\\s+)\", ngram_range=(1,2), stop_words = stop_words)"
   ]
  },
  {
   "cell_type": "code",
   "execution_count": 114,
   "metadata": {},
   "outputs": [],
   "source": [
    "from sklearn.feature_selection import chi2, SelectKBest\n",
    "\n",
    "X_train_features = vec.fit_transform(text_data)\n",
    "y_train_labels = df_training[\"Object_Type\"]\n",
    "\n",
    "ch2 = SelectKBest(chi2, k = 1000)\n",
    "X_train_x = ch2.fit(X_train_features, y_train_labels)"
   ]
  },
  {
   "cell_type": "code",
   "execution_count": 139,
   "metadata": {},
   "outputs": [
    {
     "data": {
      "text/plain": [
       "33552"
      ]
     },
     "execution_count": 139,
     "metadata": {},
     "output_type": "execute_result"
    }
   ],
   "source": [
    "len(vec.vocabulary_.items())"
   ]
  },
  {
   "cell_type": "code",
   "execution_count": 115,
   "metadata": {},
   "outputs": [],
   "source": [
    "feature_list = X_train_x.get_support()"
   ]
  },
  {
   "cell_type": "code",
   "execution_count": 121,
   "metadata": {},
   "outputs": [
    {
     "data": {
      "text/plain": [
       "(33552,)"
      ]
     },
     "execution_count": 121,
     "metadata": {},
     "output_type": "execute_result"
    }
   ],
   "source": [
    "feature_list.shape"
   ]
  },
  {
   "cell_type": "code",
   "execution_count": 158,
   "metadata": {},
   "outputs": [
    {
     "data": {
      "text/plain": [
       "'zuni sewer'"
      ]
     },
     "execution_count": 158,
     "metadata": {},
     "output_type": "execute_result"
    }
   ],
   "source": [
    "#list(vec.vocabulary_.keys())[list(vec.vocabulary_.values()).index(33551)]"
   ]
  },
  {
   "cell_type": "code",
   "execution_count": 163,
   "metadata": {},
   "outputs": [],
   "source": [
    "#List of selected KBest words\n",
    "features = []\n",
    "columns = []\n",
    "for i in range(0, 33552):\n",
    "    if(feature_list[i]):\n",
    "        value = list(vec.vocabulary_.keys())[list(vec.vocabulary_.values()).index(i)]\n",
    "        x = (i, value)\n",
    "        features.append(x)\n",
    "        columns.append(i)"
   ]
  },
  {
   "cell_type": "code",
   "execution_count": 161,
   "metadata": {
    "scrolled": true
   },
   "outputs": [
    {
     "data": {
      "text/plain": [
       "[(16, '12'),\n",
       " (25, '12 high'),\n",
       " (36, '12 services'),\n",
       " (107, '8 middle'),\n",
       " (130, 'aaps'),\n",
       " (244, 'account'),\n",
       " (369, 'acq'),\n",
       " (370, 'acq const'),\n",
       " (371, 'acq constr'),\n",
       " (376, 'acquisition'),\n",
       " (442, 'act part'),\n",
       " (491, 'activities'),\n",
       " (519, 'activities general'),\n",
       " (534, 'activities related'),\n",
       " (548, 'activity funds'),\n",
       " (590, 'addl'),\n",
       " (595, 'addl regular'),\n",
       " (914, 'adult'),\n",
       " (936, 'adult voc'),\n",
       " (937, 'adults'),\n",
       " (938, 'adults adult'),\n",
       " (1109, 'afterschool'),\n",
       " (1112, 'afterschool programs'),\n",
       " (1251, 'allotment district'),\n",
       " (1280, 'allotment travel'),\n",
       " (1286, 'allowances'),\n",
       " (1291, 'allowances assessment'),\n",
       " (1303, 'allowances nurse'),\n",
       " (1305, 'allowances principal'),\n",
       " (1309, 'allowances special'),\n",
       " (1311, 'allowances teacher'),\n",
       " (1313, 'allowances travel'),\n",
       " (1872, 'arts sports'),\n",
       " (2038, 'assistance'),\n",
       " (2045, 'assistance certificated'),\n",
       " (2046, 'assistance classroom'),\n",
       " (2060, 'assistance general'),\n",
       " (2081, 'assistance personal'),\n",
       " (2088, 'assistance purchased'),\n",
       " (2089, 'assistance regular'),\n",
       " (2101, 'assistance supplemental'),\n",
       " (2102, 'assistance supplies'),\n",
       " (2216, 'assistants'),\n",
       " (2229, 'assistants substitute'),\n",
       " (2257, 'associated'),\n",
       " (2272, 'associated travel'),\n",
       " (2591, 'av'),\n",
       " (2641, 'awards'),\n",
       " (2643, 'awards prizes'),\n",
       " (2656, 'bachelor'),\n",
       " (2673, 'bachelor title'),\n",
       " (2713, 'based'),\n",
       " (2728, 'based management'),\n",
       " (2738, 'basic'),\n",
       " (2762, 'basic educational'),\n",
       " (2764, 'basic extended'),\n",
       " (2766, 'basic fefp'),\n",
       " (2786, 'basic regular'),\n",
       " (2899, 'benefits'),\n",
       " (2903, 'benefits administrative'),\n",
       " (2939, 'benefits general'),\n",
       " (2947, 'benefits instructional'),\n",
       " (2963, 'benefits paraprofessional'),\n",
       " (2984, 'benefits services'),\n",
       " (2998, 'benefits undesignated'),\n",
       " (3104, 'bldg'),\n",
       " (3108, 'bldg services'),\n",
       " (3191, 'bond'),\n",
       " (3224, 'bonuses'),\n",
       " (3229, 'bonuses school'),\n",
       " (3253, 'books'),\n",
       " (3294, 'books periodicals'),\n",
       " (3414, 'building'),\n",
       " (3434, 'building fund'),\n",
       " (3505, 'bus'),\n",
       " (3509, 'bus charge'),\n",
       " (3511, 'bus driver'),\n",
       " (3527, 'bus reg'),\n",
       " (3537, 'buses'),\n",
       " (3539, 'buses compute'),\n",
       " (3673, 'campus'),\n",
       " (3674, 'campus activity'),\n",
       " (3682, 'campus payroll'),\n",
       " (3701, 'capital'),\n",
       " (3706, 'capital equipment'),\n",
       " (3714, 'capital outlay'),\n",
       " (3715, 'capital projects'),\n",
       " (3719, 'capital reserve'),\n",
       " (3720, 'capital rollup'),\n",
       " (3726, 'capitalized'),\n",
       " (3727, 'capitalized av'),\n",
       " (3729, 'capitalized computer'),\n",
       " (3730, 'capitalized equip'),\n",
       " (3741, 'card'),\n",
       " (3743, 'card certifiedaddl'),\n",
       " (3755, 'care'),\n",
       " (3787, 'care upkeep'),\n",
       " (3800, 'career ladder'),\n",
       " (3864, 'category'),\n",
       " (3868, 'category iii'),\n",
       " (3997, 'center services'),\n",
       " (4008, 'centers'),\n",
       " (4012, 'centers media'),\n",
       " (4075, 'central regular'),\n",
       " (4088, 'central title'),\n",
       " (4091, 'central unassigned'),\n",
       " (4130, 'certificated'),\n",
       " (4132, 'certificated employees'),\n",
       " (4135, 'certificated person'),\n",
       " (4136, 'certificated salaries'),\n",
       " (4141, 'certified'),\n",
       " (4166, 'certified substitute'),\n",
       " (4173, 'certifiedaddl'),\n",
       " (4175, 'certifiedaddl instruction'),\n",
       " (4178, 'certifiedaddl support'),\n",
       " (4204, 'chair'),\n",
       " (4254, 'charge'),\n",
       " (4256, 'charge from'),\n",
       " (4257, 'charges'),\n",
       " (4268, 'charges instructional'),\n",
       " (4290, 'charter'),\n",
       " (4339, 'charter schools'),\n",
       " (4419, 'child'),\n",
       " (4427, 'child nutrition'),\n",
       " (4436, 'childhood'),\n",
       " (4627, 'classroom'),\n",
       " (4644, 'classroom supplies'),\n",
       " (4646, 'classroom teacher'),\n",
       " (4901, 'coaching'),\n",
       " (4906, 'coaching supplement'),\n",
       " (5047, 'communication'),\n",
       " (5073, 'communication middle'),\n",
       " (5074, 'communication misc'),\n",
       " (5080, 'communication primary'),\n",
       " (5088, 'communication school'),\n",
       " (5219, 'community'),\n",
       " (5249, 'community services'),\n",
       " (5257, 'comp'),\n",
       " (5289, 'comp title'),\n",
       " (5297, 'compensation'),\n",
       " (5302, 'compensation career'),\n",
       " (5359, 'compensation time'),\n",
       " (5361, 'compensation travel'),\n",
       " (5420, 'compute'),\n",
       " (5421, 'compute arra'),\n",
       " (5426, 'compute high'),\n",
       " (5428, 'compute media'),\n",
       " (5429, 'compute middle'),\n",
       " (5430, 'compute misc'),\n",
       " (5435, 'compute primary'),\n",
       " (5447, 'compute vocational'),\n",
       " (5448, 'computer'),\n",
       " (5462, 'computer hardw'),\n",
       " (5476, 'computer software'),\n",
       " (5522, 'conference'),\n",
       " (5529, 'conference registration'),\n",
       " (5634, 'const'),\n",
       " (5645, 'const millage'),\n",
       " (5668, 'constr'),\n",
       " (5669, 'constr capital'),\n",
       " (5681, 'construction'),\n",
       " (5708, 'consultant'),\n",
       " (5754, 'consultants'),\n",
       " (5813, 'contr'),\n",
       " (5814, 'contr services'),\n",
       " (5815, 'contra'),\n",
       " (5816, 'contra benefits'),\n",
       " (5826, 'contracted'),\n",
       " (5829, 'contracted maintenance'),\n",
       " (5830, 'contracted services'),\n",
       " (5831, 'contracted teachers'),\n",
       " (5846, 'contractual'),\n",
       " (5847, 'contractual services'),\n",
       " (5853, 'contribution'),\n",
       " (5876, 'contribution instructional'),\n",
       " (5934, 'conversion charter'),\n",
       " (6087, 'copiers'),\n",
       " (6173, 'costs'),\n",
       " (6227, 'costs undistributed'),\n",
       " (6298, 'county'),\n",
       " (6302, 'county travel'),\n",
       " (6311, 'coverage'),\n",
       " (6313, 'coverage teacher'),\n",
       " (6347, 'critical'),\n",
       " (6348, 'critical needs'),\n",
       " (6466, 'curriculum'),\n",
       " (6474, 'curriculum development'),\n",
       " (6484, 'curriculum instruction'),\n",
       " (6591, 'd'),\n",
       " (6631, 'd salaries'),\n",
       " (6690, 'data line'),\n",
       " (6731, 'day extended'),\n",
       " (6740, 'day miscellaneous'),\n",
       " (6754, 'days'),\n",
       " (6829, 'dedicated data'),\n",
       " (6843, 'degreed'),\n",
       " (6844, 'degreed substitute'),\n",
       " (6911, 'department'),\n",
       " (6929, 'department extracurricular'),\n",
       " (6937, 'department instruction'),\n",
       " (6952, 'department transportation'),\n",
       " (7053, 'dev'),\n",
       " (7096, 'development'),\n",
       " (7128, 'development instructional'),\n",
       " (7149, 'development services'),\n",
       " (7150, 'development staff'),\n",
       " (7257, 'direct'),\n",
       " (7261, 'direct federal'),\n",
       " (7405, 'disabilities act'),\n",
       " (7416, 'disadvantaged'),\n",
       " (7428, 'disadvantaged targeted'),\n",
       " (7430, 'disadvantaged youth'),\n",
       " (7519, 'district'),\n",
       " (7532, 'district objective'),\n",
       " (7599, 'doe'),\n",
       " (7600, 'doe direct'),\n",
       " (7693, 'driver'),\n",
       " (7719, 'driver undistributed'),\n",
       " (7755, 'dues'),\n",
       " (7764, 'dues fees'),\n",
       " (7781, 'duty'),\n",
       " (7782, 'duty instructional'),\n",
       " (7783, 'duty overtime'),\n",
       " (7786, 'duty stip'),\n",
       " (7787, 'duty wages'),\n",
       " (7799, 'early'),\n",
       " (7804, 'early childhood'),\n",
       " (7988, 'ed opportunity'),\n",
       " (8002, 'ed program'),\n",
       " (8098, 'education'),\n",
       " (8105, 'education adults'),\n",
       " (8115, 'education assistants'),\n",
       " (8135, 'education category'),\n",
       " (8186, 'education employee'),\n",
       " (8193, 'education extra'),\n",
       " (8208, 'education general'),\n",
       " (8241, 'education jobs'),\n",
       " (8274, 'education program'),\n",
       " (8292, 'education salaries'),\n",
       " (8293, 'education school'),\n",
       " (8296, 'education service'),\n",
       " (8297, 'education services'),\n",
       " (8346, 'educational'),\n",
       " (8382, 'educational media'),\n",
       " (8391, 'educational services'),\n",
       " (8456, 'ela'),\n",
       " (8497, 'ela teaching'),\n",
       " (8558, 'electricity'),\n",
       " (8564, 'electricity operations'),\n",
       " (8565, 'electricity undesignated'),\n",
       " (8644, 'elementary'),\n",
       " (8662, 'elementary contra'),\n",
       " (8667, 'elementary education'),\n",
       " (8669, 'elementary employee'),\n",
       " (8670, 'elementary employer'),\n",
       " (8674, 'elementary extra'),\n",
       " (8678, 'elementary grades'),\n",
       " (8705, 'elementary retirement'),\n",
       " (8706, 'elementary salaries'),\n",
       " (8767, 'employee'),\n",
       " (8772, 'employee allowances'),\n",
       " (8779, 'employee benefits'),\n",
       " (8807, 'employee instructional'),\n",
       " (8816, 'employee only'),\n",
       " (8818, 'employee paraprofessional'),\n",
       " (8827, 'employee retirement'),\n",
       " (8832, 'employee services'),\n",
       " (8848, 'employees'),\n",
       " (8854, 'employees arra'),\n",
       " (8877, 'employees instructional'),\n",
       " (8888, 'employees misc'),\n",
       " (8906, 'employees reserved'),\n",
       " (8908, 'employees salaries'),\n",
       " (8919, 'employees title'),\n",
       " (8925, 'employees vocational'),\n",
       " (8926, 'employer'),\n",
       " (8929, 'employer pd'),\n",
       " (8959, 'energy'),\n",
       " (8964, 'energy misc'),\n",
       " (8970, 'eng'),\n",
       " (8973, 'eng elementary'),\n",
       " (9171, 'equip'),\n",
       " (9214, 'equip rental'),\n",
       " (9232, 'equipment'),\n",
       " (9377, 'equipment machinery'),\n",
       " (9473, 'equipment undesignated'),\n",
       " (9480, 'equipment vehicles'),\n",
       " (9535, 'esc'),\n",
       " (9536, 'esc inservice'),\n",
       " (9598, 'esea'),\n",
       " (9599, 'esea title'),\n",
       " (9867, 'expenditures'),\n",
       " (9930, 'expense'),\n",
       " (10183, 'ext learning'),\n",
       " (10185, 'extended'),\n",
       " (10189, 'extended day'),\n",
       " (10190, 'extended days'),\n",
       " (10199, 'extended week'),\n",
       " (10200, 'extended year'),\n",
       " (10205, 'extra'),\n",
       " (10207, 'extra duty'),\n",
       " (10214, 'extracurricular'),\n",
       " (10216, 'extracurricular activities'),\n",
       " (10219, 'extracurricular supp'),\n",
       " (10275, 'facilities'),\n",
       " (10276, 'facilities acq'),\n",
       " (10277, 'facilities acquisition'),\n",
       " (10366, 'facsimile'),\n",
       " (10367, 'facsimile services'),\n",
       " (10469, 'federal funded'),\n",
       " (10470, 'federal funds'),\n",
       " (10471, 'federal gdpg'),\n",
       " (10485, 'federal projects'),\n",
       " (10502, 'fees'),\n",
       " (10508, 'fees arra'),\n",
       " (10509, 'fees associated'),\n",
       " (10520, 'fees contr'),\n",
       " (10566, 'fees misc'),\n",
       " (10579, 'fees primary'),\n",
       " (10597, 'fees staff'),\n",
       " (10606, 'fees title'),\n",
       " (10611, 'fees undesignated'),\n",
       " (10623, 'fefp'),\n",
       " (10624, 'fefp conversion'),\n",
       " (10628, 'fefp general'),\n",
       " (10663, 'field'),\n",
       " (10671, 'field trips'),\n",
       " (10860, 'flowthru'),\n",
       " (10880, 'food'),\n",
       " (10890, 'food misc'),\n",
       " (11089, 'from'),\n",
       " (11094, 'from othr'),\n",
       " (11096, 'from transportation'),\n",
       " (11142, 'fuels'),\n",
       " (11143, 'fuels undesignated'),\n",
       " (11161, 'fund'),\n",
       " (11213, 'fund books'),\n",
       " (11219, 'fund bus'),\n",
       " (11243, 'fund communication'),\n",
       " (11256, 'fund contracted'),\n",
       " (11288, 'fund dues'),\n",
       " (11303, 'fund employee'),\n",
       " (11304, 'fund energy'),\n",
       " (11360, 'fund hardware'),\n",
       " (11387, 'fund instructional'),\n",
       " (11459, 'fund operation'),\n",
       " (11510, 'fund purchase'),\n",
       " (11511, 'fund purchased'),\n",
       " (11512, 'fund purchases'),\n",
       " (11519, 'fund regular'),\n",
       " (11522, 'fund rental'),\n",
       " (11535, 'fund school'),\n",
       " (11544, 'fund services'),\n",
       " (11546, 'fund sewer'),\n",
       " (11561, 'fund special'),\n",
       " (11571, 'fund sub'),\n",
       " (11575, 'fund sunday'),\n",
       " (11579, 'fund supplies'),\n",
       " (11588, 'fund teacher'),\n",
       " (11609, 'fund travel'),\n",
       " (11653, 'funded purchase'),\n",
       " (11655, 'funded services'),\n",
       " (11691, 'funds'),\n",
       " (11692, 'funds 12'),\n",
       " (11800, 'funds school'),\n",
       " (11871, 'fy instructional'),\n",
       " (11979, 'gas'),\n",
       " (11985, 'gas operations'),\n",
       " (11988, 'gas undesignated'),\n",
       " (11989, 'gasoline'),\n",
       " (12031, 'general'),\n",
       " (12108, 'general ed'),\n",
       " (12115, 'general elementary'),\n",
       " (12143, 'general fund'),\n",
       " (12221, 'general operating'),\n",
       " (12249, 'general pupil'),\n",
       " (12252, 'general purpose'),\n",
       " (12288, 'general supplies'),\n",
       " (12401, 'gob'),\n",
       " (12546, 'grades'),\n",
       " (12553, 'grades program'),\n",
       " (12567, 'grant'),\n",
       " (12710, 'grants'),\n",
       " (13024, 'hardw'),\n",
       " (13087, 'hardware purchased'),\n",
       " (13776, 'ii learning'),\n",
       " (13972, 'improvement'),\n",
       " (13990, 'improvement instr'),\n",
       " (14005, 'improvement services'),\n",
       " (14028, 'improving'),\n",
       " (14029, 'improving basic'),\n",
       " (14033, 'improving teacher'),\n",
       " (14058, 'incentive'),\n",
       " (14059, 'incentive critical'),\n",
       " (14108, 'individuals'),\n",
       " (14109, 'individuals disabilities'),\n",
       " (14176, 'initiative'),\n",
       " (14180, 'initiative grant'),\n",
       " (14245, 'inservice training'),\n",
       " (14251, 'inst'),\n",
       " (14257, 'inst staff'),\n",
       " (14292, 'instr'),\n",
       " (14322, 'instr serv'),\n",
       " (14346, 'instruction'),\n",
       " (14363, 'instruction certificated'),\n",
       " (14380, 'instruction curriculum'),\n",
       " (14402, 'instruction general'),\n",
       " (14460, 'instruction regular'),\n",
       " (14470, 'instruction schoolwide'),\n",
       " (14474, 'instruction sped'),\n",
       " (14481, 'instruction teacher'),\n",
       " (14485, 'instruction title'),\n",
       " (14502, 'instructional'),\n",
       " (14563, 'instructional general'),\n",
       " (14580, 'instructional instructional'),\n",
       " (14617, 'instructional programs'),\n",
       " (14632, 'instructional special'),\n",
       " (14634, 'instructional staff'),\n",
       " (14644, 'instructional tech'),\n",
       " (15226, 'itemgb'),\n",
       " (15789, 'ladder'),\n",
       " (15790, 'ladder ext'),\n",
       " (15899, 'lead'),\n",
       " (15959, 'leadership campus'),\n",
       " (15971, 'leadership extra'),\n",
       " (16043, 'learning'),\n",
       " (16070, 'learning dues'),\n",
       " (16080, 'learning instruction'),\n",
       " (16082, 'learning leadership'),\n",
       " (16097, 'learning purchased'),\n",
       " (16138, 'leases'),\n",
       " (16162, 'leaves'),\n",
       " (16479, 'local'),\n",
       " (16501, 'local fund'),\n",
       " (16504, 'local general'),\n",
       " (16510, 'local instructional'),\n",
       " (16528, 'local public'),\n",
       " (16697, 'machinery'),\n",
       " (16699, 'machinery purchased'),\n",
       " (16772, 'maint'),\n",
       " (16784, 'maint plant'),\n",
       " (16798, 'maintenance'),\n",
       " (16860, 'maintenance operating'),\n",
       " (16878, 'maintenance repair'),\n",
       " (16889, 'maintenance services'),\n",
       " (16902, 'maintenance svcs'),\n",
       " (16904, 'maintenance technology'),\n",
       " (17022, 'management teacher'),\n",
       " (17146, 'master'),\n",
       " (17182, 'materials'),\n",
       " (17254, 'materials community'),\n",
       " (17679, 'med'),\n",
       " (17680, 'med contribution'),\n",
       " (17684, 'media'),\n",
       " (17691, 'media centers'),\n",
       " (17730, 'media service'),\n",
       " (17816, 'meeting'),\n",
       " (17817, 'meeting expense'),\n",
       " (17962, 'middle'),\n",
       " (17995, 'middle school'),\n",
       " (18014, 'mileage'),\n",
       " (18015, 'mileage reimbursement'),\n",
       " (18026, 'millage'),\n",
       " (18079, 'minor'),\n",
       " (18080, 'minor equip'),\n",
       " (18092, 'misc'),\n",
       " (18095, 'misc capital'),\n",
       " (18106, 'misc miscellaneous'),\n",
       " (18112, 'misc school'),\n",
       " (18118, 'misc wide'),\n",
       " (18119, 'miscellaneous'),\n",
       " (18123, 'miscellaneous contracted'),\n",
       " (18136, 'miscellaneous operating'),\n",
       " (18298, 'motor vehicle'),\n",
       " (18455, 'natural'),\n",
       " (18456, 'natural gas'),\n",
       " (18486, 'needs'),\n",
       " (18501, 'needs incentive'),\n",
       " (18523, 'needs supplement'),\n",
       " (18633, 'non'),\n",
       " (18635, 'non degreed'),\n",
       " (18636, 'non doe'),\n",
       " (18782, 'nutrition'),\n",
       " (18784, 'nutrition extra'),\n",
       " (18785, 'nutrition facilities'),\n",
       " (18795, 'nutrition school'),\n",
       " (18796, 'nutrition service'),\n",
       " (18814, 'objective'),\n",
       " (18815, 'objects'),\n",
       " (19238, 'only'),\n",
       " (19294, 'only travel'),\n",
       " (19296, 'only undistributed'),\n",
       " (19313, 'operating'),\n",
       " (19314, 'operating account'),\n",
       " (19316, 'operating costs'),\n",
       " (19319, 'operating fund'),\n",
       " (19320, 'operating general'),\n",
       " (19322, 'operating leases'),\n",
       " (19327, 'operation'),\n",
       " (19339, 'operation maint'),\n",
       " (19343, 'operation plant'),\n",
       " (19354, 'operations'),\n",
       " (19392, 'operations critical'),\n",
       " (19409, 'operations extra'),\n",
       " (19445, 'operations national'),\n",
       " (19468, 'operations salaries'),\n",
       " (19498, 'operations travel'),\n",
       " (19500, 'operations utilities'),\n",
       " (19529, 'opp'),\n",
       " (19537, 'opportunity'),\n",
       " (19538, 'opportunity alternative'),\n",
       " (19539, 'opportunity school'),\n",
       " (19597, 'oth'),\n",
       " (19598, 'oth certificated'),\n",
       " (19600, 'othr'),\n",
       " (19601, 'othr sourc'),\n",
       " (19605, 'out'),\n",
       " (19608, 'out county'),\n",
       " (19617, 'outlay'),\n",
       " (19817, 'overtime'),\n",
       " (19843, 'overtime services'),\n",
       " (19848, 'overtime support'),\n",
       " (19878, 'paid'),\n",
       " (19882, 'paid leaves'),\n",
       " (19946, 'paraprofessional'),\n",
       " (19988, 'parent'),\n",
       " (20033, 'part'),\n",
       " (20044, 'part idea'),\n",
       " (20045, 'part improving'),\n",
       " (20055, 'part schoolwide'),\n",
       " (20063, 'part time'),\n",
       " (20068, 'participant'),\n",
       " (20294, 'pay'),\n",
       " (20296, 'pay additional'),\n",
       " (20299, 'pay basic'),\n",
       " (20386, 'payroll'),\n",
       " (20417, 'payroll instruction'),\n",
       " (20461, 'pd'),\n",
       " (20467, 'pd med'),\n",
       " (20564, 'periodicals'),\n",
       " (20580, 'periodicals media'),\n",
       " (20594, 'periodicals undesignated'),\n",
       " (20645, 'person'),\n",
       " (20646, 'person regular'),\n",
       " (20648, 'personal'),\n",
       " (20649, 'personal services'),\n",
       " (20652, 'personnel'),\n",
       " (20655, 'personnel addl'),\n",
       " (20678, 'personnel bus'),\n",
       " (20765, 'personnel overtime'),\n",
       " (20784, 'personnel regular'),\n",
       " (20844, 'pgms'),\n",
       " (20845, 'pgms title'),\n",
       " (20948, 'plant'),\n",
       " (20970, 'plant general'),\n",
       " (20977, 'plant operations'),\n",
       " (21058, 'pool'),\n",
       " (21063, 'pool school'),\n",
       " (21290, 'primary'),\n",
       " (21294, 'primary grades'),\n",
       " (21427, 'prizes'),\n",
       " (21636, 'prof service'),\n",
       " (21648, 'professi'),\n",
       " (21701, 'professi regular'),\n",
       " (21713, 'professi teacher'),\n",
       " (21723, 'professional'),\n",
       " (21746, 'professional services'),\n",
       " (21750, 'professional tech'),\n",
       " (21751, 'professional technical'),\n",
       " (21754, 'professionals'),\n",
       " (21758, 'professionals certified'),\n",
       " (21761, 'professionals degreed'),\n",
       " (21766, 'professionals non'),\n",
       " (21916, 'program'),\n",
       " (21917, 'program 12'),\n",
       " (21918, 'program 8'),\n",
       " (21972, 'program improvement'),\n",
       " (22001, 'program primary'),\n",
       " (22003, 'program program'),\n",
       " (22017, 'program school'),\n",
       " (22046, 'program upper'),\n",
       " (22060, 'programs'),\n",
       " (22112, 'programs local'),\n",
       " (22182, 'project'),\n",
       " (22231, 'project capital'),\n",
       " (22306, 'project electricity'),\n",
       " (22309, 'project elementary'),\n",
       " (22329, 'project facsimile'),\n",
       " (22333, 'project field'),\n",
       " (22424, 'project natural'),\n",
       " (22484, 'project repairs'),\n",
       " (22503, 'project services'),\n",
       " (22504, 'project sewage'),\n",
       " (22505, 'project sewer'),\n",
       " (22510, 'project short'),\n",
       " (22560, 'project travel'),\n",
       " (22576, 'projects'),\n",
       " (22600, 'projects fund'),\n",
       " (22620, 'projects personal'),\n",
       " (22823, 'public'),\n",
       " (22839, 'public school'),\n",
       " (22844, 'public utilities'),\n",
       " (22852, 'pupil'),\n",
       " (22859, 'pupil services'),\n",
       " (22861, 'pupil transportation'),\n",
       " (22862, 'pupils'),\n",
       " (22903, 'purch from'),\n",
       " (22908, 'purchase'),\n",
       " (22911, 'purchase buses'),\n",
       " (22920, 'purchased'),\n",
       " (22922, 'purchased food'),\n",
       " (22924, 'purchased minor'),\n",
       " (22926, 'purchased professional'),\n",
       " (22928, 'purchased services'),\n",
       " (22931, 'purchases'),\n",
       " (22932, 'purchases equipment'),\n",
       " (22943, 'purpose'),\n",
       " (22945, 'purpose school'),\n",
       " (23017, 'quality'),\n",
       " (23037, 'quality title'),\n",
       " (23051, 'race'),\n",
       " (23232, 'reading materials'),\n",
       " (23306, 'reclassified'),\n",
       " (23307, 'reclassified transportation'),\n",
       " (23308, 'recognition'),\n",
       " (23466, 'reg'),\n",
       " (23475, 'reg unallocated'),\n",
       " (23514, 'registration'),\n",
       " (23573, 'registration undesignated'),\n",
       " (23575, 'regular'),\n",
       " (23591, 'regular employees'),\n",
       " (23601, 'regular instruction'),\n",
       " (23610, 'regular pay'),\n",
       " (23615, 'regular regular'),\n",
       " (23619, 'regular school'),\n",
       " (23621, 'regular smoothed'),\n",
       " (23645, 'reimbursement'),\n",
       " (23661, 'reimbursement undesignated'),\n",
       " (23674, 'related'),\n",
       " (23690, 'related misc'),\n",
       " (23695, 'related state'),\n",
       " (23840, 'rental'),\n",
       " (23844, 'rental equipment'),\n",
       " (23845, 'rental instructional'),\n",
       " (23852, 'rentals'),\n",
       " (23860, 'rentals copiers'),\n",
       " (23881, 'rentals operating'),\n",
       " (23893, 'rentals school'),\n",
       " (23926, 'repair'),\n",
       " (23955, 'repair maintenance'),\n",
       " (23978, 'repair undistributed'),\n",
       " (23983, 'repairs'),\n",
       " (23986, 'repairs maintenance'),\n",
       " (24057, 'reserve'),\n",
       " (24058, 'reserve fund'),\n",
       " (24067, 'reserved'),\n",
       " (24069, 'reserved non'),\n",
       " (24214, 'resources personal'),\n",
       " (24310, 'retiree substitute'),\n",
       " (24316, 'retirement'),\n",
       " (24414, 'retirement elementary'),\n",
       " (24608, 'retirement undesignated'),\n",
       " (24620, 'retrd'),\n",
       " (24621, 'retrd shrt'),\n",
       " (24758, 'rollup'),\n",
       " (24875, 'salaries'),\n",
       " (24892, 'salaries overtime'),\n",
       " (24893, 'salaries part'),\n",
       " (24894, 'salaries regular'),\n",
       " (24902, 'salaries wages'),\n",
       " (24930, 'sanitation'),\n",
       " (25085, 'school'),\n",
       " (25116, 'school based'),\n",
       " (25120, 'school bonuses'),\n",
       " (25132, 'school capitalized'),\n",
       " (25141, 'school classroom'),\n",
       " (25147, 'school communication'),\n",
       " (25152, 'school conference'),\n",
       " (25157, 'school consultant'),\n",
       " (25162, 'school contracted'),\n",
       " (25188, 'school dues'),\n",
       " (25195, 'school electricity'),\n",
       " (25200, 'school employee'),\n",
       " (25213, 'school extra'),\n",
       " (25217, 'school federal'),\n",
       " (25227, 'school garbage'),\n",
       " (25229, 'school general'),\n",
       " (25299, 'school miscellaneous'),\n",
       " (25303, 'school natural'),\n",
       " (25309, 'school nutrition'),\n",
       " (25314, 'school operating'),\n",
       " (25318, 'school out'),\n",
       " (25325, 'school personal'),\n",
       " (25326, 'school pgms'),\n",
       " (25333, 'school program'),\n",
       " (25343, 'school purchased'),\n",
       " (25345, 'school reclassified'),\n",
       " (25346, 'school recognition'),\n",
       " (25352, 'school rentals'),\n",
       " (25354, 'school repairs'),\n",
       " (25361, 'school salaries'),\n",
       " (25371, 'school services'),\n",
       " (25398, 'school supplements'),\n",
       " (25399, 'school supplies'),\n",
       " (25408, 'school tcher'),\n",
       " (25432, 'school travel'),\n",
       " (25443, 'school utilities'),\n",
       " (25446, 'school water'),\n",
       " (25460, 'schools'),\n",
       " (25556, 'schools misc'),\n",
       " (25575, 'schools purchase'),\n",
       " (25576, 'schools purchased'),\n",
       " (25586, 'schools schoolwide'),\n",
       " (25592, 'schools short'),\n",
       " (25603, 'schools super'),\n",
       " (25606, 'schools supplies'),\n",
       " (25615, 'schools title'),\n",
       " (25616, 'schools travel'),\n",
       " (25624, 'schoolwide'),\n",
       " (25625, 'schoolwide activities'),\n",
       " (25626, 'schoolwide schools'),\n",
       " (25671, 'science'),\n",
       " (25694, 'science extra'),\n",
       " (25792, 'seas'),\n",
       " (25793, 'seas afterschool'),\n",
       " (25815, 'second'),\n",
       " (25824, 'secondary'),\n",
       " (25836, 'secondary contra'),\n",
       " (25844, 'secondary employee'),\n",
       " (25848, 'secondary extra'),\n",
       " (25880, 'secondary salaries'),\n",
       " (26167, 'serv'),\n",
       " (26177, 'serv general'),\n",
       " (26192, 'serv reserved'),\n",
       " (26200, 'serv title'),\n",
       " (26229, 'service'),\n",
       " (26245, 'service center'),\n",
       " (26274, 'service fees'),\n",
       " (26280, 'service general'),\n",
       " (26359, 'services'),\n",
       " (26468, 'services certificated'),\n",
       " (26471, 'services charges'),\n",
       " (26495, 'services communication'),\n",
       " (26498, 'services community'),\n",
       " (26500, 'services compensation'),\n",
       " (26503, 'services computer'),\n",
       " (26515, 'services contractual'),\n",
       " (26550, 'services district'),\n",
       " (26562, 'services dues'),\n",
       " (26572, 'services education'),\n",
       " (26584, 'services employees'),\n",
       " (26702, 'services instructional'),\n",
       " (26803, 'services misc'),\n",
       " (26804, 'services miscellaneous'),\n",
       " (26842, 'services operations'),\n",
       " (26896, 'services purch'),\n",
       " (26897, 'services purchase'),\n",
       " (26898, 'services purchased'),\n",
       " (26917, 'services repair'),\n",
       " (26948, 'services school'),\n",
       " (26979, 'services special'),\n",
       " (26982, 'services sport'),\n",
       " (27002, 'services substitute'),\n",
       " (27013, 'services supplies'),\n",
       " (27014, 'services support'),\n",
       " (27025, 'services teachers'),\n",
       " (27045, 'services title'),\n",
       " (27056, 'services travel'),\n",
       " (27064, 'services undesignated'),\n",
       " (27071, 'services upper'),\n",
       " (27120, 'severe'),\n",
       " (27126, 'sewage'),\n",
       " (27130, 'sewage undesignated'),\n",
       " (27131, 'sewer'),\n",
       " (27132, 'sewer cleaning'),\n",
       " (27133, 'sewer fees'),\n",
       " (27183, 'sheltered'),\n",
       " (27184, 'sheltered eng'),\n",
       " (27210, 'short'),\n",
       " (27211, 'short term'),\n",
       " (27216, 'shrt'),\n",
       " (27217, 'shrt term'),\n",
       " (27325, 'smoothed'),\n",
       " (27372, 'software'),\n",
       " (27397, 'software misc'),\n",
       " (27442, 'sourc'),\n",
       " (27443, 'sourc undesignated'),\n",
       " (27532, 'spec'),\n",
       " (27545, 'spec ed'),\n",
       " (27602, 'special'),\n",
       " (27623, 'special education'),\n",
       " (27642, 'special instruction'),\n",
       " (27696, 'special trust'),\n",
       " (27837, 'sped'),\n",
       " (27842, 'sped individuals'),\n",
       " (27845, 'sped special'),\n",
       " (27895, 'sports seas'),\n",
       " (27992, 'staff'),\n",
       " (28023, 'staff dev'),\n",
       " (28025, 'staff development'),\n",
       " (28079, 'staff regular'),\n",
       " (28088, 'staff science'),\n",
       " (28103, 'staff training'),\n",
       " (28219, 'state'),\n",
       " (28227, 'state comp'),\n",
       " (28346, 'stip'),\n",
       " (28357, 'stip instructional'),\n",
       " (28504, 'student transport'),\n",
       " (28593, 'sub'),\n",
       " (28605, 'sub d'),\n",
       " (28612, 'sub employee'),\n",
       " (28643, 'sub salaries'),\n",
       " (28650, 'sub teacher'),\n",
       " (28661, 'subs'),\n",
       " (28664, 'subs regular'),\n",
       " (28701, 'subsistence'),\n",
       " (28703, 'subsistence employee'),\n",
       " (28705, 'subsistence students'),\n",
       " (28708, 'substitute'),\n",
       " (28710, 'substitute basic'),\n",
       " (28711, 'substitute bilingual'),\n",
       " (28727, 'substitute pool'),\n",
       " (28729, 'substitute professionals'),\n",
       " (28733, 'substitute services'),\n",
       " (28736, 'substitute teacher'),\n",
       " (28737, 'substitute teachers'),\n",
       " (28738, 'substitute title'),\n",
       " (28753, 'success'),\n",
       " (28797, 'summer'),\n",
       " (28799, 'summer arts'),\n",
       " (28842, 'sunday'),\n",
       " (28843, 'sunday pay'),\n",
       " (28852, 'super'),\n",
       " (28859, 'super sub'),\n",
       " (28963, 'supp'),\n",
       " (28976, 'supplement'),\n",
       " (28991, 'supplemental'),\n",
       " (29011, 'supplements'),\n",
       " (29017, 'supplies'),\n",
       " (29056, 'supplies basic'),\n",
       " (29095, 'supplies community'),\n",
       " (29198, 'supplies high'),\n",
       " (29268, 'supplies maintenance'),\n",
       " (29272, 'supplies materials'),\n",
       " (29274, 'supplies media'),\n",
       " (29275, 'supplies middle'),\n",
       " (29280, 'supplies misc'),\n",
       " (29332, 'supplies primary'),\n",
       " (29376, 'supplies school'),\n",
       " (29390, 'supplies special'),\n",
       " (29412, 'supplies supplies'),\n",
       " (29417, 'supplies teacher'),\n",
       " (29424, 'supplies title'),\n",
       " (29434, 'supplies undesignated'),\n",
       " (29435, 'supplies undistributed'),\n",
       " (29481, 'support'),\n",
       " (29502, 'support central'),\n",
       " (29556, 'support personnel'),\n",
       " (29568, 'support regular'),\n",
       " (29579, 'support services'),\n",
       " (29666, 'svcs'),\n",
       " (29685, 'svcs general'),\n",
       " (29710, 'svcs undesignated'),\n",
       " (29772, 'system support'),\n",
       " (29963, 'targeted'),\n",
       " (29965, 'targeted assistance'),\n",
       " (29995, 'tcher'),\n",
       " (30086, 'teacher'),\n",
       " (30103, 'teacher bachelor'),\n",
       " (30118, 'teacher coverage'),\n",
       " (30175, 'teacher instruction'),\n",
       " (30176, 'teacher instructional'),\n",
       " (30184, 'teacher lead'),\n",
       " (30186, 'teacher learning'),\n",
       " (30192, 'teacher master'),\n",
       " (30217, 'teacher quality'),\n",
       " (30226, 'teacher retirement'),\n",
       " (30229, 'teacher school'),\n",
       " (30244, 'teacher subs'),\n",
       " (30245, 'teacher substitute'),\n",
       " (30250, 'teacher support'),\n",
       " (30272, 'teachers'),\n",
       " (30282, 'teachers certified'),\n",
       " (30315, 'teachers professi'),\n",
       " (30319, 'teachers regular'),\n",
       " (30328, 'teachers special'),\n",
       " (30333, 'teachers teacher'),\n",
       " (30336, 'teachers time'),\n",
       " (30342, 'teaching'),\n",
       " (30363, 'teaching sheltered'),\n",
       " (30418, 'tech'),\n",
       " (30453, 'tech fees'),\n",
       " (30503, 'tech system'),\n",
       " (30512, 'technical'),\n",
       " (30521, 'technical services'),\n",
       " (30583, 'technol capital'),\n",
       " (30676, 'technology related'),\n",
       " (30764, 'term'),\n",
       " (30770, 'term sub'),\n",
       " (30813, 'textbooks'),\n",
       " (30828, 'textbooks books'),\n",
       " (31104, 'time'),\n",
       " (31107, 'time card'),\n",
       " (31114, 'time employee'),\n",
       " (31158, 'title'),\n",
       " (31196, 'title disadvantaged'),\n",
       " (31220, 'title grants'),\n",
       " (31234, 'title improving'),\n",
       " (31260, 'title part'),\n",
       " (31273, 'title public'),\n",
       " (31274, 'title purchase'),\n",
       " (31286, 'title schoolwide'),\n",
       " (31292, 'title services'),\n",
       " (31409, 'training'),\n",
       " (31431, 'training federal'),\n",
       " (31432, 'training general'),\n",
       " (31458, 'training services'),\n",
       " (31467, 'training svcs'),\n",
       " (31556, 'transport service'),\n",
       " (31559, 'transportation'),\n",
       " (31612, 'transportation department'),\n",
       " (31639, 'transportation expense'),\n",
       " (31657, 'transportation general'),\n",
       " (31751, 'transportation second'),\n",
       " (31809, 'travel'),\n",
       " (31815, 'travel allotment'),\n",
       " (31816, 'travel allowances'),\n",
       " (31838, 'travel employees'),\n",
       " (31877, 'travel registration'),\n",
       " (31878, 'travel regular'),\n",
       " (31892, 'travel subsistence'),\n",
       " (31920, 'treatment'),\n",
       " (31924, 'treatment sanitation'),\n",
       " (31928, 'trips'),\n",
       " (31941, 'trips undesignated'),\n",
       " (31958, 'trust'),\n",
       " (32145, 'unalloc'),\n",
       " (32146, 'unalloc schools'),\n",
       " (32147, 'unallocated'),\n",
       " (32154, 'unallocated extra'),\n",
       " (32173, 'unassigned'),\n",
       " (32175, 'unassigned paid'),\n",
       " (32179, 'undesignated'),\n",
       " (32199, 'undesignated care'),\n",
       " (32219, 'undesignated employee'),\n",
       " (32227, 'undesignated food'),\n",
       " (32230, 'undesignated general'),\n",
       " (32238, 'undesignated information'),\n",
       " (32239, 'undesignated instructional'),\n",
       " (32294, 'undesignated support'),\n",
       " (32304, 'undistributed'),\n",
       " (32325, 'undistributed contracted'),\n",
       " (32332, 'undistributed electricity'),\n",
       " (32339, 'undistributed extra'),\n",
       " (32340, 'undistributed fees'),\n",
       " (32347, 'undistributed general'),\n",
       " (32366, 'undistributed miscellaneous'),\n",
       " (32370, 'undistributed operations'),\n",
       " (32406, 'undistributed travel'),\n",
       " (32412, 'undistributed waste'),\n",
       " (32500, 'upkeep'),\n",
       " (32501, 'upkeep bldg'),\n",
       " (32506, 'upper'),\n",
       " (32508, 'upper elementary'),\n",
       " (32545, 'utilities'),\n",
       " (32549, 'utilities closed'),\n",
       " (32550, 'utilities electricity'),\n",
       " (32551, 'utilities natural'),\n",
       " (32552, 'utilities regular'),\n",
       " (32556, 'utilities undistributed'),\n",
       " (32557, 'utilities water'),\n",
       " (32603, 'vehicle fuels'),\n",
       " (32610, 'vehicles'),\n",
       " (32625, 'vehicles primary'),\n",
       " (32716, 'voc'),\n",
       " (32731, 'voc ed'),\n",
       " (32770, 'vocational'),\n",
       " (32785, 'vocational federal'),\n",
       " (32793, 'vocational program'),\n",
       " (32830, 'wages'),\n",
       " (33063, 'wages school'),\n",
       " (33073, 'wages special'),\n",
       " (33090, 'wages substitute'),\n",
       " (33094, 'wages support'),\n",
       " (33099, 'wages teachers'),\n",
       " (33103, 'wages title'),\n",
       " (33161, 'waste'),\n",
       " (33164, 'waste water'),\n",
       " (33167, 'water'),\n",
       " (33169, 'water operations'),\n",
       " (33171, 'water sewer'),\n",
       " (33172, 'water treatment'),\n",
       " (33173, 'water waste'),\n",
       " (33197, 'week'),\n",
       " (33244, 'wide school'),\n",
       " (33398, 'workshop'),\n",
       " (33399, 'workshop participant'),\n",
       " (33453, 'year'),\n",
       " (33492, 'youth'),\n",
       " (33504, 'youth title')]"
      ]
     },
     "execution_count": 161,
     "metadata": {},
     "output_type": "execute_result"
    }
   ],
   "source": [
    "features"
   ]
  },
  {
   "cell_type": "code",
   "execution_count": 164,
   "metadata": {},
   "outputs": [],
   "source": [
    "#Select only KBest columns\n",
    "selected_features = X_train_features[:,columns]"
   ]
  },
  {
   "cell_type": "code",
   "execution_count": 178,
   "metadata": {},
   "outputs": [
    {
     "data": {
      "text/plain": [
       "(400277, 2)"
      ]
     },
     "execution_count": 178,
     "metadata": {},
     "output_type": "execute_result"
    }
   ],
   "source": [
    "df_training[numeric].shape"
   ]
  },
  {
   "cell_type": "code",
   "execution_count": 186,
   "metadata": {},
   "outputs": [],
   "source": [
    "##All the data in space matrix\n",
    "from scipy import sparse\n",
    "numeric_features = df_training[numeric].values\n",
    "\n",
    "training_data = sparse.hstack((selected_features, numeric_features))"
   ]
  },
  {
   "cell_type": "code",
   "execution_count": 185,
   "metadata": {},
   "outputs": [
    {
     "data": {
      "text/plain": [
       "(400277, 1002)"
      ]
     },
     "execution_count": 185,
     "metadata": {},
     "output_type": "execute_result"
    }
   ],
   "source": [
    "training_data.shape"
   ]
  },
  {
   "cell_type": "code",
   "execution_count": 187,
   "metadata": {},
   "outputs": [
    {
     "data": {
      "text/plain": [
       "scipy.sparse.coo.coo_matrix"
      ]
     },
     "execution_count": 187,
     "metadata": {},
     "output_type": "execute_result"
    }
   ],
   "source": [
    "type(training_data)"
   ]
  },
  {
   "cell_type": "code",
   "execution_count": 188,
   "metadata": {},
   "outputs": [],
   "source": [
    "sparse.save_npz(\"training_data.npz\", training_data)\n",
    "\n",
    "#read_matrix_back = sparse.load_npz(\"training_data.npz\")"
   ]
  },
  {
   "cell_type": "markdown",
   "metadata": {
    "colab_type": "text",
    "id": "XaNfX26RrHLY"
   },
   "source": [
    "## Simple model to verify tokenization by CountVectorizer and Dimensionality reduction"
   ]
  },
  {
   "cell_type": "code",
   "execution_count": 189,
   "metadata": {
    "colab": {},
    "colab_type": "code",
    "id": "2pJ_eATNrHLc"
   },
   "outputs": [],
   "source": [
    "from sklearn.model_selection import train_test_split\n",
    "from sklearn.linear_model import SGDClassifier\n",
    "from sklearn.pipeline import Pipeline"
   ]
  },
  {
   "cell_type": "code",
   "execution_count": 193,
   "metadata": {
    "colab": {},
    "colab_type": "code",
    "id": "XhZJHUNXrHLy"
   },
   "outputs": [],
   "source": [
    "df_dummies = pd.get_dummies(y_train_labels)"
   ]
  },
  {
   "cell_type": "code",
   "execution_count": 194,
   "metadata": {
    "colab": {},
    "colab_type": "code",
    "id": "9Ra25HICrHL6"
   },
   "outputs": [],
   "source": [
    "X_train, X_test, y_train, y_test = train_test_split(training_data,\n",
    "                                                    df_dummies,\n",
    "                                                    test_size=0.2, \n",
    "                                                    random_state=42)"
   ]
  },
  {
   "cell_type": "code",
   "execution_count": 196,
   "metadata": {
    "colab": {},
    "colab_type": "code",
    "id": "oUFvkYdOrHL_",
    "outputId": "57c04ed6-6b1d-4033-f563-5a490d1e2f30"
   },
   "outputs": [
    {
     "data": {
      "text/plain": [
       "(320221, 1002)"
      ]
     },
     "execution_count": 196,
     "metadata": {},
     "output_type": "execute_result"
    }
   ],
   "source": [
    "X_train.shape"
   ]
  },
  {
   "cell_type": "code",
   "execution_count": 0,
   "metadata": {
    "colab": {},
    "colab_type": "code",
    "id": "vhCGJoeJrHMI"
   },
   "outputs": [],
   "source": [
    "from sklearn.ensemble import RandomForestClassifier\n",
    "from sklearn.neighbors import KNeighborsClassifier\n",
    "\n",
    "from sklearn.preprocessing import FunctionTransformer\n",
    "\n",
    "from sklearn.feature_selection import chi2, SelectKBest\n",
    "from sklearn.decomposition import TruncatedSVD, NMF\n",
    "\n",
    "from sklearn.feature_extraction.text import CountVectorizer\n",
    "\n",
    "from sklearn.model_selection import GridSearchCV"
   ]
  },
  {
   "cell_type": "code",
   "execution_count": 0,
   "metadata": {
    "colab": {},
    "colab_type": "code",
    "id": "2poFhpSzrHML"
   },
   "outputs": [],
   "source": [
    "def combine_text_columns(dataset):\n",
    "    return dataset[categoric].apply(lambda x: \" \".join(x), axis = 1)"
   ]
  },
  {
   "cell_type": "code",
   "execution_count": 0,
   "metadata": {
    "colab": {},
    "colab_type": "code",
    "id": "5fIyDKW4rHMP"
   },
   "outputs": [],
   "source": [
    "get_text_data = FunctionTransformer(combine_text_columns, validate = False)"
   ]
  },
  {
   "cell_type": "code",
   "execution_count": 0,
   "metadata": {
    "colab": {},
    "colab_type": "code",
    "id": "iKMh1uBarHMW"
   },
   "outputs": [],
   "source": [
    "#text_data = X_train.apply(lambda x: \" \".join(x), axis = 1)"
   ]
  },
  {
   "cell_type": "code",
   "execution_count": 0,
   "metadata": {
    "colab": {},
    "colab_type": "code",
    "id": "4LkO7VAGrHMY"
   },
   "outputs": [],
   "source": [
    "#vec = CountVectorizer(token_pattern=\"[A-Za-z0-9]+(?=\\\\s+)\", ngram_range=(1,2), stop_words = stop_words)\n",
    "#vec.fit(text_data)\n",
    "#bag_of_words = vec.transform(text_data)"
   ]
  },
  {
   "cell_type": "code",
   "execution_count": 0,
   "metadata": {
    "colab": {},
    "colab_type": "code",
    "id": "lkBmbfgtrHMb"
   },
   "outputs": [],
   "source": [
    "#matrix = vec.fit_transform(text_data)"
   ]
  },
  {
   "cell_type": "code",
   "execution_count": 0,
   "metadata": {
    "colab": {},
    "colab_type": "code",
    "id": "lQVqgJTkrHMd"
   },
   "outputs": [],
   "source": [
    "#selector = SelectKBest(chi2, k=1000)\n",
    "#selector.fit(matrix, y_train)\n",
    "#top_words = selector.get_support().nonzero()"
   ]
  },
  {
   "cell_type": "code",
   "execution_count": 0,
   "metadata": {
    "colab": {},
    "colab_type": "code",
    "id": "oEch5r0qrHMi"
   },
   "outputs": [],
   "source": [
    "#chi_matrix = matrix[:,top_words[0]]"
   ]
  },
  {
   "cell_type": "code",
   "execution_count": 0,
   "metadata": {
    "colab": {},
    "colab_type": "code",
    "id": "D58BSjtcrHMk"
   },
   "outputs": [],
   "source": [
    "#sum_words = chi_matrix.sum(axis=0)\n",
    "#words_freq = [(word, sum_words[0, idx]) for word, idx in vec.vocabulary_.items()]\n",
    "#words_freq = sorted(words_freq, key = lambda x: x[1], reverse=True)"
   ]
  },
  {
   "cell_type": "code",
   "execution_count": 0,
   "metadata": {
    "colab": {},
    "colab_type": "code",
    "id": "BYG5Ns8YrHMn"
   },
   "outputs": [],
   "source": [
    "stop_words = ['a', 'e', 'i', 'o', 'u', 'to', 'all', 'of', 'for', 'and', 'or', 'b', 'with', 'not', 'than', 'other', 'top', 's', 'k', 'in', 'the']\n",
    "vec = CountVectorizer(token_pattern=\"[A-Za-z0-9]+(?=\\\\s+)\", ngram_range=(1,2), stop_words = stop_words)"
   ]
  },
  {
   "cell_type": "code",
   "execution_count": 0,
   "metadata": {
    "colab": {},
    "colab_type": "code",
    "id": "xaMs8QYJrHMq"
   },
   "outputs": [],
   "source": [
    "# Edit model step in pipeline\n",
    "pl = Pipeline([\n",
    "        ('selector', get_text_data),\n",
    "        ('vectorizer', vec),\n",
    "        #('reduce_dim', TruncatedSVD(n_iter=7, n_components = 1000)),\n",
    "        #('reduce_dim', NMF(n_components = 200)),\n",
    "        ('reduce_dim', SelectKBest(chi2, 1000)),\n",
    "        ('clf', RandomForestClassifier())\n",
    "    ])"
   ]
  },
  {
   "cell_type": "code",
   "execution_count": 26,
   "metadata": {
    "colab": {
     "base_uri": "https://localhost:8080/",
     "height": 199
    },
    "colab_type": "code",
    "id": "_ZTNn9hUrHMs",
    "outputId": "ffafd14b-0aa4-4ec6-e0be-900badbd3387"
   },
   "outputs": [
    {
     "name": "stderr",
     "output_type": "stream",
     "text": [
      "/usr/local/lib/python3.6/dist-packages/sklearn/ensemble/forest.py:246: FutureWarning: The default value of n_estimators will change from 10 in version 0.20 to 100 in 0.22.\n",
      "  \"10 in version 0.20 to 100 in 0.22.\", FutureWarning)\n"
     ]
    },
    {
     "data": {
      "text/plain": [
       "Pipeline(memory=None,\n",
       "     steps=[('selector', FunctionTransformer(accept_sparse=False, check_inverse=True,\n",
       "          func=<function combine_text_columns at 0x7f827828b048>,\n",
       "          inv_kw_args=None, inverse_func=None, kw_args=None,\n",
       "          pass_y='deprecated', validate=False)), ('vectorizer', CountVectorizer(analyzer='wo...obs=None,\n",
       "            oob_score=False, random_state=None, verbose=0,\n",
       "            warm_start=False))])"
      ]
     },
     "execution_count": 26,
     "metadata": {
      "tags": []
     },
     "output_type": "execute_result"
    }
   ],
   "source": [
    "# Fit to the training data\n",
    "pl.fit(X_train, y_train)"
   ]
  },
  {
   "cell_type": "code",
   "execution_count": 27,
   "metadata": {
    "colab": {
     "base_uri": "https://localhost:8080/",
     "height": 35
    },
    "colab_type": "code",
    "id": "9UkAR17PrHM0",
    "outputId": "df9990ba-2ed3-4122-8d14-48042cedc9fa"
   },
   "outputs": [
    {
     "data": {
      "text/plain": [
       "0.9786274607774558"
      ]
     },
     "execution_count": 27,
     "metadata": {
      "tags": []
     },
     "output_type": "execute_result"
    }
   ],
   "source": [
    "from sklearn.metrics import accuracy_score\n",
    "\n",
    "y_pred = pl.predict(X_test)\n",
    "accuracy_score(y_test.values, y_pred, normalize=True)"
   ]
  },
  {
   "cell_type": "code",
   "execution_count": 0,
   "metadata": {
    "colab": {},
    "colab_type": "code",
    "id": "oK738wwHd_JC"
   },
   "outputs": [],
   "source": [
    "N_FEATURES_OPTIONS = [200, 500, 1000]\n",
    "#mean_scores_10000 = [[0.904, 0.92175, 0.82725], [0.892, 0.9205, 0.91425]]\n",
    "#mean_score_all_dataSet = [[0.9661736784251024, 0.9259018686919157], [0.963250724492855, 0.9740181872689118], [0.9565054461876686, 0.9786274607774558]]\n",
    "mean_score_all_dataSet = [0.9661736784251024, 0.963250724492855, 0.9565054461876686, 0.9259018686919157, 0.9740181872689118, 0.9786274607774558]"
   ]
  },
  {
   "cell_type": "code",
   "execution_count": 0,
   "metadata": {
    "colab": {},
    "colab_type": "code",
    "id": "jK1WDUbVmdkF"
   },
   "outputs": [],
   "source": [
    "reducer_labels = ['SVD', 'KBest(chi2)']"
   ]
  },
  {
   "cell_type": "code",
   "execution_count": 0,
   "metadata": {
    "colab": {},
    "colab_type": "code",
    "id": "k6eqoM7yul2K"
   },
   "outputs": [],
   "source": [
    "N_FEATURES_OPTIONS = [100, 200, 1000]\n",
    "C_OPTIONS = [100, 200, 300, 1000]\n",
    "param_grid = [\n",
    "    {\n",
    "        'reduce_dim': [TruncatedSVD(n_iter=7), NMF()],\n",
    "        'reduce_dim__n_components': N_FEATURES_OPTIONS,\n",
    "        'clf__n_estimators': C_OPTIONS\n",
    "    },\n",
    "    {\n",
    "        'reduce_dim': [SelectKBest(chi2)],\n",
    "        'reduce_dim__k': N_FEATURES_OPTIONS,\n",
    "        'clf__n_estimators': C_OPTIONS\n",
    "    },\n",
    "]\n",
    "reducer_labels = ['SVD', 'NMF', 'KBest(chi2)']"
   ]
  },
  {
   "cell_type": "code",
   "execution_count": 0,
   "metadata": {
    "colab": {},
    "colab_type": "code",
    "id": "_LEoxiMKwB0f"
   },
   "outputs": [],
   "source": [
    "grid = GridSearchCV(pl, cv=5, n_jobs=1, param_grid=param_grid)\n",
    "\n",
    "#grid.fit(X_train, y_train)"
   ]
  },
  {
   "cell_type": "code",
   "execution_count": 0,
   "metadata": {
    "colab": {},
    "colab_type": "code",
    "id": "wR6a2nA8wdUz"
   },
   "outputs": [],
   "source": [
    "#mean_scores = np.array(grid.cv_results_['mean_test_score'])\n",
    "mean_scores = np.array(mean_score_all_dataSet)\n",
    "# scores are in the order of param_grid iteration, which is alphabetical\n",
    "mean_scores = mean_scores.reshape(1, -1, len(N_FEATURES_OPTIONS))\n",
    "# select score for best C\n",
    "mean_scores = mean_scores.max(axis=0)\n",
    "bar_offsets = (np.arange(len(N_FEATURES_OPTIONS)) *\n",
    "               (len(reducer_labels) + 1) + .5)\n"
   ]
  },
  {
   "cell_type": "code",
   "execution_count": 44,
   "metadata": {
    "colab": {
     "base_uri": "https://localhost:8080/",
     "height": 376
    },
    "colab_type": "code",
    "id": "JUYPn-3sdsfX",
    "outputId": "b18dd24f-8671-4aa1-e5d2-131d0cf08788"
   },
   "outputs": [
    {
     "data": {
      "image/png": "[encoded data removed]",
      "text/plain": [
       "<Figure size 576x396 with 1 Axes>"
      ]
     },
     "metadata": {
      "tags": []
     },
     "output_type": "display_data"
    }
   ],
   "source": [
    "plt.figure()\n",
    "COLORS = 'bgrcmyk'\n",
    "for i, (label, reducer_scores) in enumerate(zip(reducer_labels, mean_scores)):\n",
    "    plt.bar(bar_offsets + i, reducer_scores, label=label, color=COLORS[i])\n",
    "\n",
    "plt.title(\"Comparing feature reduction techniques\")\n",
    "plt.xlabel('Number of chosen features')\n",
    "plt.xticks(bar_offsets + len(reducer_labels) / 2, N_FEATURES_OPTIONS)\n",
    "plt.ylabel('Classification accuracy')\n",
    "plt.ylim((0.90, 1))\n",
    "plt.legend(loc='upper left')\n",
    "\n",
    "plt.show()\n",
    "#SVD = [0.9661736784251024, 0.963250724492855, 0.9565054461876686]\n",
    "#mean_score_all_dataSet = [0.9661736784251024, 0.963250724492855, 0.9565054461876686, 0.9259018686919157, 0.9740181872689118, 0.9786274607774558]"
   ]
  },
  {
   "cell_type": "code",
   "execution_count": 0,
   "metadata": {
    "colab": {},
    "colab_type": "code",
    "collapsed": true,
    "id": "52yKVzqMrHMv",
    "outputId": "241945a5-51de-4f9b-9a46-5342215dafa0"
   },
   "outputs": [
    {
     "name": "stdout",
     "output_type": "stream",
     "text": [
      "<class 'pandas.core.frame.DataFrame'>\n",
      "Int64Index: 320221 entries, 444691 to 172004\n",
      "Data columns (total 14 columns):\n",
      "Facility_or_Department    320221 non-null object\n",
      "Function_Description      320221 non-null object\n",
      "Fund_Description          320221 non-null object\n",
      "Job_Title_Description     320221 non-null object\n",
      "Location_Description      320221 non-null object\n",
      "Object_Description        320221 non-null object\n",
      "Position_Extra            320221 non-null object\n",
      "Program_Description       320221 non-null object\n",
      "SubFund_Description       320221 non-null object\n",
      "Sub_Object_Description    320221 non-null object\n",
      "Text_1                    320221 non-null object\n",
      "Text_2                    320221 non-null object\n",
      "Text_3                    320221 non-null object\n",
      "Text_4                    320221 non-null object\n",
      "dtypes: object(14)\n",
      "memory usage: 36.6+ MB\n"
     ]
    }
   ],
   "source": [
    "X_train.info()"
   ]
  },
  {
   "cell_type": "markdown",
   "metadata": {
    "colab_type": "text",
    "id": "8C8LyPlqrHM4"
   },
   "source": [
    "## Save df in a new CSV"
   ]
  },
  {
   "cell_type": "code",
   "execution_count": 0,
   "metadata": {
    "colab": {},
    "colab_type": "code",
    "id": "z8LJFPeSrHM5"
   },
   "outputs": [],
   "source": [
    "training.to_csv(index = False)"
   ]
  },
  {
   "cell_type": "code",
   "execution_count": 0,
   "metadata": {
    "colab": {},
    "colab_type": "code",
    "id": "SEO-nAvIrHM_"
   },
   "outputs": [],
   "source": []
  }
 ],
 "metadata": {
  "colab": {
   "collapsed_sections": [
    "s5EujUAkrHJw",
    "8C8LyPlqrHM4"
   ],
   "name": "Preprocessing.ipynb",
   "provenance": [],
   "version": "0.3.2"
  },
  "kernelspec": {
   "display_name": "Python 3",
   "language": "python",
   "name": "python3"
  },
  "language_info": {
   "codemirror_mode": {
    "name": "ipython",
    "version": 3
   },
   "file_extension": ".py",
   "mimetype": "text/x-python",
   "name": "python",
   "nbconvert_exporter": "python",
   "pygments_lexer": "ipython3",
   "version": "3.6.5"
  }
 },
 "nbformat": 4,
 "nbformat_minor": 1
}
