{
 "cells": [
  {
   "cell_type": "code",
   "execution_count": 2,
   "metadata": {},
   "outputs": [],
   "source": [
    "import pandas as pd\n",
    "import numpy as np\n",
    "from sklearn.feature_extraction.text import HashingVectorizer\n",
    "#from sklearn.impute import SimpleImputer\n",
    "from sklearn.preprocessing import Imputer"
   ]
  },
  {
   "cell_type": "code",
   "execution_count": 3,
   "metadata": {},
   "outputs": [],
   "source": [
    "#Read the data using the Unnamed (probably id) as index\n",
    "url = 'https://s3.amazonaws.com/drivendata/data/4/public/81e8f2de-9915-4934-b9ae-9705685c9d50.csv'\n",
    "training = pd.read_csv(url, index_col='Unnamed: 0')\n",
    "\n",
    "labels = ['Function', 'Object_Type', 'Operating_Status', 'Position_Type', 'Pre_K', 'Reporting', \n",
    "          'Sharing', 'Student_Type', 'Use']\n",
    "\n",
    "numeric = ['FTE', 'Total']\n",
    "\n",
    "categoric = [ 'Facility_or_Department', 'Function_Description', \n",
    "            'Fund_Description', 'Job_Title_Description', 'Location_Description', \n",
    "            'Object_Description', 'Position_Extra', 'Program_Description', 'SubFund_Description', \n",
    "            'Sub_Object_Description', \n",
    "            'Text_1', 'Text_2', 'Text_3', 'Text_4']"
   ]
  },
  {
   "cell_type": "markdown",
   "metadata": {},
   "source": [
    "## Data cleaning\n",
    "\n",
    "### Part 1: numeric data\n",
    "First of all, the numeric columns `FTE` and `Total` must be cleaned. The outliers will be treated as `NaN` values and imputation will be applied to the missing data."
   ]
  },
  {
   "cell_type": "code",
   "execution_count": 4,
   "metadata": {},
   "outputs": [],
   "source": [
    "# Remove inconsistent data\n",
    "training[training['FTE'] < 0] = np.nan\n",
    "training[training['Total'] < 0] = np.nan"
   ]
  },
  {
   "cell_type": "code",
   "execution_count": 5,
   "metadata": {},
   "outputs": [
    {
     "data": {
      "text/plain": [
       "count    125849.000000\n",
       "mean          0.427436\n",
       "std           0.573810\n",
       "min           0.000000\n",
       "25%           0.001078\n",
       "50%           0.133337\n",
       "75%           1.000000\n",
       "max          46.800000\n",
       "Name: FTE, dtype: float64"
      ]
     },
     "execution_count": 5,
     "metadata": {},
     "output_type": "execute_result"
    }
   ],
   "source": [
    "training['FTE'].describe()"
   ]
  },
  {
   "cell_type": "code",
   "execution_count": 6,
   "metadata": {},
   "outputs": [
    {
     "data": {
      "text/html": [
       "<div>\n",
       "<style scoped>\n",
       "    .dataframe tbody tr th:only-of-type {\n",
       "        vertical-align: middle;\n",
       "    }\n",
       "\n",
       "    .dataframe tbody tr th {\n",
       "        vertical-align: top;\n",
       "    }\n",
       "\n",
       "    .dataframe thead th {\n",
       "        text-align: right;\n",
       "    }\n",
       "</style>\n",
       "<table border=\"1\" class=\"dataframe\">\n",
       "  <thead>\n",
       "    <tr style=\"text-align: right;\">\n",
       "      <th></th>\n",
       "      <th>Function</th>\n",
       "      <th>Use</th>\n",
       "      <th>Sharing</th>\n",
       "      <th>Reporting</th>\n",
       "      <th>Student_Type</th>\n",
       "      <th>Position_Type</th>\n",
       "      <th>Object_Type</th>\n",
       "      <th>Pre_K</th>\n",
       "      <th>Operating_Status</th>\n",
       "      <th>Object_Description</th>\n",
       "      <th>...</th>\n",
       "      <th>Sub_Object_Description</th>\n",
       "      <th>Location_Description</th>\n",
       "      <th>FTE</th>\n",
       "      <th>Function_Description</th>\n",
       "      <th>Facility_or_Department</th>\n",
       "      <th>Position_Extra</th>\n",
       "      <th>Total</th>\n",
       "      <th>Program_Description</th>\n",
       "      <th>Fund_Description</th>\n",
       "      <th>Text_1</th>\n",
       "    </tr>\n",
       "  </thead>\n",
       "  <tbody>\n",
       "  </tbody>\n",
       "</table>\n",
       "<p>0 rows × 25 columns</p>\n",
       "</div>"
      ],
      "text/plain": [
       "Empty DataFrame\n",
       "Columns: [Function, Use, Sharing, Reporting, Student_Type, Position_Type, Object_Type, Pre_K, Operating_Status, Object_Description, Text_2, SubFund_Description, Job_Title_Description, Text_3, Text_4, Sub_Object_Description, Location_Description, FTE, Function_Description, Facility_or_Department, Position_Extra, Total, Program_Description, Fund_Description, Text_1]\n",
       "Index: []\n",
       "\n",
       "[0 rows x 25 columns]"
      ]
     },
     "execution_count": 6,
     "metadata": {},
     "output_type": "execute_result"
    }
   ],
   "source": [
    "training[training['FTE'] < 0]"
   ]
  },
  {
   "cell_type": "code",
   "execution_count": 7,
   "metadata": {},
   "outputs": [
    {
     "data": {
      "text/plain": [
       "count    3.518450e+05\n",
       "mean     1.696423e+04\n",
       "std      3.402292e+05\n",
       "min      0.000000e+00\n",
       "25%      1.384847e+02\n",
       "50%      6.696800e+02\n",
       "75%      4.999610e+03\n",
       "max      1.297000e+08\n",
       "Name: Total, dtype: float64"
      ]
     },
     "execution_count": 7,
     "metadata": {},
     "output_type": "execute_result"
    }
   ],
   "source": [
    "training['Total'].describe()"
   ]
  },
  {
   "cell_type": "markdown",
   "metadata": {},
   "source": [
    "### Part 2: Categoric data\n",
    "\n",
    "The strings must be normalized: symbols removed, all letters to lower case. Then, they can be transformed to numeric data."
   ]
  },
  {
   "cell_type": "code",
   "execution_count": 8,
   "metadata": {},
   "outputs": [],
   "source": [
    "for category in categoric:\n",
    "    training[category] = training[category].str.lower()"
   ]
  },
  {
   "cell_type": "code",
   "execution_count": 9,
   "metadata": {},
   "outputs": [
    {
     "data": {
      "text/plain": [
       "Facility_or_Department     176\n",
       "Function_Description       655\n",
       "Fund_Description           141\n",
       "Job_Title_Description     3455\n",
       "Location_Description       352\n",
       "Object_Description         570\n",
       "Position_Extra             580\n",
       "Program_Description        418\n",
       "SubFund_Description        267\n",
       "Sub_Object_Description     159\n",
       "Text_1                    1389\n",
       "Text_2                     279\n",
       "Text_3                      35\n",
       "Text_4                     240\n",
       "dtype: int64"
      ]
     },
     "execution_count": 9,
     "metadata": {},
     "output_type": "execute_result"
    }
   ],
   "source": [
    "#Check if the unique values decrease\n",
    "training[categoric].nunique(dropna=False)"
   ]
  },
  {
   "cell_type": "code",
   "execution_count": 18,
   "metadata": {},
   "outputs": [],
   "source": [
    "#Convert columns\n",
    "training[categoric] = training[categoric].apply(lambda x: x.astype('object'), axis = 0)"
   ]
  },
  {
   "cell_type": "code",
   "execution_count": 19,
   "metadata": {},
   "outputs": [
    {
     "name": "stdout",
     "output_type": "stream",
     "text": [
      "<class 'pandas.core.frame.DataFrame'>\n",
      "Int64Index: 400277 entries, 134338 to 415831\n",
      "Data columns (total 14 columns):\n",
      "Facility_or_Department    53186 non-null object\n",
      "Function_Description      298676 non-null object\n",
      "Fund_Description          179157 non-null object\n",
      "Job_Title_Description     272317 non-null object\n",
      "Location_Description      155504 non-null object\n",
      "Object_Description        332143 non-null object\n",
      "Position_Extra            244180 non-null object\n",
      "Program_Description       280943 non-null object\n",
      "SubFund_Description       263731 non-null object\n",
      "Sub_Object_Description    70748 non-null object\n",
      "Text_1                    251891 non-null object\n",
      "Text_2                    87431 non-null object\n",
      "Text_3                    108613 non-null object\n",
      "Text_4                    53384 non-null object\n",
      "dtypes: object(14)\n",
      "memory usage: 45.8+ MB\n"
     ]
    }
   ],
   "source": [
    "training[categoric].info()"
   ]
  },
  {
   "cell_type": "markdown",
   "metadata": {},
   "source": [
    "Before removing symbols, let's take a peek on some values and so we can detect the diferrences later\n"
   ]
  },
  {
   "cell_type": "code",
   "execution_count": 20,
   "metadata": {},
   "outputs": [
    {
     "data": {
      "text/plain": [
       "non-project                        True\n",
       "instruction                        True\n",
       "unalloc budgets/schools            True\n",
       "basic (fefp k-12)                 False\n",
       "employee retirement               False\n",
       "ela e-teaching sheltered eng      False\n",
       "Name: Function_Description, dtype: bool"
      ]
     },
     "execution_count": 20,
     "metadata": {},
     "output_type": "execute_result"
    }
   ],
   "source": [
    "some_functions = training['Function_Description'].value_counts(normalize=True) > 0.05\n",
    "some_functions.head(6)"
   ]
  },
  {
   "cell_type": "code",
   "execution_count": 21,
   "metadata": {},
   "outputs": [],
   "source": [
    "# Remove symbols\n",
    "'''for category in categoric:\n",
    "    training[category] = training[category].str.replace(r\"[&/\\)('\\\"-.,]\",\"\")'''\n",
    "vec = HashingVectorizer(token_pattern=\"[A-Za-z0-9]+(?=\\\\s+)\", ngram_range=(1,2))"
   ]
  },
  {
   "cell_type": "code",
   "execution_count": 22,
   "metadata": {},
   "outputs": [
    {
     "data": {
      "text/plain": [
       "non-project                       0.191686\n",
       "instruction                       0.128882\n",
       "unalloc budgets/schools           0.055458\n",
       "basic (fefp k-12)                 0.044473\n",
       "employee retirement               0.043723\n",
       "ela e-teaching sheltered eng      0.021093\n",
       "Name: Function_Description, dtype: float64"
      ]
     },
     "execution_count": 22,
     "metadata": {},
     "output_type": "execute_result"
    }
   ],
   "source": [
    "training['Function_Description'].value_counts(normalize=True).head(6)"
   ]
  },
  {
   "cell_type": "code",
   "execution_count": 23,
   "metadata": {},
   "outputs": [],
   "source": [
    "training[categoric] = training[categoric].fillna(\"\")"
   ]
  },
  {
   "cell_type": "code",
   "execution_count": 24,
   "metadata": {},
   "outputs": [
    {
     "data": {
      "text/plain": [
       "0"
      ]
     },
     "execution_count": 24,
     "metadata": {},
     "output_type": "execute_result"
    }
   ],
   "source": [
    "training['Function_Description'].isnull().sum()"
   ]
  },
  {
   "cell_type": "code",
   "execution_count": 29,
   "metadata": {},
   "outputs": [],
   "source": [
    "# Join all text items in a row that have a space in between\n",
    "text_data = training[categoric].apply(lambda x: \" \".join(x), axis = 1)"
   ]
  },
  {
   "cell_type": "code",
   "execution_count": 31,
   "metadata": {
    "collapsed": true
   },
   "outputs": [
    {
     "data": {
      "text/plain": [
       "134338      general fund teacher-elementary    kindergar...\n",
       "206341     rgn  gob  (blank)  contractor services undesi...\n",
       "326408      general purpose school tcher 2nd grade  pers...\n",
       "364634     unalloc budgets/schools  teacher, short term ...\n",
       "47683      non-project  teacher, secondary (high)   teac...\n",
       "229958                                                     \n",
       "417668      local fund   educational supplies and materi...\n",
       "126378     non-project  sub manager, food service  distr...\n",
       "275539     ela s - teaching spanish only  teacher, eleme...\n",
       "85262      unalloc budgets/schools  teacher,retrd shrt t...\n",
       "304569                                                     \n",
       "330504     instruction general fund   supplies  primary ...\n",
       "84272     position control pools  general purpose school...\n",
       "64760                                                      \n",
       "21870      basic (fefp k-12)              conversion cha...\n",
       "18698     all campus payroll instruction general operati...\n",
       "169454     basic (fefp k-12)              general fund  ...\n",
       "169914     security services general admin lieutenant co...\n",
       "189701     non-project  (blank)  electricity undesignate...\n",
       "43727                                                      \n",
       "5614       direction of support services - pupils * spec...\n",
       "291539     unalloc budgets/schools  teacher, short term ...\n",
       "307038     disadvantaged youth * title i - disadvantaged...\n",
       "27645      guidance services              conversion cha...\n",
       "126388      general purpose school   personal services -...\n",
       "14962       school federal projects tcher english (secon...\n",
       "84040                                                      \n",
       "61639      core matters  teacher, short term sub   emplo...\n",
       "266302     ela e-teaching sheltered eng  teacher, elemen...\n",
       "225768    transportation department transportation gener...\n",
       "                                ...                        \n",
       "333748     psychological services * general psychologist...\n",
       "292626    new construction department administration fac...\n",
       "343458     unalloc budgets/schools  teacher, super sub d...\n",
       "128261     special ed. - severe needs  teacher,spec ed c...\n",
       "186318     ela s - teaching spanish only  teacher, eleme...\n",
       "210652    teacher supply  school federal projects   pers...\n",
       "340354     title iii  ela  ela general assignment   empl...\n",
       "435205     read to achieve round three  teacher, element...\n",
       "174827     title i  ela general assignment   salaries of...\n",
       "277504                                                     \n",
       "248062    vocational curriculum development and instruct...\n",
       "70455      basic (fefp k-12)              conversion cha...\n",
       "203453     staff services                 extended learn...\n",
       "58170       school federal projects   personal services ...\n",
       "72072       general purpose school assistant principal -...\n",
       "68311      title ii-part a-teacher qualit  teacher, elem...\n",
       "225892     ela e-teaching sheltered eng  teacher, elemen...\n",
       "446383                                                     \n",
       "155111    transportation department transportation gener...\n",
       "278248     instruction general fund   supplies  primary ...\n",
       "397424     ns  gob  secondary spec ed para   additional/...\n",
       "375092      general purpose school   personal services -...\n",
       "220181    child nutrition food services (child nutrition...\n",
       "307423                                                     \n",
       "46691      title ii-part a-teacher qualit  teacher, elem...\n",
       "109283     inst staff training svcs       general fund  ...\n",
       "102430     title ii,d  teacher,retrd shrt term sub   sal...\n",
       "413949      schoolwide schools school liaison   parent/t...\n",
       "433672     non-project  library technician ii  ed resour...\n",
       "415831    instruction and curriculum instruction \"title ...\n",
       "Length: 400277, dtype: object"
      ]
     },
     "execution_count": 31,
     "metadata": {},
     "output_type": "execute_result"
    }
   ],
   "source": [
    "text_data"
   ]
  },
  {
   "cell_type": "code",
   "execution_count": 36,
   "metadata": {},
   "outputs": [],
   "source": [
    "hec = HashingVectorizer(token_pattern=\"[A-Za-z0-9]+(?=\\\\s+)\", norm=None, binary=False,\n",
    "                                                     ngram_range=(1,2))\n",
    "hashed_text = hec.fit_transform(text_data)"
   ]
  },
  {
   "cell_type": "code",
   "execution_count": 35,
   "metadata": {},
   "outputs": [
    {
     "name": "stdout",
     "output_type": "stream",
     "text": [
      "<class 'pandas.core.frame.DataFrame'>\n",
      "RangeIndex: 5221742 entries, 0 to 5221741\n",
      "Data columns (total 1 columns):\n",
      "0    float64\n",
      "dtypes: float64(1)\n",
      "memory usage: 39.8 MB\n",
      "None\n"
     ]
    }
   ],
   "source": [
    "hashed_df = pd.DataFrame(hashed_text.data)\n",
    "print(hashed_df.info()"
   ]
  },
  {
   "cell_type": "code",
   "execution_count": 37,
   "metadata": {},
   "outputs": [
    {
     "data": {
      "text/html": [
       "<div>\n",
       "<style scoped>\n",
       "    .dataframe tbody tr th:only-of-type {\n",
       "        vertical-align: middle;\n",
       "    }\n",
       "\n",
       "    .dataframe tbody tr th {\n",
       "        vertical-align: top;\n",
       "    }\n",
       "\n",
       "    .dataframe thead th {\n",
       "        text-align: right;\n",
       "    }\n",
       "</style>\n",
       "<table border=\"1\" class=\"dataframe\">\n",
       "  <thead>\n",
       "    <tr style=\"text-align: right;\">\n",
       "      <th></th>\n",
       "      <th>0</th>\n",
       "    </tr>\n",
       "  </thead>\n",
       "  <tbody>\n",
       "    <tr>\n",
       "      <th>0</th>\n",
       "      <td>0.377964</td>\n",
       "    </tr>\n",
       "    <tr>\n",
       "      <th>1</th>\n",
       "      <td>0.755929</td>\n",
       "    </tr>\n",
       "    <tr>\n",
       "      <th>2</th>\n",
       "      <td>0.377964</td>\n",
       "    </tr>\n",
       "    <tr>\n",
       "      <th>3</th>\n",
       "      <td>0.377964</td>\n",
       "    </tr>\n",
       "    <tr>\n",
       "      <th>4</th>\n",
       "      <td>0.182574</td>\n",
       "    </tr>\n",
       "    <tr>\n",
       "      <th>5</th>\n",
       "      <td>-0.182574</td>\n",
       "    </tr>\n",
       "    <tr>\n",
       "      <th>6</th>\n",
       "      <td>-0.182574</td>\n",
       "    </tr>\n",
       "    <tr>\n",
       "      <th>7</th>\n",
       "      <td>-0.365148</td>\n",
       "    </tr>\n",
       "    <tr>\n",
       "      <th>8</th>\n",
       "      <td>0.182574</td>\n",
       "    </tr>\n",
       "    <tr>\n",
       "      <th>9</th>\n",
       "      <td>0.182574</td>\n",
       "    </tr>\n",
       "    <tr>\n",
       "      <th>10</th>\n",
       "      <td>0.182574</td>\n",
       "    </tr>\n",
       "    <tr>\n",
       "      <th>11</th>\n",
       "      <td>-0.182574</td>\n",
       "    </tr>\n",
       "    <tr>\n",
       "      <th>12</th>\n",
       "      <td>-0.547723</td>\n",
       "    </tr>\n",
       "    <tr>\n",
       "      <th>13</th>\n",
       "      <td>0.547723</td>\n",
       "    </tr>\n",
       "    <tr>\n",
       "      <th>14</th>\n",
       "      <td>0.182574</td>\n",
       "    </tr>\n",
       "    <tr>\n",
       "      <th>15</th>\n",
       "      <td>0.258199</td>\n",
       "    </tr>\n",
       "    <tr>\n",
       "      <th>16</th>\n",
       "      <td>0.258199</td>\n",
       "    </tr>\n",
       "    <tr>\n",
       "      <th>17</th>\n",
       "      <td>-0.258199</td>\n",
       "    </tr>\n",
       "    <tr>\n",
       "      <th>18</th>\n",
       "      <td>-0.258199</td>\n",
       "    </tr>\n",
       "    <tr>\n",
       "      <th>19</th>\n",
       "      <td>-0.258199</td>\n",
       "    </tr>\n",
       "    <tr>\n",
       "      <th>20</th>\n",
       "      <td>0.258199</td>\n",
       "    </tr>\n",
       "    <tr>\n",
       "      <th>21</th>\n",
       "      <td>0.258199</td>\n",
       "    </tr>\n",
       "    <tr>\n",
       "      <th>22</th>\n",
       "      <td>-0.258199</td>\n",
       "    </tr>\n",
       "    <tr>\n",
       "      <th>23</th>\n",
       "      <td>0.258199</td>\n",
       "    </tr>\n",
       "    <tr>\n",
       "      <th>24</th>\n",
       "      <td>-0.258199</td>\n",
       "    </tr>\n",
       "    <tr>\n",
       "      <th>25</th>\n",
       "      <td>0.258199</td>\n",
       "    </tr>\n",
       "    <tr>\n",
       "      <th>26</th>\n",
       "      <td>0.516398</td>\n",
       "    </tr>\n",
       "    <tr>\n",
       "      <th>27</th>\n",
       "      <td>0.417029</td>\n",
       "    </tr>\n",
       "    <tr>\n",
       "      <th>28</th>\n",
       "      <td>-0.208514</td>\n",
       "    </tr>\n",
       "    <tr>\n",
       "      <th>29</th>\n",
       "      <td>0.208514</td>\n",
       "    </tr>\n",
       "    <tr>\n",
       "      <th>...</th>\n",
       "      <td>...</td>\n",
       "    </tr>\n",
       "    <tr>\n",
       "      <th>5221712</th>\n",
       "      <td>-0.179605</td>\n",
       "    </tr>\n",
       "    <tr>\n",
       "      <th>5221713</th>\n",
       "      <td>-0.179605</td>\n",
       "    </tr>\n",
       "    <tr>\n",
       "      <th>5221714</th>\n",
       "      <td>0.538816</td>\n",
       "    </tr>\n",
       "    <tr>\n",
       "      <th>5221715</th>\n",
       "      <td>-0.251976</td>\n",
       "    </tr>\n",
       "    <tr>\n",
       "      <th>5221716</th>\n",
       "      <td>-0.251976</td>\n",
       "    </tr>\n",
       "    <tr>\n",
       "      <th>5221717</th>\n",
       "      <td>0.251976</td>\n",
       "    </tr>\n",
       "    <tr>\n",
       "      <th>5221718</th>\n",
       "      <td>-0.125988</td>\n",
       "    </tr>\n",
       "    <tr>\n",
       "      <th>5221719</th>\n",
       "      <td>-0.125988</td>\n",
       "    </tr>\n",
       "    <tr>\n",
       "      <th>5221720</th>\n",
       "      <td>-0.251976</td>\n",
       "    </tr>\n",
       "    <tr>\n",
       "      <th>5221721</th>\n",
       "      <td>0.251976</td>\n",
       "    </tr>\n",
       "    <tr>\n",
       "      <th>5221722</th>\n",
       "      <td>-0.125988</td>\n",
       "    </tr>\n",
       "    <tr>\n",
       "      <th>5221723</th>\n",
       "      <td>-0.125988</td>\n",
       "    </tr>\n",
       "    <tr>\n",
       "      <th>5221724</th>\n",
       "      <td>0.251976</td>\n",
       "    </tr>\n",
       "    <tr>\n",
       "      <th>5221725</th>\n",
       "      <td>0.251976</td>\n",
       "    </tr>\n",
       "    <tr>\n",
       "      <th>5221726</th>\n",
       "      <td>0.125988</td>\n",
       "    </tr>\n",
       "    <tr>\n",
       "      <th>5221727</th>\n",
       "      <td>-0.503953</td>\n",
       "    </tr>\n",
       "    <tr>\n",
       "      <th>5221728</th>\n",
       "      <td>-0.125988</td>\n",
       "    </tr>\n",
       "    <tr>\n",
       "      <th>5221729</th>\n",
       "      <td>0.125988</td>\n",
       "    </tr>\n",
       "    <tr>\n",
       "      <th>5221730</th>\n",
       "      <td>-0.125988</td>\n",
       "    </tr>\n",
       "    <tr>\n",
       "      <th>5221731</th>\n",
       "      <td>-0.125988</td>\n",
       "    </tr>\n",
       "    <tr>\n",
       "      <th>5221732</th>\n",
       "      <td>0.125988</td>\n",
       "    </tr>\n",
       "    <tr>\n",
       "      <th>5221733</th>\n",
       "      <td>0.125988</td>\n",
       "    </tr>\n",
       "    <tr>\n",
       "      <th>5221734</th>\n",
       "      <td>0.125988</td>\n",
       "    </tr>\n",
       "    <tr>\n",
       "      <th>5221735</th>\n",
       "      <td>-0.125988</td>\n",
       "    </tr>\n",
       "    <tr>\n",
       "      <th>5221736</th>\n",
       "      <td>-0.125988</td>\n",
       "    </tr>\n",
       "    <tr>\n",
       "      <th>5221737</th>\n",
       "      <td>-0.125988</td>\n",
       "    </tr>\n",
       "    <tr>\n",
       "      <th>5221738</th>\n",
       "      <td>0.125988</td>\n",
       "    </tr>\n",
       "    <tr>\n",
       "      <th>5221739</th>\n",
       "      <td>-0.125988</td>\n",
       "    </tr>\n",
       "    <tr>\n",
       "      <th>5221740</th>\n",
       "      <td>-0.125988</td>\n",
       "    </tr>\n",
       "    <tr>\n",
       "      <th>5221741</th>\n",
       "      <td>-0.125988</td>\n",
       "    </tr>\n",
       "  </tbody>\n",
       "</table>\n",
       "<p>5221742 rows × 1 columns</p>\n",
       "</div>"
      ],
      "text/plain": [
       "                0\n",
       "0        0.377964\n",
       "1        0.755929\n",
       "2        0.377964\n",
       "3        0.377964\n",
       "4        0.182574\n",
       "5       -0.182574\n",
       "6       -0.182574\n",
       "7       -0.365148\n",
       "8        0.182574\n",
       "9        0.182574\n",
       "10       0.182574\n",
       "11      -0.182574\n",
       "12      -0.547723\n",
       "13       0.547723\n",
       "14       0.182574\n",
       "15       0.258199\n",
       "16       0.258199\n",
       "17      -0.258199\n",
       "18      -0.258199\n",
       "19      -0.258199\n",
       "20       0.258199\n",
       "21       0.258199\n",
       "22      -0.258199\n",
       "23       0.258199\n",
       "24      -0.258199\n",
       "25       0.258199\n",
       "26       0.516398\n",
       "27       0.417029\n",
       "28      -0.208514\n",
       "29       0.208514\n",
       "...           ...\n",
       "5221712 -0.179605\n",
       "5221713 -0.179605\n",
       "5221714  0.538816\n",
       "5221715 -0.251976\n",
       "5221716 -0.251976\n",
       "5221717  0.251976\n",
       "5221718 -0.125988\n",
       "5221719 -0.125988\n",
       "5221720 -0.251976\n",
       "5221721  0.251976\n",
       "5221722 -0.125988\n",
       "5221723 -0.125988\n",
       "5221724  0.251976\n",
       "5221725  0.251976\n",
       "5221726  0.125988\n",
       "5221727 -0.503953\n",
       "5221728 -0.125988\n",
       "5221729  0.125988\n",
       "5221730 -0.125988\n",
       "5221731 -0.125988\n",
       "5221732  0.125988\n",
       "5221733  0.125988\n",
       "5221734  0.125988\n",
       "5221735 -0.125988\n",
       "5221736 -0.125988\n",
       "5221737 -0.125988\n",
       "5221738  0.125988\n",
       "5221739 -0.125988\n",
       "5221740 -0.125988\n",
       "5221741 -0.125988\n",
       "\n",
       "[5221742 rows x 1 columns]"
      ]
     },
     "execution_count": 37,
     "metadata": {},
     "output_type": "execute_result"
    }
   ],
   "source": [
    "hashed_df"
   ]
  }
 ],
 "metadata": {
  "kernelspec": {
   "display_name": "Python 3",
   "language": "python",
   "name": "python3"
  },
  "language_info": {
   "codemirror_mode": {
    "name": "ipython",
    "version": 3
   },
   "file_extension": ".py",
   "mimetype": "text/x-python",
   "name": "python",
   "nbconvert_exporter": "python",
   "pygments_lexer": "ipython3",
   "version": "3.6.5"
  }
 },
 "nbformat": 4,
 "nbformat_minor": 2
}
