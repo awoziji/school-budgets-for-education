{
  "nbformat": 4,
  "nbformat_minor": 0,
  "metadata": {
    "colab": {
      "name": "Supervisionados.ipynb",
      "version": "0.3.2",
      "provenance": [],
      "collapsed_sections": []
    },
    "language_info": {
      "codemirror_mode": {
        "name": "ipython",
        "version": 3
      },
      "file_extension": ".py",
      "mimetype": "text/x-python",
      "name": "python",
      "nbconvert_exporter": "python",
      "pygments_lexer": "ipython3",
      "version": "3.6.5"
    },
    "kernelspec": {
      "name": "python3",
      "display_name": "Python 3"
    },
    "accelerator": "GPU"
  },
  "cells": [
    {
      "cell_type": "code",
      "metadata": {
        "colab_type": "code",
        "id": "SRi3OITJrHGd",
        "colab": {}
      },
      "source": [
        "import tensorflow as tf\n",
        "import pandas as pd\n",
        "import numpy as np\n",
        "import time\n",
        "\n",
        "#Visualization tools\n",
        "from matplotlib import pyplot as plt\n",
        "import seaborn as sns; sns.set()\n",
        "import itertools\n",
        "\n",
        "#ML steps structure\n",
        "from sklearn.pipeline import FeatureUnion, Pipeline\n",
        "\n",
        "#Preprocessing\n",
        "from sklearn.preprocessing import FunctionTransformer, MinMaxScaler\n",
        "from sklearn.feature_extraction.text import HashingVectorizer, CountVectorizer\n",
        "from sklearn.base import TransformerMixin\n",
        "from imblearn.under_sampling import RandomUnderSampler\n",
        "\n",
        "#Dimensionality reduction\n",
        "from sklearn.decomposition import TruncatedSVD\n",
        "\n",
        "#Model Validation\n",
        "from sklearn.model_selection import train_test_split, cross_val_score, cross_val_predict\n",
        "from sklearn.metrics import confusion_matrix, accuracy_score, classification_report, silhouette_score, davies_bouldin_score\n",
        "from sklearn.metrics.cluster import adjusted_rand_score\n",
        "\n",
        "#Model selected\n",
        "from sklearn.cluster import KMeans #KMeans\n",
        "from sklearn.mixture import GaussianMixture #EM"
      ],
      "execution_count": 0,
      "outputs": []
    },
    {
      "cell_type": "code",
      "metadata": {
        "colab_type": "code",
        "id": "71F8c2fsrHGl",
        "colab": {}
      },
      "source": [
        "#Read the data using the Unnamed (probably id) as index\n",
        "url = 'https://s3.amazonaws.com/drivendata/data/4/public/81e8f2de-9915-4934-b9ae-9705685c9d50.csv'\n",
        "training = pd.read_csv(url, index_col='Unnamed: 0')\n",
        "\n",
        "labels = ['Function', 'Object_Type', 'Operating_Status', 'Position_Type', 'Pre_K', 'Reporting', \n",
        "          'Sharing', 'Student_Type', 'Use']\n",
        "\n",
        "numeric = ['FTE', 'Total']\n",
        "\n",
        "categoric = [ 'Facility_or_Department', 'Function_Description', \n",
        "            'Fund_Description', 'Job_Title_Description', 'Location_Description', \n",
        "            'Object_Description', 'Position_Extra', 'Program_Description', 'SubFund_Description', \n",
        "            'Sub_Object_Description', \n",
        "            'Text_1', 'Text_2', 'Text_3', 'Text_4']"
      ],
      "execution_count": 0,
      "outputs": []
    },
    {
      "cell_type": "markdown",
      "metadata": {
        "colab_type": "text",
        "id": "iBuZgSpSrHGz"
      },
      "source": [
        "## Pre-Processing"
      ]
    },
    {
      "cell_type": "code",
      "metadata": {
        "colab_type": "code",
        "id": "wy1Zx5fwrHHe",
        "colab": {}
      },
      "source": [
        "#Imputing data in Total column\n",
        "def impute_func_total(data):\n",
        "    if(pd.isnull(data['Total'])):        \n",
        "        if(data['Object_Type'] == 'Base Salary/Compensation'):\n",
        "            return 24146\n",
        "        if(data['Object_Type'] == 'Benefits'):\n",
        "            return 38163\n",
        "        if(data['Object_Type'] == 'Contracted Services'):\n",
        "            return 24146\n",
        "        if(data['Object_Type'] == 'Equipment & Equipment Lease'):\n",
        "            return 11257\n",
        "        if(data['Object_Type'] == 'NO_LABEL'):\n",
        "            return 58545\n",
        "        if(data['Object_Type'] == 'Other Compensation/Stipend'):\n",
        "            return 1605\n",
        "        if(data['Object_Type'] == 'Other Non-Compensation'):\n",
        "            return 10646\n",
        "        if(data['Object_Type'] == 'Rent/Utilities'):\n",
        "            return 46611\n",
        "        if(data['Object_Type'] == 'Substitute Compensation'):\n",
        "            return 1090\n",
        "        if(data['Object_Type'] == 'Supplies/Materials'):\n",
        "            return 7745\n",
        "        if(data['Object_Type'] == 'Travel & Conferences'):\n",
        "            return 1659\n",
        "    else:\n",
        "        return data['Total']"
      ],
      "execution_count": 0,
      "outputs": []
    },
    {
      "cell_type": "code",
      "metadata": {
        "colab_type": "code",
        "id": "fbKnXV9RrHIX",
        "colab": {}
      },
      "source": [
        "#Imputing data in FTE column\n",
        "def impute_func_FTE(data):\n",
        "    if(pd.isnull(data['FTE'])):        \n",
        "        if(data['Object_Type'] == 'Base Salary/Compensation'):\n",
        "            return 0.45\n",
        "        if(data['Object_Type'] == 'Benefits'):\n",
        "            return 0.0\n",
        "        if(data['Object_Type'] == 'Contracted Services'):\n",
        "            return 0.0\n",
        "        if(data['Object_Type'] == 'Equipment & Equipment Lease'):\n",
        "            return 0.0\n",
        "        if(data['Object_Type'] == 'NO_LABEL'):\n",
        "            return 0.75\n",
        "        if(data['Object_Type'] == 'Other Compensation/Stipend'):\n",
        "            return 0.000107\n",
        "        if(data['Object_Type'] == 'Other Non-Compensation'):\n",
        "            return 0.0\n",
        "        if(data['Object_Type'] == 'Rent/Utilities'):\n",
        "            return 0.0\n",
        "        if(data['Object_Type'] == 'Substitute Compensation'):\n",
        "            return 0.000059\n",
        "        if(data['Object_Type'] == 'Supplies/Materials'):\n",
        "            return 0.0\n",
        "        if(data['Object_Type'] == 'Travel & Conferences'):\n",
        "            return 0.0\n",
        "    else:\n",
        "        return data['FTE']"
      ],
      "execution_count": 0,
      "outputs": []
    },
    {
      "cell_type": "code",
      "metadata": {
        "colab_type": "code",
        "id": "JuVDA5sarHG2",
        "colab": {}
      },
      "source": [
        "def preProcessing(training):\n",
        "    # Remove inconsistent data\n",
        "    training.loc[(training['FTE'] < 0) | (training['FTE'] > 1), 'FTE'] = np.nan\n",
        "    training.loc[training['Total'] < 0, 'Total'] = np.nan\n",
        "    \n",
        "    training['Total'] = training.apply(impute_func_total, axis = 1)\n",
        "    \n",
        "    training['FTE'] = training.apply(impute_func_FTE, axis = 1)\n",
        "    \n",
        "    for category in categoric:\n",
        "        training[category] = training[category].str.lower()\n",
        "    \n",
        "    training[categoric] = training[categoric].fillna(\"\")\n",
        "    \n",
        "    return training"
      ],
      "execution_count": 0,
      "outputs": []
    },
    {
      "cell_type": "code",
      "metadata": {
        "id": "rZnuRK10C3r9",
        "colab_type": "code",
        "colab": {}
      },
      "source": [
        "df_training = preProcessing(training)\n",
        "df_training = df_training.reset_index(drop = True)"
      ],
      "execution_count": 0,
      "outputs": []
    },
    {
      "cell_type": "code",
      "metadata": {
        "id": "LHvukaLRq9Hx",
        "colab_type": "code",
        "colab": {}
      },
      "source": [
        "DataSet = df_training.drop(columns=labels)\n",
        "labels_data = pd.get_dummies(df_training['Object_Type'])"
      ],
      "execution_count": 0,
      "outputs": []
    },
    {
      "cell_type": "code",
      "metadata": {
        "id": "7kT-l9dXRQsf",
        "colab_type": "code",
        "colab": {}
      },
      "source": [
        "col_names = list(range(0,11))\n",
        "labels_data.columns = col_names\n",
        "labels_data = labels_data.idxmax(axis=1)"
      ],
      "execution_count": 0,
      "outputs": []
    },
    {
      "cell_type": "code",
      "metadata": {
        "id": "MNFYoNFtQxTz",
        "colab_type": "code",
        "outputId": "934c7d8d-e45c-42cf-d700-3856c835ba76",
        "colab": {
          "base_uri": "https://localhost:8080/",
          "height": 34
        }
      },
      "source": [
        "labels_data.values"
      ],
      "execution_count": 0,
      "outputs": [
        {
          "output_type": "execute_result",
          "data": {
            "text/plain": [
              "array([4, 4, 0, ..., 4, 1, 8])"
            ]
          },
          "metadata": {
            "tags": []
          },
          "execution_count": 10
        }
      ]
    },
    {
      "cell_type": "markdown",
      "metadata": {
        "id": "krL_rVyAC3sU",
        "colab_type": "text"
      },
      "source": [
        "## Pipeline"
      ]
    },
    {
      "cell_type": "code",
      "metadata": {
        "id": "VgYa4pUZC3sM",
        "colab_type": "code",
        "colab": {}
      },
      "source": [
        "def combine_text_columns(dataset):\n",
        "    return dataset[categoric].apply(lambda x: \" \".join(x), axis = 1)\n",
        "\n",
        "get_text_data = FunctionTransformer(combine_text_columns, validate = False)"
      ],
      "execution_count": 0,
      "outputs": []
    },
    {
      "cell_type": "code",
      "metadata": {
        "id": "CEV9NhgT0qyY",
        "colab_type": "code",
        "colab": {}
      },
      "source": [
        "def combine_numeric_columns(dataset):\n",
        "    return dataset[numeric]\n",
        "\n",
        "get_numeric_data = FunctionTransformer(combine_numeric_columns, validate = False)"
      ],
      "execution_count": 0,
      "outputs": []
    },
    {
      "cell_type": "code",
      "metadata": {
        "id": "CCbwL7fJ0N8M",
        "colab_type": "code",
        "colab": {}
      },
      "source": [
        "pl = Pipeline([\n",
        "        ('union', FeatureUnion(\n",
        "            transformer_list = [\n",
        "                ('numeric_features', Pipeline([\n",
        "                    ('selector', get_numeric_data),\n",
        "                ])),\n",
        "                ('text_features', Pipeline([\n",
        "                    ('selector', get_text_data),\n",
        "                    ('vectorizer',HashingVectorizer(token_pattern=\"[A-Za-z0-9]+(?=\\\\s+)\", \n",
        "                                                    norm=None, \n",
        "                                                    binary=False,\n",
        "                                                    ngram_range=(1,2), stop_words = 'english') \n",
        "                    )\n",
        "                ]))\n",
        "             ]\n",
        "        )),\n",
        "        ('reduce_dim', TruncatedSVD(n_components = 100)),             \n",
        "    ])"
      ],
      "execution_count": 0,
      "outputs": []
    },
    {
      "cell_type": "code",
      "metadata": {
        "id": "IS2adtuR02RN",
        "colab_type": "code",
        "colab": {}
      },
      "source": [
        "sdv_data = pl.fit_transform(DataSet, labels_data)"
      ],
      "execution_count": 0,
      "outputs": []
    },
    {
      "cell_type": "code",
      "metadata": {
        "id": "1UTR5U0rERbT",
        "colab_type": "code",
        "colab": {}
      },
      "source": [
        "rus = RandomUnderSampler()\n",
        "DS_resampled, labels_resampled = rus.fit_resample(sdv_data, labels_data)"
      ],
      "execution_count": 0,
      "outputs": []
    },
    {
      "cell_type": "markdown",
      "metadata": {
        "id": "9bjblhNYq3Vf",
        "colab_type": "text"
      },
      "source": [
        "## KMeans\n"
      ]
    },
    {
      "cell_type": "code",
      "metadata": {
        "id": "QjAmwkgbx1xE",
        "colab_type": "code",
        "colab": {}
      },
      "source": [
        "#kmeans = KMeans(n_clusters=2, random_state=10)"
      ],
      "execution_count": 0,
      "outputs": []
    },
    {
      "cell_type": "code",
      "metadata": {
        "id": "flR244cffRBW",
        "colab_type": "code",
        "colab": {}
      },
      "source": [
        "#cluster_labels = kmeans.fit_predict(DS_resampled)"
      ],
      "execution_count": 0,
      "outputs": []
    },
    {
      "cell_type": "code",
      "metadata": {
        "id": "n9FYF3ZFPgYL",
        "colab_type": "code",
        "colab": {}
      },
      "source": [
        "#slt_score = silhouette_score(DS_resampled, cluster_labels, metric='euclidean')"
      ],
      "execution_count": 0,
      "outputs": []
    },
    {
      "cell_type": "code",
      "metadata": {
        "id": "mjw2-aXMGHBv",
        "colab_type": "code",
        "outputId": "6878d66e-9115-40b4-a21c-3a47f804ead3",
        "colab": {
          "base_uri": "https://localhost:8080/",
          "height": 6004
        }
      },
      "source": [
        "k_values = []\n",
        "silhouette_scores = []\n",
        "db_scores = []\n",
        "cr_scores = []\n",
        "\n",
        "seeds = [10, 20, 40, 80, 120]\n",
        "\n",
        "for k in range(2, 21):\n",
        "  \n",
        "  silhouette_avg = []\n",
        "  db_avg = []\n",
        "  cr_avg = []\n",
        "  \n",
        "  for seed in seeds:\n",
        "    kmeans = KMeans(n_clusters= k, random_state=seed)\n",
        "\n",
        "    #fit model to data\n",
        "    cluster_labels = kmeans.fit_predict(DS_resampled)\n",
        "\n",
        "    slt_score = silhouette_score(DS_resampled, cluster_labels)\n",
        "    silhouette_avg.append(slt_score)\n",
        "    \n",
        "    db_score = davies_bouldin_score(DS_resampled, cluster_labels)\n",
        "    db_avg.append(db_score)\n",
        "    \n",
        "    cr_score = adjusted_rand_score(labels_resampled, cluster_labels)\n",
        "    cr_avg.append(cr_score) \n",
        "  \n",
        "  #Set metrics values\n",
        "  print(\"For n_clusters = {}, The average silhouette_score is : {}\".format(k, np.mean(silhouette_avg)))\n",
        "  print(\"For n_clusters = {}, The average db_score is : {}\".format(k, np.mean(db_avg)))\n",
        "  print(\"For n_clusters = {}, The average cr_score is : {}\".format(k, np.mean(cr_avg)))\n",
        "    \n",
        "  # Append the results\n",
        "  k_values.append(k)\n",
        "  silhouette_scores.append(np.mean(silhouette_avg))\n",
        "  db_scores.append(np.mean(db_avg))\n",
        "  cr_scores.append(np.mean(cr_avg))"
      ],
      "execution_count": 0,
      "outputs": [
        {
          "output_type": "stream",
          "text": [
            "/usr/local/lib/python3.6/dist-packages/sklearn/metrics/cluster/unsupervised.py:342: RuntimeWarning: divide by zero encountered in true_divide\n",
            "  score = (intra_dists[:, None] + intra_dists) / centroid_distances\n",
            "/usr/local/lib/python3.6/dist-packages/sklearn/metrics/cluster/unsupervised.py:342: RuntimeWarning: divide by zero encountered in true_divide\n",
            "  score = (intra_dists[:, None] + intra_dists) / centroid_distances\n",
            "/usr/local/lib/python3.6/dist-packages/sklearn/metrics/cluster/unsupervised.py:342: RuntimeWarning: divide by zero encountered in true_divide\n",
            "  score = (intra_dists[:, None] + intra_dists) / centroid_distances\n",
            "/usr/local/lib/python3.6/dist-packages/sklearn/metrics/cluster/unsupervised.py:342: RuntimeWarning: divide by zero encountered in true_divide\n",
            "  score = (intra_dists[:, None] + intra_dists) / centroid_distances\n",
            "/usr/local/lib/python3.6/dist-packages/sklearn/metrics/cluster/unsupervised.py:342: RuntimeWarning: divide by zero encountered in true_divide\n",
            "  score = (intra_dists[:, None] + intra_dists) / centroid_distances\n"
          ],
          "name": "stderr"
        },
        {
          "output_type": "stream",
          "text": [
            "For n_clusters = 2, The average silhouette_score is : 0.9974111158400639\n",
            "For n_clusters = 2, The average db_score is : 0.4183019049162316\n",
            "For n_clusters = 2, The average cr_score is : 9.12536722348962e-08\n"
          ],
          "name": "stdout"
        },
        {
          "output_type": "stream",
          "text": [
            "/usr/local/lib/python3.6/dist-packages/sklearn/metrics/cluster/unsupervised.py:342: RuntimeWarning: divide by zero encountered in true_divide\n",
            "  score = (intra_dists[:, None] + intra_dists) / centroid_distances\n",
            "/usr/local/lib/python3.6/dist-packages/sklearn/metrics/cluster/unsupervised.py:342: RuntimeWarning: divide by zero encountered in true_divide\n",
            "  score = (intra_dists[:, None] + intra_dists) / centroid_distances\n",
            "/usr/local/lib/python3.6/dist-packages/sklearn/metrics/cluster/unsupervised.py:342: RuntimeWarning: divide by zero encountered in true_divide\n",
            "  score = (intra_dists[:, None] + intra_dists) / centroid_distances\n",
            "/usr/local/lib/python3.6/dist-packages/sklearn/metrics/cluster/unsupervised.py:342: RuntimeWarning: divide by zero encountered in true_divide\n",
            "  score = (intra_dists[:, None] + intra_dists) / centroid_distances\n",
            "/usr/local/lib/python3.6/dist-packages/sklearn/metrics/cluster/unsupervised.py:342: RuntimeWarning: divide by zero encountered in true_divide\n",
            "  score = (intra_dists[:, None] + intra_dists) / centroid_distances\n"
          ],
          "name": "stderr"
        },
        {
          "output_type": "stream",
          "text": [
            "For n_clusters = 3, The average silhouette_score is : 0.9946912478456513\n",
            "For n_clusters = 3, The average db_score is : 0.39416820548921266\n",
            "For n_clusters = 3, The average cr_score is : 4.5567998739459916e-07\n"
          ],
          "name": "stdout"
        },
        {
          "output_type": "stream",
          "text": [
            "/usr/local/lib/python3.6/dist-packages/sklearn/metrics/cluster/unsupervised.py:342: RuntimeWarning: divide by zero encountered in true_divide\n",
            "  score = (intra_dists[:, None] + intra_dists) / centroid_distances\n",
            "/usr/local/lib/python3.6/dist-packages/sklearn/metrics/cluster/unsupervised.py:342: RuntimeWarning: divide by zero encountered in true_divide\n",
            "  score = (intra_dists[:, None] + intra_dists) / centroid_distances\n",
            "/usr/local/lib/python3.6/dist-packages/sklearn/metrics/cluster/unsupervised.py:342: RuntimeWarning: divide by zero encountered in true_divide\n",
            "  score = (intra_dists[:, None] + intra_dists) / centroid_distances\n",
            "/usr/local/lib/python3.6/dist-packages/sklearn/metrics/cluster/unsupervised.py:342: RuntimeWarning: divide by zero encountered in true_divide\n",
            "  score = (intra_dists[:, None] + intra_dists) / centroid_distances\n",
            "/usr/local/lib/python3.6/dist-packages/sklearn/metrics/cluster/unsupervised.py:342: RuntimeWarning: divide by zero encountered in true_divide\n",
            "  score = (intra_dists[:, None] + intra_dists) / centroid_distances\n"
          ],
          "name": "stderr"
        },
        {
          "output_type": "stream",
          "text": [
            "For n_clusters = 4, The average silhouette_score is : 0.9914399414433367\n",
            "For n_clusters = 4, The average db_score is : 0.40737074133854206\n",
            "For n_clusters = 4, The average cr_score is : 7.246455638986779e-07\n"
          ],
          "name": "stdout"
        },
        {
          "output_type": "stream",
          "text": [
            "/usr/local/lib/python3.6/dist-packages/sklearn/metrics/cluster/unsupervised.py:342: RuntimeWarning: divide by zero encountered in true_divide\n",
            "  score = (intra_dists[:, None] + intra_dists) / centroid_distances\n",
            "/usr/local/lib/python3.6/dist-packages/sklearn/metrics/cluster/unsupervised.py:342: RuntimeWarning: divide by zero encountered in true_divide\n",
            "  score = (intra_dists[:, None] + intra_dists) / centroid_distances\n",
            "/usr/local/lib/python3.6/dist-packages/sklearn/metrics/cluster/unsupervised.py:342: RuntimeWarning: divide by zero encountered in true_divide\n",
            "  score = (intra_dists[:, None] + intra_dists) / centroid_distances\n",
            "/usr/local/lib/python3.6/dist-packages/sklearn/metrics/cluster/unsupervised.py:342: RuntimeWarning: divide by zero encountered in true_divide\n",
            "  score = (intra_dists[:, None] + intra_dists) / centroid_distances\n",
            "/usr/local/lib/python3.6/dist-packages/sklearn/metrics/cluster/unsupervised.py:342: RuntimeWarning: divide by zero encountered in true_divide\n",
            "  score = (intra_dists[:, None] + intra_dists) / centroid_distances\n"
          ],
          "name": "stderr"
        },
        {
          "output_type": "stream",
          "text": [
            "For n_clusters = 5, The average silhouette_score is : 0.991455035349081\n",
            "For n_clusters = 5, The average db_score is : 0.39885275364504336\n",
            "For n_clusters = 5, The average cr_score is : 7.230477019679999e-07\n"
          ],
          "name": "stdout"
        },
        {
          "output_type": "stream",
          "text": [
            "/usr/local/lib/python3.6/dist-packages/sklearn/metrics/cluster/unsupervised.py:342: RuntimeWarning: divide by zero encountered in true_divide\n",
            "  score = (intra_dists[:, None] + intra_dists) / centroid_distances\n",
            "/usr/local/lib/python3.6/dist-packages/sklearn/metrics/cluster/unsupervised.py:342: RuntimeWarning: divide by zero encountered in true_divide\n",
            "  score = (intra_dists[:, None] + intra_dists) / centroid_distances\n",
            "/usr/local/lib/python3.6/dist-packages/sklearn/metrics/cluster/unsupervised.py:342: RuntimeWarning: divide by zero encountered in true_divide\n",
            "  score = (intra_dists[:, None] + intra_dists) / centroid_distances\n",
            "/usr/local/lib/python3.6/dist-packages/sklearn/metrics/cluster/unsupervised.py:342: RuntimeWarning: divide by zero encountered in true_divide\n",
            "  score = (intra_dists[:, None] + intra_dists) / centroid_distances\n",
            "/usr/local/lib/python3.6/dist-packages/sklearn/metrics/cluster/unsupervised.py:342: RuntimeWarning: divide by zero encountered in true_divide\n",
            "  score = (intra_dists[:, None] + intra_dists) / centroid_distances\n"
          ],
          "name": "stderr"
        },
        {
          "output_type": "stream",
          "text": [
            "For n_clusters = 6, The average silhouette_score is : 0.9691743203652023\n",
            "For n_clusters = 6, The average db_score is : 0.41569263445613813\n",
            "For n_clusters = 6, The average cr_score is : 8.628738470632134e-06\n"
          ],
          "name": "stdout"
        },
        {
          "output_type": "stream",
          "text": [
            "/usr/local/lib/python3.6/dist-packages/sklearn/metrics/cluster/unsupervised.py:342: RuntimeWarning: divide by zero encountered in true_divide\n",
            "  score = (intra_dists[:, None] + intra_dists) / centroid_distances\n",
            "/usr/local/lib/python3.6/dist-packages/sklearn/metrics/cluster/unsupervised.py:342: RuntimeWarning: divide by zero encountered in true_divide\n",
            "  score = (intra_dists[:, None] + intra_dists) / centroid_distances\n",
            "/usr/local/lib/python3.6/dist-packages/sklearn/metrics/cluster/unsupervised.py:342: RuntimeWarning: divide by zero encountered in true_divide\n",
            "  score = (intra_dists[:, None] + intra_dists) / centroid_distances\n",
            "/usr/local/lib/python3.6/dist-packages/sklearn/metrics/cluster/unsupervised.py:342: RuntimeWarning: divide by zero encountered in true_divide\n",
            "  score = (intra_dists[:, None] + intra_dists) / centroid_distances\n",
            "/usr/local/lib/python3.6/dist-packages/sklearn/metrics/cluster/unsupervised.py:342: RuntimeWarning: divide by zero encountered in true_divide\n",
            "  score = (intra_dists[:, None] + intra_dists) / centroid_distances\n"
          ],
          "name": "stderr"
        },
        {
          "output_type": "stream",
          "text": [
            "For n_clusters = 7, The average silhouette_score is : 0.8718577883879226\n",
            "For n_clusters = 7, The average db_score is : 0.4532027127324632\n",
            "For n_clusters = 7, The average cr_score is : 0.008186298910435541\n"
          ],
          "name": "stdout"
        },
        {
          "output_type": "stream",
          "text": [
            "/usr/local/lib/python3.6/dist-packages/sklearn/metrics/cluster/unsupervised.py:342: RuntimeWarning: divide by zero encountered in true_divide\n",
            "  score = (intra_dists[:, None] + intra_dists) / centroid_distances\n",
            "/usr/local/lib/python3.6/dist-packages/sklearn/metrics/cluster/unsupervised.py:342: RuntimeWarning: divide by zero encountered in true_divide\n",
            "  score = (intra_dists[:, None] + intra_dists) / centroid_distances\n",
            "/usr/local/lib/python3.6/dist-packages/sklearn/metrics/cluster/unsupervised.py:342: RuntimeWarning: divide by zero encountered in true_divide\n",
            "  score = (intra_dists[:, None] + intra_dists) / centroid_distances\n",
            "/usr/local/lib/python3.6/dist-packages/sklearn/metrics/cluster/unsupervised.py:342: RuntimeWarning: divide by zero encountered in true_divide\n",
            "  score = (intra_dists[:, None] + intra_dists) / centroid_distances\n",
            "/usr/local/lib/python3.6/dist-packages/sklearn/metrics/cluster/unsupervised.py:342: RuntimeWarning: divide by zero encountered in true_divide\n",
            "  score = (intra_dists[:, None] + intra_dists) / centroid_distances\n"
          ],
          "name": "stderr"
        },
        {
          "output_type": "stream",
          "text": [
            "For n_clusters = 8, The average silhouette_score is : 0.84843634275819\n",
            "For n_clusters = 8, The average db_score is : 0.41995242177600833\n",
            "For n_clusters = 8, The average cr_score is : 0.010450091103749738\n"
          ],
          "name": "stdout"
        },
        {
          "output_type": "stream",
          "text": [
            "/usr/local/lib/python3.6/dist-packages/sklearn/metrics/cluster/unsupervised.py:342: RuntimeWarning: divide by zero encountered in true_divide\n",
            "  score = (intra_dists[:, None] + intra_dists) / centroid_distances\n",
            "/usr/local/lib/python3.6/dist-packages/sklearn/metrics/cluster/unsupervised.py:342: RuntimeWarning: divide by zero encountered in true_divide\n",
            "  score = (intra_dists[:, None] + intra_dists) / centroid_distances\n",
            "/usr/local/lib/python3.6/dist-packages/sklearn/metrics/cluster/unsupervised.py:342: RuntimeWarning: divide by zero encountered in true_divide\n",
            "  score = (intra_dists[:, None] + intra_dists) / centroid_distances\n",
            "/usr/local/lib/python3.6/dist-packages/sklearn/metrics/cluster/unsupervised.py:342: RuntimeWarning: divide by zero encountered in true_divide\n",
            "  score = (intra_dists[:, None] + intra_dists) / centroid_distances\n",
            "/usr/local/lib/python3.6/dist-packages/sklearn/metrics/cluster/unsupervised.py:342: RuntimeWarning: divide by zero encountered in true_divide\n",
            "  score = (intra_dists[:, None] + intra_dists) / centroid_distances\n"
          ],
          "name": "stderr"
        },
        {
          "output_type": "stream",
          "text": [
            "For n_clusters = 9, The average silhouette_score is : 0.8490128828499219\n",
            "For n_clusters = 9, The average db_score is : 0.43891918909779315\n",
            "For n_clusters = 9, The average cr_score is : 0.01110801383420681\n"
          ],
          "name": "stdout"
        },
        {
          "output_type": "stream",
          "text": [
            "/usr/local/lib/python3.6/dist-packages/sklearn/metrics/cluster/unsupervised.py:342: RuntimeWarning: divide by zero encountered in true_divide\n",
            "  score = (intra_dists[:, None] + intra_dists) / centroid_distances\n",
            "/usr/local/lib/python3.6/dist-packages/sklearn/metrics/cluster/unsupervised.py:342: RuntimeWarning: invalid value encountered in true_divide\n",
            "  score = (intra_dists[:, None] + intra_dists) / centroid_distances\n",
            "/usr/local/lib/python3.6/dist-packages/sklearn/metrics/cluster/unsupervised.py:342: RuntimeWarning: divide by zero encountered in true_divide\n",
            "  score = (intra_dists[:, None] + intra_dists) / centroid_distances\n",
            "/usr/local/lib/python3.6/dist-packages/sklearn/metrics/cluster/unsupervised.py:342: RuntimeWarning: divide by zero encountered in true_divide\n",
            "  score = (intra_dists[:, None] + intra_dists) / centroid_distances\n",
            "/usr/local/lib/python3.6/dist-packages/sklearn/metrics/cluster/unsupervised.py:342: RuntimeWarning: divide by zero encountered in true_divide\n",
            "  score = (intra_dists[:, None] + intra_dists) / centroid_distances\n",
            "/usr/local/lib/python3.6/dist-packages/sklearn/metrics/cluster/unsupervised.py:342: RuntimeWarning: divide by zero encountered in true_divide\n",
            "  score = (intra_dists[:, None] + intra_dists) / centroid_distances\n",
            "/usr/local/lib/python3.6/dist-packages/sklearn/metrics/cluster/unsupervised.py:342: RuntimeWarning: invalid value encountered in true_divide\n",
            "  score = (intra_dists[:, None] + intra_dists) / centroid_distances\n"
          ],
          "name": "stderr"
        },
        {
          "output_type": "stream",
          "text": [
            "For n_clusters = 10, The average silhouette_score is : 0.8514379610701444\n",
            "For n_clusters = 10, The average db_score is : 0.4064039067524208\n",
            "For n_clusters = 10, The average cr_score is : 0.01173108403095618\n"
          ],
          "name": "stdout"
        },
        {
          "output_type": "stream",
          "text": [
            "/usr/local/lib/python3.6/dist-packages/sklearn/metrics/cluster/unsupervised.py:342: RuntimeWarning: divide by zero encountered in true_divide\n",
            "  score = (intra_dists[:, None] + intra_dists) / centroid_distances\n",
            "/usr/local/lib/python3.6/dist-packages/sklearn/metrics/cluster/unsupervised.py:342: RuntimeWarning: invalid value encountered in true_divide\n",
            "  score = (intra_dists[:, None] + intra_dists) / centroid_distances\n",
            "/usr/local/lib/python3.6/dist-packages/sklearn/metrics/cluster/unsupervised.py:342: RuntimeWarning: divide by zero encountered in true_divide\n",
            "  score = (intra_dists[:, None] + intra_dists) / centroid_distances\n",
            "/usr/local/lib/python3.6/dist-packages/sklearn/metrics/cluster/unsupervised.py:342: RuntimeWarning: invalid value encountered in true_divide\n",
            "  score = (intra_dists[:, None] + intra_dists) / centroid_distances\n",
            "/usr/local/lib/python3.6/dist-packages/sklearn/metrics/cluster/unsupervised.py:342: RuntimeWarning: divide by zero encountered in true_divide\n",
            "  score = (intra_dists[:, None] + intra_dists) / centroid_distances\n",
            "/usr/local/lib/python3.6/dist-packages/sklearn/metrics/cluster/unsupervised.py:342: RuntimeWarning: invalid value encountered in true_divide\n",
            "  score = (intra_dists[:, None] + intra_dists) / centroid_distances\n",
            "/usr/local/lib/python3.6/dist-packages/sklearn/metrics/cluster/unsupervised.py:342: RuntimeWarning: divide by zero encountered in true_divide\n",
            "  score = (intra_dists[:, None] + intra_dists) / centroid_distances\n",
            "/usr/local/lib/python3.6/dist-packages/sklearn/metrics/cluster/unsupervised.py:342: RuntimeWarning: invalid value encountered in true_divide\n",
            "  score = (intra_dists[:, None] + intra_dists) / centroid_distances\n",
            "/usr/local/lib/python3.6/dist-packages/sklearn/metrics/cluster/unsupervised.py:342: RuntimeWarning: divide by zero encountered in true_divide\n",
            "  score = (intra_dists[:, None] + intra_dists) / centroid_distances\n",
            "/usr/local/lib/python3.6/dist-packages/sklearn/metrics/cluster/unsupervised.py:342: RuntimeWarning: invalid value encountered in true_divide\n",
            "  score = (intra_dists[:, None] + intra_dists) / centroid_distances\n"
          ],
          "name": "stderr"
        },
        {
          "output_type": "stream",
          "text": [
            "For n_clusters = 11, The average silhouette_score is : 0.85440768014325\n",
            "For n_clusters = 11, The average db_score is : 0.37448943610833807\n",
            "For n_clusters = 11, The average cr_score is : 0.012150646169559406\n"
          ],
          "name": "stdout"
        },
        {
          "output_type": "stream",
          "text": [
            "/usr/local/lib/python3.6/dist-packages/sklearn/metrics/cluster/unsupervised.py:342: RuntimeWarning: divide by zero encountered in true_divide\n",
            "  score = (intra_dists[:, None] + intra_dists) / centroid_distances\n",
            "/usr/local/lib/python3.6/dist-packages/sklearn/metrics/cluster/unsupervised.py:342: RuntimeWarning: invalid value encountered in true_divide\n",
            "  score = (intra_dists[:, None] + intra_dists) / centroid_distances\n",
            "/usr/local/lib/python3.6/dist-packages/sklearn/metrics/cluster/unsupervised.py:342: RuntimeWarning: divide by zero encountered in true_divide\n",
            "  score = (intra_dists[:, None] + intra_dists) / centroid_distances\n",
            "/usr/local/lib/python3.6/dist-packages/sklearn/metrics/cluster/unsupervised.py:342: RuntimeWarning: invalid value encountered in true_divide\n",
            "  score = (intra_dists[:, None] + intra_dists) / centroid_distances\n",
            "/usr/local/lib/python3.6/dist-packages/sklearn/metrics/cluster/unsupervised.py:342: RuntimeWarning: divide by zero encountered in true_divide\n",
            "  score = (intra_dists[:, None] + intra_dists) / centroid_distances\n",
            "/usr/local/lib/python3.6/dist-packages/sklearn/metrics/cluster/unsupervised.py:342: RuntimeWarning: invalid value encountered in true_divide\n",
            "  score = (intra_dists[:, None] + intra_dists) / centroid_distances\n",
            "/usr/local/lib/python3.6/dist-packages/sklearn/metrics/cluster/unsupervised.py:342: RuntimeWarning: divide by zero encountered in true_divide\n",
            "  score = (intra_dists[:, None] + intra_dists) / centroid_distances\n",
            "/usr/local/lib/python3.6/dist-packages/sklearn/metrics/cluster/unsupervised.py:342: RuntimeWarning: invalid value encountered in true_divide\n",
            "  score = (intra_dists[:, None] + intra_dists) / centroid_distances\n",
            "/usr/local/lib/python3.6/dist-packages/sklearn/metrics/cluster/unsupervised.py:342: RuntimeWarning: divide by zero encountered in true_divide\n",
            "  score = (intra_dists[:, None] + intra_dists) / centroid_distances\n",
            "/usr/local/lib/python3.6/dist-packages/sklearn/metrics/cluster/unsupervised.py:342: RuntimeWarning: invalid value encountered in true_divide\n",
            "  score = (intra_dists[:, None] + intra_dists) / centroid_distances\n"
          ],
          "name": "stderr"
        },
        {
          "output_type": "stream",
          "text": [
            "For n_clusters = 12, The average silhouette_score is : 0.8543762128604625\n",
            "For n_clusters = 12, The average db_score is : 0.34109809526694057\n",
            "For n_clusters = 12, The average cr_score is : 0.012141225208881863\n"
          ],
          "name": "stdout"
        },
        {
          "output_type": "stream",
          "text": [
            "/usr/local/lib/python3.6/dist-packages/sklearn/metrics/cluster/unsupervised.py:342: RuntimeWarning: divide by zero encountered in true_divide\n",
            "  score = (intra_dists[:, None] + intra_dists) / centroid_distances\n",
            "/usr/local/lib/python3.6/dist-packages/sklearn/metrics/cluster/unsupervised.py:342: RuntimeWarning: invalid value encountered in true_divide\n",
            "  score = (intra_dists[:, None] + intra_dists) / centroid_distances\n",
            "/usr/local/lib/python3.6/dist-packages/sklearn/metrics/cluster/unsupervised.py:342: RuntimeWarning: divide by zero encountered in true_divide\n",
            "  score = (intra_dists[:, None] + intra_dists) / centroid_distances\n",
            "/usr/local/lib/python3.6/dist-packages/sklearn/metrics/cluster/unsupervised.py:342: RuntimeWarning: invalid value encountered in true_divide\n",
            "  score = (intra_dists[:, None] + intra_dists) / centroid_distances\n",
            "/usr/local/lib/python3.6/dist-packages/sklearn/metrics/cluster/unsupervised.py:342: RuntimeWarning: divide by zero encountered in true_divide\n",
            "  score = (intra_dists[:, None] + intra_dists) / centroid_distances\n",
            "/usr/local/lib/python3.6/dist-packages/sklearn/metrics/cluster/unsupervised.py:342: RuntimeWarning: invalid value encountered in true_divide\n",
            "  score = (intra_dists[:, None] + intra_dists) / centroid_distances\n",
            "/usr/local/lib/python3.6/dist-packages/sklearn/metrics/cluster/unsupervised.py:342: RuntimeWarning: divide by zero encountered in true_divide\n",
            "  score = (intra_dists[:, None] + intra_dists) / centroid_distances\n",
            "/usr/local/lib/python3.6/dist-packages/sklearn/metrics/cluster/unsupervised.py:342: RuntimeWarning: invalid value encountered in true_divide\n",
            "  score = (intra_dists[:, None] + intra_dists) / centroid_distances\n",
            "/usr/local/lib/python3.6/dist-packages/sklearn/metrics/cluster/unsupervised.py:342: RuntimeWarning: divide by zero encountered in true_divide\n",
            "  score = (intra_dists[:, None] + intra_dists) / centroid_distances\n",
            "/usr/local/lib/python3.6/dist-packages/sklearn/metrics/cluster/unsupervised.py:342: RuntimeWarning: invalid value encountered in true_divide\n",
            "  score = (intra_dists[:, None] + intra_dists) / centroid_distances\n"
          ],
          "name": "stderr"
        },
        {
          "output_type": "stream",
          "text": [
            "For n_clusters = 13, The average silhouette_score is : 0.8544412377569017\n",
            "For n_clusters = 13, The average db_score is : 0.32687080973286997\n",
            "For n_clusters = 13, The average cr_score is : 0.012150607763951635\n"
          ],
          "name": "stdout"
        },
        {
          "output_type": "stream",
          "text": [
            "/usr/local/lib/python3.6/dist-packages/sklearn/metrics/cluster/unsupervised.py:342: RuntimeWarning: divide by zero encountered in true_divide\n",
            "  score = (intra_dists[:, None] + intra_dists) / centroid_distances\n",
            "/usr/local/lib/python3.6/dist-packages/sklearn/metrics/cluster/unsupervised.py:342: RuntimeWarning: invalid value encountered in true_divide\n",
            "  score = (intra_dists[:, None] + intra_dists) / centroid_distances\n",
            "/usr/local/lib/python3.6/dist-packages/sklearn/metrics/cluster/unsupervised.py:342: RuntimeWarning: divide by zero encountered in true_divide\n",
            "  score = (intra_dists[:, None] + intra_dists) / centroid_distances\n",
            "/usr/local/lib/python3.6/dist-packages/sklearn/metrics/cluster/unsupervised.py:342: RuntimeWarning: invalid value encountered in true_divide\n",
            "  score = (intra_dists[:, None] + intra_dists) / centroid_distances\n",
            "/usr/local/lib/python3.6/dist-packages/sklearn/metrics/cluster/unsupervised.py:342: RuntimeWarning: divide by zero encountered in true_divide\n",
            "  score = (intra_dists[:, None] + intra_dists) / centroid_distances\n",
            "/usr/local/lib/python3.6/dist-packages/sklearn/metrics/cluster/unsupervised.py:342: RuntimeWarning: invalid value encountered in true_divide\n",
            "  score = (intra_dists[:, None] + intra_dists) / centroid_distances\n",
            "/usr/local/lib/python3.6/dist-packages/sklearn/metrics/cluster/unsupervised.py:342: RuntimeWarning: divide by zero encountered in true_divide\n",
            "  score = (intra_dists[:, None] + intra_dists) / centroid_distances\n",
            "/usr/local/lib/python3.6/dist-packages/sklearn/metrics/cluster/unsupervised.py:342: RuntimeWarning: invalid value encountered in true_divide\n",
            "  score = (intra_dists[:, None] + intra_dists) / centroid_distances\n",
            "/usr/local/lib/python3.6/dist-packages/sklearn/metrics/cluster/unsupervised.py:342: RuntimeWarning: divide by zero encountered in true_divide\n",
            "  score = (intra_dists[:, None] + intra_dists) / centroid_distances\n",
            "/usr/local/lib/python3.6/dist-packages/sklearn/metrics/cluster/unsupervised.py:342: RuntimeWarning: invalid value encountered in true_divide\n",
            "  score = (intra_dists[:, None] + intra_dists) / centroid_distances\n"
          ],
          "name": "stderr"
        },
        {
          "output_type": "stream",
          "text": [
            "For n_clusters = 14, The average silhouette_score is : 0.8550154223279817\n",
            "For n_clusters = 14, The average db_score is : 0.33263710473480584\n",
            "For n_clusters = 14, The average cr_score is : 0.012232618829302119\n"
          ],
          "name": "stdout"
        },
        {
          "output_type": "stream",
          "text": [
            "/usr/local/lib/python3.6/dist-packages/sklearn/metrics/cluster/unsupervised.py:342: RuntimeWarning: divide by zero encountered in true_divide\n",
            "  score = (intra_dists[:, None] + intra_dists) / centroid_distances\n",
            "/usr/local/lib/python3.6/dist-packages/sklearn/metrics/cluster/unsupervised.py:342: RuntimeWarning: invalid value encountered in true_divide\n",
            "  score = (intra_dists[:, None] + intra_dists) / centroid_distances\n",
            "/usr/local/lib/python3.6/dist-packages/sklearn/metrics/cluster/unsupervised.py:342: RuntimeWarning: divide by zero encountered in true_divide\n",
            "  score = (intra_dists[:, None] + intra_dists) / centroid_distances\n",
            "/usr/local/lib/python3.6/dist-packages/sklearn/metrics/cluster/unsupervised.py:342: RuntimeWarning: invalid value encountered in true_divide\n",
            "  score = (intra_dists[:, None] + intra_dists) / centroid_distances\n",
            "/usr/local/lib/python3.6/dist-packages/sklearn/metrics/cluster/unsupervised.py:342: RuntimeWarning: divide by zero encountered in true_divide\n",
            "  score = (intra_dists[:, None] + intra_dists) / centroid_distances\n",
            "/usr/local/lib/python3.6/dist-packages/sklearn/metrics/cluster/unsupervised.py:342: RuntimeWarning: invalid value encountered in true_divide\n",
            "  score = (intra_dists[:, None] + intra_dists) / centroid_distances\n",
            "/usr/local/lib/python3.6/dist-packages/sklearn/metrics/cluster/unsupervised.py:342: RuntimeWarning: divide by zero encountered in true_divide\n",
            "  score = (intra_dists[:, None] + intra_dists) / centroid_distances\n",
            "/usr/local/lib/python3.6/dist-packages/sklearn/metrics/cluster/unsupervised.py:342: RuntimeWarning: invalid value encountered in true_divide\n",
            "  score = (intra_dists[:, None] + intra_dists) / centroid_distances\n",
            "/usr/local/lib/python3.6/dist-packages/sklearn/metrics/cluster/unsupervised.py:342: RuntimeWarning: divide by zero encountered in true_divide\n",
            "  score = (intra_dists[:, None] + intra_dists) / centroid_distances\n",
            "/usr/local/lib/python3.6/dist-packages/sklearn/metrics/cluster/unsupervised.py:342: RuntimeWarning: invalid value encountered in true_divide\n",
            "  score = (intra_dists[:, None] + intra_dists) / centroid_distances\n"
          ],
          "name": "stderr"
        },
        {
          "output_type": "stream",
          "text": [
            "For n_clusters = 15, The average silhouette_score is : 0.8507868235967662\n",
            "For n_clusters = 15, The average db_score is : 0.34683051888509986\n",
            "For n_clusters = 15, The average cr_score is : 0.012720788446811182\n"
          ],
          "name": "stdout"
        },
        {
          "output_type": "stream",
          "text": [
            "/usr/local/lib/python3.6/dist-packages/sklearn/metrics/cluster/unsupervised.py:342: RuntimeWarning: divide by zero encountered in true_divide\n",
            "  score = (intra_dists[:, None] + intra_dists) / centroid_distances\n",
            "/usr/local/lib/python3.6/dist-packages/sklearn/metrics/cluster/unsupervised.py:342: RuntimeWarning: invalid value encountered in true_divide\n",
            "  score = (intra_dists[:, None] + intra_dists) / centroid_distances\n",
            "/usr/local/lib/python3.6/dist-packages/sklearn/metrics/cluster/unsupervised.py:342: RuntimeWarning: divide by zero encountered in true_divide\n",
            "  score = (intra_dists[:, None] + intra_dists) / centroid_distances\n",
            "/usr/local/lib/python3.6/dist-packages/sklearn/metrics/cluster/unsupervised.py:342: RuntimeWarning: invalid value encountered in true_divide\n",
            "  score = (intra_dists[:, None] + intra_dists) / centroid_distances\n",
            "/usr/local/lib/python3.6/dist-packages/sklearn/metrics/cluster/unsupervised.py:342: RuntimeWarning: divide by zero encountered in true_divide\n",
            "  score = (intra_dists[:, None] + intra_dists) / centroid_distances\n",
            "/usr/local/lib/python3.6/dist-packages/sklearn/metrics/cluster/unsupervised.py:342: RuntimeWarning: invalid value encountered in true_divide\n",
            "  score = (intra_dists[:, None] + intra_dists) / centroid_distances\n",
            "/usr/local/lib/python3.6/dist-packages/sklearn/metrics/cluster/unsupervised.py:342: RuntimeWarning: divide by zero encountered in true_divide\n",
            "  score = (intra_dists[:, None] + intra_dists) / centroid_distances\n",
            "/usr/local/lib/python3.6/dist-packages/sklearn/metrics/cluster/unsupervised.py:342: RuntimeWarning: invalid value encountered in true_divide\n",
            "  score = (intra_dists[:, None] + intra_dists) / centroid_distances\n",
            "/usr/local/lib/python3.6/dist-packages/sklearn/metrics/cluster/unsupervised.py:342: RuntimeWarning: divide by zero encountered in true_divide\n",
            "  score = (intra_dists[:, None] + intra_dists) / centroid_distances\n",
            "/usr/local/lib/python3.6/dist-packages/sklearn/metrics/cluster/unsupervised.py:342: RuntimeWarning: invalid value encountered in true_divide\n",
            "  score = (intra_dists[:, None] + intra_dists) / centroid_distances\n"
          ],
          "name": "stderr"
        },
        {
          "output_type": "stream",
          "text": [
            "For n_clusters = 16, The average silhouette_score is : 0.8507637843622048\n",
            "For n_clusters = 16, The average db_score is : 0.3465662878010938\n",
            "For n_clusters = 16, The average cr_score is : 0.012721777458675462\n"
          ],
          "name": "stdout"
        },
        {
          "output_type": "stream",
          "text": [
            "/usr/local/lib/python3.6/dist-packages/sklearn/metrics/cluster/unsupervised.py:342: RuntimeWarning: divide by zero encountered in true_divide\n",
            "  score = (intra_dists[:, None] + intra_dists) / centroid_distances\n",
            "/usr/local/lib/python3.6/dist-packages/sklearn/metrics/cluster/unsupervised.py:342: RuntimeWarning: invalid value encountered in true_divide\n",
            "  score = (intra_dists[:, None] + intra_dists) / centroid_distances\n",
            "/usr/local/lib/python3.6/dist-packages/sklearn/metrics/cluster/unsupervised.py:342: RuntimeWarning: divide by zero encountered in true_divide\n",
            "  score = (intra_dists[:, None] + intra_dists) / centroid_distances\n",
            "/usr/local/lib/python3.6/dist-packages/sklearn/metrics/cluster/unsupervised.py:342: RuntimeWarning: invalid value encountered in true_divide\n",
            "  score = (intra_dists[:, None] + intra_dists) / centroid_distances\n",
            "/usr/local/lib/python3.6/dist-packages/sklearn/metrics/cluster/unsupervised.py:342: RuntimeWarning: divide by zero encountered in true_divide\n",
            "  score = (intra_dists[:, None] + intra_dists) / centroid_distances\n",
            "/usr/local/lib/python3.6/dist-packages/sklearn/metrics/cluster/unsupervised.py:342: RuntimeWarning: invalid value encountered in true_divide\n",
            "  score = (intra_dists[:, None] + intra_dists) / centroid_distances\n",
            "/usr/local/lib/python3.6/dist-packages/sklearn/metrics/cluster/unsupervised.py:342: RuntimeWarning: divide by zero encountered in true_divide\n",
            "  score = (intra_dists[:, None] + intra_dists) / centroid_distances\n",
            "/usr/local/lib/python3.6/dist-packages/sklearn/metrics/cluster/unsupervised.py:342: RuntimeWarning: invalid value encountered in true_divide\n",
            "  score = (intra_dists[:, None] + intra_dists) / centroid_distances\n",
            "/usr/local/lib/python3.6/dist-packages/sklearn/metrics/cluster/unsupervised.py:342: RuntimeWarning: divide by zero encountered in true_divide\n",
            "  score = (intra_dists[:, None] + intra_dists) / centroid_distances\n",
            "/usr/local/lib/python3.6/dist-packages/sklearn/metrics/cluster/unsupervised.py:342: RuntimeWarning: invalid value encountered in true_divide\n",
            "  score = (intra_dists[:, None] + intra_dists) / centroid_distances\n"
          ],
          "name": "stderr"
        },
        {
          "output_type": "stream",
          "text": [
            "For n_clusters = 17, The average silhouette_score is : 0.8321698769077777\n",
            "For n_clusters = 17, The average db_score is : 0.3533354579347715\n",
            "For n_clusters = 17, The average cr_score is : 0.015446514345845142\n"
          ],
          "name": "stdout"
        },
        {
          "output_type": "stream",
          "text": [
            "/usr/local/lib/python3.6/dist-packages/sklearn/metrics/cluster/unsupervised.py:342: RuntimeWarning: divide by zero encountered in true_divide\n",
            "  score = (intra_dists[:, None] + intra_dists) / centroid_distances\n",
            "/usr/local/lib/python3.6/dist-packages/sklearn/metrics/cluster/unsupervised.py:342: RuntimeWarning: invalid value encountered in true_divide\n",
            "  score = (intra_dists[:, None] + intra_dists) / centroid_distances\n",
            "/usr/local/lib/python3.6/dist-packages/sklearn/metrics/cluster/unsupervised.py:342: RuntimeWarning: divide by zero encountered in true_divide\n",
            "  score = (intra_dists[:, None] + intra_dists) / centroid_distances\n",
            "/usr/local/lib/python3.6/dist-packages/sklearn/metrics/cluster/unsupervised.py:342: RuntimeWarning: invalid value encountered in true_divide\n",
            "  score = (intra_dists[:, None] + intra_dists) / centroid_distances\n",
            "/usr/local/lib/python3.6/dist-packages/sklearn/metrics/cluster/unsupervised.py:342: RuntimeWarning: divide by zero encountered in true_divide\n",
            "  score = (intra_dists[:, None] + intra_dists) / centroid_distances\n",
            "/usr/local/lib/python3.6/dist-packages/sklearn/metrics/cluster/unsupervised.py:342: RuntimeWarning: invalid value encountered in true_divide\n",
            "  score = (intra_dists[:, None] + intra_dists) / centroid_distances\n",
            "/usr/local/lib/python3.6/dist-packages/sklearn/metrics/cluster/unsupervised.py:342: RuntimeWarning: divide by zero encountered in true_divide\n",
            "  score = (intra_dists[:, None] + intra_dists) / centroid_distances\n",
            "/usr/local/lib/python3.6/dist-packages/sklearn/metrics/cluster/unsupervised.py:342: RuntimeWarning: invalid value encountered in true_divide\n",
            "  score = (intra_dists[:, None] + intra_dists) / centroid_distances\n",
            "/usr/local/lib/python3.6/dist-packages/sklearn/metrics/cluster/unsupervised.py:342: RuntimeWarning: divide by zero encountered in true_divide\n",
            "  score = (intra_dists[:, None] + intra_dists) / centroid_distances\n",
            "/usr/local/lib/python3.6/dist-packages/sklearn/metrics/cluster/unsupervised.py:342: RuntimeWarning: invalid value encountered in true_divide\n",
            "  score = (intra_dists[:, None] + intra_dists) / centroid_distances\n"
          ],
          "name": "stderr"
        },
        {
          "output_type": "stream",
          "text": [
            "For n_clusters = 18, The average silhouette_score is : 0.8319497069314961\n",
            "For n_clusters = 18, The average db_score is : 0.3198474106380105\n",
            "For n_clusters = 18, The average cr_score is : 0.015440183591270192\n"
          ],
          "name": "stdout"
        },
        {
          "output_type": "stream",
          "text": [
            "/usr/local/lib/python3.6/dist-packages/sklearn/metrics/cluster/unsupervised.py:342: RuntimeWarning: divide by zero encountered in true_divide\n",
            "  score = (intra_dists[:, None] + intra_dists) / centroid_distances\n",
            "/usr/local/lib/python3.6/dist-packages/sklearn/metrics/cluster/unsupervised.py:342: RuntimeWarning: invalid value encountered in true_divide\n",
            "  score = (intra_dists[:, None] + intra_dists) / centroid_distances\n",
            "/usr/local/lib/python3.6/dist-packages/sklearn/metrics/cluster/unsupervised.py:342: RuntimeWarning: divide by zero encountered in true_divide\n",
            "  score = (intra_dists[:, None] + intra_dists) / centroid_distances\n",
            "/usr/local/lib/python3.6/dist-packages/sklearn/metrics/cluster/unsupervised.py:342: RuntimeWarning: invalid value encountered in true_divide\n",
            "  score = (intra_dists[:, None] + intra_dists) / centroid_distances\n",
            "/usr/local/lib/python3.6/dist-packages/sklearn/metrics/cluster/unsupervised.py:342: RuntimeWarning: divide by zero encountered in true_divide\n",
            "  score = (intra_dists[:, None] + intra_dists) / centroid_distances\n",
            "/usr/local/lib/python3.6/dist-packages/sklearn/metrics/cluster/unsupervised.py:342: RuntimeWarning: invalid value encountered in true_divide\n",
            "  score = (intra_dists[:, None] + intra_dists) / centroid_distances\n",
            "/usr/local/lib/python3.6/dist-packages/sklearn/metrics/cluster/unsupervised.py:342: RuntimeWarning: divide by zero encountered in true_divide\n",
            "  score = (intra_dists[:, None] + intra_dists) / centroid_distances\n",
            "/usr/local/lib/python3.6/dist-packages/sklearn/metrics/cluster/unsupervised.py:342: RuntimeWarning: invalid value encountered in true_divide\n",
            "  score = (intra_dists[:, None] + intra_dists) / centroid_distances\n",
            "/usr/local/lib/python3.6/dist-packages/sklearn/metrics/cluster/unsupervised.py:342: RuntimeWarning: divide by zero encountered in true_divide\n",
            "  score = (intra_dists[:, None] + intra_dists) / centroid_distances\n",
            "/usr/local/lib/python3.6/dist-packages/sklearn/metrics/cluster/unsupervised.py:342: RuntimeWarning: invalid value encountered in true_divide\n",
            "  score = (intra_dists[:, None] + intra_dists) / centroid_distances\n"
          ],
          "name": "stderr"
        },
        {
          "output_type": "stream",
          "text": [
            "For n_clusters = 19, The average silhouette_score is : 0.8291824378654284\n",
            "For n_clusters = 19, The average db_score is : 0.31474885559890253\n",
            "For n_clusters = 19, The average cr_score is : 0.01582508963646826\n"
          ],
          "name": "stdout"
        },
        {
          "output_type": "stream",
          "text": [
            "/usr/local/lib/python3.6/dist-packages/sklearn/metrics/cluster/unsupervised.py:342: RuntimeWarning: divide by zero encountered in true_divide\n",
            "  score = (intra_dists[:, None] + intra_dists) / centroid_distances\n",
            "/usr/local/lib/python3.6/dist-packages/sklearn/metrics/cluster/unsupervised.py:342: RuntimeWarning: invalid value encountered in true_divide\n",
            "  score = (intra_dists[:, None] + intra_dists) / centroid_distances\n",
            "/usr/local/lib/python3.6/dist-packages/sklearn/metrics/cluster/unsupervised.py:342: RuntimeWarning: divide by zero encountered in true_divide\n",
            "  score = (intra_dists[:, None] + intra_dists) / centroid_distances\n",
            "/usr/local/lib/python3.6/dist-packages/sklearn/metrics/cluster/unsupervised.py:342: RuntimeWarning: invalid value encountered in true_divide\n",
            "  score = (intra_dists[:, None] + intra_dists) / centroid_distances\n",
            "/usr/local/lib/python3.6/dist-packages/sklearn/metrics/cluster/unsupervised.py:342: RuntimeWarning: divide by zero encountered in true_divide\n",
            "  score = (intra_dists[:, None] + intra_dists) / centroid_distances\n",
            "/usr/local/lib/python3.6/dist-packages/sklearn/metrics/cluster/unsupervised.py:342: RuntimeWarning: invalid value encountered in true_divide\n",
            "  score = (intra_dists[:, None] + intra_dists) / centroid_distances\n",
            "/usr/local/lib/python3.6/dist-packages/sklearn/metrics/cluster/unsupervised.py:342: RuntimeWarning: divide by zero encountered in true_divide\n",
            "  score = (intra_dists[:, None] + intra_dists) / centroid_distances\n",
            "/usr/local/lib/python3.6/dist-packages/sklearn/metrics/cluster/unsupervised.py:342: RuntimeWarning: invalid value encountered in true_divide\n",
            "  score = (intra_dists[:, None] + intra_dists) / centroid_distances\n"
          ],
          "name": "stderr"
        },
        {
          "output_type": "stream",
          "text": [
            "For n_clusters = 20, The average silhouette_score is : 0.8295166327969804\n",
            "For n_clusters = 20, The average db_score is : 0.3308141197560383\n",
            "For n_clusters = 20, The average cr_score is : 0.01574497059914344\n"
          ],
          "name": "stdout"
        },
        {
          "output_type": "stream",
          "text": [
            "/usr/local/lib/python3.6/dist-packages/sklearn/metrics/cluster/unsupervised.py:342: RuntimeWarning: divide by zero encountered in true_divide\n",
            "  score = (intra_dists[:, None] + intra_dists) / centroid_distances\n",
            "/usr/local/lib/python3.6/dist-packages/sklearn/metrics/cluster/unsupervised.py:342: RuntimeWarning: invalid value encountered in true_divide\n",
            "  score = (intra_dists[:, None] + intra_dists) / centroid_distances\n"
          ],
          "name": "stderr"
        }
      ]
    },
    {
      "cell_type": "code",
      "metadata": {
        "id": "5BZ4oXJAYwBc",
        "colab_type": "code",
        "outputId": "f429c9f3-55fc-471c-e274-a768862cf345",
        "colab": {
          "base_uri": "https://localhost:8080/",
          "height": 34
        }
      },
      "source": [
        "len(k_values)"
      ],
      "execution_count": 0,
      "outputs": [
        {
          "output_type": "execute_result",
          "data": {
            "text/plain": [
              "19"
            ]
          },
          "metadata": {
            "tags": []
          },
          "execution_count": 88
        }
      ]
    },
    {
      "cell_type": "code",
      "metadata": {
        "id": "Q44aD1Iid1D5",
        "colab_type": "code",
        "outputId": "46e2c783-5fac-4fa4-96f5-67609f691a43",
        "colab": {
          "base_uri": "https://localhost:8080/",
          "height": 291
        }
      },
      "source": [
        "plt.plot(k_values, silhouette_scores)\n",
        "#plt.axis([2, 21, 0.8, 1])\n",
        "plt.xticks(np.arange(2, 21, step=1))\n",
        "plt.xlabel(\"k values\")\n",
        "plt.ylabel(\"silhouette score\")\n",
        "plt.show()"
      ],
      "execution_count": 0,
      "outputs": [
        {
          "output_type": "display_data",
          "data": {
            "image/png": "[encoded data removed]",
            "text/plain": [
              "<Figure size 432x288 with 1 Axes>"
            ]
          },
          "metadata": {
            "tags": []
          }
        }
      ]
    },
    {
      "cell_type": "code",
      "metadata": {
        "id": "d9Ram_2nh-BU",
        "colab_type": "code",
        "outputId": "7388c3ac-40bc-41fa-ca8c-e2016c97e8ec",
        "colab": {
          "base_uri": "https://localhost:8080/",
          "height": 291
        }
      },
      "source": [
        "plt.plot(k_values, db_scores)\n",
        "#plt.axis([2, 21, 0.8, 1])\n",
        "plt.xticks(np.arange(2, 21, step=1))\n",
        "plt.xlabel(\"k values\")\n",
        "plt.ylabel(\"db score\")\n",
        "plt.show()"
      ],
      "execution_count": 0,
      "outputs": [
        {
          "output_type": "display_data",
          "data": {
            "image/png": "[encoded data removed]",
            "text/plain": [
              "<Figure size 432x288 with 1 Axes>"
            ]
          },
          "metadata": {
            "tags": []
          }
        }
      ]
    },
    {
      "cell_type": "code",
      "metadata": {
        "id": "aNWYdHoEiIp-",
        "colab_type": "code",
        "outputId": "367ac63d-cff8-4147-b6fa-a14143d2390b",
        "colab": {
          "base_uri": "https://localhost:8080/",
          "height": 291
        }
      },
      "source": [
        "plt.plot(k_values, cr_scores)\n",
        "#plt.axis([2, 21, 0.8, 1])\n",
        "plt.xticks(np.arange(2, 21, step=1))\n",
        "plt.xlabel(\"k values\")\n",
        "plt.ylabel(\"cr score\")\n",
        "plt.show()"
      ],
      "execution_count": 0,
      "outputs": [
        {
          "output_type": "display_data",
          "data": {
            "image/png": "[encoded data removed]",
            "text/plain": [
              "<Figure size 432x288 with 1 Axes>"
            ]
          },
          "metadata": {
            "tags": []
          }
        }
      ]
    },
    {
      "cell_type": "markdown",
      "metadata": {
        "id": "6uTCVVPVh-71",
        "colab_type": "text"
      },
      "source": [
        "## Expectation Maximization"
      ]
    },
    {
      "cell_type": "code",
      "metadata": {
        "id": "fMGlX4tviFpc",
        "colab_type": "code",
        "colab": {}
      },
      "source": [
        "gmm = GaussianMixture(n_components=-1, covariance_type='full')"
      ],
      "execution_count": 0,
      "outputs": []
    },
    {
      "cell_type": "code",
      "metadata": {
        "id": "NBn4RD05oCHR",
        "colab_type": "code",
        "outputId": "3218ed19-5260-4503-de8e-6182df317a12",
        "colab": {
          "base_uri": "https://localhost:8080/",
          "height": 306
        }
      },
      "source": [
        "cluster_labels = gmm.fit_predict(DS_resampled)"
      ],
      "execution_count": 0,
      "outputs": [
        {
          "output_type": "error",
          "ename": "ValueError",
          "evalue": "ignored",
          "traceback": [
            "\u001b[0;31m---------------------------------------------------------------------------\u001b[0m",
            "\u001b[0;31mValueError\u001b[0m                                Traceback (most recent call last)",
            "\u001b[0;32m<ipython-input-17-ede448f78823>\u001b[0m in \u001b[0;36m<module>\u001b[0;34m()\u001b[0m\n\u001b[0;32m----> 1\u001b[0;31m \u001b[0mcluster_labels\u001b[0m \u001b[0;34m=\u001b[0m \u001b[0mgmm\u001b[0m\u001b[0;34m.\u001b[0m\u001b[0mfit_predict\u001b[0m\u001b[0;34m(\u001b[0m\u001b[0mDS_resampled\u001b[0m\u001b[0;34m)\u001b[0m\u001b[0;34m\u001b[0m\u001b[0;34m\u001b[0m\u001b[0m\n\u001b[0m",
            "\u001b[0;32m/usr/local/lib/python3.6/dist-packages/sklearn/mixture/base.py\u001b[0m in \u001b[0;36mfit_predict\u001b[0;34m(self, X, y)\u001b[0m\n\u001b[1;32m    219\u001b[0m         \"\"\"\n\u001b[1;32m    220\u001b[0m         \u001b[0mX\u001b[0m \u001b[0;34m=\u001b[0m \u001b[0m_check_X\u001b[0m\u001b[0;34m(\u001b[0m\u001b[0mX\u001b[0m\u001b[0;34m,\u001b[0m \u001b[0mself\u001b[0m\u001b[0;34m.\u001b[0m\u001b[0mn_components\u001b[0m\u001b[0;34m,\u001b[0m \u001b[0mensure_min_samples\u001b[0m\u001b[0;34m=\u001b[0m\u001b[0;36m2\u001b[0m\u001b[0;34m)\u001b[0m\u001b[0;34m\u001b[0m\u001b[0;34m\u001b[0m\u001b[0m\n\u001b[0;32m--> 221\u001b[0;31m         \u001b[0mself\u001b[0m\u001b[0;34m.\u001b[0m\u001b[0m_check_initial_parameters\u001b[0m\u001b[0;34m(\u001b[0m\u001b[0mX\u001b[0m\u001b[0;34m)\u001b[0m\u001b[0;34m\u001b[0m\u001b[0;34m\u001b[0m\u001b[0m\n\u001b[0m\u001b[1;32m    222\u001b[0m \u001b[0;34m\u001b[0m\u001b[0m\n\u001b[1;32m    223\u001b[0m         \u001b[0;31m# if we enable warm_start, we will have a unique initialisation\u001b[0m\u001b[0;34m\u001b[0m\u001b[0;34m\u001b[0m\u001b[0;34m\u001b[0m\u001b[0m\n",
            "\u001b[0;32m/usr/local/lib/python3.6/dist-packages/sklearn/mixture/base.py\u001b[0m in \u001b[0;36m_check_initial_parameters\u001b[0;34m(self, X)\u001b[0m\n\u001b[1;32m     96\u001b[0m             raise ValueError(\"Invalid value for 'n_components': %d \"\n\u001b[1;32m     97\u001b[0m                              \u001b[0;34m\"Estimation requires at least one component\"\u001b[0m\u001b[0;34m\u001b[0m\u001b[0;34m\u001b[0m\u001b[0m\n\u001b[0;32m---> 98\u001b[0;31m                              % self.n_components)\n\u001b[0m\u001b[1;32m     99\u001b[0m \u001b[0;34m\u001b[0m\u001b[0m\n\u001b[1;32m    100\u001b[0m         \u001b[0;32mif\u001b[0m \u001b[0mself\u001b[0m\u001b[0;34m.\u001b[0m\u001b[0mtol\u001b[0m \u001b[0;34m<\u001b[0m \u001b[0;36m0.\u001b[0m\u001b[0;34m:\u001b[0m\u001b[0;34m\u001b[0m\u001b[0;34m\u001b[0m\u001b[0m\n",
            "\u001b[0;31mValueError\u001b[0m: Invalid value for 'n_components': -1 Estimation requires at least one component"
          ]
        }
      ]
    },
    {
      "cell_type": "code",
      "metadata": {
        "id": "xDyXkyPbh-cY",
        "colab_type": "code",
        "outputId": "1eaeebe6-ce48-44b3-f029-1d5ea33b89bd",
        "colab": {
          "base_uri": "https://localhost:8080/",
          "height": 6480
        }
      },
      "source": [
        "em_values = []\n",
        "silhouette_scores = []\n",
        "db_scores = []\n",
        "cr_scores = []\n",
        "\n",
        "seeds = [10, 20, 40, 80, 120]\n",
        "\n",
        "for k in range(2, 21):\n",
        "  \n",
        "  silhouette_avg = []\n",
        "  db_avg = []\n",
        "  cr_avg = []\n",
        "  \n",
        "  for seed in seeds:\n",
        "    gmm = GaussianMixture(n_components=k, covariance_type='full', random_state = seed)\n",
        "\n",
        "    #fit model to data\n",
        "    cluster_labels = gmm.fit_predict(DS_resampled)\n",
        "\n",
        "    slt_score = silhouette_score(DS_resampled, cluster_labels)\n",
        "    silhouette_avg.append(slt_score)\n",
        "    \n",
        "    db_score = davies_bouldin_score(DS_resampled, cluster_labels)\n",
        "    db_avg.append(db_score)\n",
        "    \n",
        "    cr_score = adjusted_rand_score(labels_resampled, cluster_labels)\n",
        "    cr_avg.append(cr_score) \n",
        "  \n",
        "  #Set metrics values\n",
        "  print(\"For n_clusters = {}, The average silhouette_score is : {}\".format(k, np.mean(silhouette_avg)))\n",
        "  print(\"For n_clusters = {}, The average db_score is : {}\".format(k, np.mean(db_avg)))\n",
        "  print(\"For n_clusters = {}, The average cr_score is : {}\".format(k, np.mean(cr_avg)))\n",
        "    \n",
        "  # Append the results\n",
        "  em_values.append(k)\n",
        "  silhouette_scores.append(np.mean(silhouette_avg))\n",
        "  db_scores.append(np.mean(db_avg))\n",
        "  cr_scores.append(np.mean(cr_avg))"
      ],
      "execution_count": 0,
      "outputs": [
        {
          "output_type": "stream",
          "text": [
            "/usr/local/lib/python3.6/dist-packages/sklearn/metrics/cluster/unsupervised.py:342: RuntimeWarning: divide by zero encountered in true_divide\n",
            "  score = (intra_dists[:, None] + intra_dists) / centroid_distances\n",
            "/usr/local/lib/python3.6/dist-packages/sklearn/metrics/cluster/unsupervised.py:342: RuntimeWarning: divide by zero encountered in true_divide\n",
            "  score = (intra_dists[:, None] + intra_dists) / centroid_distances\n",
            "/usr/local/lib/python3.6/dist-packages/sklearn/metrics/cluster/unsupervised.py:342: RuntimeWarning: divide by zero encountered in true_divide\n",
            "  score = (intra_dists[:, None] + intra_dists) / centroid_distances\n",
            "/usr/local/lib/python3.6/dist-packages/sklearn/metrics/cluster/unsupervised.py:342: RuntimeWarning: divide by zero encountered in true_divide\n",
            "  score = (intra_dists[:, None] + intra_dists) / centroid_distances\n",
            "/usr/local/lib/python3.6/dist-packages/sklearn/metrics/cluster/unsupervised.py:342: RuntimeWarning: divide by zero encountered in true_divide\n",
            "  score = (intra_dists[:, None] + intra_dists) / centroid_distances\n"
          ],
          "name": "stderr"
        },
        {
          "output_type": "stream",
          "text": [
            "For n_clusters = 2, The average silhouette_score is : 0.9849022516812911\n",
            "For n_clusters = 2, The average db_score is : 1.3421527843150296\n",
            "For n_clusters = 2, The average cr_score is : 5.973603134437087e-06\n"
          ],
          "name": "stdout"
        },
        {
          "output_type": "stream",
          "text": [
            "/usr/local/lib/python3.6/dist-packages/sklearn/metrics/cluster/unsupervised.py:342: RuntimeWarning: divide by zero encountered in true_divide\n",
            "  score = (intra_dists[:, None] + intra_dists) / centroid_distances\n",
            "/usr/local/lib/python3.6/dist-packages/sklearn/metrics/cluster/unsupervised.py:342: RuntimeWarning: divide by zero encountered in true_divide\n",
            "  score = (intra_dists[:, None] + intra_dists) / centroid_distances\n",
            "/usr/local/lib/python3.6/dist-packages/sklearn/metrics/cluster/unsupervised.py:342: RuntimeWarning: divide by zero encountered in true_divide\n",
            "  score = (intra_dists[:, None] + intra_dists) / centroid_distances\n",
            "/usr/local/lib/python3.6/dist-packages/sklearn/metrics/cluster/unsupervised.py:342: RuntimeWarning: divide by zero encountered in true_divide\n",
            "  score = (intra_dists[:, None] + intra_dists) / centroid_distances\n",
            "/usr/local/lib/python3.6/dist-packages/sklearn/metrics/cluster/unsupervised.py:342: RuntimeWarning: divide by zero encountered in true_divide\n",
            "  score = (intra_dists[:, None] + intra_dists) / centroid_distances\n"
          ],
          "name": "stderr"
        },
        {
          "output_type": "stream",
          "text": [
            "For n_clusters = 3, The average silhouette_score is : 0.9825742935251764\n",
            "For n_clusters = 3, The average db_score is : 1.4018222420213822\n",
            "For n_clusters = 3, The average cr_score is : 7.373124839802447e-06\n"
          ],
          "name": "stdout"
        },
        {
          "output_type": "stream",
          "text": [
            "/usr/local/lib/python3.6/dist-packages/sklearn/metrics/cluster/unsupervised.py:342: RuntimeWarning: divide by zero encountered in true_divide\n",
            "  score = (intra_dists[:, None] + intra_dists) / centroid_distances\n",
            "/usr/local/lib/python3.6/dist-packages/sklearn/metrics/cluster/unsupervised.py:342: RuntimeWarning: divide by zero encountered in true_divide\n",
            "  score = (intra_dists[:, None] + intra_dists) / centroid_distances\n",
            "/usr/local/lib/python3.6/dist-packages/sklearn/metrics/cluster/unsupervised.py:342: RuntimeWarning: divide by zero encountered in true_divide\n",
            "  score = (intra_dists[:, None] + intra_dists) / centroid_distances\n",
            "/usr/local/lib/python3.6/dist-packages/sklearn/metrics/cluster/unsupervised.py:342: RuntimeWarning: divide by zero encountered in true_divide\n",
            "  score = (intra_dists[:, None] + intra_dists) / centroid_distances\n",
            "/usr/local/lib/python3.6/dist-packages/sklearn/metrics/cluster/unsupervised.py:342: RuntimeWarning: divide by zero encountered in true_divide\n",
            "  score = (intra_dists[:, None] + intra_dists) / centroid_distances\n"
          ],
          "name": "stderr"
        },
        {
          "output_type": "stream",
          "text": [
            "For n_clusters = 4, The average silhouette_score is : 0.9736228641744417\n",
            "For n_clusters = 4, The average db_score is : 0.7814179795575654\n",
            "For n_clusters = 4, The average cr_score is : 8.428595916410969e-06\n"
          ],
          "name": "stdout"
        },
        {
          "output_type": "stream",
          "text": [
            "/usr/local/lib/python3.6/dist-packages/sklearn/metrics/cluster/unsupervised.py:342: RuntimeWarning: divide by zero encountered in true_divide\n",
            "  score = (intra_dists[:, None] + intra_dists) / centroid_distances\n",
            "/usr/local/lib/python3.6/dist-packages/sklearn/metrics/cluster/unsupervised.py:342: RuntimeWarning: divide by zero encountered in true_divide\n",
            "  score = (intra_dists[:, None] + intra_dists) / centroid_distances\n",
            "/usr/local/lib/python3.6/dist-packages/sklearn/metrics/cluster/unsupervised.py:342: RuntimeWarning: divide by zero encountered in true_divide\n",
            "  score = (intra_dists[:, None] + intra_dists) / centroid_distances\n",
            "/usr/local/lib/python3.6/dist-packages/sklearn/metrics/cluster/unsupervised.py:342: RuntimeWarning: divide by zero encountered in true_divide\n",
            "  score = (intra_dists[:, None] + intra_dists) / centroid_distances\n",
            "/usr/local/lib/python3.6/dist-packages/sklearn/metrics/cluster/unsupervised.py:342: RuntimeWarning: divide by zero encountered in true_divide\n",
            "  score = (intra_dists[:, None] + intra_dists) / centroid_distances\n"
          ],
          "name": "stderr"
        },
        {
          "output_type": "stream",
          "text": [
            "For n_clusters = 5, The average silhouette_score is : 0.6739302242087548\n",
            "For n_clusters = 5, The average db_score is : 1.1954426663912758\n",
            "For n_clusters = 5, The average cr_score is : 0.0019520205301011492\n"
          ],
          "name": "stdout"
        },
        {
          "output_type": "stream",
          "text": [
            "/usr/local/lib/python3.6/dist-packages/sklearn/metrics/cluster/unsupervised.py:342: RuntimeWarning: divide by zero encountered in true_divide\n",
            "  score = (intra_dists[:, None] + intra_dists) / centroid_distances\n",
            "/usr/local/lib/python3.6/dist-packages/sklearn/metrics/cluster/unsupervised.py:342: RuntimeWarning: divide by zero encountered in true_divide\n",
            "  score = (intra_dists[:, None] + intra_dists) / centroid_distances\n",
            "/usr/local/lib/python3.6/dist-packages/sklearn/metrics/cluster/unsupervised.py:342: RuntimeWarning: divide by zero encountered in true_divide\n",
            "  score = (intra_dists[:, None] + intra_dists) / centroid_distances\n",
            "/usr/local/lib/python3.6/dist-packages/sklearn/metrics/cluster/unsupervised.py:342: RuntimeWarning: divide by zero encountered in true_divide\n",
            "  score = (intra_dists[:, None] + intra_dists) / centroid_distances\n",
            "/usr/local/lib/python3.6/dist-packages/sklearn/metrics/cluster/unsupervised.py:342: RuntimeWarning: invalid value encountered in true_divide\n",
            "  score = (intra_dists[:, None] + intra_dists) / centroid_distances\n",
            "/usr/local/lib/python3.6/dist-packages/sklearn/metrics/cluster/unsupervised.py:342: RuntimeWarning: divide by zero encountered in true_divide\n",
            "  score = (intra_dists[:, None] + intra_dists) / centroid_distances\n"
          ],
          "name": "stderr"
        },
        {
          "output_type": "stream",
          "text": [
            "For n_clusters = 6, The average silhouette_score is : 0.43543313746066187\n",
            "For n_clusters = 6, The average db_score is : 1.2746704341282677\n",
            "For n_clusters = 6, The average cr_score is : 0.01638247528446734\n"
          ],
          "name": "stdout"
        },
        {
          "output_type": "stream",
          "text": [
            "/usr/local/lib/python3.6/dist-packages/sklearn/metrics/cluster/unsupervised.py:342: RuntimeWarning: divide by zero encountered in true_divide\n",
            "  score = (intra_dists[:, None] + intra_dists) / centroid_distances\n",
            "/usr/local/lib/python3.6/dist-packages/sklearn/metrics/cluster/unsupervised.py:342: RuntimeWarning: divide by zero encountered in true_divide\n",
            "  score = (intra_dists[:, None] + intra_dists) / centroid_distances\n",
            "/usr/local/lib/python3.6/dist-packages/sklearn/metrics/cluster/unsupervised.py:342: RuntimeWarning: invalid value encountered in true_divide\n",
            "  score = (intra_dists[:, None] + intra_dists) / centroid_distances\n",
            "/usr/local/lib/python3.6/dist-packages/sklearn/metrics/cluster/unsupervised.py:342: RuntimeWarning: divide by zero encountered in true_divide\n",
            "  score = (intra_dists[:, None] + intra_dists) / centroid_distances\n",
            "/usr/local/lib/python3.6/dist-packages/sklearn/metrics/cluster/unsupervised.py:342: RuntimeWarning: invalid value encountered in true_divide\n",
            "  score = (intra_dists[:, None] + intra_dists) / centroid_distances\n",
            "/usr/local/lib/python3.6/dist-packages/sklearn/metrics/cluster/unsupervised.py:342: RuntimeWarning: divide by zero encountered in true_divide\n",
            "  score = (intra_dists[:, None] + intra_dists) / centroid_distances\n",
            "/usr/local/lib/python3.6/dist-packages/sklearn/metrics/cluster/unsupervised.py:342: RuntimeWarning: invalid value encountered in true_divide\n",
            "  score = (intra_dists[:, None] + intra_dists) / centroid_distances\n",
            "/usr/local/lib/python3.6/dist-packages/sklearn/metrics/cluster/unsupervised.py:342: RuntimeWarning: divide by zero encountered in true_divide\n",
            "  score = (intra_dists[:, None] + intra_dists) / centroid_distances\n",
            "/usr/local/lib/python3.6/dist-packages/sklearn/metrics/cluster/unsupervised.py:342: RuntimeWarning: invalid value encountered in true_divide\n",
            "  score = (intra_dists[:, None] + intra_dists) / centroid_distances\n"
          ],
          "name": "stderr"
        },
        {
          "output_type": "stream",
          "text": [
            "For n_clusters = 7, The average silhouette_score is : 0.3582935171246139\n",
            "For n_clusters = 7, The average db_score is : 1.2196934580555576\n",
            "For n_clusters = 7, The average cr_score is : 0.022273934312620598\n"
          ],
          "name": "stdout"
        },
        {
          "output_type": "stream",
          "text": [
            "/usr/local/lib/python3.6/dist-packages/sklearn/metrics/cluster/unsupervised.py:342: RuntimeWarning: divide by zero encountered in true_divide\n",
            "  score = (intra_dists[:, None] + intra_dists) / centroid_distances\n",
            "/usr/local/lib/python3.6/dist-packages/sklearn/metrics/cluster/unsupervised.py:342: RuntimeWarning: divide by zero encountered in true_divide\n",
            "  score = (intra_dists[:, None] + intra_dists) / centroid_distances\n",
            "/usr/local/lib/python3.6/dist-packages/sklearn/metrics/cluster/unsupervised.py:342: RuntimeWarning: divide by zero encountered in true_divide\n",
            "  score = (intra_dists[:, None] + intra_dists) / centroid_distances\n",
            "/usr/local/lib/python3.6/dist-packages/sklearn/metrics/cluster/unsupervised.py:342: RuntimeWarning: invalid value encountered in true_divide\n",
            "  score = (intra_dists[:, None] + intra_dists) / centroid_distances\n",
            "/usr/local/lib/python3.6/dist-packages/sklearn/metrics/cluster/unsupervised.py:342: RuntimeWarning: divide by zero encountered in true_divide\n",
            "  score = (intra_dists[:, None] + intra_dists) / centroid_distances\n",
            "/usr/local/lib/python3.6/dist-packages/sklearn/metrics/cluster/unsupervised.py:342: RuntimeWarning: divide by zero encountered in true_divide\n",
            "  score = (intra_dists[:, None] + intra_dists) / centroid_distances\n",
            "/usr/local/lib/python3.6/dist-packages/sklearn/metrics/cluster/unsupervised.py:342: RuntimeWarning: invalid value encountered in true_divide\n",
            "  score = (intra_dists[:, None] + intra_dists) / centroid_distances\n"
          ],
          "name": "stderr"
        },
        {
          "output_type": "stream",
          "text": [
            "For n_clusters = 8, The average silhouette_score is : 0.2106735205705117\n",
            "For n_clusters = 8, The average db_score is : 1.2124060035284596\n",
            "For n_clusters = 8, The average cr_score is : 0.03290524165282068\n"
          ],
          "name": "stdout"
        },
        {
          "output_type": "stream",
          "text": [
            "/usr/local/lib/python3.6/dist-packages/sklearn/metrics/cluster/unsupervised.py:342: RuntimeWarning: divide by zero encountered in true_divide\n",
            "  score = (intra_dists[:, None] + intra_dists) / centroid_distances\n",
            "/usr/local/lib/python3.6/dist-packages/sklearn/metrics/cluster/unsupervised.py:342: RuntimeWarning: divide by zero encountered in true_divide\n",
            "  score = (intra_dists[:, None] + intra_dists) / centroid_distances\n",
            "/usr/local/lib/python3.6/dist-packages/sklearn/metrics/cluster/unsupervised.py:342: RuntimeWarning: invalid value encountered in true_divide\n",
            "  score = (intra_dists[:, None] + intra_dists) / centroid_distances\n",
            "/usr/local/lib/python3.6/dist-packages/sklearn/metrics/cluster/unsupervised.py:342: RuntimeWarning: divide by zero encountered in true_divide\n",
            "  score = (intra_dists[:, None] + intra_dists) / centroid_distances\n",
            "/usr/local/lib/python3.6/dist-packages/sklearn/metrics/cluster/unsupervised.py:342: RuntimeWarning: invalid value encountered in true_divide\n",
            "  score = (intra_dists[:, None] + intra_dists) / centroid_distances\n",
            "/usr/local/lib/python3.6/dist-packages/sklearn/metrics/cluster/unsupervised.py:342: RuntimeWarning: divide by zero encountered in true_divide\n",
            "  score = (intra_dists[:, None] + intra_dists) / centroid_distances\n",
            "/usr/local/lib/python3.6/dist-packages/sklearn/metrics/cluster/unsupervised.py:342: RuntimeWarning: invalid value encountered in true_divide\n",
            "  score = (intra_dists[:, None] + intra_dists) / centroid_distances\n",
            "/usr/local/lib/python3.6/dist-packages/sklearn/metrics/cluster/unsupervised.py:342: RuntimeWarning: divide by zero encountered in true_divide\n",
            "  score = (intra_dists[:, None] + intra_dists) / centroid_distances\n",
            "/usr/local/lib/python3.6/dist-packages/sklearn/metrics/cluster/unsupervised.py:342: RuntimeWarning: invalid value encountered in true_divide\n",
            "  score = (intra_dists[:, None] + intra_dists) / centroid_distances\n"
          ],
          "name": "stderr"
        },
        {
          "output_type": "stream",
          "text": [
            "For n_clusters = 9, The average silhouette_score is : 0.202322295384679\n",
            "For n_clusters = 9, The average db_score is : 1.8746224912919032\n",
            "For n_clusters = 9, The average cr_score is : 0.03419659754155022\n"
          ],
          "name": "stdout"
        },
        {
          "output_type": "stream",
          "text": [
            "/usr/local/lib/python3.6/dist-packages/sklearn/metrics/cluster/unsupervised.py:342: RuntimeWarning: divide by zero encountered in true_divide\n",
            "  score = (intra_dists[:, None] + intra_dists) / centroid_distances\n",
            "/usr/local/lib/python3.6/dist-packages/sklearn/metrics/cluster/unsupervised.py:342: RuntimeWarning: invalid value encountered in true_divide\n",
            "  score = (intra_dists[:, None] + intra_dists) / centroid_distances\n",
            "/usr/local/lib/python3.6/dist-packages/sklearn/metrics/cluster/unsupervised.py:342: RuntimeWarning: divide by zero encountered in true_divide\n",
            "  score = (intra_dists[:, None] + intra_dists) / centroid_distances\n",
            "/usr/local/lib/python3.6/dist-packages/sklearn/metrics/cluster/unsupervised.py:342: RuntimeWarning: invalid value encountered in true_divide\n",
            "  score = (intra_dists[:, None] + intra_dists) / centroid_distances\n",
            "/usr/local/lib/python3.6/dist-packages/sklearn/metrics/cluster/unsupervised.py:342: RuntimeWarning: divide by zero encountered in true_divide\n",
            "  score = (intra_dists[:, None] + intra_dists) / centroid_distances\n",
            "/usr/local/lib/python3.6/dist-packages/sklearn/metrics/cluster/unsupervised.py:342: RuntimeWarning: invalid value encountered in true_divide\n",
            "  score = (intra_dists[:, None] + intra_dists) / centroid_distances\n",
            "/usr/local/lib/python3.6/dist-packages/sklearn/metrics/cluster/unsupervised.py:342: RuntimeWarning: divide by zero encountered in true_divide\n",
            "  score = (intra_dists[:, None] + intra_dists) / centroid_distances\n",
            "/usr/local/lib/python3.6/dist-packages/sklearn/metrics/cluster/unsupervised.py:342: RuntimeWarning: invalid value encountered in true_divide\n",
            "  score = (intra_dists[:, None] + intra_dists) / centroid_distances\n",
            "/usr/local/lib/python3.6/dist-packages/sklearn/metrics/cluster/unsupervised.py:342: RuntimeWarning: divide by zero encountered in true_divide\n",
            "  score = (intra_dists[:, None] + intra_dists) / centroid_distances\n",
            "/usr/local/lib/python3.6/dist-packages/sklearn/metrics/cluster/unsupervised.py:342: RuntimeWarning: invalid value encountered in true_divide\n",
            "  score = (intra_dists[:, None] + intra_dists) / centroid_distances\n"
          ],
          "name": "stderr"
        },
        {
          "output_type": "stream",
          "text": [
            "For n_clusters = 10, The average silhouette_score is : 0.18804529925049798\n",
            "For n_clusters = 10, The average db_score is : 3.0755064691265503\n",
            "For n_clusters = 10, The average cr_score is : 0.03809521798547753\n"
          ],
          "name": "stdout"
        },
        {
          "output_type": "stream",
          "text": [
            "/usr/local/lib/python3.6/dist-packages/sklearn/metrics/cluster/unsupervised.py:342: RuntimeWarning: divide by zero encountered in true_divide\n",
            "  score = (intra_dists[:, None] + intra_dists) / centroid_distances\n",
            "/usr/local/lib/python3.6/dist-packages/sklearn/metrics/cluster/unsupervised.py:342: RuntimeWarning: invalid value encountered in true_divide\n",
            "  score = (intra_dists[:, None] + intra_dists) / centroid_distances\n",
            "/usr/local/lib/python3.6/dist-packages/sklearn/metrics/cluster/unsupervised.py:342: RuntimeWarning: divide by zero encountered in true_divide\n",
            "  score = (intra_dists[:, None] + intra_dists) / centroid_distances\n",
            "/usr/local/lib/python3.6/dist-packages/sklearn/metrics/cluster/unsupervised.py:342: RuntimeWarning: invalid value encountered in true_divide\n",
            "  score = (intra_dists[:, None] + intra_dists) / centroid_distances\n",
            "/usr/local/lib/python3.6/dist-packages/sklearn/metrics/cluster/unsupervised.py:342: RuntimeWarning: divide by zero encountered in true_divide\n",
            "  score = (intra_dists[:, None] + intra_dists) / centroid_distances\n",
            "/usr/local/lib/python3.6/dist-packages/sklearn/metrics/cluster/unsupervised.py:342: RuntimeWarning: invalid value encountered in true_divide\n",
            "  score = (intra_dists[:, None] + intra_dists) / centroid_distances\n",
            "/usr/local/lib/python3.6/dist-packages/sklearn/metrics/cluster/unsupervised.py:342: RuntimeWarning: divide by zero encountered in true_divide\n",
            "  score = (intra_dists[:, None] + intra_dists) / centroid_distances\n",
            "/usr/local/lib/python3.6/dist-packages/sklearn/metrics/cluster/unsupervised.py:342: RuntimeWarning: invalid value encountered in true_divide\n",
            "  score = (intra_dists[:, None] + intra_dists) / centroid_distances\n",
            "/usr/local/lib/python3.6/dist-packages/sklearn/metrics/cluster/unsupervised.py:342: RuntimeWarning: divide by zero encountered in true_divide\n",
            "  score = (intra_dists[:, None] + intra_dists) / centroid_distances\n",
            "/usr/local/lib/python3.6/dist-packages/sklearn/metrics/cluster/unsupervised.py:342: RuntimeWarning: invalid value encountered in true_divide\n",
            "  score = (intra_dists[:, None] + intra_dists) / centroid_distances\n"
          ],
          "name": "stderr"
        },
        {
          "output_type": "stream",
          "text": [
            "For n_clusters = 11, The average silhouette_score is : 0.18805820578040527\n",
            "For n_clusters = 11, The average db_score is : 5.801631266085382\n",
            "For n_clusters = 11, The average cr_score is : 0.04299330630330141\n"
          ],
          "name": "stdout"
        },
        {
          "output_type": "stream",
          "text": [
            "/usr/local/lib/python3.6/dist-packages/sklearn/metrics/cluster/unsupervised.py:342: RuntimeWarning: divide by zero encountered in true_divide\n",
            "  score = (intra_dists[:, None] + intra_dists) / centroid_distances\n",
            "/usr/local/lib/python3.6/dist-packages/sklearn/metrics/cluster/unsupervised.py:342: RuntimeWarning: invalid value encountered in true_divide\n",
            "  score = (intra_dists[:, None] + intra_dists) / centroid_distances\n",
            "/usr/local/lib/python3.6/dist-packages/sklearn/metrics/cluster/unsupervised.py:342: RuntimeWarning: divide by zero encountered in true_divide\n",
            "  score = (intra_dists[:, None] + intra_dists) / centroid_distances\n",
            "/usr/local/lib/python3.6/dist-packages/sklearn/metrics/cluster/unsupervised.py:342: RuntimeWarning: invalid value encountered in true_divide\n",
            "  score = (intra_dists[:, None] + intra_dists) / centroid_distances\n",
            "/usr/local/lib/python3.6/dist-packages/sklearn/metrics/cluster/unsupervised.py:342: RuntimeWarning: divide by zero encountered in true_divide\n",
            "  score = (intra_dists[:, None] + intra_dists) / centroid_distances\n",
            "/usr/local/lib/python3.6/dist-packages/sklearn/metrics/cluster/unsupervised.py:342: RuntimeWarning: invalid value encountered in true_divide\n",
            "  score = (intra_dists[:, None] + intra_dists) / centroid_distances\n",
            "/usr/local/lib/python3.6/dist-packages/sklearn/metrics/cluster/unsupervised.py:342: RuntimeWarning: divide by zero encountered in true_divide\n",
            "  score = (intra_dists[:, None] + intra_dists) / centroid_distances\n",
            "/usr/local/lib/python3.6/dist-packages/sklearn/metrics/cluster/unsupervised.py:342: RuntimeWarning: invalid value encountered in true_divide\n",
            "  score = (intra_dists[:, None] + intra_dists) / centroid_distances\n",
            "/usr/local/lib/python3.6/dist-packages/sklearn/metrics/cluster/unsupervised.py:342: RuntimeWarning: divide by zero encountered in true_divide\n",
            "  score = (intra_dists[:, None] + intra_dists) / centroid_distances\n",
            "/usr/local/lib/python3.6/dist-packages/sklearn/metrics/cluster/unsupervised.py:342: RuntimeWarning: invalid value encountered in true_divide\n",
            "  score = (intra_dists[:, None] + intra_dists) / centroid_distances\n"
          ],
          "name": "stderr"
        },
        {
          "output_type": "stream",
          "text": [
            "For n_clusters = 12, The average silhouette_score is : 0.18424019496437347\n",
            "For n_clusters = 12, The average db_score is : 6.084868853639337\n",
            "For n_clusters = 12, The average cr_score is : 0.04630060907179969\n"
          ],
          "name": "stdout"
        },
        {
          "output_type": "stream",
          "text": [
            "/usr/local/lib/python3.6/dist-packages/sklearn/metrics/cluster/unsupervised.py:342: RuntimeWarning: divide by zero encountered in true_divide\n",
            "  score = (intra_dists[:, None] + intra_dists) / centroid_distances\n",
            "/usr/local/lib/python3.6/dist-packages/sklearn/metrics/cluster/unsupervised.py:342: RuntimeWarning: invalid value encountered in true_divide\n",
            "  score = (intra_dists[:, None] + intra_dists) / centroid_distances\n",
            "/usr/local/lib/python3.6/dist-packages/sklearn/metrics/cluster/unsupervised.py:342: RuntimeWarning: divide by zero encountered in true_divide\n",
            "  score = (intra_dists[:, None] + intra_dists) / centroid_distances\n",
            "/usr/local/lib/python3.6/dist-packages/sklearn/metrics/cluster/unsupervised.py:342: RuntimeWarning: invalid value encountered in true_divide\n",
            "  score = (intra_dists[:, None] + intra_dists) / centroid_distances\n",
            "/usr/local/lib/python3.6/dist-packages/sklearn/metrics/cluster/unsupervised.py:342: RuntimeWarning: divide by zero encountered in true_divide\n",
            "  score = (intra_dists[:, None] + intra_dists) / centroid_distances\n",
            "/usr/local/lib/python3.6/dist-packages/sklearn/metrics/cluster/unsupervised.py:342: RuntimeWarning: invalid value encountered in true_divide\n",
            "  score = (intra_dists[:, None] + intra_dists) / centroid_distances\n",
            "/usr/local/lib/python3.6/dist-packages/sklearn/metrics/cluster/unsupervised.py:342: RuntimeWarning: divide by zero encountered in true_divide\n",
            "  score = (intra_dists[:, None] + intra_dists) / centroid_distances\n",
            "/usr/local/lib/python3.6/dist-packages/sklearn/metrics/cluster/unsupervised.py:342: RuntimeWarning: invalid value encountered in true_divide\n",
            "  score = (intra_dists[:, None] + intra_dists) / centroid_distances\n",
            "/usr/local/lib/python3.6/dist-packages/sklearn/metrics/cluster/unsupervised.py:342: RuntimeWarning: divide by zero encountered in true_divide\n",
            "  score = (intra_dists[:, None] + intra_dists) / centroid_distances\n",
            "/usr/local/lib/python3.6/dist-packages/sklearn/metrics/cluster/unsupervised.py:342: RuntimeWarning: invalid value encountered in true_divide\n",
            "  score = (intra_dists[:, None] + intra_dists) / centroid_distances\n"
          ],
          "name": "stderr"
        },
        {
          "output_type": "stream",
          "text": [
            "For n_clusters = 13, The average silhouette_score is : 0.16647845504759246\n",
            "For n_clusters = 13, The average db_score is : 11.874347709498766\n",
            "For n_clusters = 13, The average cr_score is : 0.046449011224702255\n"
          ],
          "name": "stdout"
        },
        {
          "output_type": "stream",
          "text": [
            "/usr/local/lib/python3.6/dist-packages/sklearn/metrics/cluster/unsupervised.py:342: RuntimeWarning: divide by zero encountered in true_divide\n",
            "  score = (intra_dists[:, None] + intra_dists) / centroid_distances\n",
            "/usr/local/lib/python3.6/dist-packages/sklearn/metrics/cluster/unsupervised.py:342: RuntimeWarning: invalid value encountered in true_divide\n",
            "  score = (intra_dists[:, None] + intra_dists) / centroid_distances\n",
            "/usr/local/lib/python3.6/dist-packages/sklearn/metrics/cluster/unsupervised.py:342: RuntimeWarning: divide by zero encountered in true_divide\n",
            "  score = (intra_dists[:, None] + intra_dists) / centroid_distances\n",
            "/usr/local/lib/python3.6/dist-packages/sklearn/metrics/cluster/unsupervised.py:342: RuntimeWarning: invalid value encountered in true_divide\n",
            "  score = (intra_dists[:, None] + intra_dists) / centroid_distances\n",
            "/usr/local/lib/python3.6/dist-packages/sklearn/metrics/cluster/unsupervised.py:342: RuntimeWarning: divide by zero encountered in true_divide\n",
            "  score = (intra_dists[:, None] + intra_dists) / centroid_distances\n",
            "/usr/local/lib/python3.6/dist-packages/sklearn/metrics/cluster/unsupervised.py:342: RuntimeWarning: invalid value encountered in true_divide\n",
            "  score = (intra_dists[:, None] + intra_dists) / centroid_distances\n",
            "/usr/local/lib/python3.6/dist-packages/sklearn/metrics/cluster/unsupervised.py:342: RuntimeWarning: divide by zero encountered in true_divide\n",
            "  score = (intra_dists[:, None] + intra_dists) / centroid_distances\n",
            "/usr/local/lib/python3.6/dist-packages/sklearn/metrics/cluster/unsupervised.py:342: RuntimeWarning: invalid value encountered in true_divide\n",
            "  score = (intra_dists[:, None] + intra_dists) / centroid_distances\n",
            "/usr/local/lib/python3.6/dist-packages/sklearn/metrics/cluster/unsupervised.py:342: RuntimeWarning: divide by zero encountered in true_divide\n",
            "  score = (intra_dists[:, None] + intra_dists) / centroid_distances\n",
            "/usr/local/lib/python3.6/dist-packages/sklearn/metrics/cluster/unsupervised.py:342: RuntimeWarning: invalid value encountered in true_divide\n",
            "  score = (intra_dists[:, None] + intra_dists) / centroid_distances\n"
          ],
          "name": "stderr"
        },
        {
          "output_type": "stream",
          "text": [
            "For n_clusters = 14, The average silhouette_score is : 0.1050209212621259\n",
            "For n_clusters = 14, The average db_score is : 9.418308005590422\n",
            "For n_clusters = 14, The average cr_score is : 0.05190648930923787\n"
          ],
          "name": "stdout"
        },
        {
          "output_type": "stream",
          "text": [
            "/usr/local/lib/python3.6/dist-packages/sklearn/metrics/cluster/unsupervised.py:342: RuntimeWarning: divide by zero encountered in true_divide\n",
            "  score = (intra_dists[:, None] + intra_dists) / centroid_distances\n",
            "/usr/local/lib/python3.6/dist-packages/sklearn/metrics/cluster/unsupervised.py:342: RuntimeWarning: invalid value encountered in true_divide\n",
            "  score = (intra_dists[:, None] + intra_dists) / centroid_distances\n",
            "/usr/local/lib/python3.6/dist-packages/sklearn/metrics/cluster/unsupervised.py:342: RuntimeWarning: divide by zero encountered in true_divide\n",
            "  score = (intra_dists[:, None] + intra_dists) / centroid_distances\n",
            "/usr/local/lib/python3.6/dist-packages/sklearn/metrics/cluster/unsupervised.py:342: RuntimeWarning: invalid value encountered in true_divide\n",
            "  score = (intra_dists[:, None] + intra_dists) / centroid_distances\n",
            "/usr/local/lib/python3.6/dist-packages/sklearn/metrics/cluster/unsupervised.py:342: RuntimeWarning: divide by zero encountered in true_divide\n",
            "  score = (intra_dists[:, None] + intra_dists) / centroid_distances\n",
            "/usr/local/lib/python3.6/dist-packages/sklearn/metrics/cluster/unsupervised.py:342: RuntimeWarning: invalid value encountered in true_divide\n",
            "  score = (intra_dists[:, None] + intra_dists) / centroid_distances\n",
            "/usr/local/lib/python3.6/dist-packages/sklearn/metrics/cluster/unsupervised.py:342: RuntimeWarning: divide by zero encountered in true_divide\n",
            "  score = (intra_dists[:, None] + intra_dists) / centroid_distances\n",
            "/usr/local/lib/python3.6/dist-packages/sklearn/metrics/cluster/unsupervised.py:342: RuntimeWarning: invalid value encountered in true_divide\n",
            "  score = (intra_dists[:, None] + intra_dists) / centroid_distances\n",
            "/usr/local/lib/python3.6/dist-packages/sklearn/metrics/cluster/unsupervised.py:342: RuntimeWarning: divide by zero encountered in true_divide\n",
            "  score = (intra_dists[:, None] + intra_dists) / centroid_distances\n",
            "/usr/local/lib/python3.6/dist-packages/sklearn/metrics/cluster/unsupervised.py:342: RuntimeWarning: invalid value encountered in true_divide\n",
            "  score = (intra_dists[:, None] + intra_dists) / centroid_distances\n"
          ],
          "name": "stderr"
        },
        {
          "output_type": "stream",
          "text": [
            "For n_clusters = 15, The average silhouette_score is : 0.07219399683687135\n",
            "For n_clusters = 15, The average db_score is : 3.914691098424277\n",
            "For n_clusters = 15, The average cr_score is : 0.05358496550707963\n"
          ],
          "name": "stdout"
        },
        {
          "output_type": "stream",
          "text": [
            "/usr/local/lib/python3.6/dist-packages/sklearn/metrics/cluster/unsupervised.py:342: RuntimeWarning: divide by zero encountered in true_divide\n",
            "  score = (intra_dists[:, None] + intra_dists) / centroid_distances\n",
            "/usr/local/lib/python3.6/dist-packages/sklearn/metrics/cluster/unsupervised.py:342: RuntimeWarning: invalid value encountered in true_divide\n",
            "  score = (intra_dists[:, None] + intra_dists) / centroid_distances\n",
            "/usr/local/lib/python3.6/dist-packages/sklearn/metrics/cluster/unsupervised.py:342: RuntimeWarning: divide by zero encountered in true_divide\n",
            "  score = (intra_dists[:, None] + intra_dists) / centroid_distances\n",
            "/usr/local/lib/python3.6/dist-packages/sklearn/metrics/cluster/unsupervised.py:342: RuntimeWarning: invalid value encountered in true_divide\n",
            "  score = (intra_dists[:, None] + intra_dists) / centroid_distances\n",
            "/usr/local/lib/python3.6/dist-packages/sklearn/metrics/cluster/unsupervised.py:342: RuntimeWarning: divide by zero encountered in true_divide\n",
            "  score = (intra_dists[:, None] + intra_dists) / centroid_distances\n",
            "/usr/local/lib/python3.6/dist-packages/sklearn/metrics/cluster/unsupervised.py:342: RuntimeWarning: invalid value encountered in true_divide\n",
            "  score = (intra_dists[:, None] + intra_dists) / centroid_distances\n",
            "/usr/local/lib/python3.6/dist-packages/sklearn/metrics/cluster/unsupervised.py:342: RuntimeWarning: divide by zero encountered in true_divide\n",
            "  score = (intra_dists[:, None] + intra_dists) / centroid_distances\n",
            "/usr/local/lib/python3.6/dist-packages/sklearn/metrics/cluster/unsupervised.py:342: RuntimeWarning: invalid value encountered in true_divide\n",
            "  score = (intra_dists[:, None] + intra_dists) / centroid_distances\n",
            "/usr/local/lib/python3.6/dist-packages/sklearn/metrics/cluster/unsupervised.py:342: RuntimeWarning: divide by zero encountered in true_divide\n",
            "  score = (intra_dists[:, None] + intra_dists) / centroid_distances\n",
            "/usr/local/lib/python3.6/dist-packages/sklearn/metrics/cluster/unsupervised.py:342: RuntimeWarning: invalid value encountered in true_divide\n",
            "  score = (intra_dists[:, None] + intra_dists) / centroid_distances\n"
          ],
          "name": "stderr"
        },
        {
          "output_type": "stream",
          "text": [
            "For n_clusters = 16, The average silhouette_score is : -0.012256106452318635\n",
            "For n_clusters = 16, The average db_score is : 10.557661197023448\n",
            "For n_clusters = 16, The average cr_score is : 0.066980083435642\n"
          ],
          "name": "stdout"
        },
        {
          "output_type": "stream",
          "text": [
            "/usr/local/lib/python3.6/dist-packages/sklearn/metrics/cluster/unsupervised.py:342: RuntimeWarning: divide by zero encountered in true_divide\n",
            "  score = (intra_dists[:, None] + intra_dists) / centroid_distances\n",
            "/usr/local/lib/python3.6/dist-packages/sklearn/metrics/cluster/unsupervised.py:342: RuntimeWarning: invalid value encountered in true_divide\n",
            "  score = (intra_dists[:, None] + intra_dists) / centroid_distances\n",
            "/usr/local/lib/python3.6/dist-packages/sklearn/metrics/cluster/unsupervised.py:342: RuntimeWarning: divide by zero encountered in true_divide\n",
            "  score = (intra_dists[:, None] + intra_dists) / centroid_distances\n",
            "/usr/local/lib/python3.6/dist-packages/sklearn/metrics/cluster/unsupervised.py:342: RuntimeWarning: invalid value encountered in true_divide\n",
            "  score = (intra_dists[:, None] + intra_dists) / centroid_distances\n",
            "/usr/local/lib/python3.6/dist-packages/sklearn/metrics/cluster/unsupervised.py:342: RuntimeWarning: divide by zero encountered in true_divide\n",
            "  score = (intra_dists[:, None] + intra_dists) / centroid_distances\n",
            "/usr/local/lib/python3.6/dist-packages/sklearn/metrics/cluster/unsupervised.py:342: RuntimeWarning: invalid value encountered in true_divide\n",
            "  score = (intra_dists[:, None] + intra_dists) / centroid_distances\n",
            "/usr/local/lib/python3.6/dist-packages/sklearn/metrics/cluster/unsupervised.py:342: RuntimeWarning: divide by zero encountered in true_divide\n",
            "  score = (intra_dists[:, None] + intra_dists) / centroid_distances\n",
            "/usr/local/lib/python3.6/dist-packages/sklearn/metrics/cluster/unsupervised.py:342: RuntimeWarning: invalid value encountered in true_divide\n",
            "  score = (intra_dists[:, None] + intra_dists) / centroid_distances\n",
            "/usr/local/lib/python3.6/dist-packages/sklearn/metrics/cluster/unsupervised.py:342: RuntimeWarning: divide by zero encountered in true_divide\n",
            "  score = (intra_dists[:, None] + intra_dists) / centroid_distances\n",
            "/usr/local/lib/python3.6/dist-packages/sklearn/metrics/cluster/unsupervised.py:342: RuntimeWarning: invalid value encountered in true_divide\n",
            "  score = (intra_dists[:, None] + intra_dists) / centroid_distances\n"
          ],
          "name": "stderr"
        },
        {
          "output_type": "stream",
          "text": [
            "For n_clusters = 17, The average silhouette_score is : -0.03978483007826766\n",
            "For n_clusters = 17, The average db_score is : 9.547076458488373\n",
            "For n_clusters = 17, The average cr_score is : 0.07180562254464226\n"
          ],
          "name": "stdout"
        },
        {
          "output_type": "stream",
          "text": [
            "/usr/local/lib/python3.6/dist-packages/sklearn/metrics/cluster/unsupervised.py:342: RuntimeWarning: divide by zero encountered in true_divide\n",
            "  score = (intra_dists[:, None] + intra_dists) / centroid_distances\n",
            "/usr/local/lib/python3.6/dist-packages/sklearn/metrics/cluster/unsupervised.py:342: RuntimeWarning: invalid value encountered in true_divide\n",
            "  score = (intra_dists[:, None] + intra_dists) / centroid_distances\n",
            "/usr/local/lib/python3.6/dist-packages/sklearn/metrics/cluster/unsupervised.py:342: RuntimeWarning: divide by zero encountered in true_divide\n",
            "  score = (intra_dists[:, None] + intra_dists) / centroid_distances\n",
            "/usr/local/lib/python3.6/dist-packages/sklearn/metrics/cluster/unsupervised.py:342: RuntimeWarning: invalid value encountered in true_divide\n",
            "  score = (intra_dists[:, None] + intra_dists) / centroid_distances\n",
            "/usr/local/lib/python3.6/dist-packages/sklearn/metrics/cluster/unsupervised.py:342: RuntimeWarning: divide by zero encountered in true_divide\n",
            "  score = (intra_dists[:, None] + intra_dists) / centroid_distances\n",
            "/usr/local/lib/python3.6/dist-packages/sklearn/metrics/cluster/unsupervised.py:342: RuntimeWarning: invalid value encountered in true_divide\n",
            "  score = (intra_dists[:, None] + intra_dists) / centroid_distances\n",
            "/usr/local/lib/python3.6/dist-packages/sklearn/metrics/cluster/unsupervised.py:342: RuntimeWarning: divide by zero encountered in true_divide\n",
            "  score = (intra_dists[:, None] + intra_dists) / centroid_distances\n",
            "/usr/local/lib/python3.6/dist-packages/sklearn/metrics/cluster/unsupervised.py:342: RuntimeWarning: invalid value encountered in true_divide\n",
            "  score = (intra_dists[:, None] + intra_dists) / centroid_distances\n",
            "/usr/local/lib/python3.6/dist-packages/sklearn/metrics/cluster/unsupervised.py:342: RuntimeWarning: divide by zero encountered in true_divide\n",
            "  score = (intra_dists[:, None] + intra_dists) / centroid_distances\n",
            "/usr/local/lib/python3.6/dist-packages/sklearn/metrics/cluster/unsupervised.py:342: RuntimeWarning: invalid value encountered in true_divide\n",
            "  score = (intra_dists[:, None] + intra_dists) / centroid_distances\n"
          ],
          "name": "stderr"
        },
        {
          "output_type": "stream",
          "text": [
            "For n_clusters = 18, The average silhouette_score is : -0.08879606185660067\n",
            "For n_clusters = 18, The average db_score is : 13.233643565961254\n",
            "For n_clusters = 18, The average cr_score is : 0.08423553695490071\n"
          ],
          "name": "stdout"
        },
        {
          "output_type": "stream",
          "text": [
            "/usr/local/lib/python3.6/dist-packages/sklearn/metrics/cluster/unsupervised.py:342: RuntimeWarning: divide by zero encountered in true_divide\n",
            "  score = (intra_dists[:, None] + intra_dists) / centroid_distances\n",
            "/usr/local/lib/python3.6/dist-packages/sklearn/metrics/cluster/unsupervised.py:342: RuntimeWarning: invalid value encountered in true_divide\n",
            "  score = (intra_dists[:, None] + intra_dists) / centroid_distances\n",
            "/usr/local/lib/python3.6/dist-packages/sklearn/metrics/cluster/unsupervised.py:342: RuntimeWarning: divide by zero encountered in true_divide\n",
            "  score = (intra_dists[:, None] + intra_dists) / centroid_distances\n",
            "/usr/local/lib/python3.6/dist-packages/sklearn/metrics/cluster/unsupervised.py:342: RuntimeWarning: invalid value encountered in true_divide\n",
            "  score = (intra_dists[:, None] + intra_dists) / centroid_distances\n",
            "/usr/local/lib/python3.6/dist-packages/sklearn/metrics/cluster/unsupervised.py:342: RuntimeWarning: divide by zero encountered in true_divide\n",
            "  score = (intra_dists[:, None] + intra_dists) / centroid_distances\n",
            "/usr/local/lib/python3.6/dist-packages/sklearn/metrics/cluster/unsupervised.py:342: RuntimeWarning: invalid value encountered in true_divide\n",
            "  score = (intra_dists[:, None] + intra_dists) / centroid_distances\n",
            "/usr/local/lib/python3.6/dist-packages/sklearn/metrics/cluster/unsupervised.py:342: RuntimeWarning: divide by zero encountered in true_divide\n",
            "  score = (intra_dists[:, None] + intra_dists) / centroid_distances\n",
            "/usr/local/lib/python3.6/dist-packages/sklearn/metrics/cluster/unsupervised.py:342: RuntimeWarning: invalid value encountered in true_divide\n",
            "  score = (intra_dists[:, None] + intra_dists) / centroid_distances\n",
            "/usr/local/lib/python3.6/dist-packages/sklearn/metrics/cluster/unsupervised.py:342: RuntimeWarning: divide by zero encountered in true_divide\n",
            "  score = (intra_dists[:, None] + intra_dists) / centroid_distances\n",
            "/usr/local/lib/python3.6/dist-packages/sklearn/metrics/cluster/unsupervised.py:342: RuntimeWarning: invalid value encountered in true_divide\n",
            "  score = (intra_dists[:, None] + intra_dists) / centroid_distances\n"
          ],
          "name": "stderr"
        },
        {
          "output_type": "stream",
          "text": [
            "For n_clusters = 19, The average silhouette_score is : -0.10400801386064581\n",
            "For n_clusters = 19, The average db_score is : 11.71787945803024\n",
            "For n_clusters = 19, The average cr_score is : 0.0903617863721132\n"
          ],
          "name": "stdout"
        },
        {
          "output_type": "stream",
          "text": [
            "/usr/local/lib/python3.6/dist-packages/sklearn/metrics/cluster/unsupervised.py:342: RuntimeWarning: divide by zero encountered in true_divide\n",
            "  score = (intra_dists[:, None] + intra_dists) / centroid_distances\n",
            "/usr/local/lib/python3.6/dist-packages/sklearn/metrics/cluster/unsupervised.py:342: RuntimeWarning: invalid value encountered in true_divide\n",
            "  score = (intra_dists[:, None] + intra_dists) / centroid_distances\n",
            "/usr/local/lib/python3.6/dist-packages/sklearn/metrics/cluster/unsupervised.py:342: RuntimeWarning: divide by zero encountered in true_divide\n",
            "  score = (intra_dists[:, None] + intra_dists) / centroid_distances\n",
            "/usr/local/lib/python3.6/dist-packages/sklearn/metrics/cluster/unsupervised.py:342: RuntimeWarning: invalid value encountered in true_divide\n",
            "  score = (intra_dists[:, None] + intra_dists) / centroid_distances\n",
            "/usr/local/lib/python3.6/dist-packages/sklearn/metrics/cluster/unsupervised.py:342: RuntimeWarning: divide by zero encountered in true_divide\n",
            "  score = (intra_dists[:, None] + intra_dists) / centroid_distances\n",
            "/usr/local/lib/python3.6/dist-packages/sklearn/metrics/cluster/unsupervised.py:342: RuntimeWarning: invalid value encountered in true_divide\n",
            "  score = (intra_dists[:, None] + intra_dists) / centroid_distances\n",
            "/usr/local/lib/python3.6/dist-packages/sklearn/metrics/cluster/unsupervised.py:342: RuntimeWarning: divide by zero encountered in true_divide\n",
            "  score = (intra_dists[:, None] + intra_dists) / centroid_distances\n",
            "/usr/local/lib/python3.6/dist-packages/sklearn/metrics/cluster/unsupervised.py:342: RuntimeWarning: invalid value encountered in true_divide\n",
            "  score = (intra_dists[:, None] + intra_dists) / centroid_distances\n"
          ],
          "name": "stderr"
        },
        {
          "output_type": "stream",
          "text": [
            "For n_clusters = 20, The average silhouette_score is : -0.09651404041223363\n",
            "For n_clusters = 20, The average db_score is : 9.146120678428456\n",
            "For n_clusters = 20, The average cr_score is : 0.0877937738360216\n"
          ],
          "name": "stdout"
        },
        {
          "output_type": "stream",
          "text": [
            "/usr/local/lib/python3.6/dist-packages/sklearn/metrics/cluster/unsupervised.py:342: RuntimeWarning: divide by zero encountered in true_divide\n",
            "  score = (intra_dists[:, None] + intra_dists) / centroid_distances\n",
            "/usr/local/lib/python3.6/dist-packages/sklearn/metrics/cluster/unsupervised.py:342: RuntimeWarning: invalid value encountered in true_divide\n",
            "  score = (intra_dists[:, None] + intra_dists) / centroid_distances\n"
          ],
          "name": "stderr"
        }
      ]
    },
    {
      "cell_type": "code",
      "metadata": {
        "id": "EVWdZw8u46A8",
        "colab_type": "code",
        "outputId": "8c640b92-ea22-454f-a0a8-362806727138",
        "colab": {
          "base_uri": "https://localhost:8080/",
          "height": 291
        }
      },
      "source": [
        "plt.plot(em_values, silhouette_scores)\n",
        "#plt.axis([2, 21, 0.8, 1])\n",
        "plt.xticks(np.arange(2, 21, step=1))\n",
        "plt.xlabel(\"k values\")\n",
        "plt.ylabel(\"silhouette score\")\n",
        "plt.show()"
      ],
      "execution_count": 0,
      "outputs": [
        {
          "output_type": "display_data",
          "data": {
            "image/png": "[encoded data removed]",
            "text/plain": [
              "<Figure size 432x288 with 1 Axes>"
            ]
          },
          "metadata": {
            "tags": []
          }
        }
      ]
    },
    {
      "cell_type": "code",
      "metadata": {
        "id": "rgm4yJBi5GmI",
        "colab_type": "code",
        "outputId": "4d1fd5cc-4f1c-4ce3-f04b-152e9fbe7c4c",
        "colab": {
          "base_uri": "https://localhost:8080/",
          "height": 291
        }
      },
      "source": [
        "plt.plot(em_values, db_scores)\n",
        "#plt.axis([2, 21, 0.8, 1])\n",
        "plt.xticks(np.arange(2, 21, step=1))\n",
        "plt.xlabel(\"k values\")\n",
        "plt.ylabel(\"db score\")\n",
        "plt.show()"
      ],
      "execution_count": 0,
      "outputs": [
        {
          "output_type": "display_data",
          "data": {
            "image/png": "[encoded data removed]",
            "text/plain": [
              "<Figure size 432x288 with 1 Axes>"
            ]
          },
          "metadata": {
            "tags": []
          }
        }
      ]
    },
    {
      "cell_type": "code",
      "metadata": {
        "id": "9KNWnFCr5R87",
        "colab_type": "code",
        "outputId": "7121c5f7-62c4-4297-e3f4-e1fe5161088c",
        "colab": {
          "base_uri": "https://localhost:8080/",
          "height": 291
        }
      },
      "source": [
        "plt.plot(em_values, cr_scores)\n",
        "#plt.axis([2, 21, 0.8, 1])\n",
        "plt.xticks(np.arange(2, 21, step=1))\n",
        "plt.xlabel(\"k values\")\n",
        "plt.ylabel(\"cr score\")\n",
        "plt.show()"
      ],
      "execution_count": 0,
      "outputs": [
        {
          "output_type": "display_data",
          "data": {
            "image/png": "[encoded data removed]",
            "text/plain": [
              "<Figure size 432x288 with 1 Axes>"
            ]
          },
          "metadata": {
            "tags": []
          }
        }
      ]
    },
    {
      "cell_type": "markdown",
      "metadata": {
        "id": "-LrLJ4iyD2Dh",
        "colab_type": "text"
      },
      "source": [
        "### KMeans: K = 2, Seed = 10"
      ]
    },
    {
      "cell_type": "code",
      "metadata": {
        "id": "oF3Pxtdhsbl0",
        "colab_type": "code",
        "outputId": "7ef6cf8c-fc92-457e-8b2f-d48daf56272d",
        "colab": {
          "base_uri": "https://localhost:8080/",
          "height": 197
        }
      },
      "source": [
        "print(\"Silhouette Coefficient (k = 2, seed = 10): %0.3f\" \n",
        "      % silhouette_score(DS_resampled, cluster_labels, metric='euclidean'))\n",
        "  "
      ],
      "execution_count": 0,
      "outputs": [
        {
          "output_type": "error",
          "ename": "TypeError",
          "evalue": "ignored",
          "traceback": [
            "\u001b[0;31m---------------------------------------------------------------------------\u001b[0m",
            "\u001b[0;31mTypeError\u001b[0m                                 Traceback (most recent call last)",
            "\u001b[0;32m<ipython-input-71-a99bf8012ffa>\u001b[0m in \u001b[0;36m<module>\u001b[0;34m()\u001b[0m\n\u001b[1;32m      1\u001b[0m print(\"Silhouette Coefficient (k = 2, seed = 10): %0.3f\" \n\u001b[0;32m----> 2\u001b[0;31m       % silhouette_score(DS_resampled, cluster_labels, metric='euclidean'))\n\u001b[0m\u001b[1;32m      3\u001b[0m \u001b[0;34m\u001b[0m\u001b[0m\n",
            "\u001b[0;31mTypeError\u001b[0m: 'numpy.float64' object is not callable"
          ]
        }
      ]
    },
    {
      "cell_type": "code",
      "metadata": {
        "id": "rvT7aKhj60ol",
        "colab_type": "code",
        "outputId": "5855bbc2-6efb-4be3-8e8f-b46e699e4fe2",
        "colab": {
          "base_uri": "https://localhost:8080/",
          "height": 88
        }
      },
      "source": [
        "print(\"Davies Bouldin Coefficient (k = 2, seed = 10): %0.3f\"\n",
        "      % davies_bouldin_score(DS_resampled, cluster_labels))\n"
      ],
      "execution_count": 0,
      "outputs": [
        {
          "output_type": "stream",
          "text": [
            "Davies Bouldin Coefficient (k = 2, seed = 10): 0.361\n"
          ],
          "name": "stdout"
        },
        {
          "output_type": "stream",
          "text": [
            "/usr/local/lib/python3.6/dist-packages/sklearn/metrics/cluster/unsupervised.py:342: RuntimeWarning: divide by zero encountered in true_divide\n",
            "  score = (intra_dists[:, None] + intra_dists) / centroid_distances\n"
          ],
          "name": "stderr"
        }
      ]
    },
    {
      "cell_type": "code",
      "metadata": {
        "id": "5sDdCqeRrJgs",
        "colab_type": "code",
        "outputId": "6be919bf-a7c5-4e56-e23a-735fbc52e0e1",
        "colab": {
          "base_uri": "https://localhost:8080/",
          "height": 34
        }
      },
      "source": [
        "unique, counts = np.unique(kmeans.labels_, return_counts=True)\n",
        "dict(zip(unique, counts))"
      ],
      "execution_count": 0,
      "outputs": [
        {
          "output_type": "execute_result",
          "data": {
            "text/plain": [
              "{0: 275629, 1: 124648}"
            ]
          },
          "metadata": {
            "tags": []
          },
          "execution_count": 34
        }
      ]
    },
    {
      "cell_type": "code",
      "metadata": {
        "id": "g3YL2NHxy-KU",
        "colab_type": "code",
        "colab": {}
      },
      "source": [
        "#https://www.dropbox.com/sh/fhkqy2wybxjl0n5/AAABevgbnnM4HSdPgeUU6tgPa?dl=0"
      ],
      "execution_count": 0,
      "outputs": []
    },
    {
      "cell_type": "code",
      "metadata": {
        "id": "DrFQMJkwf5xX",
        "colab_type": "code",
        "outputId": "359b77df-9041-4fa4-b703-500f91bd1977",
        "colab": {
          "base_uri": "https://localhost:8080/",
          "height": 34
        }
      },
      "source": [
        "start = time.time()\n",
        "\n",
        "print(\"Silhouette Coefficient (k = 2, seed = 10): %0.3f\"\n",
        "      % silhouette_score(sdv_data, cluster_labels, metric='euclidean'))\n",
        "\n",
        "end = time.time()"
      ],
      "execution_count": 0,
      "outputs": [
        {
          "output_type": "stream",
          "text": [
            "Silhouette Coefficient (k = 2, seed = 10): 0.325\n"
          ],
          "name": "stdout"
        }
      ]
    },
    {
      "cell_type": "code",
      "metadata": {
        "id": "VnCcczoytD_J",
        "colab_type": "code",
        "outputId": "b9461e30-1f22-42a3-8e9a-8b4a30fa23b2",
        "colab": {
          "base_uri": "https://localhost:8080/",
          "height": 34
        }
      },
      "source": [
        "end - start"
      ],
      "execution_count": 0,
      "outputs": [
        {
          "output_type": "execute_result",
          "data": {
            "text/plain": [
              "2507.3639125823975"
            ]
          },
          "metadata": {
            "tags": []
          },
          "execution_count": 56
        }
      ]
    },
    {
      "cell_type": "code",
      "metadata": {
        "id": "2F2NVaCpNRyA",
        "colab_type": "code",
        "outputId": "863f49ba-6dc3-474b-cc59-b99fe2e69f89",
        "colab": {
          "base_uri": "https://localhost:8080/",
          "height": 241
        }
      },
      "source": [
        "print(__doc__)\n",
        "\n",
        "from time import time\n",
        "import numpy as np\n",
        "import matplotlib.pyplot as plt\n",
        "\n",
        "from sklearn import metrics\n",
        "from sklearn.cluster import KMeans\n",
        "from sklearn.datasets import load_digits\n",
        "from sklearn.decomposition import PCA\n",
        "from sklearn.preprocessing import scale\n",
        "\n",
        "np.random.seed(42)\n",
        "\n",
        "digits = load_digits()\n",
        "data = scale(digits.data)\n",
        "\n",
        "n_samples, n_features = data.shape\n",
        "n_digits = len(np.unique(digits.target))\n",
        "labels = digits.target\n",
        "\n",
        "sample_size = 300\n",
        "\n",
        "print(\"n_digits: %d, \\t n_samples %d, \\t n_features %d\"\n",
        "      % (n_digits, n_samples, n_features))\n",
        "\n",
        "\n",
        "print(82 * '_')\n",
        "print('init\\t\\ttime\\tinertia\\thomo\\tcompl\\tv-meas\\tARI\\tAMI\\tsilhouette')\n",
        "\n",
        "\n",
        "def bench_k_means(estimator, name, data):\n",
        "    t0 = time()\n",
        "    estimator.fit(data)\n",
        "    print(estimator.labels_)\n",
        "    print('%-9s\\t%.2fs\\t%i\\t%.3f\\t%.3f\\t%.3f\\t%.3f\\t%.3f\\t%.3f'\n",
        "          % (name, (time() - t0), estimator.inertia_,\n",
        "             metrics.homogeneity_score(labels, estimator.labels_),\n",
        "             metrics.completeness_score(labels, estimator.labels_),\n",
        "             metrics.v_measure_score(labels, estimator.labels_),\n",
        "             metrics.adjusted_rand_score(labels, estimator.labels_),\n",
        "             metrics.adjusted_mutual_info_score(labels,  estimator.labels_,\n",
        "                                                average_method='arithmetic'),\n",
        "             metrics.silhouette_score(data, estimator.labels_,\n",
        "                                      metric='euclidean',\n",
        "                                      sample_size=sample_size)))\n",
        "\n",
        "bench_k_means(KMeans(init='k-means++', n_clusters=2, n_init=10),\n",
        "              name=\"k-means++\", data=data)\n",
        "\n",
        "bench_k_means(KMeans(init='random', n_clusters=2, n_init=10),\n",
        "              name=\"random\", data=data)\n",
        "\n",
        "# in this case the seeding of the centers is deterministic, hence we run the\n",
        "# kmeans algorithm only once with n_init=1\n",
        "pca = PCA(n_components=n_digits).fit(data)\n",
        "bench_k_means(KMeans(init=pca.components_, n_clusters=10, n_init=1),\n",
        "              name=\"PCA-based\",\n",
        "              data=data)\n",
        "print(82 * '_')\n",
        "\n",
        "# #############################################################################\n",
        "# Visualize the results on PCA-reduced data\n",
        "'''\n",
        "reduced_data = PCA(n_components=2).fit_transform(data)\n",
        "kmeans = KMeans(init='k-means++', n_clusters=n_digits, n_init=10)\n",
        "kmeans.fit(reduced_data)\n",
        "\n",
        "# Step size of the mesh. Decrease to increase the quality of the VQ.\n",
        "h = .02     # point in the mesh [x_min, x_max]x[y_min, y_max].\n",
        "\n",
        "# Plot the decision boundary. For that, we will assign a color to each\n",
        "x_min, x_max = reduced_data[:, 0].min() - 1, reduced_data[:, 0].max() + 1\n",
        "y_min, y_max = reduced_data[:, 1].min() - 1, reduced_data[:, 1].max() + 1\n",
        "xx, yy = np.meshgrid(np.arange(x_min, x_max, h), np.arange(y_min, y_max, h))\n",
        "\n",
        "# Obtain labels for each point in mesh. Use last trained model.\n",
        "Z = kmeans.predict(np.c_[xx.ravel(), yy.ravel()])\n",
        "\n",
        "# Put the result into a color plot\n",
        "Z = Z.reshape(xx.shape)\n",
        "plt.figure(1)\n",
        "plt.clf()\n",
        "plt.imshow(Z, interpolation='nearest',\n",
        "           extent=(xx.min(), xx.max(), yy.min(), yy.max()),\n",
        "           cmap=plt.cm.Paired,\n",
        "           aspect='auto', origin='lower')\n",
        "\n",
        "plt.plot(reduced_data[:, 0], reduced_data[:, 1], 'k.', markersize=2)\n",
        "# Plot the centroids as a white X\n",
        "centroids = kmeans.cluster_centers_\n",
        "plt.scatter(centroids[:, 0], centroids[:, 1],\n",
        "            marker='x', s=169, linewidths=3,\n",
        "            color='w', zorder=10)\n",
        "plt.title('K-means clustering on the digits dataset (PCA-reduced data)\\n'\n",
        "          'Centroids are marked with white cross')\n",
        "plt.xlim(x_min, x_max)\n",
        "plt.ylim(y_min, y_max)\n",
        "plt.xticks(())\n",
        "plt.yticks(())\n",
        "plt.show()'''"
      ],
      "execution_count": 0,
      "outputs": [
        {
          "output_type": "stream",
          "text": [
            "Automatically created module for IPython interactive environment\n",
            "n_digits: 10, \t n_samples 1797, \t n_features 64\n",
            "__________________________________________________________________________________\n",
            "init\t\ttime\tinertia\thomo\tcompl\tv-meas\tARI\tAMI\tsilhouette\n",
            "[0 1 0 ... 0 0 1]\n",
            "k-means++\t0.14s\t100431\t0.176\t0.604\t0.273\t0.123\t0.272\t0.100\n",
            "[0 1 0 ... 0 0 1]\n",
            "random   \t0.12s\t100429\t0.180\t0.619\t0.279\t0.125\t0.278\t0.105\n",
            "[3 2 2 ... 2 9 9]\n",
            "PCA-based\t0.04s\t70768\t0.667\t0.694\t0.681\t0.557\t0.677\t0.134\n",
            "__________________________________________________________________________________\n"
          ],
          "name": "stdout"
        },
        {
          "output_type": "execute_result",
          "data": {
            "text/plain": [
              "\"\\nreduced_data = PCA(n_components=2).fit_transform(data)\\nkmeans = KMeans(init='k-means++', n_clusters=n_digits, n_init=10)\\nkmeans.fit(reduced_data)\\n\\n# Step size of the mesh. Decrease to increase the quality of the VQ.\\nh = .02     # point in the mesh [x_min, x_max]x[y_min, y_max].\\n\\n# Plot the decision boundary. For that, we will assign a color to each\\nx_min, x_max = reduced_data[:, 0].min() - 1, reduced_data[:, 0].max() + 1\\ny_min, y_max = reduced_data[:, 1].min() - 1, reduced_data[:, 1].max() + 1\\nxx, yy = np.meshgrid(np.arange(x_min, x_max, h), np.arange(y_min, y_max, h))\\n\\n# Obtain labels for each point in mesh. Use last trained model.\\nZ = kmeans.predict(np.c_[xx.ravel(), yy.ravel()])\\n\\n# Put the result into a color plot\\nZ = Z.reshape(xx.shape)\\nplt.figure(1)\\nplt.clf()\\nplt.imshow(Z, interpolation='nearest',\\n           extent=(xx.min(), xx.max(), yy.min(), yy.max()),\\n           cmap=plt.cm.Paired,\\n           aspect='auto', origin='lower')\\n\\nplt.plot(reduced_data[:, 0], reduced_data[:, 1], 'k.', markersize=2)\\n# Plot the centroids as a white X\\ncentroids = kmeans.cluster_centers_\\nplt.scatter(centroids[:, 0], centroids[:, 1],\\n            marker='x', s=169, linewidths=3,\\n            color='w', zorder=10)\\nplt.title('K-means clustering on the digits dataset (PCA-reduced data)\\n'\\n          'Centroids are marked with white cross')\\nplt.xlim(x_min, x_max)\\nplt.ylim(y_min, y_max)\\nplt.xticks(())\\nplt.yticks(())\\nplt.show()\""
            ]
          },
          "metadata": {
            "tags": []
          },
          "execution_count": 20
        }
      ]
    },
    {
      "cell_type": "code",
      "metadata": {
        "id": "GFdJBHBqNsmv",
        "colab_type": "code",
        "outputId": "6f69caa6-4d16-4314-9660-63a8896f645f",
        "colab": {
          "base_uri": "https://localhost:8080/",
          "height": 34
        }
      },
      "source": [
        "labels"
      ],
      "execution_count": 0,
      "outputs": [
        {
          "output_type": "execute_result",
          "data": {
            "text/plain": [
              "array([0, 1, 2, ..., 8, 9, 8])"
            ]
          },
          "metadata": {
            "tags": []
          },
          "execution_count": 15
        }
      ]
    },
    {
      "cell_type": "code",
      "metadata": {
        "id": "A-POgAzTNtm-",
        "colab_type": "code",
        "colab": {}
      },
      "source": [
        ""
      ],
      "execution_count": 0,
      "outputs": []
    }
  ]
}