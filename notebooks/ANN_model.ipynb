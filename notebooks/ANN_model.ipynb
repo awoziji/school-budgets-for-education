{
 "cells": [
  {
   "cell_type": "code",
   "execution_count": 61,
   "metadata": {
    "collapsed": true
   },
   "outputs": [
    {
     "name": "stdout",
     "output_type": "stream",
     "text": [
      "Collecting tensorflow\n",
      "\u001b[?25l  Downloading https://files.pythonhosted.org/packages/77/63/a9fa76de8dffe7455304c4ed635be4aa9c0bacef6e0633d87d5f54530c5c/tensorflow-1.13.1-cp36-cp36m-manylinux1_x86_64.whl (92.5MB)\n",
      "\u001b[K    100% |████████████████████████████████| 92.5MB 49kB/s eta 0:00:011    13% |████▍                           | 12.6MB 4.3MB/s eta 0:00:19    14% |████▌                           | 13.0MB 3.0MB/s eta 0:00:27    67% |█████████████████████▋          | 62.4MB 2.3MB/s eta 0:00:13\n",
      "\u001b[?25hRequirement already satisfied: astor>=0.6.0 in /home/danielmarx/.local/lib/python3.6/site-packages (from tensorflow) (0.6.2)\n",
      "Requirement already satisfied: numpy>=1.13.3 in /home/danielmarx/.local/lib/python3.6/site-packages (from tensorflow) (1.14.5)\n",
      "Requirement already satisfied: keras-applications>=1.0.6 in /home/danielmarx/anaconda3/lib/python3.6/site-packages (from tensorflow) (1.0.7)\n",
      "Requirement already satisfied: absl-py>=0.1.6 in /home/danielmarx/anaconda3/lib/python3.6/site-packages (from tensorflow) (0.7.1)\n",
      "Requirement already satisfied: wheel>=0.26 in /home/danielmarx/.local/lib/python3.6/site-packages (from tensorflow) (0.31.1)\n",
      "Requirement already satisfied: keras-preprocessing>=1.0.5 in /home/danielmarx/anaconda3/lib/python3.6/site-packages (from tensorflow) (1.0.9)\n",
      "Requirement already satisfied: termcolor>=1.1.0 in /home/danielmarx/.local/lib/python3.6/site-packages (from tensorflow) (1.1.0)\n",
      "Requirement already satisfied: gast>=0.2.0 in /home/danielmarx/.local/lib/python3.6/site-packages (from tensorflow) (0.2.0)\n",
      "Requirement already satisfied: grpcio>=1.8.6 in /home/danielmarx/.local/lib/python3.6/site-packages (from tensorflow) (1.12.1)\n",
      "Collecting tensorboard<1.14.0,>=1.13.0 (from tensorflow)\n",
      "\u001b[?25l  Downloading https://files.pythonhosted.org/packages/0f/39/bdd75b08a6fba41f098b6cb091b9e8c7a80e1b4d679a581a0ccd17b10373/tensorboard-1.13.1-py3-none-any.whl (3.2MB)\n",
      "\u001b[K    100% |████████████████████████████████| 3.2MB 1.4MB/s ta 0:00:01\n",
      "\u001b[?25hRequirement already satisfied: protobuf>=3.6.1 in /home/danielmarx/anaconda3/lib/python3.6/site-packages (from tensorflow) (3.7.1)\n",
      "Collecting tensorflow-estimator<1.14.0rc0,>=1.13.0 (from tensorflow)\n",
      "\u001b[?25l  Downloading https://files.pythonhosted.org/packages/bb/48/13f49fc3fa0fdf916aa1419013bb8f2ad09674c275b4046d5ee669a46873/tensorflow_estimator-1.13.0-py2.py3-none-any.whl (367kB)\n",
      "\u001b[K    100% |████████████████████████████████| 368kB 3.6MB/s ta 0:00:01\n",
      "\u001b[?25hRequirement already satisfied: six>=1.10.0 in /home/danielmarx/.local/lib/python3.6/site-packages (from tensorflow) (1.11.0)\n",
      "Requirement already satisfied: h5py in /home/danielmarx/anaconda3/lib/python3.6/site-packages (from keras-applications>=1.0.6->tensorflow) (2.7.1)\n",
      "Requirement already satisfied: werkzeug>=0.11.15 in /home/danielmarx/.local/lib/python3.6/site-packages (from tensorboard<1.14.0,>=1.13.0->tensorflow) (0.14.1)\n",
      "Requirement already satisfied: markdown>=2.6.8 in /home/danielmarx/.local/lib/python3.6/site-packages (from tensorboard<1.14.0,>=1.13.0->tensorflow) (2.6.11)\n",
      "Requirement already satisfied: setuptools in /home/danielmarx/.local/lib/python3.6/site-packages (from protobuf>=3.6.1->tensorflow) (39.2.0)\n",
      "Collecting mock>=2.0.0 (from tensorflow-estimator<1.14.0rc0,>=1.13.0->tensorflow)\n",
      "\u001b[?25l  Downloading https://files.pythonhosted.org/packages/e6/35/f187bdf23be87092bd0f1200d43d23076cee4d0dec109f195173fd3ebc79/mock-2.0.0-py2.py3-none-any.whl (56kB)\n",
      "\u001b[K    100% |████████████████████████████████| 61kB 1.6MB/s ta 0:00:01\n",
      "\u001b[?25hCollecting pbr>=0.11 (from mock>=2.0.0->tensorflow-estimator<1.14.0rc0,>=1.13.0->tensorflow)\n",
      "\u001b[?25l  Downloading https://files.pythonhosted.org/packages/14/09/12fe9a14237a6b7e0ba3a8d6fcf254bf4b10ec56a0185f73d651145e9222/pbr-5.1.3-py2.py3-none-any.whl (107kB)\n",
      "\u001b[K    100% |████████████████████████████████| 112kB 3.5MB/s ta 0:00:01\n",
      "\u001b[?25hInstalling collected packages: tensorboard, pbr, mock, tensorflow-estimator, tensorflow\n",
      "  Found existing installation: tensorboard 1.8.0\n",
      "    Uninstalling tensorboard-1.8.0:\n",
      "      Successfully uninstalled tensorboard-1.8.0\n",
      "Successfully installed mock-2.0.0 pbr-5.1.3 tensorboard-1.13.1 tensorflow-1.13.1 tensorflow-estimator-1.13.0\n"
     ]
    }
   ],
   "source": [
    "#Necessary to install keras\n",
    "!pip install tensorflow"
   ]
  },
  {
   "cell_type": "code",
   "execution_count": 49,
   "metadata": {
    "collapsed": true
   },
   "outputs": [
    {
     "name": "stdout",
     "output_type": "stream",
     "text": [
      "Collecting keras\n",
      "\u001b[?25l  Downloading https://files.pythonhosted.org/packages/5e/10/aa32dad071ce52b5502266b5c659451cfd6ffcbf14e6c8c4f16c0ff5aaab/Keras-2.2.4-py2.py3-none-any.whl (312kB)\n",
      "\u001b[K    100% |████████████████████████████████| 317kB 1.3MB/s ta 0:00:01\n",
      "\u001b[?25hRequirement already satisfied: keras-preprocessing>=1.0.5 in /home/danielmarx/anaconda3/lib/python3.6/site-packages (from keras) (1.0.9)\n",
      "Requirement already satisfied: six>=1.9.0 in /home/danielmarx/.local/lib/python3.6/site-packages (from keras) (1.11.0)\n",
      "Requirement already satisfied: keras-applications>=1.0.6 in /home/danielmarx/anaconda3/lib/python3.6/site-packages (from keras) (1.0.7)\n",
      "Requirement already satisfied: pyyaml in /home/danielmarx/anaconda3/lib/python3.6/site-packages (from keras) (3.12)\n",
      "Requirement already satisfied: scipy>=0.14 in /home/danielmarx/anaconda3/lib/python3.6/site-packages (from keras) (1.1.0)\n",
      "Requirement already satisfied: h5py in /home/danielmarx/anaconda3/lib/python3.6/site-packages (from keras) (2.7.1)\n",
      "Requirement already satisfied: numpy>=1.9.1 in /home/danielmarx/.local/lib/python3.6/site-packages (from keras) (1.14.5)\n",
      "Installing collected packages: keras\n",
      "Successfully installed keras-2.2.4\n"
     ]
    }
   ],
   "source": [
    "#Keras :)\n",
    "!pip install keras"
   ]
  },
  {
   "cell_type": "code",
   "execution_count": 1,
   "metadata": {},
   "outputs": [],
   "source": [
    "import pandas as pd\n",
    "import numpy as np\n",
    "from sklearn.feature_extraction.text import HashingVectorizer\n",
    "#from sklearn.impute import SimpleImputer\n",
    "from sklearn.preprocessing import Imputer\n",
    "import matplotlib.pyplot as plt"
   ]
  },
  {
   "cell_type": "code",
   "execution_count": 2,
   "metadata": {},
   "outputs": [],
   "source": [
    "#Read the data using the Unnamed (probably id) as index\n",
    "url = 'https://s3.amazonaws.com/drivendata/data/4/public/81e8f2de-9915-4934-b9ae-9705685c9d50.csv'\n",
    "training = pd.read_csv(url, index_col='Unnamed: 0')\n",
    "\n",
    "labels = ['Function', 'Object_Type', 'Operating_Status', 'Position_Type', 'Pre_K', 'Reporting', \n",
    "          'Sharing', 'Student_Type', 'Use']\n",
    "\n",
    "numeric = ['FTE', 'Total']\n",
    "\n",
    "categoric = [ 'Facility_or_Department', 'Function_Description', \n",
    "            'Fund_Description', 'Job_Title_Description', 'Location_Description', \n",
    "            'Object_Description', 'Position_Extra', 'Program_Description', 'SubFund_Description', \n",
    "            'Sub_Object_Description', \n",
    "            'Text_1', 'Text_2', 'Text_3', 'Text_4']"
   ]
  },
  {
   "cell_type": "markdown",
   "metadata": {},
   "source": [
    "## Data cleaning\n",
    "\n",
    "### Part 1: numeric data\n",
    "First of all, the numeric columns `FTE` and `Total` must be cleaned. The outliers will be treated as `NaN` values and imputation will be applied to the missing data."
   ]
  },
  {
   "cell_type": "code",
   "execution_count": 3,
   "metadata": {},
   "outputs": [],
   "source": [
    "# Remove inconsistent data\n",
    "training[training['FTE'] < 0] = np.nan\n",
    "training[training['Total'] < 0] = np.nan"
   ]
  },
  {
   "cell_type": "code",
   "execution_count": 4,
   "metadata": {},
   "outputs": [
    {
     "data": {
      "text/plain": [
       "count    125849.000000\n",
       "mean          0.427436\n",
       "std           0.573810\n",
       "min           0.000000\n",
       "25%           0.001078\n",
       "50%           0.133337\n",
       "75%           1.000000\n",
       "max          46.800000\n",
       "Name: FTE, dtype: float64"
      ]
     },
     "execution_count": 4,
     "metadata": {},
     "output_type": "execute_result"
    }
   ],
   "source": [
    "training['FTE'].describe()"
   ]
  },
  {
   "cell_type": "code",
   "execution_count": 5,
   "metadata": {},
   "outputs": [
    {
     "data": {
      "text/html": [
       "<div>\n",
       "<style scoped>\n",
       "    .dataframe tbody tr th:only-of-type {\n",
       "        vertical-align: middle;\n",
       "    }\n",
       "\n",
       "    .dataframe tbody tr th {\n",
       "        vertical-align: top;\n",
       "    }\n",
       "\n",
       "    .dataframe thead th {\n",
       "        text-align: right;\n",
       "    }\n",
       "</style>\n",
       "<table border=\"1\" class=\"dataframe\">\n",
       "  <thead>\n",
       "    <tr style=\"text-align: right;\">\n",
       "      <th></th>\n",
       "      <th>Function</th>\n",
       "      <th>Use</th>\n",
       "      <th>Sharing</th>\n",
       "      <th>Reporting</th>\n",
       "      <th>Student_Type</th>\n",
       "      <th>Position_Type</th>\n",
       "      <th>Object_Type</th>\n",
       "      <th>Pre_K</th>\n",
       "      <th>Operating_Status</th>\n",
       "      <th>Object_Description</th>\n",
       "      <th>...</th>\n",
       "      <th>Sub_Object_Description</th>\n",
       "      <th>Location_Description</th>\n",
       "      <th>FTE</th>\n",
       "      <th>Function_Description</th>\n",
       "      <th>Facility_or_Department</th>\n",
       "      <th>Position_Extra</th>\n",
       "      <th>Total</th>\n",
       "      <th>Program_Description</th>\n",
       "      <th>Fund_Description</th>\n",
       "      <th>Text_1</th>\n",
       "    </tr>\n",
       "  </thead>\n",
       "  <tbody>\n",
       "  </tbody>\n",
       "</table>\n",
       "<p>0 rows × 25 columns</p>\n",
       "</div>"
      ],
      "text/plain": [
       "Empty DataFrame\n",
       "Columns: [Function, Use, Sharing, Reporting, Student_Type, Position_Type, Object_Type, Pre_K, Operating_Status, Object_Description, Text_2, SubFund_Description, Job_Title_Description, Text_3, Text_4, Sub_Object_Description, Location_Description, FTE, Function_Description, Facility_or_Department, Position_Extra, Total, Program_Description, Fund_Description, Text_1]\n",
       "Index: []\n",
       "\n",
       "[0 rows x 25 columns]"
      ]
     },
     "execution_count": 5,
     "metadata": {},
     "output_type": "execute_result"
    }
   ],
   "source": [
    "training[training['FTE'] < 0]"
   ]
  },
  {
   "cell_type": "code",
   "execution_count": 6,
   "metadata": {},
   "outputs": [
    {
     "data": {
      "text/plain": [
       "count    3.518450e+05\n",
       "mean     1.696423e+04\n",
       "std      3.402292e+05\n",
       "min      0.000000e+00\n",
       "25%      1.384847e+02\n",
       "50%      6.696800e+02\n",
       "75%      4.999610e+03\n",
       "max      1.297000e+08\n",
       "Name: Total, dtype: float64"
      ]
     },
     "execution_count": 6,
     "metadata": {},
     "output_type": "execute_result"
    }
   ],
   "source": [
    "training['Total'].describe()"
   ]
  },
  {
   "cell_type": "code",
   "execution_count": 10,
   "metadata": {},
   "outputs": [
    {
     "name": "stdout",
     "output_type": "stream",
     "text": [
      "<class 'pandas.core.frame.DataFrame'>\n",
      "Int64Index: 400277 entries, 134338 to 415831\n",
      "Data columns (total 2 columns):\n",
      "FTE      125849 non-null float64\n",
      "Total    351845 non-null float64\n",
      "dtypes: float64(2)\n",
      "memory usage: 9.2 MB\n"
     ]
    }
   ],
   "source": [
    "training[numeric].info()"
   ]
  },
  {
   "cell_type": "code",
   "execution_count": 8,
   "metadata": {},
   "outputs": [
    {
     "data": {
      "text/plain": [
       "274428"
      ]
     },
     "execution_count": 8,
     "metadata": {},
     "output_type": "execute_result"
    }
   ],
   "source": [
    "400277 - 125849"
   ]
  },
  {
   "cell_type": "code",
   "execution_count": 12,
   "metadata": {},
   "outputs": [
    {
     "data": {
      "text/plain": [
       "48432"
      ]
     },
     "execution_count": 12,
     "metadata": {},
     "output_type": "execute_result"
    }
   ],
   "source": [
    "400277 - 351845"
   ]
  },
  {
   "cell_type": "markdown",
   "metadata": {},
   "source": [
    "### Part 2: Categoric data\n",
    "\n",
    "The strings must be normalized: symbols removed, all letters to lower case. Then, they can be transformed to numeric data."
   ]
  },
  {
   "cell_type": "code",
   "execution_count": 13,
   "metadata": {},
   "outputs": [],
   "source": [
    "for category in categoric:\n",
    "    training[category] = training[category].str.lower()"
   ]
  },
  {
   "cell_type": "code",
   "execution_count": 14,
   "metadata": {},
   "outputs": [
    {
     "data": {
      "text/plain": [
       "Facility_or_Department     176\n",
       "Function_Description       655\n",
       "Fund_Description           141\n",
       "Job_Title_Description     3455\n",
       "Location_Description       352\n",
       "Object_Description         570\n",
       "Position_Extra             580\n",
       "Program_Description        418\n",
       "SubFund_Description        267\n",
       "Sub_Object_Description     159\n",
       "Text_1                    1389\n",
       "Text_2                     279\n",
       "Text_3                      35\n",
       "Text_4                     240\n",
       "dtype: int64"
      ]
     },
     "execution_count": 14,
     "metadata": {},
     "output_type": "execute_result"
    }
   ],
   "source": [
    "#Check if the unique values decrease\n",
    "training[categoric].nunique(dropna=False)"
   ]
  },
  {
   "cell_type": "code",
   "execution_count": null,
   "metadata": {},
   "outputs": [],
   "source": [
    "#Convert columns\n",
    "training[categoric] = training[categoric].apply(lambda x: x.astype('object'), axis = 0)"
   ]
  },
  {
   "cell_type": "code",
   "execution_count": 16,
   "metadata": {},
   "outputs": [
    {
     "name": "stdout",
     "output_type": "stream",
     "text": [
      "<class 'pandas.core.frame.DataFrame'>\n",
      "Int64Index: 400277 entries, 134338 to 415831\n",
      "Data columns (total 14 columns):\n",
      "Facility_or_Department    53186 non-null object\n",
      "Function_Description      298676 non-null object\n",
      "Fund_Description          179157 non-null object\n",
      "Job_Title_Description     272317 non-null object\n",
      "Location_Description      155504 non-null object\n",
      "Object_Description        332143 non-null object\n",
      "Position_Extra            244180 non-null object\n",
      "Program_Description       280943 non-null object\n",
      "SubFund_Description       263731 non-null object\n",
      "Sub_Object_Description    70748 non-null object\n",
      "Text_1                    251891 non-null object\n",
      "Text_2                    87431 non-null object\n",
      "Text_3                    108613 non-null object\n",
      "Text_4                    53384 non-null object\n",
      "dtypes: object(14)\n",
      "memory usage: 45.8+ MB\n"
     ]
    }
   ],
   "source": [
    "training[categoric].info()"
   ]
  },
  {
   "cell_type": "markdown",
   "metadata": {},
   "source": [
    "Before removing symbols, let's take a peek on some values and so we can detect the diferrences later\n"
   ]
  },
  {
   "cell_type": "code",
   "execution_count": 17,
   "metadata": {},
   "outputs": [
    {
     "data": {
      "text/plain": [
       "non-project                        True\n",
       "instruction                        True\n",
       "unalloc budgets/schools            True\n",
       "basic (fefp k-12)                 False\n",
       "employee retirement               False\n",
       "ela e-teaching sheltered eng      False\n",
       "Name: Function_Description, dtype: bool"
      ]
     },
     "execution_count": 17,
     "metadata": {},
     "output_type": "execute_result"
    }
   ],
   "source": [
    "some_functions = training['Function_Description'].value_counts(normalize=True) > 0.05\n",
    "some_functions.head(6)"
   ]
  },
  {
   "cell_type": "code",
   "execution_count": 18,
   "metadata": {},
   "outputs": [],
   "source": [
    "# Remove symbols\n",
    "'''for category in categoric:\n",
    "    training[category] = training[category].str.replace(r\"[&/\\)('\\\"-.,]\",\"\")'''\n",
    "vec = HashingVectorizer(token_pattern=\"[A-Za-z0-9]+(?=\\\\s+)\", ngram_range=(1,2))"
   ]
  },
  {
   "cell_type": "code",
   "execution_count": 19,
   "metadata": {},
   "outputs": [
    {
     "data": {
      "text/plain": [
       "non-project                       0.191686\n",
       "instruction                       0.128882\n",
       "unalloc budgets/schools           0.055458\n",
       "basic (fefp k-12)                 0.044473\n",
       "employee retirement               0.043723\n",
       "ela e-teaching sheltered eng      0.021093\n",
       "Name: Function_Description, dtype: float64"
      ]
     },
     "execution_count": 19,
     "metadata": {},
     "output_type": "execute_result"
    }
   ],
   "source": [
    "training['Function_Description'].value_counts(normalize=True).head(6)"
   ]
  },
  {
   "cell_type": "code",
   "execution_count": 20,
   "metadata": {},
   "outputs": [],
   "source": [
    "training[categoric] = training[categoric].fillna(\"\")"
   ]
  },
  {
   "cell_type": "code",
   "execution_count": 21,
   "metadata": {},
   "outputs": [
    {
     "data": {
      "text/plain": [
       "0"
      ]
     },
     "execution_count": 21,
     "metadata": {},
     "output_type": "execute_result"
    }
   ],
   "source": [
    "training['Function_Description'].isnull().sum()"
   ]
  },
  {
   "cell_type": "code",
   "execution_count": 22,
   "metadata": {},
   "outputs": [],
   "source": [
    "# Join all text items in a row that have a space in between\n",
    "text_data = training[categoric].apply(lambda x: \" \".join(x), axis = 1)"
   ]
  },
  {
   "cell_type": "code",
   "execution_count": 31,
   "metadata": {
    "collapsed": true
   },
   "outputs": [
    {
     "data": {
      "text/plain": [
       "134338      general fund teacher-elementary    kindergar...\n",
       "206341     rgn  gob  (blank)  contractor services undesi...\n",
       "326408      general purpose school tcher 2nd grade  pers...\n",
       "364634     unalloc budgets/schools  teacher, short term ...\n",
       "47683      non-project  teacher, secondary (high)   teac...\n",
       "229958                                                     \n",
       "417668      local fund   educational supplies and materi...\n",
       "126378     non-project  sub manager, food service  distr...\n",
       "275539     ela s - teaching spanish only  teacher, eleme...\n",
       "85262      unalloc budgets/schools  teacher,retrd shrt t...\n",
       "304569                                                     \n",
       "330504     instruction general fund   supplies  primary ...\n",
       "84272     position control pools  general purpose school...\n",
       "64760                                                      \n",
       "21870      basic (fefp k-12)              conversion cha...\n",
       "18698     all campus payroll instruction general operati...\n",
       "169454     basic (fefp k-12)              general fund  ...\n",
       "169914     security services general admin lieutenant co...\n",
       "189701     non-project  (blank)  electricity undesignate...\n",
       "43727                                                      \n",
       "5614       direction of support services - pupils * spec...\n",
       "291539     unalloc budgets/schools  teacher, short term ...\n",
       "307038     disadvantaged youth * title i - disadvantaged...\n",
       "27645      guidance services              conversion cha...\n",
       "126388      general purpose school   personal services -...\n",
       "14962       school federal projects tcher english (secon...\n",
       "84040                                                      \n",
       "61639      core matters  teacher, short term sub   emplo...\n",
       "266302     ela e-teaching sheltered eng  teacher, elemen...\n",
       "225768    transportation department transportation gener...\n",
       "                                ...                        \n",
       "333748     psychological services * general psychologist...\n",
       "292626    new construction department administration fac...\n",
       "343458     unalloc budgets/schools  teacher, super sub d...\n",
       "128261     special ed. - severe needs  teacher,spec ed c...\n",
       "186318     ela s - teaching spanish only  teacher, eleme...\n",
       "210652    teacher supply  school federal projects   pers...\n",
       "340354     title iii  ela  ela general assignment   empl...\n",
       "435205     read to achieve round three  teacher, element...\n",
       "174827     title i  ela general assignment   salaries of...\n",
       "277504                                                     \n",
       "248062    vocational curriculum development and instruct...\n",
       "70455      basic (fefp k-12)              conversion cha...\n",
       "203453     staff services                 extended learn...\n",
       "58170       school federal projects   personal services ...\n",
       "72072       general purpose school assistant principal -...\n",
       "68311      title ii-part a-teacher qualit  teacher, elem...\n",
       "225892     ela e-teaching sheltered eng  teacher, elemen...\n",
       "446383                                                     \n",
       "155111    transportation department transportation gener...\n",
       "278248     instruction general fund   supplies  primary ...\n",
       "397424     ns  gob  secondary spec ed para   additional/...\n",
       "375092      general purpose school   personal services -...\n",
       "220181    child nutrition food services (child nutrition...\n",
       "307423                                                     \n",
       "46691      title ii-part a-teacher qualit  teacher, elem...\n",
       "109283     inst staff training svcs       general fund  ...\n",
       "102430     title ii,d  teacher,retrd shrt term sub   sal...\n",
       "413949      schoolwide schools school liaison   parent/t...\n",
       "433672     non-project  library technician ii  ed resour...\n",
       "415831    instruction and curriculum instruction \"title ...\n",
       "Length: 400277, dtype: object"
      ]
     },
     "execution_count": 31,
     "metadata": {},
     "output_type": "execute_result"
    }
   ],
   "source": [
    "text_data"
   ]
  },
  {
   "cell_type": "code",
   "execution_count": 23,
   "metadata": {},
   "outputs": [],
   "source": [
    "hec = HashingVectorizer(token_pattern=\"[A-Za-z0-9]+(?=\\\\s+)\", norm=None, binary=False,\n",
    "                                                     ngram_range=(1,2))\n",
    "hashed_text = hec.fit_transform(text_data)"
   ]
  },
  {
   "cell_type": "code",
   "execution_count": 35,
   "metadata": {},
   "outputs": [
    {
     "name": "stdout",
     "output_type": "stream",
     "text": [
      "<class 'pandas.core.frame.DataFrame'>\n",
      "RangeIndex: 5221742 entries, 0 to 5221741\n",
      "Data columns (total 1 columns):\n",
      "0    float64\n",
      "dtypes: float64(1)\n",
      "memory usage: 39.8 MB\n",
      "None\n"
     ]
    }
   ],
   "source": [
    "hashed_df = pd.DataFrame(hashed_text.data)\n",
    "print(hashed_df.info()"
   ]
  },
  {
   "cell_type": "code",
   "execution_count": 37,
   "metadata": {
    "collapsed": true
   },
   "outputs": [
    {
     "data": {
      "text/html": [
       "<div>\n",
       "<style scoped>\n",
       "    .dataframe tbody tr th:only-of-type {\n",
       "        vertical-align: middle;\n",
       "    }\n",
       "\n",
       "    .dataframe tbody tr th {\n",
       "        vertical-align: top;\n",
       "    }\n",
       "\n",
       "    .dataframe thead th {\n",
       "        text-align: right;\n",
       "    }\n",
       "</style>\n",
       "<table border=\"1\" class=\"dataframe\">\n",
       "  <thead>\n",
       "    <tr style=\"text-align: right;\">\n",
       "      <th></th>\n",
       "      <th>0</th>\n",
       "    </tr>\n",
       "  </thead>\n",
       "  <tbody>\n",
       "    <tr>\n",
       "      <th>0</th>\n",
       "      <td>0.377964</td>\n",
       "    </tr>\n",
       "    <tr>\n",
       "      <th>1</th>\n",
       "      <td>0.755929</td>\n",
       "    </tr>\n",
       "    <tr>\n",
       "      <th>2</th>\n",
       "      <td>0.377964</td>\n",
       "    </tr>\n",
       "    <tr>\n",
       "      <th>3</th>\n",
       "      <td>0.377964</td>\n",
       "    </tr>\n",
       "    <tr>\n",
       "      <th>4</th>\n",
       "      <td>0.182574</td>\n",
       "    </tr>\n",
       "    <tr>\n",
       "      <th>5</th>\n",
       "      <td>-0.182574</td>\n",
       "    </tr>\n",
       "    <tr>\n",
       "      <th>6</th>\n",
       "      <td>-0.182574</td>\n",
       "    </tr>\n",
       "    <tr>\n",
       "      <th>7</th>\n",
       "      <td>-0.365148</td>\n",
       "    </tr>\n",
       "    <tr>\n",
       "      <th>8</th>\n",
       "      <td>0.182574</td>\n",
       "    </tr>\n",
       "    <tr>\n",
       "      <th>9</th>\n",
       "      <td>0.182574</td>\n",
       "    </tr>\n",
       "    <tr>\n",
       "      <th>10</th>\n",
       "      <td>0.182574</td>\n",
       "    </tr>\n",
       "    <tr>\n",
       "      <th>11</th>\n",
       "      <td>-0.182574</td>\n",
       "    </tr>\n",
       "    <tr>\n",
       "      <th>12</th>\n",
       "      <td>-0.547723</td>\n",
       "    </tr>\n",
       "    <tr>\n",
       "      <th>13</th>\n",
       "      <td>0.547723</td>\n",
       "    </tr>\n",
       "    <tr>\n",
       "      <th>14</th>\n",
       "      <td>0.182574</td>\n",
       "    </tr>\n",
       "    <tr>\n",
       "      <th>15</th>\n",
       "      <td>0.258199</td>\n",
       "    </tr>\n",
       "    <tr>\n",
       "      <th>16</th>\n",
       "      <td>0.258199</td>\n",
       "    </tr>\n",
       "    <tr>\n",
       "      <th>17</th>\n",
       "      <td>-0.258199</td>\n",
       "    </tr>\n",
       "    <tr>\n",
       "      <th>18</th>\n",
       "      <td>-0.258199</td>\n",
       "    </tr>\n",
       "    <tr>\n",
       "      <th>19</th>\n",
       "      <td>-0.258199</td>\n",
       "    </tr>\n",
       "    <tr>\n",
       "      <th>20</th>\n",
       "      <td>0.258199</td>\n",
       "    </tr>\n",
       "    <tr>\n",
       "      <th>21</th>\n",
       "      <td>0.258199</td>\n",
       "    </tr>\n",
       "    <tr>\n",
       "      <th>22</th>\n",
       "      <td>-0.258199</td>\n",
       "    </tr>\n",
       "    <tr>\n",
       "      <th>23</th>\n",
       "      <td>0.258199</td>\n",
       "    </tr>\n",
       "    <tr>\n",
       "      <th>24</th>\n",
       "      <td>-0.258199</td>\n",
       "    </tr>\n",
       "    <tr>\n",
       "      <th>25</th>\n",
       "      <td>0.258199</td>\n",
       "    </tr>\n",
       "    <tr>\n",
       "      <th>26</th>\n",
       "      <td>0.516398</td>\n",
       "    </tr>\n",
       "    <tr>\n",
       "      <th>27</th>\n",
       "      <td>0.417029</td>\n",
       "    </tr>\n",
       "    <tr>\n",
       "      <th>28</th>\n",
       "      <td>-0.208514</td>\n",
       "    </tr>\n",
       "    <tr>\n",
       "      <th>29</th>\n",
       "      <td>0.208514</td>\n",
       "    </tr>\n",
       "    <tr>\n",
       "      <th>...</th>\n",
       "      <td>...</td>\n",
       "    </tr>\n",
       "    <tr>\n",
       "      <th>5221712</th>\n",
       "      <td>-0.179605</td>\n",
       "    </tr>\n",
       "    <tr>\n",
       "      <th>5221713</th>\n",
       "      <td>-0.179605</td>\n",
       "    </tr>\n",
       "    <tr>\n",
       "      <th>5221714</th>\n",
       "      <td>0.538816</td>\n",
       "    </tr>\n",
       "    <tr>\n",
       "      <th>5221715</th>\n",
       "      <td>-0.251976</td>\n",
       "    </tr>\n",
       "    <tr>\n",
       "      <th>5221716</th>\n",
       "      <td>-0.251976</td>\n",
       "    </tr>\n",
       "    <tr>\n",
       "      <th>5221717</th>\n",
       "      <td>0.251976</td>\n",
       "    </tr>\n",
       "    <tr>\n",
       "      <th>5221718</th>\n",
       "      <td>-0.125988</td>\n",
       "    </tr>\n",
       "    <tr>\n",
       "      <th>5221719</th>\n",
       "      <td>-0.125988</td>\n",
       "    </tr>\n",
       "    <tr>\n",
       "      <th>5221720</th>\n",
       "      <td>-0.251976</td>\n",
       "    </tr>\n",
       "    <tr>\n",
       "      <th>5221721</th>\n",
       "      <td>0.251976</td>\n",
       "    </tr>\n",
       "    <tr>\n",
       "      <th>5221722</th>\n",
       "      <td>-0.125988</td>\n",
       "    </tr>\n",
       "    <tr>\n",
       "      <th>5221723</th>\n",
       "      <td>-0.125988</td>\n",
       "    </tr>\n",
       "    <tr>\n",
       "      <th>5221724</th>\n",
       "      <td>0.251976</td>\n",
       "    </tr>\n",
       "    <tr>\n",
       "      <th>5221725</th>\n",
       "      <td>0.251976</td>\n",
       "    </tr>\n",
       "    <tr>\n",
       "      <th>5221726</th>\n",
       "      <td>0.125988</td>\n",
       "    </tr>\n",
       "    <tr>\n",
       "      <th>5221727</th>\n",
       "      <td>-0.503953</td>\n",
       "    </tr>\n",
       "    <tr>\n",
       "      <th>5221728</th>\n",
       "      <td>-0.125988</td>\n",
       "    </tr>\n",
       "    <tr>\n",
       "      <th>5221729</th>\n",
       "      <td>0.125988</td>\n",
       "    </tr>\n",
       "    <tr>\n",
       "      <th>5221730</th>\n",
       "      <td>-0.125988</td>\n",
       "    </tr>\n",
       "    <tr>\n",
       "      <th>5221731</th>\n",
       "      <td>-0.125988</td>\n",
       "    </tr>\n",
       "    <tr>\n",
       "      <th>5221732</th>\n",
       "      <td>0.125988</td>\n",
       "    </tr>\n",
       "    <tr>\n",
       "      <th>5221733</th>\n",
       "      <td>0.125988</td>\n",
       "    </tr>\n",
       "    <tr>\n",
       "      <th>5221734</th>\n",
       "      <td>0.125988</td>\n",
       "    </tr>\n",
       "    <tr>\n",
       "      <th>5221735</th>\n",
       "      <td>-0.125988</td>\n",
       "    </tr>\n",
       "    <tr>\n",
       "      <th>5221736</th>\n",
       "      <td>-0.125988</td>\n",
       "    </tr>\n",
       "    <tr>\n",
       "      <th>5221737</th>\n",
       "      <td>-0.125988</td>\n",
       "    </tr>\n",
       "    <tr>\n",
       "      <th>5221738</th>\n",
       "      <td>0.125988</td>\n",
       "    </tr>\n",
       "    <tr>\n",
       "      <th>5221739</th>\n",
       "      <td>-0.125988</td>\n",
       "    </tr>\n",
       "    <tr>\n",
       "      <th>5221740</th>\n",
       "      <td>-0.125988</td>\n",
       "    </tr>\n",
       "    <tr>\n",
       "      <th>5221741</th>\n",
       "      <td>-0.125988</td>\n",
       "    </tr>\n",
       "  </tbody>\n",
       "</table>\n",
       "<p>5221742 rows × 1 columns</p>\n",
       "</div>"
      ],
      "text/plain": [
       "                0\n",
       "0        0.377964\n",
       "1        0.755929\n",
       "2        0.377964\n",
       "3        0.377964\n",
       "4        0.182574\n",
       "5       -0.182574\n",
       "6       -0.182574\n",
       "7       -0.365148\n",
       "8        0.182574\n",
       "9        0.182574\n",
       "10       0.182574\n",
       "11      -0.182574\n",
       "12      -0.547723\n",
       "13       0.547723\n",
       "14       0.182574\n",
       "15       0.258199\n",
       "16       0.258199\n",
       "17      -0.258199\n",
       "18      -0.258199\n",
       "19      -0.258199\n",
       "20       0.258199\n",
       "21       0.258199\n",
       "22      -0.258199\n",
       "23       0.258199\n",
       "24      -0.258199\n",
       "25       0.258199\n",
       "26       0.516398\n",
       "27       0.417029\n",
       "28      -0.208514\n",
       "29       0.208514\n",
       "...           ...\n",
       "5221712 -0.179605\n",
       "5221713 -0.179605\n",
       "5221714  0.538816\n",
       "5221715 -0.251976\n",
       "5221716 -0.251976\n",
       "5221717  0.251976\n",
       "5221718 -0.125988\n",
       "5221719 -0.125988\n",
       "5221720 -0.251976\n",
       "5221721  0.251976\n",
       "5221722 -0.125988\n",
       "5221723 -0.125988\n",
       "5221724  0.251976\n",
       "5221725  0.251976\n",
       "5221726  0.125988\n",
       "5221727 -0.503953\n",
       "5221728 -0.125988\n",
       "5221729  0.125988\n",
       "5221730 -0.125988\n",
       "5221731 -0.125988\n",
       "5221732  0.125988\n",
       "5221733  0.125988\n",
       "5221734  0.125988\n",
       "5221735 -0.125988\n",
       "5221736 -0.125988\n",
       "5221737 -0.125988\n",
       "5221738  0.125988\n",
       "5221739 -0.125988\n",
       "5221740 -0.125988\n",
       "5221741 -0.125988\n",
       "\n",
       "[5221742 rows x 1 columns]"
      ]
     },
     "execution_count": 37,
     "metadata": {},
     "output_type": "execute_result"
    }
   ],
   "source": [
    "hashed_df"
   ]
  },
  {
   "cell_type": "markdown",
   "metadata": {},
   "source": [
    "## Frequency of labels"
   ]
  },
  {
   "cell_type": "code",
   "execution_count": 24,
   "metadata": {},
   "outputs": [
    {
     "name": "stdout",
     "output_type": "stream",
     "text": [
      "<class 'pandas.core.frame.DataFrame'>\n",
      "Int64Index: 400277 entries, 134338 to 415831\n",
      "Data columns (total 9 columns):\n",
      "Function            356393 non-null object\n",
      "Object_Type         356393 non-null object\n",
      "Operating_Status    356393 non-null object\n",
      "Position_Type       356393 non-null object\n",
      "Pre_K               356393 non-null object\n",
      "Reporting           356393 non-null object\n",
      "Sharing             356393 non-null object\n",
      "Student_Type        356393 non-null object\n",
      "Use                 356393 non-null object\n",
      "dtypes: object(9)\n",
      "memory usage: 30.5+ MB\n"
     ]
    }
   ],
   "source": [
    "training[labels].info()"
   ]
  },
  {
   "cell_type": "code",
   "execution_count": 98,
   "metadata": {},
   "outputs": [
    {
     "data": {
      "text/plain": [
       "Object_Type\n",
       "Base Salary/Compensation       24145.844441\n",
       "Benefits                         865.616621\n",
       "Contracted Services            38163.380901\n",
       "Equipment & Equipment Lease    11257.335020\n",
       "NO_LABEL                       58545.010979\n",
       "Other Compensation/Stipend      1604.962876\n",
       "Other Non-Compensation         10646.892470\n",
       "Rent/Utilities                 46610.910607\n",
       "Substitute Compensation         1090.501980\n",
       "Supplies/Materials              7745.381168\n",
       "Travel & Conferences            1659.440688\n",
       "Name: Total, dtype: float64"
      ]
     },
     "execution_count": 98,
     "metadata": {},
     "output_type": "execute_result"
    }
   ],
   "source": [
    "training.groupby('Object_Type')['Total'].mean()"
   ]
  },
  {
   "cell_type": "code",
   "execution_count": 112,
   "metadata": {},
   "outputs": [
    {
     "data": {
      "text/plain": [
       "16964.228335602154"
      ]
     },
     "execution_count": 112,
     "metadata": {},
     "output_type": "execute_result"
    }
   ],
   "source": [
    "training['Total'].mean()"
   ]
  },
  {
   "cell_type": "code",
   "execution_count": 123,
   "metadata": {},
   "outputs": [],
   "source": [
    "def impute_func_total(data):\n",
    "    if(pd.isnull(data['Object_Type'])):\n",
    "        return 16964\n",
    "    if(pd.isnull(data['Total'])):        \n",
    "        if(data['Object_Type'] == 'Base Salary/Compensation'):\n",
    "            return 24146\n",
    "        if(data['Object_Type'] == 'Benefits'):\n",
    "            return 38163\n",
    "        if(data['Object_Type'] == 'Contracted Services'):\n",
    "            return 24146\n",
    "        if(data['Object_Type'] == 'Equipment & Equipment Lease'):\n",
    "            return 11257\n",
    "        if(data['Object_Type'] == 'NO_LABEL'):\n",
    "            return 58545\n",
    "        if(data['Object_Type'] == 'Other Compensation/Stipend'):\n",
    "            return 1605\n",
    "        if(data['Object_Type'] == 'Other Non-Compensation'):\n",
    "            return 10646\n",
    "        if(data['Object_Type'] == 'Rent/Utilities'):\n",
    "            return 46611\n",
    "        if(data['Object_Type'] == 'Substitute Compensation'):\n",
    "            return 1090\n",
    "        if(data['Object_Type'] == 'Supplies/Materials'):\n",
    "            return 7745\n",
    "        if(data['Object_Type'] == 'Travel & Conferences'):\n",
    "            return 1659\n",
    "    else:\n",
    "        return data['Total']"
   ]
  },
  {
   "cell_type": "code",
   "execution_count": 125,
   "metadata": {
    "scrolled": true
   },
   "outputs": [],
   "source": [
    "training['Total'] = training.apply(impute_func_total, axis = 1)"
   ]
  },
  {
   "cell_type": "code",
   "execution_count": 1,
   "metadata": {},
   "outputs": [
    {
     "ename": "NameError",
     "evalue": "name 'training' is not defined",
     "output_type": "error",
     "traceback": [
      "\u001b[0;31m---------------------------------------------------------------------------\u001b[0m",
      "\u001b[0;31mNameError\u001b[0m                                 Traceback (most recent call last)",
      "\u001b[0;32m<ipython-input-1-f1b09af558a8>\u001b[0m in \u001b[0;36m<module>\u001b[0;34m()\u001b[0m\n\u001b[0;32m----> 1\u001b[0;31m \u001b[0mtraining\u001b[0m\u001b[0;34m.\u001b[0m\u001b[0mgroupby\u001b[0m\u001b[0;34m(\u001b[0m\u001b[0;34m'Object_Type'\u001b[0m\u001b[0;34m)\u001b[0m\u001b[0;34m[\u001b[0m\u001b[0;34m'FTE'\u001b[0m\u001b[0;34m]\u001b[0m\u001b[0;34m.\u001b[0m\u001b[0mmean\u001b[0m\u001b[0;34m(\u001b[0m\u001b[0;34m)\u001b[0m\u001b[0;34m\u001b[0m\u001b[0m\n\u001b[0m",
      "\u001b[0;31mNameError\u001b[0m: name 'training' is not defined"
     ]
    }
   ],
   "source": [
    "training.groupby('Object_Type')['FTE'].mean()"
   ]
  },
  {
   "cell_type": "code",
   "execution_count": 128,
   "metadata": {},
   "outputs": [
    {
     "data": {
      "text/plain": [
       "0.42743640942129435"
      ]
     },
     "execution_count": 128,
     "metadata": {},
     "output_type": "execute_result"
    }
   ],
   "source": [
    "training['FTE'].mean()"
   ]
  },
  {
   "cell_type": "code",
   "execution_count": 132,
   "metadata": {},
   "outputs": [],
   "source": [
    "def impute_func_FTE(data):\n",
    "    if(pd.isnull(data['Object_Type'])):\n",
    "        return 0.42\n",
    "    if(pd.isnull(data['FTE'])):        \n",
    "        if(data['Object_Type'] == 'Base Salary/Compensation'):\n",
    "            return 0.5\n",
    "        if(data['Object_Type'] == 'Benefits'):\n",
    "            return 0.0\n",
    "        if(data['Object_Type'] == 'Contracted Services'):\n",
    "            return 0.0\n",
    "        if(data['Object_Type'] == 'Equipment & Equipment Lease'):\n",
    "            return 0.0\n",
    "        if(data['Object_Type'] == 'NO_LABEL'):\n",
    "            return 0.75\n",
    "        if(data['Object_Type'] == 'Other Compensation/Stipend'):\n",
    "            return 0.000107\n",
    "        if(data['Object_Type'] == 'Other Non-Compensation'):\n",
    "            return 0.0\n",
    "        if(data['Object_Type'] == 'Rent/Utilities'):\n",
    "            return 0.0\n",
    "        if(data['Object_Type'] == 'Substitute Compensation'):\n",
    "            return 0.000059\n",
    "        if(data['Object_Type'] == 'Supplies/Materials'):\n",
    "            return 0.0\n",
    "        if(data['Object_Type'] == 'Travel & Conferences'):\n",
    "            return 0.0\n",
    "    else:\n",
    "        return data['FTE']"
   ]
  },
  {
   "cell_type": "code",
   "execution_count": 133,
   "metadata": {},
   "outputs": [],
   "source": [
    "training['FTE'] = training.apply(impute_func_FTE, axis = 1)"
   ]
  },
  {
   "cell_type": "code",
   "execution_count": 143,
   "metadata": {},
   "outputs": [],
   "source": [
    "mask = training['FTE'] > 1\n",
    "df_ToAtt = training[mask]\n",
    "\n",
    "training.loc[mask, 'FTE'] = df_ToAtt['FTE'].div(100)"
   ]
  },
  {
   "cell_type": "code",
   "execution_count": 146,
   "metadata": {},
   "outputs": [
    {
     "data": {
      "text/html": [
       "<div>\n",
       "<style scoped>\n",
       "    .dataframe tbody tr th:only-of-type {\n",
       "        vertical-align: middle;\n",
       "    }\n",
       "\n",
       "    .dataframe tbody tr th {\n",
       "        vertical-align: top;\n",
       "    }\n",
       "\n",
       "    .dataframe thead th {\n",
       "        text-align: right;\n",
       "    }\n",
       "</style>\n",
       "<table border=\"1\" class=\"dataframe\">\n",
       "  <thead>\n",
       "    <tr style=\"text-align: right;\">\n",
       "      <th></th>\n",
       "      <th>FTE</th>\n",
       "      <th>Total</th>\n",
       "    </tr>\n",
       "  </thead>\n",
       "  <tbody>\n",
       "    <tr>\n",
       "      <th>count</th>\n",
       "      <td>400277.000000</td>\n",
       "      <td>4.002770e+05</td>\n",
       "    </tr>\n",
       "    <tr>\n",
       "      <th>mean</th>\n",
       "      <td>0.249187</td>\n",
       "      <td>1.720464e+04</td>\n",
       "    </tr>\n",
       "    <tr>\n",
       "      <th>std</th>\n",
       "      <td>0.351219</td>\n",
       "      <td>3.189983e+05</td>\n",
       "    </tr>\n",
       "    <tr>\n",
       "      <th>min</th>\n",
       "      <td>0.000000</td>\n",
       "      <td>0.000000e+00</td>\n",
       "    </tr>\n",
       "    <tr>\n",
       "      <th>25%</th>\n",
       "      <td>0.000000</td>\n",
       "      <td>1.747800e+02</td>\n",
       "    </tr>\n",
       "    <tr>\n",
       "      <th>50%</th>\n",
       "      <td>0.000107</td>\n",
       "      <td>1.046583e+03</td>\n",
       "    </tr>\n",
       "    <tr>\n",
       "      <th>75%</th>\n",
       "      <td>0.420000</td>\n",
       "      <td>1.696400e+04</td>\n",
       "    </tr>\n",
       "    <tr>\n",
       "      <th>max</th>\n",
       "      <td>1.000000</td>\n",
       "      <td>1.297000e+08</td>\n",
       "    </tr>\n",
       "  </tbody>\n",
       "</table>\n",
       "</div>"
      ],
      "text/plain": [
       "                 FTE         Total\n",
       "count  400277.000000  4.002770e+05\n",
       "mean        0.249187  1.720464e+04\n",
       "std         0.351219  3.189983e+05\n",
       "min         0.000000  0.000000e+00\n",
       "25%         0.000000  1.747800e+02\n",
       "50%         0.000107  1.046583e+03\n",
       "75%         0.420000  1.696400e+04\n",
       "max         1.000000  1.297000e+08"
      ]
     },
     "execution_count": 146,
     "metadata": {},
     "output_type": "execute_result"
    }
   ],
   "source": [
    "training.describe()"
   ]
  },
  {
   "cell_type": "code",
   "execution_count": 134,
   "metadata": {},
   "outputs": [
    {
     "name": "stdout",
     "output_type": "stream",
     "text": [
      "<class 'pandas.core.frame.DataFrame'>\n",
      "Int64Index: 400277 entries, 134338 to 415831\n",
      "Data columns (total 2 columns):\n",
      "FTE      400277 non-null float64\n",
      "Total    400277 non-null float64\n",
      "dtypes: float64(2)\n",
      "memory usage: 19.2 MB\n"
     ]
    }
   ],
   "source": [
    "training[numeric].info()"
   ]
  },
  {
   "cell_type": "code",
   "execution_count": 95,
   "metadata": {},
   "outputs": [],
   "source": [
    "CountStatus = pd.value_counts(training['Object_Type'].values, sort=True)"
   ]
  },
  {
   "cell_type": "code",
   "execution_count": 96,
   "metadata": {},
   "outputs": [
    {
     "data": {
      "text/plain": [
       "<matplotlib.axes._subplots.AxesSubplot at 0x7ff79d57c6d8>"
      ]
     },
     "execution_count": 96,
     "metadata": {},
     "output_type": "execute_result"
    },
    {
     "data": {
      "image/png": "[encoded data removed]",
      "text/plain": [
       "<Figure size 432x288 with 1 Axes>"
      ]
     },
     "metadata": {
      "needs_background": "light"
     },
     "output_type": "display_data"
    }
   ],
   "source": [
    "CountStatus.plot.bar()"
   ]
  },
  {
   "cell_type": "markdown",
   "metadata": {},
   "source": [
    "## Intro to Neural Network"
   ]
  },
  {
   "cell_type": "code",
   "execution_count": 50,
   "metadata": {},
   "outputs": [],
   "source": [
    "from sklearn.model_selection import train_test_split\n",
    "from sklearn.neural_network import MLPClassifier"
   ]
  },
  {
   "cell_type": "code",
   "execution_count": 147,
   "metadata": {},
   "outputs": [],
   "source": [
    "numeric_data = training[numeric]"
   ]
  },
  {
   "cell_type": "code",
   "execution_count": 136,
   "metadata": {},
   "outputs": [],
   "source": [
    "#imp = Imputer(missing_values='NaN', strategy='mean', axis=0)"
   ]
  },
  {
   "cell_type": "code",
   "execution_count": 137,
   "metadata": {},
   "outputs": [],
   "source": [
    "#Simple imputations\n",
    "#numeric_data[['FTE']] = imp.fit(numeric_data[['FTE']]).transform(numeric_data[['FTE']])"
   ]
  },
  {
   "cell_type": "code",
   "execution_count": 138,
   "metadata": {},
   "outputs": [],
   "source": [
    "#numeric_data[['Total']] = imp.fit(numeric_data[['Total']]).transform(numeric_data[['Total']])"
   ]
  },
  {
   "cell_type": "code",
   "execution_count": 55,
   "metadata": {},
   "outputs": [
    {
     "name": "stdout",
     "output_type": "stream",
     "text": [
      "<class 'pandas.core.frame.DataFrame'>\n",
      "Int64Index: 400277 entries, 134338 to 415831\n",
      "Data columns (total 2 columns):\n",
      "FTE      400277 non-null float64\n",
      "Total    400277 non-null float64\n",
      "dtypes: float64(2)\n",
      "memory usage: 9.2 MB\n"
     ]
    }
   ],
   "source": [
    "numeric_data.info()"
   ]
  },
  {
   "cell_type": "code",
   "execution_count": 56,
   "metadata": {},
   "outputs": [
    {
     "data": {
      "text/html": [
       "<div>\n",
       "<style scoped>\n",
       "    .dataframe tbody tr th:only-of-type {\n",
       "        vertical-align: middle;\n",
       "    }\n",
       "\n",
       "    .dataframe tbody tr th {\n",
       "        vertical-align: top;\n",
       "    }\n",
       "\n",
       "    .dataframe thead th {\n",
       "        text-align: right;\n",
       "    }\n",
       "</style>\n",
       "<table border=\"1\" class=\"dataframe\">\n",
       "  <thead>\n",
       "    <tr style=\"text-align: right;\">\n",
       "      <th></th>\n",
       "      <th>FTE</th>\n",
       "      <th>Total</th>\n",
       "    </tr>\n",
       "  </thead>\n",
       "  <tbody>\n",
       "    <tr>\n",
       "      <th>count</th>\n",
       "      <td>400277.000000</td>\n",
       "      <td>4.002770e+05</td>\n",
       "    </tr>\n",
       "    <tr>\n",
       "      <th>mean</th>\n",
       "      <td>0.427436</td>\n",
       "      <td>1.696423e+04</td>\n",
       "    </tr>\n",
       "    <tr>\n",
       "      <th>std</th>\n",
       "      <td>0.321745</td>\n",
       "      <td>3.189825e+05</td>\n",
       "    </tr>\n",
       "    <tr>\n",
       "      <th>min</th>\n",
       "      <td>0.000000</td>\n",
       "      <td>0.000000e+00</td>\n",
       "    </tr>\n",
       "    <tr>\n",
       "      <th>25%</th>\n",
       "      <td>0.427436</td>\n",
       "      <td>1.747800e+02</td>\n",
       "    </tr>\n",
       "    <tr>\n",
       "      <th>50%</th>\n",
       "      <td>0.427436</td>\n",
       "      <td>1.046583e+03</td>\n",
       "    </tr>\n",
       "    <tr>\n",
       "      <th>75%</th>\n",
       "      <td>0.427436</td>\n",
       "      <td>1.696423e+04</td>\n",
       "    </tr>\n",
       "    <tr>\n",
       "      <th>max</th>\n",
       "      <td>46.800000</td>\n",
       "      <td>1.297000e+08</td>\n",
       "    </tr>\n",
       "  </tbody>\n",
       "</table>\n",
       "</div>"
      ],
      "text/plain": [
       "                 FTE         Total\n",
       "count  400277.000000  4.002770e+05\n",
       "mean        0.427436  1.696423e+04\n",
       "std         0.321745  3.189825e+05\n",
       "min         0.000000  0.000000e+00\n",
       "25%         0.427436  1.747800e+02\n",
       "50%         0.427436  1.046583e+03\n",
       "75%         0.427436  1.696423e+04\n",
       "max        46.800000  1.297000e+08"
      ]
     },
     "execution_count": 56,
     "metadata": {},
     "output_type": "execute_result"
    }
   ],
   "source": [
    "numeric_data.describe()"
   ]
  },
  {
   "cell_type": "code",
   "execution_count": 148,
   "metadata": {},
   "outputs": [
    {
     "data": {
      "text/html": [
       "<div>\n",
       "<style scoped>\n",
       "    .dataframe tbody tr th:only-of-type {\n",
       "        vertical-align: middle;\n",
       "    }\n",
       "\n",
       "    .dataframe tbody tr th {\n",
       "        vertical-align: top;\n",
       "    }\n",
       "\n",
       "    .dataframe thead th {\n",
       "        text-align: right;\n",
       "    }\n",
       "</style>\n",
       "<table border=\"1\" class=\"dataframe\">\n",
       "  <thead>\n",
       "    <tr style=\"text-align: right;\">\n",
       "      <th></th>\n",
       "      <th>FTE</th>\n",
       "      <th>Total</th>\n",
       "    </tr>\n",
       "  </thead>\n",
       "  <tbody>\n",
       "    <tr>\n",
       "      <th>count</th>\n",
       "      <td>400277.000000</td>\n",
       "      <td>4.002770e+05</td>\n",
       "    </tr>\n",
       "    <tr>\n",
       "      <th>mean</th>\n",
       "      <td>0.249187</td>\n",
       "      <td>1.720464e+04</td>\n",
       "    </tr>\n",
       "    <tr>\n",
       "      <th>std</th>\n",
       "      <td>0.351219</td>\n",
       "      <td>3.189983e+05</td>\n",
       "    </tr>\n",
       "    <tr>\n",
       "      <th>min</th>\n",
       "      <td>0.000000</td>\n",
       "      <td>0.000000e+00</td>\n",
       "    </tr>\n",
       "    <tr>\n",
       "      <th>25%</th>\n",
       "      <td>0.000000</td>\n",
       "      <td>1.747800e+02</td>\n",
       "    </tr>\n",
       "    <tr>\n",
       "      <th>50%</th>\n",
       "      <td>0.000107</td>\n",
       "      <td>1.046583e+03</td>\n",
       "    </tr>\n",
       "    <tr>\n",
       "      <th>75%</th>\n",
       "      <td>0.420000</td>\n",
       "      <td>1.696400e+04</td>\n",
       "    </tr>\n",
       "    <tr>\n",
       "      <th>max</th>\n",
       "      <td>1.000000</td>\n",
       "      <td>1.297000e+08</td>\n",
       "    </tr>\n",
       "  </tbody>\n",
       "</table>\n",
       "</div>"
      ],
      "text/plain": [
       "                 FTE         Total\n",
       "count  400277.000000  4.002770e+05\n",
       "mean        0.249187  1.720464e+04\n",
       "std         0.351219  3.189983e+05\n",
       "min         0.000000  0.000000e+00\n",
       "25%         0.000000  1.747800e+02\n",
       "50%         0.000107  1.046583e+03\n",
       "75%         0.420000  1.696400e+04\n",
       "max         1.000000  1.297000e+08"
      ]
     },
     "execution_count": 148,
     "metadata": {},
     "output_type": "execute_result"
    }
   ],
   "source": [
    "numeric_data.describe()"
   ]
  },
  {
   "cell_type": "code",
   "execution_count": 149,
   "metadata": {
    "scrolled": true
   },
   "outputs": [],
   "source": [
    "df_dummies = pd.get_dummies(training['Object_Type'])"
   ]
  },
  {
   "cell_type": "code",
   "execution_count": 150,
   "metadata": {},
   "outputs": [
    {
     "data": {
      "text/html": [
       "<div>\n",
       "<style scoped>\n",
       "    .dataframe tbody tr th:only-of-type {\n",
       "        vertical-align: middle;\n",
       "    }\n",
       "\n",
       "    .dataframe tbody tr th {\n",
       "        vertical-align: top;\n",
       "    }\n",
       "\n",
       "    .dataframe thead th {\n",
       "        text-align: right;\n",
       "    }\n",
       "</style>\n",
       "<table border=\"1\" class=\"dataframe\">\n",
       "  <thead>\n",
       "    <tr style=\"text-align: right;\">\n",
       "      <th></th>\n",
       "      <th>Base Salary/Compensation</th>\n",
       "      <th>Benefits</th>\n",
       "      <th>Contracted Services</th>\n",
       "      <th>Equipment &amp; Equipment Lease</th>\n",
       "      <th>NO_LABEL</th>\n",
       "      <th>Other Compensation/Stipend</th>\n",
       "      <th>Other Non-Compensation</th>\n",
       "      <th>Rent/Utilities</th>\n",
       "      <th>Substitute Compensation</th>\n",
       "      <th>Supplies/Materials</th>\n",
       "      <th>Travel &amp; Conferences</th>\n",
       "    </tr>\n",
       "  </thead>\n",
       "  <tbody>\n",
       "    <tr>\n",
       "      <th>134338</th>\n",
       "      <td>0</td>\n",
       "      <td>0</td>\n",
       "      <td>0</td>\n",
       "      <td>0</td>\n",
       "      <td>1</td>\n",
       "      <td>0</td>\n",
       "      <td>0</td>\n",
       "      <td>0</td>\n",
       "      <td>0</td>\n",
       "      <td>0</td>\n",
       "      <td>0</td>\n",
       "    </tr>\n",
       "    <tr>\n",
       "      <th>206341</th>\n",
       "      <td>0</td>\n",
       "      <td>0</td>\n",
       "      <td>0</td>\n",
       "      <td>0</td>\n",
       "      <td>1</td>\n",
       "      <td>0</td>\n",
       "      <td>0</td>\n",
       "      <td>0</td>\n",
       "      <td>0</td>\n",
       "      <td>0</td>\n",
       "      <td>0</td>\n",
       "    </tr>\n",
       "    <tr>\n",
       "      <th>326408</th>\n",
       "      <td>1</td>\n",
       "      <td>0</td>\n",
       "      <td>0</td>\n",
       "      <td>0</td>\n",
       "      <td>0</td>\n",
       "      <td>0</td>\n",
       "      <td>0</td>\n",
       "      <td>0</td>\n",
       "      <td>0</td>\n",
       "      <td>0</td>\n",
       "      <td>0</td>\n",
       "    </tr>\n",
       "    <tr>\n",
       "      <th>364634</th>\n",
       "      <td>0</td>\n",
       "      <td>1</td>\n",
       "      <td>0</td>\n",
       "      <td>0</td>\n",
       "      <td>0</td>\n",
       "      <td>0</td>\n",
       "      <td>0</td>\n",
       "      <td>0</td>\n",
       "      <td>0</td>\n",
       "      <td>0</td>\n",
       "      <td>0</td>\n",
       "    </tr>\n",
       "    <tr>\n",
       "      <th>47683</th>\n",
       "      <td>0</td>\n",
       "      <td>0</td>\n",
       "      <td>0</td>\n",
       "      <td>0</td>\n",
       "      <td>0</td>\n",
       "      <td>0</td>\n",
       "      <td>0</td>\n",
       "      <td>0</td>\n",
       "      <td>1</td>\n",
       "      <td>0</td>\n",
       "      <td>0</td>\n",
       "    </tr>\n",
       "  </tbody>\n",
       "</table>\n",
       "</div>"
      ],
      "text/plain": [
       "        Base Salary/Compensation  Benefits  Contracted Services  \\\n",
       "134338                         0         0                    0   \n",
       "206341                         0         0                    0   \n",
       "326408                         1         0                    0   \n",
       "364634                         0         1                    0   \n",
       "47683                          0         0                    0   \n",
       "\n",
       "        Equipment & Equipment Lease  NO_LABEL  Other Compensation/Stipend  \\\n",
       "134338                            0         1                           0   \n",
       "206341                            0         1                           0   \n",
       "326408                            0         0                           0   \n",
       "364634                            0         0                           0   \n",
       "47683                             0         0                           0   \n",
       "\n",
       "        Other Non-Compensation  Rent/Utilities  Substitute Compensation  \\\n",
       "134338                       0               0                        0   \n",
       "206341                       0               0                        0   \n",
       "326408                       0               0                        0   \n",
       "364634                       0               0                        0   \n",
       "47683                        0               0                        1   \n",
       "\n",
       "        Supplies/Materials  Travel & Conferences  \n",
       "134338                   0                     0  \n",
       "206341                   0                     0  \n",
       "326408                   0                     0  \n",
       "364634                   0                     0  \n",
       "47683                    0                     0  "
      ]
     },
     "execution_count": 150,
     "metadata": {},
     "output_type": "execute_result"
    }
   ],
   "source": [
    "df_dummies.head()"
   ]
  },
  {
   "cell_type": "code",
   "execution_count": 151,
   "metadata": {},
   "outputs": [
    {
     "name": "stdout",
     "output_type": "stream",
     "text": [
      "<class 'pandas.core.frame.DataFrame'>\n",
      "Int64Index: 400277 entries, 134338 to 415831\n",
      "Data columns (total 11 columns):\n",
      "Base Salary/Compensation       400277 non-null uint8\n",
      "Benefits                       400277 non-null uint8\n",
      "Contracted Services            400277 non-null uint8\n",
      "Equipment & Equipment Lease    400277 non-null uint8\n",
      "NO_LABEL                       400277 non-null uint8\n",
      "Other Compensation/Stipend     400277 non-null uint8\n",
      "Other Non-Compensation         400277 non-null uint8\n",
      "Rent/Utilities                 400277 non-null uint8\n",
      "Substitute Compensation        400277 non-null uint8\n",
      "Supplies/Materials             400277 non-null uint8\n",
      "Travel & Conferences           400277 non-null uint8\n",
      "dtypes: uint8(11)\n",
      "memory usage: 17.3 MB\n"
     ]
    }
   ],
   "source": [
    "df_dummies.info()"
   ]
  },
  {
   "cell_type": "code",
   "execution_count": 152,
   "metadata": {},
   "outputs": [],
   "source": [
    "X_train, X_test, y_train, y_test = train_test_split(numeric_data,\n",
    "                                                    df_dummies,\n",
    "                                                    test_size=0.2, \n",
    "                                                    random_state=42)"
   ]
  },
  {
   "cell_type": "code",
   "execution_count": 61,
   "metadata": {
    "collapsed": true
   },
   "outputs": [
    {
     "data": {
      "text/html": [
       "<div>\n",
       "<style scoped>\n",
       "    .dataframe tbody tr th:only-of-type {\n",
       "        vertical-align: middle;\n",
       "    }\n",
       "\n",
       "    .dataframe tbody tr th {\n",
       "        vertical-align: top;\n",
       "    }\n",
       "\n",
       "    .dataframe thead th {\n",
       "        text-align: right;\n",
       "    }\n",
       "</style>\n",
       "<table border=\"1\" class=\"dataframe\">\n",
       "  <thead>\n",
       "    <tr style=\"text-align: right;\">\n",
       "      <th></th>\n",
       "      <th>FTE</th>\n",
       "      <th>Total</th>\n",
       "    </tr>\n",
       "  </thead>\n",
       "  <tbody>\n",
       "    <tr>\n",
       "      <th>444691</th>\n",
       "      <td>0.427436</td>\n",
       "      <td>218.450000</td>\n",
       "    </tr>\n",
       "    <tr>\n",
       "      <th>250816</th>\n",
       "      <td>0.427436</td>\n",
       "      <td>3126.332668</td>\n",
       "    </tr>\n",
       "    <tr>\n",
       "      <th>393405</th>\n",
       "      <td>0.427436</td>\n",
       "      <td>674.710000</td>\n",
       "    </tr>\n",
       "    <tr>\n",
       "      <th>299533</th>\n",
       "      <td>0.427436</td>\n",
       "      <td>286.688429</td>\n",
       "    </tr>\n",
       "    <tr>\n",
       "      <th>357445</th>\n",
       "      <td>0.427436</td>\n",
       "      <td>221.843840</td>\n",
       "    </tr>\n",
       "    <tr>\n",
       "      <th>67965</th>\n",
       "      <td>0.427436</td>\n",
       "      <td>16964.228336</td>\n",
       "    </tr>\n",
       "    <tr>\n",
       "      <th>327481</th>\n",
       "      <td>0.427436</td>\n",
       "      <td>775.291920</td>\n",
       "    </tr>\n",
       "    <tr>\n",
       "      <th>81419</th>\n",
       "      <td>0.427436</td>\n",
       "      <td>16964.228336</td>\n",
       "    </tr>\n",
       "    <tr>\n",
       "      <th>397760</th>\n",
       "      <td>1.000000</td>\n",
       "      <td>18309.289661</td>\n",
       "    </tr>\n",
       "    <tr>\n",
       "      <th>426528</th>\n",
       "      <td>0.427436</td>\n",
       "      <td>525.670000</td>\n",
       "    </tr>\n",
       "    <tr>\n",
       "      <th>65311</th>\n",
       "      <td>0.427436</td>\n",
       "      <td>3782.950000</td>\n",
       "    </tr>\n",
       "    <tr>\n",
       "      <th>434624</th>\n",
       "      <td>1.000000</td>\n",
       "      <td>54274.300409</td>\n",
       "    </tr>\n",
       "    <tr>\n",
       "      <th>77089</th>\n",
       "      <td>0.507000</td>\n",
       "      <td>7137.062000</td>\n",
       "    </tr>\n",
       "    <tr>\n",
       "      <th>50530</th>\n",
       "      <td>0.427436</td>\n",
       "      <td>28.940000</td>\n",
       "    </tr>\n",
       "    <tr>\n",
       "      <th>407634</th>\n",
       "      <td>1.000000</td>\n",
       "      <td>36071.050000</td>\n",
       "    </tr>\n",
       "    <tr>\n",
       "      <th>203082</th>\n",
       "      <td>1.000000</td>\n",
       "      <td>53985.199608</td>\n",
       "    </tr>\n",
       "    <tr>\n",
       "      <th>57218</th>\n",
       "      <td>0.000000</td>\n",
       "      <td>38.040000</td>\n",
       "    </tr>\n",
       "    <tr>\n",
       "      <th>22690</th>\n",
       "      <td>0.427436</td>\n",
       "      <td>75.700960</td>\n",
       "    </tr>\n",
       "    <tr>\n",
       "      <th>420630</th>\n",
       "      <td>0.427436</td>\n",
       "      <td>8.870000</td>\n",
       "    </tr>\n",
       "    <tr>\n",
       "      <th>387203</th>\n",
       "      <td>0.427436</td>\n",
       "      <td>4634.460000</td>\n",
       "    </tr>\n",
       "    <tr>\n",
       "      <th>229587</th>\n",
       "      <td>0.427436</td>\n",
       "      <td>76.990000</td>\n",
       "    </tr>\n",
       "    <tr>\n",
       "      <th>273271</th>\n",
       "      <td>0.427436</td>\n",
       "      <td>8.630000</td>\n",
       "    </tr>\n",
       "    <tr>\n",
       "      <th>366189</th>\n",
       "      <td>0.427436</td>\n",
       "      <td>93.300000</td>\n",
       "    </tr>\n",
       "    <tr>\n",
       "      <th>347828</th>\n",
       "      <td>0.427436</td>\n",
       "      <td>16964.228336</td>\n",
       "    </tr>\n",
       "    <tr>\n",
       "      <th>381948</th>\n",
       "      <td>0.427436</td>\n",
       "      <td>1714.010000</td>\n",
       "    </tr>\n",
       "    <tr>\n",
       "      <th>156910</th>\n",
       "      <td>0.004310</td>\n",
       "      <td>110.087938</td>\n",
       "    </tr>\n",
       "    <tr>\n",
       "      <th>172542</th>\n",
       "      <td>0.427436</td>\n",
       "      <td>1600.550000</td>\n",
       "    </tr>\n",
       "    <tr>\n",
       "      <th>194027</th>\n",
       "      <td>0.427436</td>\n",
       "      <td>15.700000</td>\n",
       "    </tr>\n",
       "    <tr>\n",
       "      <th>285169</th>\n",
       "      <td>0.427436</td>\n",
       "      <td>1015.850000</td>\n",
       "    </tr>\n",
       "    <tr>\n",
       "      <th>231037</th>\n",
       "      <td>0.427436</td>\n",
       "      <td>16964.228336</td>\n",
       "    </tr>\n",
       "    <tr>\n",
       "      <th>...</th>\n",
       "      <td>...</td>\n",
       "      <td>...</td>\n",
       "    </tr>\n",
       "    <tr>\n",
       "      <th>268353</th>\n",
       "      <td>0.427436</td>\n",
       "      <td>252.170000</td>\n",
       "    </tr>\n",
       "    <tr>\n",
       "      <th>166586</th>\n",
       "      <td>0.427436</td>\n",
       "      <td>7901.905040</td>\n",
       "    </tr>\n",
       "    <tr>\n",
       "      <th>303288</th>\n",
       "      <td>0.427436</td>\n",
       "      <td>16964.228336</td>\n",
       "    </tr>\n",
       "    <tr>\n",
       "      <th>120032</th>\n",
       "      <td>0.427436</td>\n",
       "      <td>5229.730000</td>\n",
       "    </tr>\n",
       "    <tr>\n",
       "      <th>280843</th>\n",
       "      <td>0.427436</td>\n",
       "      <td>16964.228336</td>\n",
       "    </tr>\n",
       "    <tr>\n",
       "      <th>78197</th>\n",
       "      <td>0.427436</td>\n",
       "      <td>676.980000</td>\n",
       "    </tr>\n",
       "    <tr>\n",
       "      <th>168315</th>\n",
       "      <td>0.427436</td>\n",
       "      <td>768.650000</td>\n",
       "    </tr>\n",
       "    <tr>\n",
       "      <th>237943</th>\n",
       "      <td>0.427436</td>\n",
       "      <td>293505.370000</td>\n",
       "    </tr>\n",
       "    <tr>\n",
       "      <th>54728</th>\n",
       "      <td>0.427436</td>\n",
       "      <td>538.806080</td>\n",
       "    </tr>\n",
       "    <tr>\n",
       "      <th>417064</th>\n",
       "      <td>0.427436</td>\n",
       "      <td>169.757920</td>\n",
       "    </tr>\n",
       "    <tr>\n",
       "      <th>38306</th>\n",
       "      <td>1.000000</td>\n",
       "      <td>25419.830000</td>\n",
       "    </tr>\n",
       "    <tr>\n",
       "      <th>185167</th>\n",
       "      <td>0.427436</td>\n",
       "      <td>244.910000</td>\n",
       "    </tr>\n",
       "    <tr>\n",
       "      <th>331144</th>\n",
       "      <td>0.427436</td>\n",
       "      <td>7.630000</td>\n",
       "    </tr>\n",
       "    <tr>\n",
       "      <th>257773</th>\n",
       "      <td>0.427436</td>\n",
       "      <td>504.130000</td>\n",
       "    </tr>\n",
       "    <tr>\n",
       "      <th>64708</th>\n",
       "      <td>0.427436</td>\n",
       "      <td>103452.880000</td>\n",
       "    </tr>\n",
       "    <tr>\n",
       "      <th>222589</th>\n",
       "      <td>0.427436</td>\n",
       "      <td>184.468000</td>\n",
       "    </tr>\n",
       "    <tr>\n",
       "      <th>251393</th>\n",
       "      <td>0.427436</td>\n",
       "      <td>60.140000</td>\n",
       "    </tr>\n",
       "    <tr>\n",
       "      <th>119697</th>\n",
       "      <td>0.008621</td>\n",
       "      <td>218.925877</td>\n",
       "    </tr>\n",
       "    <tr>\n",
       "      <th>166328</th>\n",
       "      <td>0.427436</td>\n",
       "      <td>4847.170000</td>\n",
       "    </tr>\n",
       "    <tr>\n",
       "      <th>352362</th>\n",
       "      <td>1.000000</td>\n",
       "      <td>43524.371087</td>\n",
       "    </tr>\n",
       "    <tr>\n",
       "      <th>144415</th>\n",
       "      <td>0.427436</td>\n",
       "      <td>165.540000</td>\n",
       "    </tr>\n",
       "    <tr>\n",
       "      <th>259970</th>\n",
       "      <td>0.427436</td>\n",
       "      <td>16964.228336</td>\n",
       "    </tr>\n",
       "    <tr>\n",
       "      <th>206670</th>\n",
       "      <td>0.004310</td>\n",
       "      <td>128.894985</td>\n",
       "    </tr>\n",
       "    <tr>\n",
       "      <th>221805</th>\n",
       "      <td>0.427436</td>\n",
       "      <td>433.498720</td>\n",
       "    </tr>\n",
       "    <tr>\n",
       "      <th>337333</th>\n",
       "      <td>0.427436</td>\n",
       "      <td>242.624378</td>\n",
       "    </tr>\n",
       "    <tr>\n",
       "      <th>355968</th>\n",
       "      <td>0.427436</td>\n",
       "      <td>30863.030000</td>\n",
       "    </tr>\n",
       "    <tr>\n",
       "      <th>63793</th>\n",
       "      <td>0.427436</td>\n",
       "      <td>249.740000</td>\n",
       "    </tr>\n",
       "    <tr>\n",
       "      <th>117220</th>\n",
       "      <td>1.000000</td>\n",
       "      <td>104603.717870</td>\n",
       "    </tr>\n",
       "    <tr>\n",
       "      <th>62296</th>\n",
       "      <td>0.427436</td>\n",
       "      <td>16964.228336</td>\n",
       "    </tr>\n",
       "    <tr>\n",
       "      <th>172004</th>\n",
       "      <td>0.427436</td>\n",
       "      <td>10205.560000</td>\n",
       "    </tr>\n",
       "  </tbody>\n",
       "</table>\n",
       "<p>320221 rows × 2 columns</p>\n",
       "</div>"
      ],
      "text/plain": [
       "             FTE          Total\n",
       "444691  0.427436     218.450000\n",
       "250816  0.427436    3126.332668\n",
       "393405  0.427436     674.710000\n",
       "299533  0.427436     286.688429\n",
       "357445  0.427436     221.843840\n",
       "67965   0.427436   16964.228336\n",
       "327481  0.427436     775.291920\n",
       "81419   0.427436   16964.228336\n",
       "397760  1.000000   18309.289661\n",
       "426528  0.427436     525.670000\n",
       "65311   0.427436    3782.950000\n",
       "434624  1.000000   54274.300409\n",
       "77089   0.507000    7137.062000\n",
       "50530   0.427436      28.940000\n",
       "407634  1.000000   36071.050000\n",
       "203082  1.000000   53985.199608\n",
       "57218   0.000000      38.040000\n",
       "22690   0.427436      75.700960\n",
       "420630  0.427436       8.870000\n",
       "387203  0.427436    4634.460000\n",
       "229587  0.427436      76.990000\n",
       "273271  0.427436       8.630000\n",
       "366189  0.427436      93.300000\n",
       "347828  0.427436   16964.228336\n",
       "381948  0.427436    1714.010000\n",
       "156910  0.004310     110.087938\n",
       "172542  0.427436    1600.550000\n",
       "194027  0.427436      15.700000\n",
       "285169  0.427436    1015.850000\n",
       "231037  0.427436   16964.228336\n",
       "...          ...            ...\n",
       "268353  0.427436     252.170000\n",
       "166586  0.427436    7901.905040\n",
       "303288  0.427436   16964.228336\n",
       "120032  0.427436    5229.730000\n",
       "280843  0.427436   16964.228336\n",
       "78197   0.427436     676.980000\n",
       "168315  0.427436     768.650000\n",
       "237943  0.427436  293505.370000\n",
       "54728   0.427436     538.806080\n",
       "417064  0.427436     169.757920\n",
       "38306   1.000000   25419.830000\n",
       "185167  0.427436     244.910000\n",
       "331144  0.427436       7.630000\n",
       "257773  0.427436     504.130000\n",
       "64708   0.427436  103452.880000\n",
       "222589  0.427436     184.468000\n",
       "251393  0.427436      60.140000\n",
       "119697  0.008621     218.925877\n",
       "166328  0.427436    4847.170000\n",
       "352362  1.000000   43524.371087\n",
       "144415  0.427436     165.540000\n",
       "259970  0.427436   16964.228336\n",
       "206670  0.004310     128.894985\n",
       "221805  0.427436     433.498720\n",
       "337333  0.427436     242.624378\n",
       "355968  0.427436   30863.030000\n",
       "63793   0.427436     249.740000\n",
       "117220  1.000000  104603.717870\n",
       "62296   0.427436   16964.228336\n",
       "172004  0.427436   10205.560000\n",
       "\n",
       "[320221 rows x 2 columns]"
      ]
     },
     "execution_count": 61,
     "metadata": {},
     "output_type": "execute_result"
    }
   ],
   "source": [
    "X_train"
   ]
  },
  {
   "cell_type": "code",
   "execution_count": 153,
   "metadata": {},
   "outputs": [],
   "source": [
    "# Feature Scaling\n",
    "from sklearn.preprocessing import StandardScaler\n",
    "sc = StandardScaler()\n",
    "X_train = sc.fit_transform(X_train)\n",
    "X_test = sc.fit_transform(X_test)"
   ]
  },
  {
   "cell_type": "code",
   "execution_count": 154,
   "metadata": {},
   "outputs": [],
   "source": [
    "# Adding the input layer and the first hidden, the hidden layer number is (11 + 2)/2\n",
    "mlp = MLPClassifier(hidden_layer_sizes=(13,), max_iter=100, alpha=1e-4,\n",
    "                    solver='sgd', verbose=10, tol=1e-4, random_state=1,\n",
    "                    learning_rate_init=.1)"
   ]
  },
  {
   "cell_type": "code",
   "execution_count": 155,
   "metadata": {},
   "outputs": [
    {
     "name": "stdout",
     "output_type": "stream",
     "text": [
      "Iteration 1, loss = 2.08068273\n",
      "Iteration 2, loss = 1.97578412\n",
      "Iteration 3, loss = 1.92443294\n",
      "Iteration 4, loss = 1.88862667\n",
      "Iteration 5, loss = 1.90631699\n",
      "Iteration 6, loss = 1.85723219\n",
      "Iteration 7, loss = 1.82544104\n",
      "Iteration 8, loss = 1.81252486\n",
      "Iteration 9, loss = 1.79509546\n",
      "Iteration 10, loss = 1.81800031\n",
      "Iteration 11, loss = 1.79072333\n",
      "Iteration 12, loss = 1.79060406\n",
      "Iteration 13, loss = 1.78559994\n",
      "Iteration 14, loss = 1.78941146\n",
      "Iteration 15, loss = 1.79177222\n",
      "Iteration 16, loss = 1.78468757\n",
      "Iteration 17, loss = 1.76821562\n",
      "Iteration 18, loss = 1.76972901\n",
      "Iteration 19, loss = 1.76487331\n",
      "Iteration 20, loss = 1.77547972\n",
      "Iteration 21, loss = 1.75988323\n",
      "Iteration 22, loss = 1.74873678\n",
      "Iteration 23, loss = 1.75812330\n",
      "Iteration 24, loss = 1.74984782\n",
      "Iteration 25, loss = 1.74646009\n",
      "Iteration 26, loss = 1.74531469\n",
      "Iteration 27, loss = 1.75402678\n",
      "Iteration 28, loss = 1.74738444\n",
      "Iteration 29, loss = 1.74235675\n",
      "Iteration 30, loss = 1.74920819\n",
      "Iteration 31, loss = 1.74462055\n",
      "Iteration 32, loss = 1.74631495\n",
      "Iteration 33, loss = 1.74127538\n",
      "Iteration 34, loss = 1.74232371\n",
      "Iteration 35, loss = 1.74152238\n",
      "Iteration 36, loss = 1.74417138\n",
      "Iteration 37, loss = 1.73763653\n",
      "Iteration 38, loss = 1.74581685\n",
      "Iteration 39, loss = 1.76525372\n",
      "Iteration 40, loss = 1.73800469\n",
      "Iteration 41, loss = 1.73099636\n",
      "Iteration 42, loss = 1.76988602\n",
      "Iteration 43, loss = 1.73255229\n",
      "Iteration 44, loss = 1.72575797\n",
      "Iteration 45, loss = 1.72478921\n",
      "Iteration 46, loss = 1.72186809\n",
      "Iteration 47, loss = 1.72275455\n",
      "Iteration 48, loss = 1.73046890\n",
      "Iteration 49, loss = 1.72514740\n",
      "Iteration 50, loss = 1.73191595\n",
      "Iteration 51, loss = 1.76153175\n",
      "Iteration 52, loss = 1.72557840\n",
      "Iteration 53, loss = 1.72180225\n",
      "Iteration 54, loss = 1.72183899\n",
      "Iteration 55, loss = 1.73539321\n",
      "Iteration 56, loss = 1.72082088\n",
      "Iteration 57, loss = 1.72252871\n",
      "Iteration 58, loss = 1.71848695\n",
      "Iteration 59, loss = 1.72385539\n",
      "Iteration 60, loss = 1.72068397\n",
      "Iteration 61, loss = 1.73508074\n",
      "Iteration 62, loss = 1.74550611\n",
      "Iteration 63, loss = 1.72220905\n",
      "Iteration 64, loss = 1.75939934\n",
      "Iteration 65, loss = 1.73321910\n",
      "Iteration 66, loss = 1.72219281\n",
      "Iteration 67, loss = 1.71790652\n",
      "Iteration 68, loss = 1.71450272\n",
      "Iteration 69, loss = 1.72729116\n",
      "Iteration 70, loss = 1.72196169\n",
      "Iteration 71, loss = 1.71171345\n",
      "Iteration 72, loss = 1.71870891\n",
      "Iteration 73, loss = 1.72224437\n",
      "Iteration 74, loss = 1.75218927\n",
      "Iteration 75, loss = 1.73356480\n",
      "Iteration 76, loss = 1.71675819\n",
      "Iteration 77, loss = 1.71556101\n",
      "Iteration 78, loss = 1.71533896\n",
      "Iteration 79, loss = 1.74729037\n",
      "Iteration 80, loss = 1.73858337\n",
      "Iteration 81, loss = 1.71438406\n",
      "Iteration 82, loss = 1.71395256\n",
      "Training loss did not improve more than tol=0.000100 for 10 consecutive epochs. Stopping.\n"
     ]
    },
    {
     "data": {
      "text/plain": [
       "MLPClassifier(activation='relu', alpha=0.0001, batch_size='auto', beta_1=0.9,\n",
       "       beta_2=0.999, early_stopping=False, epsilon=1e-08,\n",
       "       hidden_layer_sizes=(13,), learning_rate='constant',\n",
       "       learning_rate_init=0.1, max_iter=100, momentum=0.9,\n",
       "       n_iter_no_change=10, nesterovs_momentum=True, power_t=0.5,\n",
       "       random_state=1, shuffle=True, solver='sgd', tol=0.0001,\n",
       "       validation_fraction=0.1, verbose=10, warm_start=False)"
      ]
     },
     "execution_count": 155,
     "metadata": {},
     "output_type": "execute_result"
    }
   ],
   "source": [
    "mlp.fit(X_train, y_train)"
   ]
  },
  {
   "cell_type": "code",
   "execution_count": 156,
   "metadata": {},
   "outputs": [],
   "source": [
    "#Making predictions and evaluating the model\n",
    "\n",
    "# Predicting the Test set results\n",
    "y_pred = mlp.predict(X_test)"
   ]
  },
  {
   "cell_type": "code",
   "execution_count": 157,
   "metadata": {},
   "outputs": [
    {
     "data": {
      "text/plain": [
       "(80056, 11)"
      ]
     },
     "execution_count": 157,
     "metadata": {},
     "output_type": "execute_result"
    }
   ],
   "source": [
    "y_test_np = y_test.values\n",
    "y_test_np.shape"
   ]
  },
  {
   "cell_type": "code",
   "execution_count": 94,
   "metadata": {},
   "outputs": [
    {
     "data": {
      "text/plain": [
       "(80056, 11)"
      ]
     },
     "execution_count": 94,
     "metadata": {},
     "output_type": "execute_result"
    }
   ],
   "source": [
    "y_pred.shape"
   ]
  },
  {
   "cell_type": "code",
   "execution_count": 93,
   "metadata": {},
   "outputs": [
    {
     "data": {
      "text/plain": [
       "0.24505346257619667"
      ]
     },
     "execution_count": 93,
     "metadata": {},
     "output_type": "execute_result"
    }
   ],
   "source": [
    "from sklearn.metrics import accuracy_score\n",
    "\n",
    "accuracy_score(y_test_np, y_pred, normalize=True)"
   ]
  },
  {
   "cell_type": "code",
   "execution_count": 158,
   "metadata": {},
   "outputs": [
    {
     "data": {
      "text/plain": [
       "0.3207629659238533"
      ]
     },
     "execution_count": 158,
     "metadata": {},
     "output_type": "execute_result"
    }
   ],
   "source": [
    "accuracy_score(y_test_np, y_pred, normalize=True)"
   ]
  },
  {
   "cell_type": "code",
   "execution_count": null,
   "metadata": {},
   "outputs": [],
   "source": []
  }
 ],
 "metadata": {
  "kernelspec": {
   "display_name": "Python 3",
   "language": "python",
   "name": "python3"
  },
  "language_info": {
   "codemirror_mode": {
    "name": "ipython",
    "version": 3
   },
   "file_extension": ".py",
   "mimetype": "text/x-python",
   "name": "python",
   "nbconvert_exporter": "python",
   "pygments_lexer": "ipython3",
   "version": "3.6.5"
  }
 },
 "nbformat": 4,
 "nbformat_minor": 2
}
