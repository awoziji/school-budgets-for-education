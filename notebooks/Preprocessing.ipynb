{
 "cells": [
  {
   "cell_type": "code",
   "execution_count": 0,
   "metadata": {
    "colab": {},
    "colab_type": "code",
    "id": "SRi3OITJrHGd"
   },
   "outputs": [],
   "source": [
    "import pandas as pd\n",
    "import numpy as np\n",
    "from sklearn.feature_extraction.text import HashingVectorizer\n",
    "#from sklearn.impute import SimpleImputer\n",
    "from sklearn.preprocessing import Imputer\n",
    "from matplotlib import pyplot as plt"
   ]
  },
  {
   "cell_type": "code",
   "execution_count": 0,
   "metadata": {
    "colab": {},
    "colab_type": "code",
    "id": "71F8c2fsrHGl"
   },
   "outputs": [],
   "source": [
    "#Read the data using the Unnamed (probably id) as index\n",
    "url = 'https://s3.amazonaws.com/drivendata/data/4/public/81e8f2de-9915-4934-b9ae-9705685c9d50.csv'\n",
    "training = pd.read_csv(url, index_col='Unnamed: 0')\n",
    "\n",
    "labels = ['Function', 'Object_Type', 'Operating_Status', 'Position_Type', 'Pre_K', 'Reporting', \n",
    "          'Sharing', 'Student_Type', 'Use']\n",
    "\n",
    "numeric = ['FTE', 'Total']\n",
    "\n",
    "categoric = [ 'Facility_or_Department', 'Function_Description', \n",
    "            'Fund_Description', 'Job_Title_Description', 'Location_Description', \n",
    "            'Object_Description', 'Position_Extra', 'Program_Description', 'SubFund_Description', \n",
    "            'Sub_Object_Description', \n",
    "            'Text_1', 'Text_2', 'Text_3', 'Text_4']"
   ]
  },
  {
   "cell_type": "code",
   "execution_count": 0,
   "metadata": {
    "colab": {},
    "colab_type": "code",
    "id": "pmf07mFjrHGq"
   },
   "outputs": [],
   "source": [
    "training.info()"
   ]
  },
  {
   "cell_type": "markdown",
   "metadata": {
    "colab_type": "text",
    "id": "iBuZgSpSrHGz"
   },
   "source": [
    "## Data cleaning\n",
    "\n",
    "### Part 1: numeric data\n",
    "First of all, the numeric columns `FTE` and `Total` must be cleaned. The outliers will be treated as `NaN` values and imputation will be applied to the missing data. \n",
    "\n",
    "Each of the `NaN` values was populated with a value based on the `Object_Type` category it belongs to."
   ]
  },
  {
   "cell_type": "code",
   "execution_count": 0,
   "metadata": {
    "colab": {},
    "colab_type": "code",
    "id": "JuVDA5sarHG2"
   },
   "outputs": [],
   "source": [
    "# Remove inconsistent data\n",
    "training.loc[training['FTE'] < 0, 'FTE'] = np.nan\n",
    "training.loc[training['Total'] < 0, 'Total'] = np.nan"
   ]
  },
  {
   "cell_type": "code",
   "execution_count": 0,
   "metadata": {
    "colab": {},
    "colab_type": "code",
    "collapsed": true,
    "id": "zjJ3CriKrHG7",
    "outputId": "78146992-9123-4660-94cf-0024165a2cdc"
   },
   "outputs": [
    {
     "name": "stdout",
     "output_type": "stream",
     "text": [
      "<class 'pandas.core.frame.DataFrame'>\n",
      "Int64Index: 400277 entries, 134338 to 415831\n",
      "Data columns (total 25 columns):\n",
      "Function                  400277 non-null object\n",
      "Use                       400277 non-null object\n",
      "Sharing                   400277 non-null object\n",
      "Reporting                 400277 non-null object\n",
      "Student_Type              400277 non-null object\n",
      "Position_Type             400277 non-null object\n",
      "Object_Type               400277 non-null object\n",
      "Pre_K                     400277 non-null object\n",
      "Operating_Status          400277 non-null object\n",
      "Object_Description        375493 non-null object\n",
      "Text_2                    88217 non-null object\n",
      "SubFund_Description       306855 non-null object\n",
      "Job_Title_Description     292743 non-null object\n",
      "Text_3                    109152 non-null object\n",
      "Text_4                    53746 non-null object\n",
      "Sub_Object_Description    91603 non-null object\n",
      "Location_Description      162054 non-null object\n",
      "FTE                       126020 non-null float64\n",
      "Function_Description      342195 non-null object\n",
      "Facility_or_Department    53886 non-null object\n",
      "Position_Extra            264764 non-null object\n",
      "Total                     351852 non-null float64\n",
      "Program_Description       304660 non-null object\n",
      "Fund_Description          202877 non-null object\n",
      "Text_1                    292285 non-null object\n",
      "dtypes: float64(2), object(23)\n",
      "memory usage: 79.4+ MB\n"
     ]
    }
   ],
   "source": [
    "training.info()"
   ]
  },
  {
   "cell_type": "code",
   "execution_count": 0,
   "metadata": {
    "colab": {},
    "colab_type": "code",
    "id": "hUo0fq0MrHHB",
    "outputId": "04825014-228b-4498-9e97-1eb4cf69f855"
   },
   "outputs": [
    {
     "data": {
      "text/html": [
       "<div>\n",
       "<style scoped>\n",
       "    .dataframe tbody tr th:only-of-type {\n",
       "        vertical-align: middle;\n",
       "    }\n",
       "\n",
       "    .dataframe tbody tr th {\n",
       "        vertical-align: top;\n",
       "    }\n",
       "\n",
       "    .dataframe thead th {\n",
       "        text-align: right;\n",
       "    }\n",
       "</style>\n",
       "<table border=\"1\" class=\"dataframe\">\n",
       "  <thead>\n",
       "    <tr style=\"text-align: right;\">\n",
       "      <th></th>\n",
       "      <th>Function</th>\n",
       "      <th>Use</th>\n",
       "      <th>Sharing</th>\n",
       "      <th>Reporting</th>\n",
       "      <th>Student_Type</th>\n",
       "      <th>Position_Type</th>\n",
       "      <th>Object_Type</th>\n",
       "      <th>Pre_K</th>\n",
       "      <th>Operating_Status</th>\n",
       "      <th>Object_Description</th>\n",
       "      <th>...</th>\n",
       "      <th>Sub_Object_Description</th>\n",
       "      <th>Location_Description</th>\n",
       "      <th>FTE</th>\n",
       "      <th>Function_Description</th>\n",
       "      <th>Facility_or_Department</th>\n",
       "      <th>Position_Extra</th>\n",
       "      <th>Total</th>\n",
       "      <th>Program_Description</th>\n",
       "      <th>Fund_Description</th>\n",
       "      <th>Text_1</th>\n",
       "    </tr>\n",
       "  </thead>\n",
       "  <tbody>\n",
       "  </tbody>\n",
       "</table>\n",
       "<p>0 rows × 25 columns</p>\n",
       "</div>"
      ],
      "text/plain": [
       "Empty DataFrame\n",
       "Columns: [Function, Use, Sharing, Reporting, Student_Type, Position_Type, Object_Type, Pre_K, Operating_Status, Object_Description, Text_2, SubFund_Description, Job_Title_Description, Text_3, Text_4, Sub_Object_Description, Location_Description, FTE, Function_Description, Facility_or_Department, Position_Extra, Total, Program_Description, Fund_Description, Text_1]\n",
       "Index: []\n",
       "\n",
       "[0 rows x 25 columns]"
      ]
     },
     "execution_count": 25,
     "metadata": {
      "tags": []
     },
     "output_type": "execute_result"
    }
   ],
   "source": [
    "training[training['FTE'] < 0]"
   ]
  },
  {
   "cell_type": "code",
   "execution_count": 0,
   "metadata": {
    "colab": {},
    "colab_type": "code",
    "id": "RlrJ5wa4rHHM",
    "outputId": "e944bdb5-3a99-4e98-a52c-b4f920a218ba"
   },
   "outputs": [
    {
     "data": {
      "text/plain": [
       "count    3.518450e+05\n",
       "mean     1.696423e+04\n",
       "std      3.402292e+05\n",
       "min      0.000000e+00\n",
       "25%      1.384847e+02\n",
       "50%      6.696800e+02\n",
       "75%      4.999610e+03\n",
       "max      1.297000e+08\n",
       "Name: Total, dtype: float64"
      ]
     },
     "execution_count": 7,
     "metadata": {
      "tags": []
     },
     "output_type": "execute_result"
    }
   ],
   "source": [
    "training['Total'].describe()"
   ]
  },
  {
   "cell_type": "code",
   "execution_count": 0,
   "metadata": {
    "colab": {},
    "colab_type": "code",
    "id": "GSAi0ZKPrHHS",
    "outputId": "d0cece52-41c6-40ef-e5e1-9cc44f651f76"
   },
   "outputs": [
    {
     "data": {
      "text/plain": [
       "Object_Type\n",
       "Base Salary/Compensation       24145.844441\n",
       "Benefits                         865.616621\n",
       "Contracted Services            38163.380901\n",
       "Equipment & Equipment Lease    11257.335020\n",
       "NO_LABEL                       58545.010979\n",
       "Other Compensation/Stipend      1604.962876\n",
       "Other Non-Compensation         10646.892470\n",
       "Rent/Utilities                 46610.910607\n",
       "Substitute Compensation         1090.501980\n",
       "Supplies/Materials              7745.381168\n",
       "Travel & Conferences            1659.440688\n",
       "Name: Total, dtype: float64"
      ]
     },
     "execution_count": 5,
     "metadata": {
      "tags": []
     },
     "output_type": "execute_result"
    }
   ],
   "source": [
    "training.groupby('Object_Type')['Total'].mean()"
   ]
  },
  {
   "cell_type": "code",
   "execution_count": 0,
   "metadata": {
    "colab": {},
    "colab_type": "code",
    "id": "67JqEUFirHHY",
    "outputId": "32789512-f488-4aae-aadb-cdeaf3c194d7"
   },
   "outputs": [
    {
     "data": {
      "text/plain": [
       "16964.228335602154"
      ]
     },
     "execution_count": 6,
     "metadata": {
      "tags": []
     },
     "output_type": "execute_result"
    }
   ],
   "source": [
    "training['Total'].mean()"
   ]
  },
  {
   "cell_type": "code",
   "execution_count": 0,
   "metadata": {
    "colab": {},
    "colab_type": "code",
    "id": "wy1Zx5fwrHHe"
   },
   "outputs": [],
   "source": [
    "#Imputing data in Total column\n",
    "def impute_func_total(data):\n",
    "    if(pd.isnull(data['Total'])):        \n",
    "        if(data['Object_Type'] == 'Base Salary/Compensation'):\n",
    "            return 24146\n",
    "        if(data['Object_Type'] == 'Benefits'):\n",
    "            return 38163\n",
    "        if(data['Object_Type'] == 'Contracted Services'):\n",
    "            return 24146\n",
    "        if(data['Object_Type'] == 'Equipment & Equipment Lease'):\n",
    "            return 11257\n",
    "        if(data['Object_Type'] == 'NO_LABEL'):\n",
    "            return 58545\n",
    "        if(data['Object_Type'] == 'Other Compensation/Stipend'):\n",
    "            return 1605\n",
    "        if(data['Object_Type'] == 'Other Non-Compensation'):\n",
    "            return 10646\n",
    "        if(data['Object_Type'] == 'Rent/Utilities'):\n",
    "            return 46611\n",
    "        if(data['Object_Type'] == 'Substitute Compensation'):\n",
    "            return 1090\n",
    "        if(data['Object_Type'] == 'Supplies/Materials'):\n",
    "            return 7745\n",
    "        if(data['Object_Type'] == 'Travel & Conferences'):\n",
    "            return 1659\n",
    "    else:\n",
    "        return data['Total']"
   ]
  },
  {
   "cell_type": "code",
   "execution_count": 0,
   "metadata": {
    "colab": {},
    "colab_type": "code",
    "id": "ttFkl3EPrHHj"
   },
   "outputs": [],
   "source": [
    "training['Total'] = training.apply(impute_func_total, axis = 1)"
   ]
  },
  {
   "cell_type": "code",
   "execution_count": 0,
   "metadata": {
    "colab": {},
    "colab_type": "code",
    "id": "fmiLCumArHHo",
    "outputId": "ddd8c745-f6b8-4c0d-b308-bcbf6ae1fedd"
   },
   "outputs": [
    {
     "data": {
      "text/plain": [
       "count    125849.000000\n",
       "mean          0.427436\n",
       "std           0.573810\n",
       "min           0.000000\n",
       "25%           0.001078\n",
       "50%           0.133337\n",
       "75%           1.000000\n",
       "max          46.800000\n",
       "Name: FTE, dtype: float64"
      ]
     },
     "execution_count": 5,
     "metadata": {
      "tags": []
     },
     "output_type": "execute_result"
    }
   ],
   "source": [
    "training['FTE'].describe()"
   ]
  },
  {
   "cell_type": "code",
   "execution_count": 0,
   "metadata": {
    "colab": {},
    "colab_type": "code",
    "id": "Fzl4_R7jrHHx"
   },
   "outputs": [],
   "source": [
    "#Put FET data greater than 1 in percentage \n",
    "mask = training['FTE'] > 1\n",
    "df_ToAtt = training[mask]\n",
    "\n",
    "training.loc[mask, 'FTE'] = df_ToAtt['FTE'].div(100)"
   ]
  },
  {
   "cell_type": "code",
   "execution_count": 0,
   "metadata": {
    "colab": {},
    "colab_type": "code",
    "id": "4aUcEvcRrHH4",
    "outputId": "4e1d29f6-292b-4cd9-8412-c95533cd15f0"
   },
   "outputs": [
    {
     "data": {
      "text/plain": [
       "count    125849.000000\n",
       "mean          0.397216\n",
       "std           0.446708\n",
       "min           0.000000\n",
       "25%           0.001078\n",
       "50%           0.080819\n",
       "75%           1.000000\n",
       "max           1.000000\n",
       "Name: FTE, dtype: float64"
      ]
     },
     "execution_count": 19,
     "metadata": {
      "tags": []
     },
     "output_type": "execute_result"
    }
   ],
   "source": [
    "training['FTE'].describe()"
   ]
  },
  {
   "cell_type": "code",
   "execution_count": 0,
   "metadata": {
    "colab": {},
    "colab_type": "code",
    "id": "QvBsTVl_rHIA",
    "outputId": "d311b93a-c1a0-4b2b-a3aa-fb35269a4008"
   },
   "outputs": [
    {
     "data": {
      "text/plain": [
       "Object_Type\n",
       "Base Salary/Compensation       0.457632\n",
       "Benefits                       0.000000\n",
       "Contracted Services            0.000000\n",
       "Equipment & Equipment Lease    0.000000\n",
       "NO_LABEL                       0.748446\n",
       "Other Compensation/Stipend     0.000107\n",
       "Other Non-Compensation         0.000000\n",
       "Rent/Utilities                 0.000000\n",
       "Substitute Compensation        0.000059\n",
       "Supplies/Materials             0.000000\n",
       "Travel & Conferences           0.000000\n",
       "Name: FTE, dtype: float64"
      ]
     },
     "execution_count": 10,
     "metadata": {
      "tags": []
     },
     "output_type": "execute_result"
    }
   ],
   "source": [
    "training.groupby('Object_Type')['FTE'].mean()"
   ]
  },
  {
   "cell_type": "code",
   "execution_count": 0,
   "metadata": {
    "colab": {},
    "colab_type": "code",
    "id": "A49P6CRorHIJ",
    "outputId": "9825d091-f25a-4da4-bc5f-c0e72e7bd749"
   },
   "outputs": [
    {
     "data": {
      "text/plain": [
       "0.397215825398393"
      ]
     },
     "execution_count": 21,
     "metadata": {
      "tags": []
     },
     "output_type": "execute_result"
    }
   ],
   "source": [
    "training['FTE'].mean()"
   ]
  },
  {
   "cell_type": "code",
   "execution_count": 0,
   "metadata": {
    "colab": {},
    "colab_type": "code",
    "id": "fbKnXV9RrHIX"
   },
   "outputs": [],
   "source": [
    "#Imputing data in FTE column\n",
    "def impute_func_FTE(data):\n",
    "    if(pd.isnull(data['FTE'])):        \n",
    "        if(data['Object_Type'] == 'Base Salary/Compensation'):\n",
    "            return 0.45\n",
    "        if(data['Object_Type'] == 'Benefits'):\n",
    "            return 0.0\n",
    "        if(data['Object_Type'] == 'Contracted Services'):\n",
    "            return 0.0\n",
    "        if(data['Object_Type'] == 'Equipment & Equipment Lease'):\n",
    "            return 0.0\n",
    "        if(data['Object_Type'] == 'NO_LABEL'):\n",
    "            return 0.75\n",
    "        if(data['Object_Type'] == 'Other Compensation/Stipend'):\n",
    "            return 0.000107\n",
    "        if(data['Object_Type'] == 'Other Non-Compensation'):\n",
    "            return 0.0\n",
    "        if(data['Object_Type'] == 'Rent/Utilities'):\n",
    "            return 0.0\n",
    "        if(data['Object_Type'] == 'Substitute Compensation'):\n",
    "            return 0.000059\n",
    "        if(data['Object_Type'] == 'Supplies/Materials'):\n",
    "            return 0.0\n",
    "        if(data['Object_Type'] == 'Travel & Conferences'):\n",
    "            return 0.0\n",
    "    else:\n",
    "        return data['FTE']"
   ]
  },
  {
   "cell_type": "code",
   "execution_count": 0,
   "metadata": {
    "colab": {},
    "colab_type": "code",
    "id": "ebABbSqRrHIf"
   },
   "outputs": [],
   "source": [
    "training['FTE'] = training.apply(impute_func_FTE, axis = 1)"
   ]
  },
  {
   "cell_type": "code",
   "execution_count": 0,
   "metadata": {
    "colab": {},
    "colab_type": "code",
    "id": "l5mGEyg1rHIk",
    "outputId": "5d74e6f8-2eba-4301-b6b5-4216be2cc8d6"
   },
   "outputs": [
    {
     "name": "stdout",
     "output_type": "stream",
     "text": [
      "<class 'pandas.core.frame.DataFrame'>\n",
      "Int64Index: 400277 entries, 134338 to 415831\n",
      "Data columns (total 2 columns):\n",
      "FTE      400277 non-null float64\n",
      "Total    400277 non-null float64\n",
      "dtypes: float64(2)\n",
      "memory usage: 9.2 MB\n"
     ]
    }
   ],
   "source": [
    "training[numeric].info()"
   ]
  },
  {
   "cell_type": "markdown",
   "metadata": {
    "colab_type": "text",
    "id": "d3UgEF1srHIp"
   },
   "source": [
    "**Numeric data distribution after pre processing**"
   ]
  },
  {
   "cell_type": "code",
   "execution_count": 0,
   "metadata": {
    "colab": {},
    "colab_type": "code",
    "id": "fDTdFLl8rHIr",
    "outputId": "29d92884-e47e-4418-b5c4-2a4b2d5d2a06"
   },
   "outputs": [
    {
     "data": {
      "image/png": "[encoded data removed]",
      "text/plain": [
       "<Figure size 432x288 with 1 Axes>"
      ]
     },
     "metadata": {
      "tags": []
     },
     "output_type": "display_data"
    }
   ],
   "source": [
    "plt.hist(training['Total'], log=True)\n",
    "\n",
    "# Add title and labels\n",
    "plt.title('Cost of the bugdet')\n",
    "plt.xlabel('Cost of budget')\n",
    "plt.ylabel('num budgets')\n",
    "\n",
    "plt.show()"
   ]
  },
  {
   "cell_type": "code",
   "execution_count": 0,
   "metadata": {
    "colab": {},
    "colab_type": "code",
    "id": "noyIC5T0rHIw",
    "outputId": "c9a04be2-7799-4049-b352-9c3f88c290e3"
   },
   "outputs": [
    {
     "data": {
      "image/png": "[encoded data removed]",
      "text/plain": [
       "<Figure size 432x288 with 1 Axes>"
      ]
     },
     "metadata": {
      "tags": []
     },
     "output_type": "display_data"
    }
   ],
   "source": [
    "plt.hist(training['FTE'],  bins=10, log = True)\n",
    "\n",
    "# Add title and labels\n",
    "plt.title('Distribution of %full-time \\n employee works')\n",
    "plt.xlabel('% of full-time')\n",
    "plt.ylabel('num employees')\n",
    "\n",
    "plt.show()"
   ]
  },
  {
   "cell_type": "markdown",
   "metadata": {
    "colab_type": "text",
    "id": "cwbnQ_uZrHI2"
   },
   "source": [
    "### Part 2: Categoric data\n",
    "\n",
    "The strings must be normalized: symbols removed, all letters to lower case. Then, they can be transformed to numeric data."
   ]
  },
  {
   "cell_type": "code",
   "execution_count": 0,
   "metadata": {
    "colab": {},
    "colab_type": "code",
    "id": "ajac1BxNrHI3"
   },
   "outputs": [],
   "source": [
    "for category in categoric:\n",
    "    training[category] = training[category].str.lower()"
   ]
  },
  {
   "cell_type": "code",
   "execution_count": 0,
   "metadata": {
    "colab": {},
    "colab_type": "code",
    "id": "PsRhZ17grHI7",
    "outputId": "6ae50030-0695-4e09-a6cd-b1e30b7ef6c6"
   },
   "outputs": [
    {
     "data": {
      "text/plain": [
       "Facility_or_Department     176\n",
       "Function_Description       655\n",
       "Fund_Description           141\n",
       "Job_Title_Description     3455\n",
       "Location_Description       352\n",
       "Object_Description         570\n",
       "Position_Extra             580\n",
       "Program_Description        418\n",
       "SubFund_Description        267\n",
       "Sub_Object_Description     159\n",
       "Text_1                    1389\n",
       "Text_2                     279\n",
       "Text_3                      35\n",
       "Text_4                     240\n",
       "dtype: int64"
      ]
     },
     "execution_count": 36,
     "metadata": {
      "tags": []
     },
     "output_type": "execute_result"
    }
   ],
   "source": [
    "#Check if the unique values decrease\n",
    "training[categoric].nunique(dropna=False)"
   ]
  },
  {
   "cell_type": "code",
   "execution_count": 0,
   "metadata": {
    "colab": {},
    "colab_type": "code",
    "id": "1Aq16kCmrHJD"
   },
   "outputs": [],
   "source": [
    "#Convert columns\n",
    "training[categoric] = training[categoric].apply(lambda x: x.astype('object'), axis = 0)"
   ]
  },
  {
   "cell_type": "code",
   "execution_count": 0,
   "metadata": {
    "colab": {},
    "colab_type": "code",
    "id": "wx_XnX-RrHJG",
    "outputId": "44dc9329-832a-462e-dfc0-7ddd8ef1dd36"
   },
   "outputs": [
    {
     "name": "stdout",
     "output_type": "stream",
     "text": [
      "<class 'pandas.core.frame.DataFrame'>\n",
      "Int64Index: 400277 entries, 134338 to 415831\n",
      "Data columns (total 14 columns):\n",
      "Facility_or_Department    53186 non-null object\n",
      "Function_Description      298676 non-null object\n",
      "Fund_Description          179157 non-null object\n",
      "Job_Title_Description     272317 non-null object\n",
      "Location_Description      155504 non-null object\n",
      "Object_Description        332143 non-null object\n",
      "Position_Extra            244180 non-null object\n",
      "Program_Description       280943 non-null object\n",
      "SubFund_Description       263731 non-null object\n",
      "Sub_Object_Description    70748 non-null object\n",
      "Text_1                    251891 non-null object\n",
      "Text_2                    87431 non-null object\n",
      "Text_3                    108613 non-null object\n",
      "Text_4                    53384 non-null object\n",
      "dtypes: object(14)\n",
      "memory usage: 45.8+ MB\n"
     ]
    }
   ],
   "source": [
    "training[categoric].info()"
   ]
  },
  {
   "cell_type": "markdown",
   "metadata": {
    "colab_type": "text",
    "id": "dak7mrlCrHJO"
   },
   "source": [
    "Before removing symbols, let's take a peek on some values and so we can detect the diferrences later\n"
   ]
  },
  {
   "cell_type": "code",
   "execution_count": 0,
   "metadata": {
    "colab": {},
    "colab_type": "code",
    "id": "dJPXN22wrHJQ",
    "outputId": "735a9eb1-303e-4ec9-a5bc-cf724f2fac48"
   },
   "outputs": [
    {
     "data": {
      "text/plain": [
       "non-project                        True\n",
       "instruction                        True\n",
       "unalloc budgets/schools            True\n",
       "basic (fefp k-12)                 False\n",
       "employee retirement               False\n",
       "ela e-teaching sheltered eng      False\n",
       "Name: Function_Description, dtype: bool"
      ]
     },
     "execution_count": 20,
     "metadata": {
      "tags": []
     },
     "output_type": "execute_result"
    }
   ],
   "source": [
    "some_functions = training['Function_Description'].value_counts(normalize=True) > 0.05\n",
    "some_functions.head(6)"
   ]
  },
  {
   "cell_type": "code",
   "execution_count": 0,
   "metadata": {
    "colab": {},
    "colab_type": "code",
    "id": "QTpwKzVYrHJZ",
    "outputId": "fc0bef30-7727-4154-9812-7d4ebd993875"
   },
   "outputs": [
    {
     "data": {
      "text/plain": [
       "non-project                       0.191686\n",
       "instruction                       0.128882\n",
       "unalloc budgets/schools           0.055458\n",
       "basic (fefp k-12)                 0.044473\n",
       "employee retirement               0.043723\n",
       "ela e-teaching sheltered eng      0.021093\n",
       "Name: Function_Description, dtype: float64"
      ]
     },
     "execution_count": 21,
     "metadata": {
      "tags": []
     },
     "output_type": "execute_result"
    }
   ],
   "source": [
    "training['Function_Description'].value_counts(normalize=True).head(6)"
   ]
  },
  {
   "cell_type": "code",
   "execution_count": 0,
   "metadata": {
    "colab": {},
    "colab_type": "code",
    "id": "U2tWCkI7rHJd"
   },
   "outputs": [],
   "source": [
    "training[categoric] = training[categoric].fillna(\"\")"
   ]
  },
  {
   "cell_type": "code",
   "execution_count": 0,
   "metadata": {
    "colab": {},
    "colab_type": "code",
    "id": "P7gd_4GNrHJk",
    "outputId": "e7d2c575-ac1c-4d81-a687-6c915f0b6554"
   },
   "outputs": [
    {
     "data": {
      "text/plain": [
       "0"
      ]
     },
     "execution_count": 43,
     "metadata": {
      "tags": []
     },
     "output_type": "execute_result"
    }
   ],
   "source": [
    "training['Function_Description'].isnull().sum()"
   ]
  },
  {
   "cell_type": "markdown",
   "metadata": {
    "colab_type": "text",
    "id": "s5EujUAkrHJw"
   },
   "source": [
    "## Sample reduction"
   ]
  },
  {
   "cell_type": "code",
   "execution_count": 0,
   "metadata": {
    "colab": {},
    "colab_type": "code",
    "collapsed": true,
    "id": "q1wXmiwDrHJx",
    "outputId": "11fbf8fd-dc7b-4512-fb91-a91da9cdb404"
   },
   "outputs": [
    {
     "name": "stdout",
     "output_type": "stream",
     "text": [
      "Collecting imbalanced-learn\n",
      "\u001b[?25l  Downloading https://files.pythonhosted.org/packages/e5/4c/7557e1c2e791bd43878f8c82065bddc5798252084f26ef44527c02262af1/imbalanced_learn-0.4.3-py3-none-any.whl (166kB)\n",
      "\u001b[K    100% |████████████████████████████████| 174kB 465kB/s ta 0:00:01\n",
      "\u001b[?25hRequirement already satisfied, skipping upgrade: numpy>=1.8.2 in /home/danielmarx/.local/lib/python3.6/site-packages (from imbalanced-learn) (1.14.5)\n",
      "Requirement already satisfied, skipping upgrade: scipy>=0.13.3 in /home/danielmarx/anaconda3/lib/python3.6/site-packages (from imbalanced-learn) (1.1.0)\n",
      "Collecting scikit-learn>=0.20 (from imbalanced-learn)\n",
      "\u001b[?25l  Downloading https://files.pythonhosted.org/packages/5e/82/c0de5839d613b82bddd088599ac0bbfbbbcbd8ca470680658352d2c435bd/scikit_learn-0.20.3-cp36-cp36m-manylinux1_x86_64.whl (5.4MB)\n",
      "\u001b[K    100% |████████████████████████████████| 5.4MB 448kB/s ta 0:00:01\n",
      "\u001b[?25hInstalling collected packages: scikit-learn, imbalanced-learn\n",
      "  Found existing installation: scikit-learn 0.19.1\n",
      "    Uninstalling scikit-learn-0.19.1:\n",
      "      Successfully uninstalled scikit-learn-0.19.1\n",
      "Successfully installed imbalanced-learn-0.4.3 scikit-learn-0.20.3\n"
     ]
    }
   ],
   "source": [
    "#!pip install -U imbalanced-learn"
   ]
  },
  {
   "cell_type": "code",
   "execution_count": 0,
   "metadata": {
    "colab": {},
    "colab_type": "code",
    "id": "NBc4XzzTrHJ1"
   },
   "outputs": [],
   "source": [
    "#from imblearn.under_sampling import RandomUnderSampler\n",
    "#rus = RandomUnderSampler(random_state=0)\n",
    "\n",
    "#X = training[categoric]\n",
    "#y = training[labels]"
   ]
  },
  {
   "cell_type": "code",
   "execution_count": 0,
   "metadata": {
    "colab": {},
    "colab_type": "code",
    "collapsed": true,
    "id": "CopNrg4VrHJ5",
    "outputId": "73e21941-3c6c-4bbd-fc00-fe75d3430582"
   },
   "outputs": [
    {
     "ename": "TypeError",
     "evalue": "'<' not supported between instances of 'str' and 'float'",
     "output_type": "error",
     "traceback": [
      "\u001b[0;31m---------------------------------------------------------------------------\u001b[0m",
      "\u001b[0;31mTypeError\u001b[0m                                 Traceback (most recent call last)",
      "\u001b[0;32m<ipython-input-20-393a095f3dbf>\u001b[0m in \u001b[0;36m<module>\u001b[0;34m()\u001b[0m\n\u001b[0;32m----> 1\u001b[0;31m \u001b[0mX_resampled\u001b[0m\u001b[0;34m,\u001b[0m \u001b[0my_resampled\u001b[0m \u001b[0;34m=\u001b[0m \u001b[0mrus\u001b[0m\u001b[0;34m.\u001b[0m\u001b[0mfit_resample\u001b[0m\u001b[0;34m(\u001b[0m\u001b[0mX\u001b[0m\u001b[0;34m,\u001b[0m \u001b[0my\u001b[0m\u001b[0;34m)\u001b[0m\u001b[0;34m\u001b[0m\u001b[0m\n\u001b[0m",
      "\u001b[0;32m~/anaconda3/lib/python3.6/site-packages/imblearn/base.py\u001b[0m in \u001b[0;36mfit_resample\u001b[0;34m(self, X, y)\u001b[0m\n\u001b[1;32m     78\u001b[0m         \u001b[0mself\u001b[0m\u001b[0;34m.\u001b[0m\u001b[0m_deprecate_ratio\u001b[0m\u001b[0;34m(\u001b[0m\u001b[0;34m)\u001b[0m\u001b[0;34m\u001b[0m\u001b[0m\n\u001b[1;32m     79\u001b[0m \u001b[0;34m\u001b[0m\u001b[0m\n\u001b[0;32m---> 80\u001b[0;31m         \u001b[0mX\u001b[0m\u001b[0;34m,\u001b[0m \u001b[0my\u001b[0m\u001b[0;34m,\u001b[0m \u001b[0mbinarize_y\u001b[0m \u001b[0;34m=\u001b[0m \u001b[0mself\u001b[0m\u001b[0;34m.\u001b[0m\u001b[0m_check_X_y\u001b[0m\u001b[0;34m(\u001b[0m\u001b[0mX\u001b[0m\u001b[0;34m,\u001b[0m \u001b[0my\u001b[0m\u001b[0;34m)\u001b[0m\u001b[0;34m\u001b[0m\u001b[0m\n\u001b[0m\u001b[1;32m     81\u001b[0m \u001b[0;34m\u001b[0m\u001b[0m\n\u001b[1;32m     82\u001b[0m         self.sampling_strategy_ = check_sampling_strategy(\n",
      "\u001b[0;32m~/anaconda3/lib/python3.6/site-packages/imblearn/under_sampling/_prototype_selection/_random_under_sampler.py\u001b[0m in \u001b[0;36m_check_X_y\u001b[0;34m(X, y)\u001b[0m\n\u001b[1;32m    100\u001b[0m     \u001b[0;34m@\u001b[0m\u001b[0mstaticmethod\u001b[0m\u001b[0;34m\u001b[0m\u001b[0m\n\u001b[1;32m    101\u001b[0m     \u001b[0;32mdef\u001b[0m \u001b[0m_check_X_y\u001b[0m\u001b[0;34m(\u001b[0m\u001b[0mX\u001b[0m\u001b[0;34m,\u001b[0m \u001b[0my\u001b[0m\u001b[0;34m)\u001b[0m\u001b[0;34m:\u001b[0m\u001b[0;34m\u001b[0m\u001b[0m\n\u001b[0;32m--> 102\u001b[0;31m         \u001b[0my\u001b[0m\u001b[0;34m,\u001b[0m \u001b[0mbinarize_y\u001b[0m \u001b[0;34m=\u001b[0m \u001b[0mcheck_target_type\u001b[0m\u001b[0;34m(\u001b[0m\u001b[0my\u001b[0m\u001b[0;34m,\u001b[0m \u001b[0mindicate_one_vs_all\u001b[0m\u001b[0;34m=\u001b[0m\u001b[0;32mTrue\u001b[0m\u001b[0;34m)\u001b[0m\u001b[0;34m\u001b[0m\u001b[0m\n\u001b[0m\u001b[1;32m    103\u001b[0m         \u001b[0mX\u001b[0m \u001b[0;34m=\u001b[0m \u001b[0mcheck_array\u001b[0m\u001b[0;34m(\u001b[0m\u001b[0mX\u001b[0m\u001b[0;34m,\u001b[0m \u001b[0maccept_sparse\u001b[0m\u001b[0;34m=\u001b[0m\u001b[0;34m[\u001b[0m\u001b[0;34m'csr'\u001b[0m\u001b[0;34m,\u001b[0m \u001b[0;34m'csc'\u001b[0m\u001b[0;34m]\u001b[0m\u001b[0;34m,\u001b[0m \u001b[0mdtype\u001b[0m\u001b[0;34m=\u001b[0m\u001b[0;32mNone\u001b[0m\u001b[0;34m)\u001b[0m\u001b[0;34m\u001b[0m\u001b[0m\n\u001b[1;32m    104\u001b[0m         y = check_array(y, accept_sparse=['csr', 'csc'], dtype=None,\n",
      "\u001b[0;32m~/anaconda3/lib/python3.6/site-packages/imblearn/utils/_validation.py\u001b[0m in \u001b[0;36mcheck_target_type\u001b[0;34m(y, indicate_one_vs_all)\u001b[0m\n\u001b[1;32m     86\u001b[0m \u001b[0;34m\u001b[0m\u001b[0m\n\u001b[1;32m     87\u001b[0m     \"\"\"\n\u001b[0;32m---> 88\u001b[0;31m     \u001b[0mtype_y\u001b[0m \u001b[0;34m=\u001b[0m \u001b[0mtype_of_target\u001b[0m\u001b[0;34m(\u001b[0m\u001b[0my\u001b[0m\u001b[0;34m)\u001b[0m\u001b[0;34m\u001b[0m\u001b[0m\n\u001b[0m\u001b[1;32m     89\u001b[0m     \u001b[0;32mif\u001b[0m \u001b[0mtype_y\u001b[0m \u001b[0;32mnot\u001b[0m \u001b[0;32min\u001b[0m \u001b[0mTARGET_KIND\u001b[0m\u001b[0;34m:\u001b[0m\u001b[0;34m\u001b[0m\u001b[0m\n\u001b[1;32m     90\u001b[0m         \u001b[0;31m# FIXME: perfectly we should raise an error but the sklearn API does\u001b[0m\u001b[0;34m\u001b[0m\u001b[0;34m\u001b[0m\u001b[0m\n",
      "\u001b[0;32m~/anaconda3/lib/python3.6/site-packages/sklearn/utils/multiclass.py\u001b[0m in \u001b[0;36mtype_of_target\u001b[0;34m(y)\u001b[0m\n\u001b[1;32m    247\u001b[0m         \u001b[0;32mraise\u001b[0m \u001b[0mValueError\u001b[0m\u001b[0;34m(\u001b[0m\u001b[0;34m\"y cannot be class 'SparseSeries'.\"\u001b[0m\u001b[0;34m)\u001b[0m\u001b[0;34m\u001b[0m\u001b[0m\n\u001b[1;32m    248\u001b[0m \u001b[0;34m\u001b[0m\u001b[0m\n\u001b[0;32m--> 249\u001b[0;31m     \u001b[0;32mif\u001b[0m \u001b[0mis_multilabel\u001b[0m\u001b[0;34m(\u001b[0m\u001b[0my\u001b[0m\u001b[0;34m)\u001b[0m\u001b[0;34m:\u001b[0m\u001b[0;34m\u001b[0m\u001b[0m\n\u001b[0m\u001b[1;32m    250\u001b[0m         \u001b[0;32mreturn\u001b[0m \u001b[0;34m'multilabel-indicator'\u001b[0m\u001b[0;34m\u001b[0m\u001b[0m\n\u001b[1;32m    251\u001b[0m \u001b[0;34m\u001b[0m\u001b[0m\n",
      "\u001b[0;32m~/anaconda3/lib/python3.6/site-packages/sklearn/utils/multiclass.py\u001b[0m in \u001b[0;36mis_multilabel\u001b[0;34m(y)\u001b[0m\n\u001b[1;32m    149\u001b[0m                  _is_integral_float(np.unique(y.data))))\n\u001b[1;32m    150\u001b[0m     \u001b[0;32melse\u001b[0m\u001b[0;34m:\u001b[0m\u001b[0;34m\u001b[0m\u001b[0m\n\u001b[0;32m--> 151\u001b[0;31m         \u001b[0mlabels\u001b[0m \u001b[0;34m=\u001b[0m \u001b[0mnp\u001b[0m\u001b[0;34m.\u001b[0m\u001b[0munique\u001b[0m\u001b[0;34m(\u001b[0m\u001b[0my\u001b[0m\u001b[0;34m)\u001b[0m\u001b[0;34m\u001b[0m\u001b[0m\n\u001b[0m\u001b[1;32m    152\u001b[0m \u001b[0;34m\u001b[0m\u001b[0m\n\u001b[1;32m    153\u001b[0m         return len(labels) < 3 and (y.dtype.kind in 'biu' or  # bool, int, uint\n",
      "\u001b[0;32m~/.local/lib/python3.6/site-packages/numpy/lib/arraysetops.py\u001b[0m in \u001b[0;36munique\u001b[0;34m(ar, return_index, return_inverse, return_counts, axis)\u001b[0m\n\u001b[1;32m    221\u001b[0m     \u001b[0mar\u001b[0m \u001b[0;34m=\u001b[0m \u001b[0mnp\u001b[0m\u001b[0;34m.\u001b[0m\u001b[0masanyarray\u001b[0m\u001b[0;34m(\u001b[0m\u001b[0mar\u001b[0m\u001b[0;34m)\u001b[0m\u001b[0;34m\u001b[0m\u001b[0m\n\u001b[1;32m    222\u001b[0m     \u001b[0;32mif\u001b[0m \u001b[0maxis\u001b[0m \u001b[0;32mis\u001b[0m \u001b[0;32mNone\u001b[0m\u001b[0;34m:\u001b[0m\u001b[0;34m\u001b[0m\u001b[0m\n\u001b[0;32m--> 223\u001b[0;31m         \u001b[0;32mreturn\u001b[0m \u001b[0m_unique1d\u001b[0m\u001b[0;34m(\u001b[0m\u001b[0mar\u001b[0m\u001b[0;34m,\u001b[0m \u001b[0mreturn_index\u001b[0m\u001b[0;34m,\u001b[0m \u001b[0mreturn_inverse\u001b[0m\u001b[0;34m,\u001b[0m \u001b[0mreturn_counts\u001b[0m\u001b[0;34m)\u001b[0m\u001b[0;34m\u001b[0m\u001b[0m\n\u001b[0m\u001b[1;32m    224\u001b[0m     \u001b[0;32mif\u001b[0m \u001b[0;32mnot\u001b[0m \u001b[0;34m(\u001b[0m\u001b[0;34m-\u001b[0m\u001b[0mar\u001b[0m\u001b[0;34m.\u001b[0m\u001b[0mndim\u001b[0m \u001b[0;34m<=\u001b[0m \u001b[0maxis\u001b[0m \u001b[0;34m<\u001b[0m \u001b[0mar\u001b[0m\u001b[0;34m.\u001b[0m\u001b[0mndim\u001b[0m\u001b[0;34m)\u001b[0m\u001b[0;34m:\u001b[0m\u001b[0;34m\u001b[0m\u001b[0m\n\u001b[1;32m    225\u001b[0m         \u001b[0;32mraise\u001b[0m \u001b[0mValueError\u001b[0m\u001b[0;34m(\u001b[0m\u001b[0;34m'Invalid axis kwarg specified for unique'\u001b[0m\u001b[0;34m)\u001b[0m\u001b[0;34m\u001b[0m\u001b[0m\n",
      "\u001b[0;32m~/.local/lib/python3.6/site-packages/numpy/lib/arraysetops.py\u001b[0m in \u001b[0;36m_unique1d\u001b[0;34m(ar, return_index, return_inverse, return_counts)\u001b[0m\n\u001b[1;32m    281\u001b[0m         \u001b[0maux\u001b[0m \u001b[0;34m=\u001b[0m \u001b[0mar\u001b[0m\u001b[0;34m[\u001b[0m\u001b[0mperm\u001b[0m\u001b[0;34m]\u001b[0m\u001b[0;34m\u001b[0m\u001b[0m\n\u001b[1;32m    282\u001b[0m     \u001b[0;32melse\u001b[0m\u001b[0;34m:\u001b[0m\u001b[0;34m\u001b[0m\u001b[0m\n\u001b[0;32m--> 283\u001b[0;31m         \u001b[0mar\u001b[0m\u001b[0;34m.\u001b[0m\u001b[0msort\u001b[0m\u001b[0;34m(\u001b[0m\u001b[0;34m)\u001b[0m\u001b[0;34m\u001b[0m\u001b[0m\n\u001b[0m\u001b[1;32m    284\u001b[0m         \u001b[0maux\u001b[0m \u001b[0;34m=\u001b[0m \u001b[0mar\u001b[0m\u001b[0;34m\u001b[0m\u001b[0m\n\u001b[1;32m    285\u001b[0m     \u001b[0mflag\u001b[0m \u001b[0;34m=\u001b[0m \u001b[0mnp\u001b[0m\u001b[0;34m.\u001b[0m\u001b[0mconcatenate\u001b[0m\u001b[0;34m(\u001b[0m\u001b[0;34m(\u001b[0m\u001b[0;34m[\u001b[0m\u001b[0;32mTrue\u001b[0m\u001b[0;34m]\u001b[0m\u001b[0;34m,\u001b[0m \u001b[0maux\u001b[0m\u001b[0;34m[\u001b[0m\u001b[0;36m1\u001b[0m\u001b[0;34m:\u001b[0m\u001b[0;34m]\u001b[0m \u001b[0;34m!=\u001b[0m \u001b[0maux\u001b[0m\u001b[0;34m[\u001b[0m\u001b[0;34m:\u001b[0m\u001b[0;34m-\u001b[0m\u001b[0;36m1\u001b[0m\u001b[0;34m]\u001b[0m\u001b[0;34m)\u001b[0m\u001b[0;34m)\u001b[0m\u001b[0;34m\u001b[0m\u001b[0m\n",
      "\u001b[0;31mTypeError\u001b[0m: '<' not supported between instances of 'str' and 'float'"
     ]
    }
   ],
   "source": [
    "#X_resampled, y_resampled = rus.fit_resample(X, y)"
   ]
  },
  {
   "cell_type": "markdown",
   "metadata": {
    "colab_type": "text",
    "id": "bpV76t37rHJ-"
   },
   "source": [
    "## CountVectorizer & Dimensionality Reduction"
   ]
  },
  {
   "cell_type": "code",
   "execution_count": 0,
   "metadata": {
    "colab": {},
    "colab_type": "code",
    "id": "sdE9gNePrHJ_"
   },
   "outputs": [],
   "source": [
    "# Join all text items in a row that have a space in between\n",
    "text_data = training[categoric].apply(lambda x: \" \".join(x), axis = 1)"
   ]
  },
  {
   "cell_type": "code",
   "execution_count": 0,
   "metadata": {
    "colab": {},
    "colab_type": "code",
    "id": "dLtXjXKXrHKG"
   },
   "outputs": [],
   "source": [
    "text_data"
   ]
  },
  {
   "cell_type": "code",
   "execution_count": 0,
   "metadata": {
    "colab": {},
    "colab_type": "code",
    "id": "LU1bRm7_rHKM"
   },
   "outputs": [],
   "source": [
    "#Stop word list https://aclweb.org/anthology/W18-2502\n",
    "stop_words = ['a', 'e', 'i', 'o', 'u', 'to', 'all', 'of', 'for', 'and', 'or', 'b', 'with', 'not', 'than', 'other', 'top', 's', 'k', 'in', 'the']"
   ]
  },
  {
   "cell_type": "code",
   "execution_count": 0,
   "metadata": {
    "colab": {},
    "colab_type": "code",
    "id": "3uJ98b38rHKU",
    "outputId": "ee5e9cb3-25d4-4877-f787-5d11d874f65e"
   },
   "outputs": [
    {
     "data": {
      "text/plain": [
       "CountVectorizer(analyzer='word', binary=False, decode_error='strict',\n",
       "        dtype=<class 'numpy.int64'>, encoding='utf-8', input='content',\n",
       "        lowercase=True, max_df=1.0, max_features=None, min_df=1,\n",
       "        ngram_range=(1, 2), preprocessor=None,\n",
       "        stop_words=['a', 'e', 'i', 'o', 'u', 'to', 'all', 'of', 'for', 'and', 'or', 'b', 'with', 'not', 'than', 'other', 'top', 's', 'k', 'in', 'the'],\n",
       "        strip_accents=None, token_pattern='[A-Za-z0-9]+(?=\\\\s+)',\n",
       "        tokenizer=None, vocabulary=None)"
      ]
     },
     "execution_count": 23,
     "metadata": {
      "tags": []
     },
     "output_type": "execute_result"
    }
   ],
   "source": [
    "from sklearn.feature_extraction.text import CountVectorizer\n",
    "\n",
    "vec = CountVectorizer(token_pattern=\"[A-Za-z0-9]+(?=\\\\s+)\", ngram_range=(1,2), stop_words = stop_words)"
   ]
  },
  {
   "cell_type": "code",
   "execution_count": 0,
   "metadata": {
    "colab": {},
    "colab_type": "code",
    "id": "hvcbxdI9rHKj"
   },
   "outputs": [],
   "source": [
    "#bag_of_words = vec.transform(text_data)"
   ]
  },
  {
   "cell_type": "code",
   "execution_count": 0,
   "metadata": {
    "colab": {},
    "colab_type": "code",
    "id": "MxizqPOnrHKr"
   },
   "outputs": [],
   "source": [
    "#sum_words = bag_of_words.sum(axis=0)"
   ]
  },
  {
   "cell_type": "code",
   "execution_count": 0,
   "metadata": {
    "colab": {},
    "colab_type": "code",
    "id": "LYp3C1RirHKx"
   },
   "outputs": [],
   "source": [
    "#words_freq = [(word, sum_words[0, idx]) for word, idx in vec.vocabulary_.items()]\n",
    "#words_freq = sorted(words_freq, key = lambda x: x[1], reverse=True)"
   ]
  },
  {
   "cell_type": "code",
   "execution_count": 0,
   "metadata": {
    "colab": {},
    "colab_type": "code",
    "collapsed": true,
    "id": "9D4e8KtZrHK2",
    "outputId": "67bf184f-a23a-484c-bd96-6609c0afdb77"
   },
   "outputs": [
    {
     "data": {
      "text/plain": [
       "[('general', 300550),\n",
       " ('regular', 257258),\n",
       " ('fund', 233846),\n",
       " ('services', 181559),\n",
       " ('school', 174326),\n",
       " ('instructional', 169880),\n",
       " ('general fund', 159059),\n",
       " ('instruction', 154529),\n",
       " ('employee', 121791),\n",
       " ('salaries', 118583),\n",
       " ('education', 115535),\n",
       " ('teacher', 109395),\n",
       " ('special', 75179),\n",
       " ('benefits', 74431),\n",
       " ('employee benefits', 74265),\n",
       " ('staff', 71877),\n",
       " ('support', 71565),\n",
       " ('regular instruction', 70683),\n",
       " ('elementary', 69049),\n",
       " ('part', 66762),\n",
       " ('title', 66716),\n",
       " ('wages', 62631),\n",
       " ('instructional staff', 61491),\n",
       " ('salaries wages', 59687),\n",
       " ('project', 58596),\n",
       " ('instruction regular', 55054),\n",
       " ('fund regular', 51245),\n",
       " ('instructional general', 49723),\n",
       " ('teachers', 48906),\n",
       " ('food', 48279),\n",
       " ('substitute', 47421),\n",
       " ('basic', 45886),\n",
       " ('sub', 45683),\n",
       " ('extra', 43550),\n",
       " ('operations', 43020),\n",
       " ('education general', 41337),\n",
       " ('duty', 40577),\n",
       " ('extra duty', 40577),\n",
       " ('time', 39812),\n",
       " ('personal', 39343),\n",
       " ('personal services', 39343),\n",
       " ('operating', 39309),\n",
       " ('supplies', 36592),\n",
       " ('personnel', 35500),\n",
       " ('employees', 35332),\n",
       " ('support personnel', 34072),\n",
       " ('transportation', 33367),\n",
       " ('elementary education', 33156),\n",
       " ('general operating', 33129),\n",
       " ('operating fund', 33129),\n",
       " ('part time', 32999),\n",
       " ('general elementary', 32736),\n",
       " ('program', 32613),\n",
       " ('term', 32443),\n",
       " ('term sub', 32422),\n",
       " ('time employee', 31941),\n",
       " ('benefits instructional', 31875),\n",
       " ('salaries part', 31690),\n",
       " ('special education', 31152),\n",
       " ('training', 30068),\n",
       " ('high', 30010),\n",
       " ('undesignated', 29954),\n",
       " ('service', 29805),\n",
       " ('school salaries', 28699),\n",
       " ('retirement', 28535),\n",
       " ('instruction general', 28212),\n",
       " ('staff training', 27486),\n",
       " ('schools', 27339),\n",
       " ('wages teachers', 25924),\n",
       " ('professi', 25822),\n",
       " ('teachers professi', 25822),\n",
       " ('federal', 24826),\n",
       " ('undistributed', 24781),\n",
       " ('district', 24690),\n",
       " ('educational', 24617),\n",
       " ('overtime', 24600),\n",
       " ('salaries regular', 24111),\n",
       " ('regular employees', 24110),\n",
       " ('services general', 23899),\n",
       " ('title part', 23851),\n",
       " ('short', 23290),\n",
       " ('short term', 23290),\n",
       " ('ed', 22516),\n",
       " ('curriculum', 21730),\n",
       " ('pay', 21226),\n",
       " ('campus', 20710),\n",
       " ('employee instructional', 20526),\n",
       " ('purpose', 20315),\n",
       " ('general purpose', 20294),\n",
       " ('purpose school', 20294),\n",
       " ('high school', 20211),\n",
       " ('educational services', 19911),\n",
       " ('basic educational', 19901),\n",
       " ('instructional instructional', 19705),\n",
       " ('bus', 18956),\n",
       " ('school personal', 18745),\n",
       " ('maintenance', 18691),\n",
       " ('payroll', 18563),\n",
       " ('regular pay', 18490),\n",
       " ('overtime support', 18318),\n",
       " ('duty overtime', 18266),\n",
       " ('food services', 18218),\n",
       " ('food service', 18026),\n",
       " ('arra', 17980),\n",
       " ('campus payroll', 17639),\n",
       " ('employees instructional', 17450),\n",
       " ('activities', 17238),\n",
       " ('gdpg', 17153),\n",
       " ('gdpg fund', 17153),\n",
       " ('instruction teacher', 17033),\n",
       " ('stip', 16812),\n",
       " ('duty stip', 16812),\n",
       " ('instruction curriculum', 16723),\n",
       " ('secondary', 16582),\n",
       " ('unalloc', 16564),\n",
       " ('unalloc schools', 16564),\n",
       " ('subs', 16554),\n",
       " ('teacher subs', 16554),\n",
       " ('nutrition', 16527),\n",
       " ('fund instructional', 16379),\n",
       " ('state', 16375),\n",
       " ('professi teacher', 16351),\n",
       " ('services operations', 16031),\n",
       " ('operation', 15590),\n",
       " ('federal gdpg', 15495),\n",
       " ('community', 15319),\n",
       " ('extended', 15089),\n",
       " ('stip instructional', 15020),\n",
       " ('payroll instruction', 14819),\n",
       " ('operations salaries', 14595),\n",
       " ('funds', 14533),\n",
       " ('substitute teachers', 14519),\n",
       " ('subs regular', 14494),\n",
       " ('sub salaries', 14358),\n",
       " ('local', 13803),\n",
       " ('fy', 13704),\n",
       " ('benefits general', 13530),\n",
       " ('fund fy', 13515),\n",
       " ('miscellaneous', 13497),\n",
       " ('sub employee', 13483),\n",
       " ('fund school', 13470),\n",
       " ('wages substitute', 13394),\n",
       " ('paraprofessional', 13368),\n",
       " ('fund employee', 13352),\n",
       " ('fefp', 13283),\n",
       " ('basic fefp', 13283),\n",
       " ('plant', 13225),\n",
       " ('staff regular', 13163),\n",
       " ('undesignated employee', 13137),\n",
       " ('employee retirement', 13076),\n",
       " ('retirement undesignated', 13054),\n",
       " ('misc', 12903),\n",
       " ('improving', 12851),\n",
       " ('early', 12627),\n",
       " ('teacher instruction', 12304),\n",
       " ('disadvantaged', 12258),\n",
       " ('regular regular', 12222),\n",
       " ('driver', 12139),\n",
       " ('part improving', 12066),\n",
       " ('improving basic', 12066),\n",
       " ('department', 11939),\n",
       " ('training general', 11915),\n",
       " ('bachelor', 11847),\n",
       " ('teacher bachelor', 11847),\n",
       " ('materials', 11740),\n",
       " ('wages support', 11610),\n",
       " ('bus driver', 11583),\n",
       " ('maint', 11577),\n",
       " ('grades', 11566),\n",
       " ('school education', 11503),\n",
       " ('grades program', 11306),\n",
       " ('fefp general', 11263),\n",
       " ('student', 11207),\n",
       " ('certified', 11191),\n",
       " ('asst', 11023),\n",
       " ('sch', 10971),\n",
       " ('schoolwide', 10966),\n",
       " ('day', 10951),\n",
       " ('ela', 10703),\n",
       " ('administration', 10701),\n",
       " ('8', 10691),\n",
       " ('undistributed operations', 10681),\n",
       " ('related', 10642),\n",
       " ('general high', 10589),\n",
       " ('schools short', 10561),\n",
       " ('substitute teacher', 10398),\n",
       " ('primary', 10356),\n",
       " ('students', 10285),\n",
       " ('support services', 10248),\n",
       " ('purchased', 10229),\n",
       " ('services district', 10219),\n",
       " ('certified substitute', 10133),\n",
       " ('revenue', 10046),\n",
       " ('media', 10037),\n",
       " ('special revenue', 10004),\n",
       " ('child', 10000),\n",
       " ('revenue funds', 9999),\n",
       " ('learning', 9911),\n",
       " ('district special', 9888),\n",
       " ('curriculum instruction', 9830),\n",
       " ('primary grades', 9821),\n",
       " ('general supplies', 9579),\n",
       " ('targeted', 9537),\n",
       " ('childhood', 9522),\n",
       " ('early childhood', 9522),\n",
       " ('operation maint', 9490),\n",
       " ('maint plant', 9488),\n",
       " ('teaching', 9418),\n",
       " ('objective', 9413),\n",
       " ('district objective', 9413),\n",
       " ('employees salaries', 9309),\n",
       " ('regular school', 9307),\n",
       " ('idea', 9284),\n",
       " ('employer', 9277),\n",
       " ('fund supplies', 9255),\n",
       " ('levy', 9246),\n",
       " ('ii', 9196),\n",
       " ('programs', 9154),\n",
       " ('summer', 9093),\n",
       " ('title disadvantaged', 9024),\n",
       " ('office', 9013),\n",
       " ('disabilities', 8936),\n",
       " ('facilities', 8929),\n",
       " ('child nutrition', 8925),\n",
       " ('leadership', 8881),\n",
       " ('comp', 8870),\n",
       " ('ela teaching', 8761),\n",
       " ('pd', 8671),\n",
       " ('med', 8648),\n",
       " ('fund special', 8628),\n",
       " ('contribution', 8614),\n",
       " ('employer pd', 8614),\n",
       " ('pd med', 8614),\n",
       " ('med contribution', 8614),\n",
       " ('fund teacher', 8601),\n",
       " ('capital', 8578),\n",
       " ('supplies materials', 8564),\n",
       " ('worker', 8516),\n",
       " ('assistance', 8514),\n",
       " ('targeted assistance', 8509),\n",
       " ('middle', 8472),\n",
       " ('certificated', 8464),\n",
       " ('fund operation', 8451),\n",
       " ('operations extra', 8444),\n",
       " ('service fund', 8425),\n",
       " ('part schoolwide', 8411),\n",
       " ('schoolwide activities', 8411),\n",
       " ('activities related', 8411),\n",
       " ('related state', 8411),\n",
       " ('state comp', 8411),\n",
       " ('retrd', 8410),\n",
       " ('shrt', 8410),\n",
       " ('retrd shrt', 8410),\n",
       " ('shrt term', 8410),\n",
       " ('improvement', 8390),\n",
       " ('high sch', 8333),\n",
       " ('general education', 8275),\n",
       " ('stimulus', 8213),\n",
       " ('community services', 8210),\n",
       " ('services substitute', 8130),\n",
       " ('teachers certified', 7911),\n",
       " ('turnaround', 7871),\n",
       " ('elementary salaries', 7847),\n",
       " ('school general', 7805),\n",
       " ('disadvantaged targeted', 7775),\n",
       " ('pupil', 7741),\n",
       " ('services teachers', 7688),\n",
       " ('projects', 7672),\n",
       " ('arra stimulus', 7626),\n",
       " ('development', 7621),\n",
       " ('pool', 7598),\n",
       " ('custodian', 7558),\n",
       " ('substitute pool', 7556),\n",
       " ('elementary employee', 7535),\n",
       " ('administrative', 7493),\n",
       " ('eng', 7463),\n",
       " ('spec', 7388),\n",
       " ('sub teacher', 7322),\n",
       " ('preschool', 7303),\n",
       " ('junior', 7295),\n",
       " ('middle school', 7281),\n",
       " ('junior high', 7252),\n",
       " ('care', 7221),\n",
       " ('general junior', 7196),\n",
       " ('central', 7188),\n",
       " ('security', 7167),\n",
       " ('admin', 7162),\n",
       " ('teacher substitute', 7096),\n",
       " ('purchased services', 7092),\n",
       " ('charter', 7037),\n",
       " ('elem', 6978),\n",
       " ('professional', 6933),\n",
       " ('administrative support', 6868),\n",
       " ('instruction title', 6846),\n",
       " ('based', 6808),\n",
       " ('alternative', 6801),\n",
       " ('pool school', 6792),\n",
       " ('svcs', 6785),\n",
       " ('fund bus', 6770),\n",
       " ('general 8', 6719),\n",
       " ('management', 6712),\n",
       " ('needs', 6706),\n",
       " ('teacher school', 6692),\n",
       " ('professionals', 6655),\n",
       " ('substitute professionals', 6652),\n",
       " ('fy instructional', 6596),\n",
       " ('fund sub', 6562),\n",
       " ('services title', 6544),\n",
       " ('fund food', 6487),\n",
       " ('professi regular', 6470),\n",
       " ('bilingual', 6456),\n",
       " ('services food', 6455),\n",
       " ('service worker', 6455),\n",
       " ('resources', 6311),\n",
       " ('travel', 6302),\n",
       " ('sheltered', 6300),\n",
       " ('teaching sheltered', 6300),\n",
       " ('sheltered eng', 6300),\n",
       " ('school nutrition', 6214),\n",
       " ('upkeep', 6135),\n",
       " ('care upkeep', 6135),\n",
       " ('pay basic', 6104),\n",
       " ('classroom', 6104),\n",
       " ('wide', 6087),\n",
       " ('teachers regular', 6071),\n",
       " ('super', 6056),\n",
       " ('sch general', 6012),\n",
       " ('employee paraprofessional', 6008),\n",
       " ('inst', 5999),\n",
       " ('operations general', 5998),\n",
       " ('mill', 5992),\n",
       " ('mill levy', 5992),\n",
       " ('12', 5975),\n",
       " ('spec ed', 5945),\n",
       " ('unallocated', 5935),\n",
       " ('iii', 5917),\n",
       " ('operations food', 5898),\n",
       " ('teacher secondary', 5878),\n",
       " ('8 education', 5875),\n",
       " ('science', 5851),\n",
       " ('contribution instructional', 5834),\n",
       " ('language', 5790),\n",
       " ('paid', 5789),\n",
       " ('instructional special', 5783),\n",
       " ('tech', 5775),\n",
       " ('dev', 5764),\n",
       " ('project short', 5725),\n",
       " ('personnel regular', 5680),\n",
       " ('transportation department', 5668),\n",
       " ('grant', 5664),\n",
       " ('federal projects', 5645),\n",
       " ('serving', 5635),\n",
       " ('food serving', 5635),\n",
       " ('serving food', 5627),\n",
       " ('instr', 5609),\n",
       " ('severe', 5593),\n",
       " ('support school', 5589),\n",
       " ('school administration', 5565),\n",
       " ('bldg', 5535),\n",
       " ('support instructional', 5535),\n",
       " ('arts', 5468),\n",
       " ('school federal', 5455),\n",
       " ('para', 5453),\n",
       " ('kindergarten', 5408),\n",
       " ('days', 5377),\n",
       " ('pupil transportation', 5322),\n",
       " ('bilingual education', 5315),\n",
       " ('master', 5292),\n",
       " ('teacher learning', 5285),\n",
       " ('learning leadership', 5285),\n",
       " ('specialist', 5272),\n",
       " ('custodial', 5215),\n",
       " ('reg', 5193),\n",
       " ('comp title', 5189),\n",
       " ('social', 5183),\n",
       " ('curriculum development', 5152),\n",
       " ('title arra', 5131),\n",
       " ('tuition', 5118),\n",
       " ('school admin', 5117),\n",
       " ('teacher master', 5106),\n",
       " ('services students', 5083),\n",
       " ('reading', 5073),\n",
       " ('misc miscellaneous', 5058),\n",
       " ('benefits paraprofessional', 5055),\n",
       " ('d', 5040),\n",
       " ('upkeep bldg', 5023),\n",
       " ('bldg services', 5023),\n",
       " ('paraprofessional general', 4988),\n",
       " ('personnel bus', 4968),\n",
       " ('services instructional', 4965),\n",
       " ('inst staff', 4940),\n",
       " ('training svcs', 4939),\n",
       " ('idea part', 4928),\n",
       " ('project elementary', 4883),\n",
       " ('certificated employees', 4848),\n",
       " ('project food', 4832),\n",
       " ('school extra', 4812),\n",
       " ('program 12', 4799),\n",
       " ('funds regular', 4740),\n",
       " ('opportunity', 4720),\n",
       " ('building', 4699),\n",
       " ('summer school', 4693),\n",
       " ('grants', 4684),\n",
       " ('sped', 4673),\n",
       " ('eng elementary', 4653),\n",
       " ('super sub', 4650),\n",
       " ('teachers teacher', 4643),\n",
       " ('disabilities special', 4623),\n",
       " ('education regular', 4618),\n",
       " ('students disabilities', 4611),\n",
       " ('fund services', 4536),\n",
       " ('instruction sped', 4534),\n",
       " ('moderate', 4524),\n",
       " ('vocational', 4517),\n",
       " ('instructional support', 4512),\n",
       " ('elpa', 4501),\n",
       " ('admin general', 4468),\n",
       " ('services employees', 4461),\n",
       " ('transportation general', 4438),\n",
       " ('ext', 4423),\n",
       " ('extracurricular', 4415),\n",
       " ('undesignated general', 4410),\n",
       " ('career', 4409),\n",
       " ('grade', 4372),\n",
       " ('degreed', 4364),\n",
       " ('conversion', 4362),\n",
       " ('serv', 4361),\n",
       " ('principal', 4342),\n",
       " ('district wide', 4335),\n",
       " ('degreed substitute', 4332),\n",
       " ('fed', 4323),\n",
       " ('nutrition service', 4323),\n",
       " ('services regular', 4314),\n",
       " ('fees', 4310),\n",
       " ('unallocated extra', 4307),\n",
       " ('department transportation', 4288),\n",
       " ('supplement', 4267),\n",
       " ('athletics', 4254),\n",
       " ('special instruction', 4243),\n",
       " ('school based', 4243),\n",
       " ('sports', 4219),\n",
       " ('extended day', 4218),\n",
       " ('gifted', 4190),\n",
       " ('tcher', 4183),\n",
       " ('thru', 4164),\n",
       " ('fund student', 4147),\n",
       " ('based management', 4140),\n",
       " ('transportation transportation', 4139),\n",
       " ('public', 4123),\n",
       " ('card', 4121),\n",
       " ('time card', 4121),\n",
       " ('staff dev', 4121),\n",
       " ('benefits services', 4117),\n",
       " ('training federal', 4116),\n",
       " ('program primary', 4110),\n",
       " ('student transportation', 4104),\n",
       " ('prog', 4104),\n",
       " ('centers', 4097),\n",
       " ('assistant', 4087),\n",
       " ('year', 4019),\n",
       " ('local general', 3994),\n",
       " ('levy regular', 3990),\n",
       " ('exceptional', 3977),\n",
       " ('secretary', 3965),\n",
       " ('media centers', 3950),\n",
       " ('project secondary', 3940),\n",
       " ('administration regular', 3929),\n",
       " ('activity', 3919),\n",
       " ('svcs general', 3913),\n",
       " ('aide', 3884),\n",
       " ('maintenance operations', 3881),\n",
       " ('education special', 3876),\n",
       " ('plant schools', 3838),\n",
       " ('education federal', 3835),\n",
       " ('only', 3831),\n",
       " ('employee services', 3831),\n",
       " ('stimulus instructional', 3831),\n",
       " ('school tcher', 3829),\n",
       " ('childhood education', 3820),\n",
       " ('fund students', 3819),\n",
       " ('fund central', 3799),\n",
       " ('bachelor title', 3782),\n",
       " ('lunch', 3748),\n",
       " ('support regular', 3744),\n",
       " ('administrator', 3737),\n",
       " ('improvement instr', 3732),\n",
       " ('part teacher', 3715),\n",
       " ('program 8', 3696),\n",
       " ('sub d', 3692),\n",
       " ('school program', 3678),\n",
       " ('center', 3665),\n",
       " ('cash', 3634),\n",
       " ('assessment', 3633),\n",
       " ('fed thru', 3624),\n",
       " ('extended year', 3618),\n",
       " ('math', 3613),\n",
       " ('books', 3608),\n",
       " ('education school', 3602),\n",
       " ('staff services', 3600),\n",
       " ('basic extended', 3596),\n",
       " ('wide resources', 3591),\n",
       " ('fy regular', 3570),\n",
       " ('advance', 3550),\n",
       " ('adult', 3549),\n",
       " ('itemgd', 3543),\n",
       " ('itemgd preschool', 3543),\n",
       " ('preschool program', 3543),\n",
       " ('projects personal', 3533),\n",
       " ('breakfast', 3532),\n",
       " ('thru cash', 3531),\n",
       " ('cash advance', 3531),\n",
       " ('national', 3519),\n",
       " ('driver undistributed', 3516),\n",
       " ('addl', 3507),\n",
       " ('d salaries', 3507),\n",
       " ('technology', 3507),\n",
       " ('allotment', 3506),\n",
       " ('bachelor basic', 3467),\n",
       " ('school supplies', 3462),\n",
       " ('services care', 3460),\n",
       " ('extended days', 3445),\n",
       " ('schools retrd', 3441),\n",
       " ('intervention', 3435),\n",
       " ('category', 3404),\n",
       " ('transportation services', 3397),\n",
       " ('special ed', 3394),\n",
       " ('instruction certificated', 3388),\n",
       " ('bonuses', 3370),\n",
       " ('supplies undesignated', 3349),\n",
       " ('special moderate', 3348),\n",
       " ('officer', 3347),\n",
       " ('compensation', 3336),\n",
       " ('bus reg', 3331),\n",
       " ('instr serv', 3318),\n",
       " ('substitute basic', 3309),\n",
       " ('education mill', 3309),\n",
       " ('classroom teacher', 3305),\n",
       " ('national school', 3291),\n",
       " ('school breakfast', 3289),\n",
       " ('lunch program', 3288),\n",
       " ('breakfast lunch', 3287),\n",
       " ('workshop', 3274),\n",
       " ('paraprofessional special', 3269),\n",
       " ('participant', 3268),\n",
       " ('workshop participant', 3268),\n",
       " ('override', 3256),\n",
       " ('levy override', 3256),\n",
       " ('resources personal', 3250),\n",
       " ('extracurricular activities', 3247),\n",
       " ('program regular', 3244),\n",
       " ('special language', 3231),\n",
       " ('language programs', 3228),\n",
       " ('staff teacher', 3223),\n",
       " ('facilities maintenance', 3211),\n",
       " ('talented', 3209),\n",
       " ('services compensation', 3201),\n",
       " ('ed para', 3194),\n",
       " ('gifted talented', 3190),\n",
       " ('certifiedaddl', 3170),\n",
       " ('card certifiedaddl', 3170),\n",
       " ('exceptional general', 3166),\n",
       " ('humanities', 3159),\n",
       " ('undistributed salaries', 3158),\n",
       " ('secondary salaries', 3144),\n",
       " ('periodicals', 3135),\n",
       " ('lead', 3126),\n",
       " ('training arra', 3113),\n",
       " ('nutrition food', 3096),\n",
       " ('schools regular', 3090),\n",
       " ('services child', 3089),\n",
       " ('nutrition fund', 3087),\n",
       " ('fund national', 3084),\n",
       " ('youth', 3066),\n",
       " ('elpa preschool', 3065),\n",
       " ('preschool prog', 3065),\n",
       " ('education salaries', 3063),\n",
       " ('critical', 3063),\n",
       " ('qualit', 3059),\n",
       " ('teacher qualit', 3059),\n",
       " ('critical needs', 3058),\n",
       " ('education program', 3050),\n",
       " ('supplies primary', 3016),\n",
       " ('books periodicals', 2990),\n",
       " ('secondary employee', 2970),\n",
       " ('sped special', 2966),\n",
       " ('special operations', 2954),\n",
       " ('itemgb', 2952),\n",
       " ('purchase', 2931),\n",
       " ('services special', 2923),\n",
       " ('activities general', 2921),\n",
       " ('project teacher', 2921),\n",
       " ('speech', 2906),\n",
       " ('school classroom', 2897),\n",
       " ('special severe', 2891),\n",
       " ('severe needs', 2891),\n",
       " ('leave', 2888),\n",
       " ('personnel overtime', 2877),\n",
       " ('incentive', 2860),\n",
       " ('instructional early', 2856),\n",
       " ('voc', 2853),\n",
       " ('english', 2835),\n",
       " ('human', 2815),\n",
       " ('equipment', 2813),\n",
       " ('costs', 2809),\n",
       " ('support support', 2801),\n",
       " ('second', 2794),\n",
       " ('trust', 2793),\n",
       " ('services education', 2782),\n",
       " ('person', 2781),\n",
       " ('childhood itemgd', 2778),\n",
       " ('oth', 2775),\n",
       " ('oth certificated', 2775),\n",
       " ('certificated person', 2775),\n",
       " ('person regular', 2775),\n",
       " ('disadvantaged youth', 2771),\n",
       " ('assistants', 2755),\n",
       " ('instruction turnaround', 2755),\n",
       " ('buses', 2739),\n",
       " ('cafeteria', 2734),\n",
       " ('education district', 2734),\n",
       " ('special trust', 2728),\n",
       " ('duty wages', 2727),\n",
       " ('education assistants', 2717),\n",
       " ('compute', 2713),\n",
       " ('purchase buses', 2713),\n",
       " ('buses compute', 2713),\n",
       " ('smoothed', 2712),\n",
       " ('youth title', 2708),\n",
       " ('personnel addl', 2705),\n",
       " ('addl regular', 2705),\n",
       " ('regular smoothed', 2705),\n",
       " ('development instructional', 2698),\n",
       " ('non', 2677),\n",
       " ('spanish', 2667),\n",
       " ('elementary employer', 2665),\n",
       " ('race', 2656),\n",
       " ('technical', 2656),\n",
       " ('school leadership', 2655),\n",
       " ('professionals degreed', 2653),\n",
       " ('acq', 2647),\n",
       " ('facilities acq', 2647),\n",
       " ('supplies misc', 2643),\n",
       " ('fund elementary', 2634),\n",
       " ('education employee', 2632),\n",
       " ('temporary', 2624),\n",
       " ('services supplies', 2621),\n",
       " ('programs operations', 2608),\n",
       " ('wages school', 2601),\n",
       " ('esea', 2591),\n",
       " ('esea title', 2591),\n",
       " ('severe disabilities', 2586),\n",
       " ('opportunity school', 2558),\n",
       " ('undistributed child', 2551),\n",
       " ('tuition based', 2539),\n",
       " ('basic regular', 2539),\n",
       " ('nurse', 2527),\n",
       " ('driver transportation', 2523),\n",
       " ('work', 2522),\n",
       " ('salaries overtime', 2520),\n",
       " ('undistributed extra', 2519),\n",
       " ('academic', 2518),\n",
       " ('library', 2502),\n",
       " ('assignment', 2498),\n",
       " ('fund custodian', 2496),\n",
       " ('general assignment', 2487),\n",
       " ('students regular', 2484),\n",
       " ('services purchased', 2481),\n",
       " ('plant maintenance', 2474),\n",
       " ('health', 2474),\n",
       " ('teaching spanish', 2461),\n",
       " ('spanish only', 2461),\n",
       " ('retirement elementary', 2460),\n",
       " ('teacher lead', 2449),\n",
       " ('writing', 2449),\n",
       " ('supplies teacher', 2448),\n",
       " ('development services', 2438),\n",
       " ('core', 2435),\n",
       " ('ext day', 2424),\n",
       " ('instructional federal', 2421),\n",
       " ('state allotment', 2420),\n",
       " ('coach', 2403),\n",
       " ('athletic', 2402),\n",
       " ('teacher retirement', 2394),\n",
       " ('professionals certified', 2392),\n",
       " ('formula', 2385),\n",
       " ('worker ii', 2378),\n",
       " ('school bonuses', 2373),\n",
       " ('part formula', 2371),\n",
       " ('tuition paid', 2365),\n",
       " ('kindergar', 2364),\n",
       " ('day tuition', 2364),\n",
       " ('paid kindergar', 2364),\n",
       " ('plant general', 2359),\n",
       " ('charter schools', 2358),\n",
       " ('safety', 2357),\n",
       " ('head', 2355),\n",
       " ('title iii', 2351),\n",
       " ('psychological', 2343),\n",
       " ('reg unallocated', 2330),\n",
       " ('supp', 2318),\n",
       " ('program cafeteria', 2317),\n",
       " ('transportation bus', 2314),\n",
       " ('education extra', 2303),\n",
       " ('school improvement', 2302),\n",
       " ('management teacher', 2288),\n",
       " ('psychological services', 2285),\n",
       " ('resource', 2270),\n",
       " ('department facilities', 2268),\n",
       " ('afterschool', 2268),\n",
       " ('funds school', 2267),\n",
       " ('afterschool programs', 2264),\n",
       " ('conversion charter', 2260),\n",
       " ('guidance', 2260),\n",
       " ('education severe', 2258),\n",
       " ('seas', 2250),\n",
       " ('summer arts', 2249),\n",
       " ('arts sports', 2249),\n",
       " ('sports seas', 2249),\n",
       " ('seas afterschool', 2248),\n",
       " ('school support', 2240),\n",
       " ('curriculum curriculum', 2237),\n",
       " ('education category', 2229),\n",
       " ('voc ed', 2229),\n",
       " ('adult voc', 2211),\n",
       " ('maintenance operating', 2198),\n",
       " ('business', 2195),\n",
       " ('prof', 2183),\n",
       " ('ed opportunity', 2180),\n",
       " ('category iii', 2171),\n",
       " ('duty instructional', 2169),\n",
       " ('matters', 2168),\n",
       " ('core matters', 2167),\n",
       " ('administrator support', 2167),\n",
       " ('opportunity alternative', 2162),\n",
       " ('elementary retirement', 2160),\n",
       " ('schools super', 2158),\n",
       " ('cafeteria food', 2155),\n",
       " ('literacy', 2155),\n",
       " ('undesignated support', 2151),\n",
       " ('benefits administrative', 2151),\n",
       " ('operating general', 2149),\n",
       " ('en', 2145),\n",
       " ('activity funds', 2140),\n",
       " ('math science', 2139),\n",
       " ('campus activity', 2138),\n",
       " ('service general', 2136),\n",
       " ('custodial department', 2133),\n",
       " ('project bus', 2127),\n",
       " ('human resources', 2124),\n",
       " ('lang', 2123),\n",
       " ('ece', 2102),\n",
       " ('chief', 2098),\n",
       " ('special conversion', 2097),\n",
       " ('conversion general', 2097),\n",
       " ('supplements', 2090),\n",
       " ('project retrd', 2088),\n",
       " ('main', 2086),\n",
       " ('cocurricular', 2086),\n",
       " ('reserve', 2085),\n",
       " ('title idea', 2085),\n",
       " ('idea main', 2085),\n",
       " ('recognition', 2076),\n",
       " ('school recognition', 2075),\n",
       " ('community service', 2074),\n",
       " ('professional tech', 2074),\n",
       " ('fund high', 2070),\n",
       " ('prg', 2070),\n",
       " ('ed center', 2066),\n",
       " ('center prg', 2066),\n",
       " ('bonuses school', 2056),\n",
       " ('capital reserve', 2051),\n",
       " ('reserve fund', 2051),\n",
       " ('act', 2048),\n",
       " ('services undesignated', 2038),\n",
       " ('cocurricular activities', 2034),\n",
       " ('initiative', 2031),\n",
       " ('title grants', 2023),\n",
       " ('comp state', 2021),\n",
       " ('elementary extra', 2018),\n",
       " ('hs', 2013),\n",
       " ('ii salaries', 2006),\n",
       " ('services operation', 2003),\n",
       " ('only elementary', 1998),\n",
       " ('ext learning', 1998),\n",
       " ('operation plant', 1997),\n",
       " ('fund purchase', 1993),\n",
       " ('garage', 1984),\n",
       " ('based ece', 1981),\n",
       " ('public school', 1970),\n",
       " ('assistance supplies', 1970),\n",
       " ('purchased professional', 1960),\n",
       " ('esl', 1955),\n",
       " ('educational media', 1952),\n",
       " ('media service', 1952),\n",
       " ('classified', 1949),\n",
       " ('local fund', 1948),\n",
       " ('disabilities regular', 1947),\n",
       " ('specialist school', 1938),\n",
       " ('social work', 1923),\n",
       " ('ladder', 1917),\n",
       " ('career ladder', 1917),\n",
       " ('ladder ext', 1917),\n",
       " ('services salaries', 1914),\n",
       " ('arts ed', 1910),\n",
       " ('travel employees', 1910),\n",
       " ('evaluation', 1906),\n",
       " ('staff science', 1901),\n",
       " ('tech fees', 1900),\n",
       " ('regular instructional', 1899),\n",
       " ('service food', 1892),\n",
       " ('compute misc', 1888),\n",
       " ('centers media', 1883),\n",
       " ('computer', 1881),\n",
       " ('project secretary', 1873),\n",
       " ('paid leave', 1870),\n",
       " ('cus', 1866),\n",
       " ('pupils', 1864),\n",
       " ('school services', 1861),\n",
       " ('systems', 1857),\n",
       " ('week', 1857),\n",
       " ('research', 1854),\n",
       " ('safety security', 1851),\n",
       " ('transportation second', 1851),\n",
       " ('operating costs', 1850),\n",
       " ('regular support', 1842),\n",
       " ('speech language', 1837),\n",
       " ('day kindergarten', 1836),\n",
       " ('upper', 1831),\n",
       " ('kinder', 1830),\n",
       " ('master title', 1829),\n",
       " ('extended week', 1828),\n",
       " ('after', 1828),\n",
       " ('after school', 1828),\n",
       " ('work services', 1824),\n",
       " ('nutrition school', 1823),\n",
       " ('misc school', 1823),\n",
       " ('food school', 1819),\n",
       " ('miscellaneous operating', 1819),\n",
       " ('grade personal', 1818),\n",
       " ('clerical', 1816),\n",
       " ('department extracurricular', 1812),\n",
       " ('employees services', 1810),\n",
       " ('title ii', 1793),\n",
       " ('helper', 1792),\n",
       " ('childhood district', 1790),\n",
       " ('facility', 1790),\n",
       " ('community education', 1773),\n",
       " ('periodicals undesignated', 1771),\n",
       " ('education arra', 1771),\n",
       " ('counseling', 1770),\n",
       " ('repair', 1754),\n",
       " ('improvement grant', 1753),\n",
       " ('worker undistributed', 1747),\n",
       " ('overtime services', 1746),\n",
       " ('paraprofessional early', 1735),\n",
       " ('school district', 1734),\n",
       " ('maintenance plant', 1733),\n",
       " ('leadership extra', 1731),\n",
       " ('bond', 1730),\n",
       " ('objects', 1730),\n",
       " ('stimulus regular', 1730),\n",
       " ('guidance services', 1726),\n",
       " ('initiative grant', 1723),\n",
       " ('individuals', 1721),\n",
       " ('individuals disabilities', 1718),\n",
       " ('disabilities act', 1718),\n",
       " ('jobs', 1710),\n",
       " ('moderate teacher', 1710),\n",
       " ('secondary extra', 1697),\n",
       " ('fund middle', 1692),\n",
       " ('custodian regular', 1691),\n",
       " ('coaching', 1686),\n",
       " ('contracted', 1684),\n",
       " ('sped individuals', 1672),\n",
       " ('acquisition', 1670),\n",
       " ('counseling evaluation', 1669),\n",
       " ('fund purchased', 1664),\n",
       " ('levy instructional', 1661),\n",
       " ('vocational education', 1661),\n",
       " ('act part', 1654),\n",
       " ('services support', 1653),\n",
       " ('gob', 1644),\n",
       " ('ed program', 1644),\n",
       " ('upper elementary', 1644),\n",
       " ('elementary grades', 1644),\n",
       " ('elementary spec', 1643),\n",
       " ('school miscellaneous', 1640),\n",
       " ('construction', 1636),\n",
       " ('general ed', 1629),\n",
       " ('12 high', 1628),\n",
       " ('fy special', 1627),\n",
       " ('social worker', 1627),\n",
       " ('teachers time', 1625),\n",
       " ('teacher office', 1623),\n",
       " ('wages title', 1620),\n",
       " ('bachelor bilingual', 1618),\n",
       " ('outlay', 1618),\n",
       " ('capital outlay', 1618),\n",
       " ('learning instruction', 1604),\n",
       " ('svcs fed', 1601),\n",
       " ('day kinder', 1597),\n",
       " ('activities athletics', 1595),\n",
       " ('leadership general', 1591),\n",
       " ('sai', 1589),\n",
       " ('assistance personal', 1578),\n",
       " ('custodial helper', 1576),\n",
       " ('helper day', 1576),\n",
       " ('yrs', 1575),\n",
       " ('es', 1573),\n",
       " ('8 middle', 1572),\n",
       " ('part idea', 1571),\n",
       " ('driver yrs', 1571),\n",
       " ('science extra', 1571),\n",
       " ('assessment research', 1566),\n",
       " ('certifiedaddl instruction', 1565),\n",
       " ('day miscellaneous', 1564),\n",
       " ('unassigned', 1563),\n",
       " ('dues', 1560),\n",
       " ('itinerant', 1558),\n",
       " ('training mill', 1556),\n",
       " ('leaves', 1553),\n",
       " ('unassigned paid', 1553),\n",
       " ('paid leaves', 1553),\n",
       " ('facilities acquisition', 1549),\n",
       " ('central unassigned', 1548),\n",
       " ('reading writing', 1542),\n",
       " ('psychologist', 1539),\n",
       " ('schoolwide schools', 1531),\n",
       " ('year extended', 1530),\n",
       " ('needs incentive', 1529),\n",
       " ('incentive critical', 1529),\n",
       " ('needs supplement', 1529),\n",
       " ('elementary teacher', 1517),\n",
       " ('partnership', 1514),\n",
       " ('employees administrative', 1512),\n",
       " ('project general', 1510),\n",
       " ('capital projects', 1510),\n",
       " ('projects fund', 1508),\n",
       " ('children', 1507),\n",
       " ('effectiveness', 1503),\n",
       " ('services travel', 1501),\n",
       " ('teacher effectiveness', 1500),\n",
       " ('success', 1497),\n",
       " ('certifiedaddl support', 1496),\n",
       " ('educ', 1488),\n",
       " ('intensive', 1488),\n",
       " ('day extended', 1486),\n",
       " ('intensive reading', 1486),\n",
       " ('allotment salaries', 1486),\n",
       " ('title school', 1483),\n",
       " ('lep', 1482),\n",
       " ('non degreed', 1475),\n",
       " ('activity fund', 1475),\n",
       " ('project custodian', 1468),\n",
       " ('ed elementary', 1464),\n",
       " ('fund bilingual', 1462),\n",
       " ('early education', 1461),\n",
       " ('utilities', 1460),\n",
       " ('teacher local', 1455),\n",
       " ('local special', 1450),\n",
       " ('school library', 1449),\n",
       " ('master basic', 1446),\n",
       " ('start', 1442),\n",
       " ('account', 1435),\n",
       " ('school operating', 1434),\n",
       " ('operating account', 1434),\n",
       " ('school supplements', 1430),\n",
       " ('expenditures', 1427),\n",
       " ('dev instr', 1425),\n",
       " ('instr media', 1425),\n",
       " ('compensation career', 1420),\n",
       " ('coverage', 1417),\n",
       " ('reg undistributed', 1417),\n",
       " ('coaches', 1416),\n",
       " ('teacher coverage', 1415),\n",
       " ('coverage teacher', 1415),\n",
       " ('teacher instructional', 1415),\n",
       " ('en oth', 1415),\n",
       " ('custodian asst', 1414),\n",
       " ('funds instructional', 1409),\n",
       " ('part lep', 1407),\n",
       " ('coaching supplement', 1406),\n",
       " ('parent', 1403),\n",
       " ('serv general', 1402),\n",
       " ('secondary spec', 1400),\n",
       " ('food nutrition', 1387),\n",
       " ('nutrition services', 1387),\n",
       " ('assistance purchased', 1384),\n",
       " ('subs turnaround', 1384),\n",
       " ('regular special', 1383),\n",
       " ('materials undesignated', 1382),\n",
       " ('pay regular', 1374),\n",
       " ('override regular', 1370),\n",
       " ('iii part', 1367),\n",
       " ('sr', 1366),\n",
       " ('employees administrator', 1364),\n",
       " ('student activities', 1364),\n",
       " ('staff turnaround', 1364),\n",
       " ('head start', 1364),\n",
       " ('counselor', 1364),\n",
       " ...]"
      ]
     },
     "execution_count": 27,
     "metadata": {
      "tags": []
     },
     "output_type": "execute_result"
    }
   ],
   "source": [
    "#words_freq"
   ]
  },
  {
   "cell_type": "code",
   "execution_count": 0,
   "metadata": {
    "colab": {},
    "colab_type": "code",
    "id": "MNhXFZ83rHK_",
    "outputId": "20e7a534-a0a9-4520-9947-9d42e85bc6ec"
   },
   "outputs": [
    {
     "name": "stdout",
     "output_type": "stream",
     "text": [
      "There are 31913 tokens in this dataset if we split on non-alpha numeric\n",
      "['2nd', '2nd award', '2nd grade', '2nd lang', '2nd shift', '2nd undistributed', '3rd', '3rd grade', '3rd reading', '4th', '4th grade', '5', '5 teachers', '56', '56 days', '5th', '5th grade', '6', '6 federal', '6 local']\n"
     ]
    }
   ],
   "source": [
    "#msg = \"There are {} tokens in this dataset if we split on non-alpha numeric\"\n",
    "#print(msg.format(len(vec.get_feature_names())))\n",
    "#print(vec.get_feature_names()[50:70])"
   ]
  },
  {
   "cell_type": "markdown",
   "metadata": {},
   "source": [
    "### Feature selection "
   ]
  },
  {
   "cell_type": "code",
   "execution_count": null,
   "metadata": {},
   "outputs": [],
   "source": [
    "from sklearn.feature_selection import chi2, SelectKBest\n",
    "\n",
    "X_train_features = vec.fit_transform(text_data)\n",
    "y_train_labels = training[\"Object_Type\"]\n",
    "\n",
    "ch2 = SelectKBest(chi2, k = 1000)\n",
    "X_train_x = ch2.fit(X_train_features, y_train_labels)"
   ]
  },
  {
   "cell_type": "code",
   "execution_count": null,
   "metadata": {},
   "outputs": [],
   "source": [
    "len(vec.vocabulary_.items())"
   ]
  },
  {
   "cell_type": "markdown",
   "metadata": {},
   "source": [
    ".get_support() returns a array of booleans that indicates if an element was selected or not"
   ]
  },
  {
   "cell_type": "code",
   "execution_count": null,
   "metadata": {},
   "outputs": [],
   "source": [
    "feature_list = X_train_x.get_support()"
   ]
  },
  {
   "cell_type": "code",
   "execution_count": null,
   "metadata": {},
   "outputs": [],
   "source": [
    "feature_list.shape"
   ]
  },
  {
   "cell_type": "code",
   "execution_count": null,
   "metadata": {},
   "outputs": [],
   "source": [
    "#list(vec.vocabulary_.keys())[list(vec.vocabulary_.values()).index(33551)]"
   ]
  },
  {
   "cell_type": "markdown",
   "metadata": {},
   "source": [
    "feature_list is used to find the selected elements in countVectorized dictionary"
   ]
  },
  {
   "cell_type": "code",
   "execution_count": null,
   "metadata": {},
   "outputs": [],
   "source": [
    "#List of selected KBest words\n",
    "features = []\n",
    "columns = []\n",
    "for i in range(0, 33552):\n",
    "    if(feature_list[i]):\n",
    "        value = list(vec.vocabulary_.keys())[list(vec.vocabulary_.values()).index(i)]\n",
    "        x = (i, value)\n",
    "        features.append(x)\n",
    "        columns.append(i)"
   ]
  },
  {
   "cell_type": "code",
   "execution_count": null,
   "metadata": {},
   "outputs": [],
   "source": [
    "features"
   ]
  },
  {
   "cell_type": "markdown",
   "metadata": {},
   "source": [
    "selected_features with only k columns"
   ]
  },
  {
   "cell_type": "code",
   "execution_count": null,
   "metadata": {},
   "outputs": [],
   "source": [
    "#Select only KBest columns\n",
    "selected_features = X_train_features[:,columns]"
   ]
  },
  {
   "cell_type": "code",
   "execution_count": null,
   "metadata": {},
   "outputs": [],
   "source": [
    "df_training[numeric].shape"
   ]
  },
  {
   "cell_type": "code",
   "execution_count": null,
   "metadata": {},
   "outputs": [],
   "source": [
    "##All the data in space matrix\n",
    "from scipy import sparse\n",
    "numeric_features = df_training[numeric].values\n",
    "\n",
    "training_data = sparse.hstack((selected_features, numeric_features))"
   ]
  },
  {
   "cell_type": "code",
   "execution_count": null,
   "metadata": {},
   "outputs": [],
   "source": [
    "type(training_data)"
   ]
  },
  {
   "cell_type": "markdown",
   "metadata": {},
   "source": [
    "## Export all pre-processed data"
   ]
  },
  {
   "cell_type": "code",
   "execution_count": null,
   "metadata": {},
   "outputs": [],
   "source": [
    "sparse.save_npz(\"training_data.npz\", training_data)\n",
    "\n",
    "#read_matrix_back = sparse.load_npz(\"training_data.npz\")"
   ]
  },
  {
   "cell_type": "markdown",
   "metadata": {},
   "source": [
    "## Hash Vectorizer"
   ]
  },
  {
   "cell_type": "code",
   "execution_count": 0,
   "metadata": {
    "colab": {},
    "colab_type": "code",
    "id": "w2PiL6UWrHLG"
   },
   "outputs": [],
   "source": [
    "# Remove symbols\n",
    "'''for category in categoric:\n",
    "    training[category] = training[category].str.replace(r\"[&/\\)('\\\"-.,]\",\"\")'''\n",
    "#vec = HashingVectorizer(token_pattern=\"[A-Za-z0-9]+(?=\\\\s+)\", ngram_range=(1,2))"
   ]
  },
  {
   "cell_type": "code",
   "execution_count": 0,
   "metadata": {
    "colab": {},
    "colab_type": "code",
    "id": "JWMtgMCJrHLS"
   },
   "outputs": [],
   "source": [
    "#hec = HashingVectorizer(token_pattern=\"[A-Za-z0-9]+(?=\\\\s+)\", norm=None,\n",
    "                                                     ngram_range=(1,2))\n",
    "#hashed_text = hec.fit_transform(text_data)"
   ]
  },
  {
   "cell_type": "code",
   "execution_count": 0,
   "metadata": {
    "colab": {},
    "colab_type": "code",
    "collapsed": true,
    "id": "4a8wFCKprHLU",
    "outputId": "d4ef44a0-6ce8-480a-9515-85a919a8d509"
   },
   "outputs": [
    {
     "name": "stdout",
     "output_type": "stream",
     "text": [
      "<class 'pandas.core.frame.DataFrame'>\n",
      "RangeIndex: 10866634 entries, 0 to 10866633\n",
      "Data columns (total 1 columns):\n",
      "0    float64\n",
      "dtypes: float64(1)\n",
      "memory usage: 82.9 MB\n",
      "None\n"
     ]
    }
   ],
   "source": [
    "#hashed_df = pd.DataFrame(hashed_text.data)\n",
    "#print(hashed_df.info())"
   ]
  },
  {
   "cell_type": "markdown",
   "metadata": {
    "colab_type": "text",
    "id": "XaNfX26RrHLY"
   },
   "source": [
    "## Simple model to verify tokenization by CountVectorizer and Dimensionality reduction\n",
    "\n",
    "(Ignore)"
   ]
  },
  {
   "cell_type": "code",
   "execution_count": 0,
   "metadata": {
    "colab": {},
    "colab_type": "code",
    "id": "2pJ_eATNrHLc"
   },
   "outputs": [],
   "source": [
    "from sklearn.model_selection import train_test_split\n",
    "from sklearn.linear_model import SGDClassifier\n",
    "from sklearn.pipeline import Pipeline"
   ]
  },
  {
   "cell_type": "code",
   "execution_count": 0,
   "metadata": {
    "colab": {},
    "colab_type": "code",
    "id": "Zuf-0otwrHLf"
   },
   "outputs": [],
   "source": [
    "#text_data = training[categoric]"
   ]
  },
  {
   "cell_type": "code",
   "execution_count": 0,
   "metadata": {
    "colab": {},
    "colab_type": "code",
    "id": "6eK7RniqrHLm"
   },
   "outputs": [],
   "source": [
    "text_data_10000 = training.copy()"
   ]
  },
  {
   "cell_type": "code",
   "execution_count": 0,
   "metadata": {
    "colab": {},
    "colab_type": "code",
    "id": "cNNYs-XDrHLr"
   },
   "outputs": [],
   "source": [
    "text_data_10000.info()"
   ]
  },
  {
   "cell_type": "code",
   "execution_count": 0,
   "metadata": {
    "colab": {},
    "colab_type": "code",
    "id": "XhZJHUNXrHLy"
   },
   "outputs": [],
   "source": [
    "df_dummies = pd.get_dummies(text_data_10000[['Object_Type']])"
   ]
  },
  {
   "cell_type": "code",
   "execution_count": 0,
   "metadata": {
    "colab": {},
    "colab_type": "code",
    "id": "-Asx3D7orHL1"
   },
   "outputs": [],
   "source": [
    "text_data_10000 = text_data_10000[categoric]"
   ]
  },
  {
   "cell_type": "code",
   "execution_count": 0,
   "metadata": {
    "colab": {},
    "colab_type": "code",
    "id": "9Ra25HICrHL6"
   },
   "outputs": [],
   "source": [
    "X_train, X_test, y_train, y_test = train_test_split(text_data_10000,\n",
    "                                                    df_dummies,\n",
    "                                                    test_size=0.2, \n",
    "                                                    random_state=42)"
   ]
  },
  {
   "cell_type": "code",
   "execution_count": 0,
   "metadata": {
    "colab": {},
    "colab_type": "code",
    "collapsed": true,
    "id": "oUFvkYdOrHL_",
    "outputId": "57c04ed6-6b1d-4033-f563-5a490d1e2f30"
   },
   "outputs": [
    {
     "name": "stdout",
     "output_type": "stream",
     "text": [
      "<class 'pandas.core.frame.DataFrame'>\n",
      "Int64Index: 8000 entries, 233021 to 408226\n",
      "Data columns (total 25 columns):\n",
      "Function                  7086 non-null object\n",
      "Use                       7086 non-null object\n",
      "Sharing                   7086 non-null object\n",
      "Reporting                 7086 non-null object\n",
      "Student_Type              7086 non-null object\n",
      "Position_Type             7086 non-null object\n",
      "Object_Type               7086 non-null object\n",
      "Pre_K                     7086 non-null object\n",
      "Operating_Status          7086 non-null object\n",
      "Object_Description        8000 non-null object\n",
      "Text_2                    8000 non-null object\n",
      "SubFund_Description       8000 non-null object\n",
      "Job_Title_Description     8000 non-null object\n",
      "Text_3                    8000 non-null object\n",
      "Text_4                    8000 non-null object\n",
      "Sub_Object_Description    8000 non-null object\n",
      "Location_Description      8000 non-null object\n",
      "FTE                       8000 non-null float64\n",
      "Function_Description      8000 non-null object\n",
      "Facility_or_Department    8000 non-null object\n",
      "Position_Extra            8000 non-null object\n",
      "Total                     8000 non-null float64\n",
      "Program_Description       8000 non-null object\n",
      "Fund_Description          8000 non-null object\n",
      "Text_1                    8000 non-null object\n",
      "dtypes: float64(2), object(23)\n",
      "memory usage: 1.6+ MB\n"
     ]
    }
   ],
   "source": [
    "X_train.info()"
   ]
  },
  {
   "cell_type": "code",
   "execution_count": 0,
   "metadata": {
    "colab": {},
    "colab_type": "code",
    "id": "vhCGJoeJrHMI"
   },
   "outputs": [],
   "source": [
    "from sklearn.ensemble import RandomForestClassifier\n",
    "from sklearn.neighbors import KNeighborsClassifier\n",
    "\n",
    "from sklearn.preprocessing import FunctionTransformer\n",
    "\n",
    "from sklearn.feature_selection import chi2, SelectKBest\n",
    "from sklearn.decomposition import TruncatedSVD, NMF\n",
    "\n",
    "from sklearn.feature_extraction.text import CountVectorizer\n",
    "\n",
    "from sklearn.model_selection import GridSearchCV"
   ]
  },
  {
   "cell_type": "code",
   "execution_count": 0,
   "metadata": {
    "colab": {},
    "colab_type": "code",
    "id": "2poFhpSzrHML"
   },
   "outputs": [],
   "source": [
    "def combine_text_columns(dataset):\n",
    "    return dataset[categoric].apply(lambda x: \" \".join(x), axis = 1)"
   ]
  },
  {
   "cell_type": "code",
   "execution_count": 0,
   "metadata": {
    "colab": {},
    "colab_type": "code",
    "id": "5fIyDKW4rHMP"
   },
   "outputs": [],
   "source": [
    "get_text_data = FunctionTransformer(combine_text_columns, validate = False)"
   ]
  },
  {
   "cell_type": "code",
   "execution_count": 0,
   "metadata": {
    "colab": {},
    "colab_type": "code",
    "id": "BYG5Ns8YrHMn"
   },
   "outputs": [],
   "source": [
    "stop_words = ['a', 'e', 'i', 'o', 'u', 'to', 'all', 'of', 'for', 'and', 'or', 'b', 'with', 'not', 'than', 'other', 'top', 's', 'k', 'in', 'the']\n",
    "vec = CountVectorizer(token_pattern=\"[A-Za-z0-9]+(?=\\\\s+)\", ngram_range=(1,2), stop_words = stop_words)"
   ]
  },
  {
   "cell_type": "code",
   "execution_count": 0,
   "metadata": {
    "colab": {},
    "colab_type": "code",
    "id": "xaMs8QYJrHMq"
   },
   "outputs": [],
   "source": [
    "# Edit model step in pipeline\n",
    "pl = Pipeline([\n",
    "        ('selector', get_text_data),\n",
    "        ('vectorizer', vec),\n",
    "        #('reduce_dim', TruncatedSVD(n_iter=7, n_components = 1000)),\n",
    "        #('reduce_dim', NMF(n_components = 200)),\n",
    "        ('reduce_dim', SelectKBest(chi2, 1000)),\n",
    "        ('clf', RandomForestClassifier())\n",
    "    ])"
   ]
  },
  {
   "cell_type": "code",
   "execution_count": 26,
   "metadata": {
    "colab": {
     "base_uri": "https://localhost:8080/",
     "height": 199
    },
    "colab_type": "code",
    "id": "_ZTNn9hUrHMs",
    "outputId": "ffafd14b-0aa4-4ec6-e0be-900badbd3387"
   },
   "outputs": [
    {
     "name": "stderr",
     "output_type": "stream",
     "text": [
      "/usr/local/lib/python3.6/dist-packages/sklearn/ensemble/forest.py:246: FutureWarning: The default value of n_estimators will change from 10 in version 0.20 to 100 in 0.22.\n",
      "  \"10 in version 0.20 to 100 in 0.22.\", FutureWarning)\n"
     ]
    },
    {
     "data": {
      "text/plain": [
       "Pipeline(memory=None,\n",
       "     steps=[('selector', FunctionTransformer(accept_sparse=False, check_inverse=True,\n",
       "          func=<function combine_text_columns at 0x7f827828b048>,\n",
       "          inv_kw_args=None, inverse_func=None, kw_args=None,\n",
       "          pass_y='deprecated', validate=False)), ('vectorizer', CountVectorizer(analyzer='wo...obs=None,\n",
       "            oob_score=False, random_state=None, verbose=0,\n",
       "            warm_start=False))])"
      ]
     },
     "execution_count": 26,
     "metadata": {
      "tags": []
     },
     "output_type": "execute_result"
    }
   ],
   "source": [
    "# Fit to the training data\n",
    "pl.fit(X_train, y_train)"
   ]
  },
  {
   "cell_type": "code",
   "execution_count": 27,
   "metadata": {
    "colab": {
     "base_uri": "https://localhost:8080/",
     "height": 35
    },
    "colab_type": "code",
    "id": "9UkAR17PrHM0",
    "outputId": "df9990ba-2ed3-4122-8d14-48042cedc9fa"
   },
   "outputs": [
    {
     "data": {
      "text/plain": [
       "0.9786274607774558"
      ]
     },
     "execution_count": 27,
     "metadata": {
      "tags": []
     },
     "output_type": "execute_result"
    }
   ],
   "source": [
    "from sklearn.metrics import accuracy_score\n",
    "\n",
    "y_pred = pl.predict(X_test)\n",
    "accuracy_score(y_test.values, y_pred, normalize=True)"
   ]
  },
  {
   "cell_type": "code",
   "execution_count": 0,
   "metadata": {
    "colab": {},
    "colab_type": "code",
    "id": "oK738wwHd_JC"
   },
   "outputs": [],
   "source": [
    "N_FEATURES_OPTIONS = [200, 500, 1000]\n",
    "#mean_scores_10000 = [[0.904, 0.92175, 0.82725], [0.892, 0.9205, 0.91425]]\n",
    "#mean_score_all_dataSet = [[0.9661736784251024, 0.9259018686919157], [0.963250724492855, 0.9740181872689118], [0.9565054461876686, 0.9786274607774558]]\n",
    "mean_score_all_dataSet = [0.9661736784251024, 0.963250724492855, 0.9565054461876686, 0.9259018686919157, 0.9740181872689118, 0.9786274607774558]"
   ]
  },
  {
   "cell_type": "code",
   "execution_count": 0,
   "metadata": {
    "colab": {},
    "colab_type": "code",
    "id": "jK1WDUbVmdkF"
   },
   "outputs": [],
   "source": [
    "reducer_labels = ['SVD', 'KBest(chi2)']"
   ]
  },
  {
   "cell_type": "code",
   "execution_count": 0,
   "metadata": {
    "colab": {},
    "colab_type": "code",
    "id": "k6eqoM7yul2K"
   },
   "outputs": [],
   "source": [
    "N_FEATURES_OPTIONS = [100, 200, 1000]\n",
    "C_OPTIONS = [100, 200, 300, 1000]\n",
    "param_grid = [\n",
    "    {\n",
    "        'reduce_dim': [TruncatedSVD(n_iter=7), NMF()],\n",
    "        'reduce_dim__n_components': N_FEATURES_OPTIONS,\n",
    "        'clf__n_estimators': C_OPTIONS\n",
    "    },\n",
    "    {\n",
    "        'reduce_dim': [SelectKBest(chi2)],\n",
    "        'reduce_dim__k': N_FEATURES_OPTIONS,\n",
    "        'clf__n_estimators': C_OPTIONS\n",
    "    },\n",
    "]\n",
    "reducer_labels = ['SVD', 'NMF', 'KBest(chi2)']"
   ]
  },
  {
   "cell_type": "code",
   "execution_count": 0,
   "metadata": {
    "colab": {},
    "colab_type": "code",
    "id": "_LEoxiMKwB0f"
   },
   "outputs": [],
   "source": [
    "grid = GridSearchCV(pl, cv=5, n_jobs=1, param_grid=param_grid)\n",
    "\n",
    "#grid.fit(X_train, y_train)"
   ]
  },
  {
   "cell_type": "code",
   "execution_count": 0,
   "metadata": {
    "colab": {},
    "colab_type": "code",
    "id": "wR6a2nA8wdUz"
   },
   "outputs": [],
   "source": [
    "#mean_scores = np.array(grid.cv_results_['mean_test_score'])\n",
    "mean_scores = np.array(mean_score_all_dataSet)\n",
    "# scores are in the order of param_grid iteration, which is alphabetical\n",
    "mean_scores = mean_scores.reshape(1, -1, len(N_FEATURES_OPTIONS))\n",
    "# select score for best C\n",
    "mean_scores = mean_scores.max(axis=0)\n",
    "bar_offsets = (np.arange(len(N_FEATURES_OPTIONS)) *\n",
    "               (len(reducer_labels) + 1) + .5)\n"
   ]
  },
  {
   "cell_type": "code",
   "execution_count": 44,
   "metadata": {
    "colab": {
     "base_uri": "https://localhost:8080/",
     "height": 376
    },
    "colab_type": "code",
    "id": "JUYPn-3sdsfX",
    "outputId": "b18dd24f-8671-4aa1-e5d2-131d0cf08788"
   },
   "outputs": [
    {
     "data": {
      "image/png": "[encoded data removed]",
      "text/plain": [
       "<Figure size 576x396 with 1 Axes>"
      ]
     },
     "metadata": {
      "tags": []
     },
     "output_type": "display_data"
    }
   ],
   "source": [
    "plt.figure()\n",
    "COLORS = 'bgrcmyk'\n",
    "for i, (label, reducer_scores) in enumerate(zip(reducer_labels, mean_scores)):\n",
    "    plt.bar(bar_offsets + i, reducer_scores, label=label, color=COLORS[i])\n",
    "\n",
    "plt.title(\"Comparing feature reduction techniques\")\n",
    "plt.xlabel('Number of chosen features')\n",
    "plt.xticks(bar_offsets + len(reducer_labels) / 2, N_FEATURES_OPTIONS)\n",
    "plt.ylabel('Classification accuracy')\n",
    "plt.ylim((0.90, 1))\n",
    "plt.legend(loc='upper left')\n",
    "\n",
    "plt.show()\n",
    "#SVD = [0.9661736784251024, 0.963250724492855, 0.9565054461876686]\n",
    "#mean_score_all_dataSet = [0.9661736784251024, 0.963250724492855, 0.9565054461876686, 0.9259018686919157, 0.9740181872689118, 0.9786274607774558]"
   ]
  },
  {
   "cell_type": "code",
   "execution_count": 0,
   "metadata": {
    "colab": {},
    "colab_type": "code",
    "collapsed": true,
    "id": "52yKVzqMrHMv",
    "outputId": "241945a5-51de-4f9b-9a46-5342215dafa0"
   },
   "outputs": [
    {
     "name": "stdout",
     "output_type": "stream",
     "text": [
      "<class 'pandas.core.frame.DataFrame'>\n",
      "Int64Index: 320221 entries, 444691 to 172004\n",
      "Data columns (total 14 columns):\n",
      "Facility_or_Department    320221 non-null object\n",
      "Function_Description      320221 non-null object\n",
      "Fund_Description          320221 non-null object\n",
      "Job_Title_Description     320221 non-null object\n",
      "Location_Description      320221 non-null object\n",
      "Object_Description        320221 non-null object\n",
      "Position_Extra            320221 non-null object\n",
      "Program_Description       320221 non-null object\n",
      "SubFund_Description       320221 non-null object\n",
      "Sub_Object_Description    320221 non-null object\n",
      "Text_1                    320221 non-null object\n",
      "Text_2                    320221 non-null object\n",
      "Text_3                    320221 non-null object\n",
      "Text_4                    320221 non-null object\n",
      "dtypes: object(14)\n",
      "memory usage: 36.6+ MB\n"
     ]
    }
   ],
   "source": [
    "X_train.info()"
   ]
  },
  {
   "cell_type": "markdown",
   "metadata": {
    "colab_type": "text",
    "id": "8C8LyPlqrHM4"
   },
   "source": [
    "## Save df in a new CSV"
   ]
  },
  {
   "cell_type": "code",
   "execution_count": 0,
   "metadata": {
    "colab": {},
    "colab_type": "code",
    "id": "z8LJFPeSrHM5"
   },
   "outputs": [],
   "source": [
    "training.to_csv(index = False)"
   ]
  },
  {
   "cell_type": "code",
   "execution_count": 0,
   "metadata": {
    "colab": {},
    "colab_type": "code",
    "id": "SEO-nAvIrHM_"
   },
   "outputs": [],
   "source": []
  }
 ],
 "metadata": {
  "colab": {
   "collapsed_sections": [
    "s5EujUAkrHJw",
    "8C8LyPlqrHM4"
   ],
   "name": "Preprocessing.ipynb",
   "provenance": [],
   "version": "0.3.2"
  },
  "kernelspec": {
   "display_name": "Python 3",
   "language": "python",
   "name": "python3"
  },
  "language_info": {
   "codemirror_mode": {
    "name": "ipython",
    "version": 3
   },
   "file_extension": ".py",
   "mimetype": "text/x-python",
   "name": "python",
   "nbconvert_exporter": "python",
   "pygments_lexer": "ipython3",
   "version": "3.6.5"
  }
 },
 "nbformat": 4,
 "nbformat_minor": 1
}
