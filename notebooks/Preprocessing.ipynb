{
 "cells": [
  {
   "cell_type": "code",
   "execution_count": 28,
   "metadata": {},
   "outputs": [],
   "source": [
    "import pandas as pd\n",
    "import numpy as np\n",
    "from sklearn.feature_extraction.text import HashingVectorizer\n",
    "#from sklearn.impute import SimpleImputer\n",
    "from sklearn.preprocessing import Imputer\n",
    "from matplotlib import pyplot as plt"
   ]
  },
  {
   "cell_type": "code",
   "execution_count": 3,
   "metadata": {},
   "outputs": [],
   "source": [
    "#Read the data using the Unnamed (probably id) as index\n",
    "url = 'https://s3.amazonaws.com/drivendata/data/4/public/81e8f2de-9915-4934-b9ae-9705685c9d50.csv'\n",
    "training = pd.read_csv(url, index_col='Unnamed: 0')\n",
    "\n",
    "labels = ['Function', 'Object_Type', 'Operating_Status', 'Position_Type', 'Pre_K', 'Reporting', \n",
    "          'Sharing', 'Student_Type', 'Use']\n",
    "\n",
    "numeric = ['FTE', 'Total']\n",
    "\n",
    "categoric = [ 'Facility_or_Department', 'Function_Description', \n",
    "            'Fund_Description', 'Job_Title_Description', 'Location_Description', \n",
    "            'Object_Description', 'Position_Extra', 'Program_Description', 'SubFund_Description', \n",
    "            'Sub_Object_Description', \n",
    "            'Text_1', 'Text_2', 'Text_3', 'Text_4']"
   ]
  },
  {
   "cell_type": "markdown",
   "metadata": {},
   "source": [
    "## Data cleaning\n",
    "\n",
    "### Part 1: numeric data\n",
    "First of all, the numeric columns `FTE` and `Total` must be cleaned. The outliers will be treated as `NaN` values and imputation will be applied to the missing data. \n",
    "\n",
    "The imputation was made considering the the mean of each `Object_Type` column category, each `NaN` was populated with a value based on the `Object_Type` category it belongs, if this information was `NaN` too, then the imput used `Total` or `FTE` average."
   ]
  },
  {
   "cell_type": "code",
   "execution_count": 4,
   "metadata": {},
   "outputs": [],
   "source": [
    "# Remove inconsistent data\n",
    "training[training['FTE'] < 0] = np.nan\n",
    "training[training['Total'] < 0] = np.nan"
   ]
  },
  {
   "cell_type": "code",
   "execution_count": 6,
   "metadata": {},
   "outputs": [
    {
     "data": {
      "text/html": [
       "<div>\n",
       "<style scoped>\n",
       "    .dataframe tbody tr th:only-of-type {\n",
       "        vertical-align: middle;\n",
       "    }\n",
       "\n",
       "    .dataframe tbody tr th {\n",
       "        vertical-align: top;\n",
       "    }\n",
       "\n",
       "    .dataframe thead th {\n",
       "        text-align: right;\n",
       "    }\n",
       "</style>\n",
       "<table border=\"1\" class=\"dataframe\">\n",
       "  <thead>\n",
       "    <tr style=\"text-align: right;\">\n",
       "      <th></th>\n",
       "      <th>Function</th>\n",
       "      <th>Use</th>\n",
       "      <th>Sharing</th>\n",
       "      <th>Reporting</th>\n",
       "      <th>Student_Type</th>\n",
       "      <th>Position_Type</th>\n",
       "      <th>Object_Type</th>\n",
       "      <th>Pre_K</th>\n",
       "      <th>Operating_Status</th>\n",
       "      <th>Object_Description</th>\n",
       "      <th>...</th>\n",
       "      <th>Sub_Object_Description</th>\n",
       "      <th>Location_Description</th>\n",
       "      <th>FTE</th>\n",
       "      <th>Function_Description</th>\n",
       "      <th>Facility_or_Department</th>\n",
       "      <th>Position_Extra</th>\n",
       "      <th>Total</th>\n",
       "      <th>Program_Description</th>\n",
       "      <th>Fund_Description</th>\n",
       "      <th>Text_1</th>\n",
       "    </tr>\n",
       "  </thead>\n",
       "  <tbody>\n",
       "  </tbody>\n",
       "</table>\n",
       "<p>0 rows × 25 columns</p>\n",
       "</div>"
      ],
      "text/plain": [
       "Empty DataFrame\n",
       "Columns: [Function, Use, Sharing, Reporting, Student_Type, Position_Type, Object_Type, Pre_K, Operating_Status, Object_Description, Text_2, SubFund_Description, Job_Title_Description, Text_3, Text_4, Sub_Object_Description, Location_Description, FTE, Function_Description, Facility_or_Department, Position_Extra, Total, Program_Description, Fund_Description, Text_1]\n",
       "Index: []\n",
       "\n",
       "[0 rows x 25 columns]"
      ]
     },
     "execution_count": 6,
     "metadata": {},
     "output_type": "execute_result"
    }
   ],
   "source": [
    "training[training['FTE'] < 0]"
   ]
  },
  {
   "cell_type": "code",
   "execution_count": 7,
   "metadata": {},
   "outputs": [
    {
     "data": {
      "text/plain": [
       "count    3.518450e+05\n",
       "mean     1.696423e+04\n",
       "std      3.402292e+05\n",
       "min      0.000000e+00\n",
       "25%      1.384847e+02\n",
       "50%      6.696800e+02\n",
       "75%      4.999610e+03\n",
       "max      1.297000e+08\n",
       "Name: Total, dtype: float64"
      ]
     },
     "execution_count": 7,
     "metadata": {},
     "output_type": "execute_result"
    }
   ],
   "source": [
    "training['Total'].describe()"
   ]
  },
  {
   "cell_type": "code",
   "execution_count": 8,
   "metadata": {},
   "outputs": [
    {
     "data": {
      "text/plain": [
       "Object_Type\n",
       "Base Salary/Compensation       24145.844441\n",
       "Benefits                         865.616621\n",
       "Contracted Services            38163.380901\n",
       "Equipment & Equipment Lease    11257.335020\n",
       "NO_LABEL                       58545.010979\n",
       "Other Compensation/Stipend      1604.962876\n",
       "Other Non-Compensation         10646.892470\n",
       "Rent/Utilities                 46610.910607\n",
       "Substitute Compensation         1090.501980\n",
       "Supplies/Materials              7745.381168\n",
       "Travel & Conferences            1659.440688\n",
       "Name: Total, dtype: float64"
      ]
     },
     "execution_count": 8,
     "metadata": {},
     "output_type": "execute_result"
    }
   ],
   "source": [
    "training.groupby('Object_Type')['Total'].mean()"
   ]
  },
  {
   "cell_type": "code",
   "execution_count": 9,
   "metadata": {},
   "outputs": [
    {
     "data": {
      "text/plain": [
       "16964.228335602154"
      ]
     },
     "execution_count": 9,
     "metadata": {},
     "output_type": "execute_result"
    }
   ],
   "source": [
    "training['Total'].mean()"
   ]
  },
  {
   "cell_type": "code",
   "execution_count": 10,
   "metadata": {},
   "outputs": [],
   "source": [
    "#Imputing data in Total column\n",
    "def impute_func_total(data):\n",
    "    if(pd.isnull(data['Object_Type'])):\n",
    "        return 16964\n",
    "    if(pd.isnull(data['Total'])):        \n",
    "        if(data['Object_Type'] == 'Base Salary/Compensation'):\n",
    "            return 24146\n",
    "        if(data['Object_Type'] == 'Benefits'):\n",
    "            return 38163\n",
    "        if(data['Object_Type'] == 'Contracted Services'):\n",
    "            return 24146\n",
    "        if(data['Object_Type'] == 'Equipment & Equipment Lease'):\n",
    "            return 11257\n",
    "        if(data['Object_Type'] == 'NO_LABEL'):\n",
    "            return 58545\n",
    "        if(data['Object_Type'] == 'Other Compensation/Stipend'):\n",
    "            return 1605\n",
    "        if(data['Object_Type'] == 'Other Non-Compensation'):\n",
    "            return 10646\n",
    "        if(data['Object_Type'] == 'Rent/Utilities'):\n",
    "            return 46611\n",
    "        if(data['Object_Type'] == 'Substitute Compensation'):\n",
    "            return 1090\n",
    "        if(data['Object_Type'] == 'Supplies/Materials'):\n",
    "            return 7745\n",
    "        if(data['Object_Type'] == 'Travel & Conferences'):\n",
    "            return 1659\n",
    "    else:\n",
    "        return data['Total']"
   ]
  },
  {
   "cell_type": "code",
   "execution_count": 11,
   "metadata": {},
   "outputs": [],
   "source": [
    "training['Total'] = training.apply(impute_func_total, axis = 1)"
   ]
  },
  {
   "cell_type": "code",
   "execution_count": 5,
   "metadata": {},
   "outputs": [
    {
     "data": {
      "text/plain": [
       "count    125849.000000\n",
       "mean          0.427436\n",
       "std           0.573810\n",
       "min           0.000000\n",
       "25%           0.001078\n",
       "50%           0.133337\n",
       "75%           1.000000\n",
       "max          46.800000\n",
       "Name: FTE, dtype: float64"
      ]
     },
     "execution_count": 5,
     "metadata": {},
     "output_type": "execute_result"
    }
   ],
   "source": [
    "training['FTE'].describe()"
   ]
  },
  {
   "cell_type": "code",
   "execution_count": 17,
   "metadata": {},
   "outputs": [],
   "source": [
    "#Put FET data greater than 1 in percentage \n",
    "mask = training['FTE'] > 1\n",
    "df_ToAtt = training[mask]\n",
    "\n",
    "training.loc[mask, 'FTE'] = df_ToAtt['FTE'].div(100)"
   ]
  },
  {
   "cell_type": "code",
   "execution_count": 19,
   "metadata": {},
   "outputs": [
    {
     "data": {
      "text/plain": [
       "count    125849.000000\n",
       "mean          0.397216\n",
       "std           0.446708\n",
       "min           0.000000\n",
       "25%           0.001078\n",
       "50%           0.080819\n",
       "75%           1.000000\n",
       "max           1.000000\n",
       "Name: FTE, dtype: float64"
      ]
     },
     "execution_count": 19,
     "metadata": {},
     "output_type": "execute_result"
    }
   ],
   "source": [
    "training['FTE'].describe()"
   ]
  },
  {
   "cell_type": "code",
   "execution_count": 20,
   "metadata": {},
   "outputs": [
    {
     "data": {
      "text/plain": [
       "Object_Type\n",
       "Base Salary/Compensation       0.457632\n",
       "Benefits                       0.000000\n",
       "Contracted Services            0.000000\n",
       "Equipment & Equipment Lease    0.000000\n",
       "NO_LABEL                       0.748446\n",
       "Other Compensation/Stipend     0.000107\n",
       "Other Non-Compensation         0.000000\n",
       "Rent/Utilities                 0.000000\n",
       "Substitute Compensation        0.000059\n",
       "Supplies/Materials             0.000000\n",
       "Travel & Conferences           0.000000\n",
       "Name: FTE, dtype: float64"
      ]
     },
     "execution_count": 20,
     "metadata": {},
     "output_type": "execute_result"
    }
   ],
   "source": [
    "training.groupby('Object_Type')['FTE'].mean()"
   ]
  },
  {
   "cell_type": "code",
   "execution_count": 21,
   "metadata": {},
   "outputs": [
    {
     "data": {
      "text/plain": [
       "0.397215825398393"
      ]
     },
     "execution_count": 21,
     "metadata": {},
     "output_type": "execute_result"
    }
   ],
   "source": [
    "training['FTE'].mean()"
   ]
  },
  {
   "cell_type": "code",
   "execution_count": 22,
   "metadata": {},
   "outputs": [],
   "source": [
    "#Imputing data in FTE column\n",
    "def impute_func_FTE(data):\n",
    "    if(pd.isnull(data['Object_Type'])):\n",
    "        return 0.40\n",
    "    if(pd.isnull(data['FTE'])):        \n",
    "        if(data['Object_Type'] == 'Base Salary/Compensation'):\n",
    "            return 0.45\n",
    "        if(data['Object_Type'] == 'Benefits'):\n",
    "            return 0.0\n",
    "        if(data['Object_Type'] == 'Contracted Services'):\n",
    "            return 0.0\n",
    "        if(data['Object_Type'] == 'Equipment & Equipment Lease'):\n",
    "            return 0.0\n",
    "        if(data['Object_Type'] == 'NO_LABEL'):\n",
    "            return 0.75\n",
    "        if(data['Object_Type'] == 'Other Compensation/Stipend'):\n",
    "            return 0.000107\n",
    "        if(data['Object_Type'] == 'Other Non-Compensation'):\n",
    "            return 0.0\n",
    "        if(data['Object_Type'] == 'Rent/Utilities'):\n",
    "            return 0.0\n",
    "        if(data['Object_Type'] == 'Substitute Compensation'):\n",
    "            return 0.000059\n",
    "        if(data['Object_Type'] == 'Supplies/Materials'):\n",
    "            return 0.0\n",
    "        if(data['Object_Type'] == 'Travel & Conferences'):\n",
    "            return 0.0\n",
    "    else:\n",
    "        return data['FTE']"
   ]
  },
  {
   "cell_type": "code",
   "execution_count": 23,
   "metadata": {},
   "outputs": [],
   "source": [
    "training['FTE'] = training.apply(impute_func_FTE, axis = 1)"
   ]
  },
  {
   "cell_type": "code",
   "execution_count": 24,
   "metadata": {},
   "outputs": [
    {
     "name": "stdout",
     "output_type": "stream",
     "text": [
      "<class 'pandas.core.frame.DataFrame'>\n",
      "Int64Index: 400277 entries, 134338 to 415831\n",
      "Data columns (total 2 columns):\n",
      "FTE      400277 non-null float64\n",
      "Total    400277 non-null float64\n",
      "dtypes: float64(2)\n",
      "memory usage: 9.2 MB\n"
     ]
    }
   ],
   "source": [
    "training[numeric].info()"
   ]
  },
  {
   "cell_type": "markdown",
   "metadata": {},
   "source": [
    "**Numeric data distribution after pre processing**"
   ]
  },
  {
   "cell_type": "code",
   "execution_count": 29,
   "metadata": {},
   "outputs": [
    {
     "data": {
      "image/png": "[encoded data removed]",
      "text/plain": [
       "<Figure size 432x288 with 1 Axes>"
      ]
     },
     "metadata": {},
     "output_type": "display_data"
    }
   ],
   "source": [
    "plt.hist(training['Total'], log=True)\n",
    "\n",
    "# Add title and labels\n",
    "plt.title('Cost of the bugdet')\n",
    "plt.xlabel('Cost of budget')\n",
    "plt.ylabel('num budgets')\n",
    "\n",
    "plt.show()"
   ]
  },
  {
   "cell_type": "code",
   "execution_count": 111,
   "metadata": {},
   "outputs": [
    {
     "data": {
      "image/png": "[encoded data removed]",
      "text/plain": [
       "<Figure size 432x288 with 1 Axes>"
      ]
     },
     "metadata": {},
     "output_type": "display_data"
    }
   ],
   "source": [
    "plt.hist(training['FTE'],  bins=10, log = True)\n",
    "\n",
    "# Add title and labels\n",
    "plt.title('Distribution of %full-time \\n employee works')\n",
    "plt.xlabel('% of full-time')\n",
    "plt.ylabel('num employees')\n",
    "\n",
    "plt.show()"
   ]
  },
  {
   "cell_type": "markdown",
   "metadata": {},
   "source": [
    "### Part 2: Categoric data\n",
    "\n",
    "The strings must be normalized: symbols removed, all letters to lower case. Then, they can be transformed to numeric data."
   ]
  },
  {
   "cell_type": "code",
   "execution_count": 35,
   "metadata": {},
   "outputs": [],
   "source": [
    "for category in categoric:\n",
    "    training[category] = training[category].str.lower()"
   ]
  },
  {
   "cell_type": "code",
   "execution_count": 36,
   "metadata": {},
   "outputs": [
    {
     "data": {
      "text/plain": [
       "Facility_or_Department     176\n",
       "Function_Description       655\n",
       "Fund_Description           141\n",
       "Job_Title_Description     3455\n",
       "Location_Description       352\n",
       "Object_Description         570\n",
       "Position_Extra             580\n",
       "Program_Description        418\n",
       "SubFund_Description        267\n",
       "Sub_Object_Description     159\n",
       "Text_1                    1389\n",
       "Text_2                     279\n",
       "Text_3                      35\n",
       "Text_4                     240\n",
       "dtype: int64"
      ]
     },
     "execution_count": 36,
     "metadata": {},
     "output_type": "execute_result"
    }
   ],
   "source": [
    "#Check if the unique values decrease\n",
    "training[categoric].nunique(dropna=False)"
   ]
  },
  {
   "cell_type": "code",
   "execution_count": 37,
   "metadata": {},
   "outputs": [],
   "source": [
    "#Convert columns\n",
    "training[categoric] = training[categoric].apply(lambda x: x.astype('object'), axis = 0)"
   ]
  },
  {
   "cell_type": "code",
   "execution_count": 38,
   "metadata": {},
   "outputs": [
    {
     "name": "stdout",
     "output_type": "stream",
     "text": [
      "<class 'pandas.core.frame.DataFrame'>\n",
      "Int64Index: 400277 entries, 134338 to 415831\n",
      "Data columns (total 14 columns):\n",
      "Facility_or_Department    53186 non-null object\n",
      "Function_Description      298676 non-null object\n",
      "Fund_Description          179157 non-null object\n",
      "Job_Title_Description     272317 non-null object\n",
      "Location_Description      155504 non-null object\n",
      "Object_Description        332143 non-null object\n",
      "Position_Extra            244180 non-null object\n",
      "Program_Description       280943 non-null object\n",
      "SubFund_Description       263731 non-null object\n",
      "Sub_Object_Description    70748 non-null object\n",
      "Text_1                    251891 non-null object\n",
      "Text_2                    87431 non-null object\n",
      "Text_3                    108613 non-null object\n",
      "Text_4                    53384 non-null object\n",
      "dtypes: object(14)\n",
      "memory usage: 45.8+ MB\n"
     ]
    }
   ],
   "source": [
    "training[categoric].info()"
   ]
  },
  {
   "cell_type": "markdown",
   "metadata": {},
   "source": [
    "Before removing symbols, let's take a peek on some values and so we can detect the diferrences later\n"
   ]
  },
  {
   "cell_type": "code",
   "execution_count": 39,
   "metadata": {},
   "outputs": [
    {
     "data": {
      "text/plain": [
       "non-project                        True\n",
       "instruction                        True\n",
       "unalloc budgets/schools            True\n",
       "basic (fefp k-12)                 False\n",
       "employee retirement               False\n",
       "ela e-teaching sheltered eng      False\n",
       "Name: Function_Description, dtype: bool"
      ]
     },
     "execution_count": 39,
     "metadata": {},
     "output_type": "execute_result"
    }
   ],
   "source": [
    "some_functions = training['Function_Description'].value_counts(normalize=True) > 0.05\n",
    "some_functions.head(6)"
   ]
  },
  {
   "cell_type": "code",
   "execution_count": 41,
   "metadata": {},
   "outputs": [
    {
     "data": {
      "text/plain": [
       "non-project                       0.191686\n",
       "instruction                       0.128882\n",
       "unalloc budgets/schools           0.055458\n",
       "basic (fefp k-12)                 0.044473\n",
       "employee retirement               0.043723\n",
       "ela e-teaching sheltered eng      0.021093\n",
       "Name: Function_Description, dtype: float64"
      ]
     },
     "execution_count": 41,
     "metadata": {},
     "output_type": "execute_result"
    }
   ],
   "source": [
    "training['Function_Description'].value_counts(normalize=True).head(6)"
   ]
  },
  {
   "cell_type": "code",
   "execution_count": 42,
   "metadata": {},
   "outputs": [],
   "source": [
    "training[categoric] = training[categoric].fillna(\"\")"
   ]
  },
  {
   "cell_type": "code",
   "execution_count": 43,
   "metadata": {},
   "outputs": [
    {
     "data": {
      "text/plain": [
       "0"
      ]
     },
     "execution_count": 43,
     "metadata": {},
     "output_type": "execute_result"
    }
   ],
   "source": [
    "training['Function_Description'].isnull().sum()"
   ]
  },
  {
   "cell_type": "code",
   "execution_count": 84,
   "metadata": {},
   "outputs": [],
   "source": [
    "# Join all text items in a row that have a space in between\n",
    "text_data = training[categoric].apply(lambda x: \" \".join(x), axis = 1)"
   ]
  },
  {
   "cell_type": "code",
   "execution_count": 45,
   "metadata": {
    "collapsed": true
   },
   "outputs": [
    {
     "data": {
      "text/plain": [
       "134338      general fund teacher-elementary    kindergar...\n",
       "206341     rgn  gob  (blank)  contractor services undesi...\n",
       "326408      general purpose school tcher 2nd grade  pers...\n",
       "364634     unalloc budgets/schools  teacher, short term ...\n",
       "47683      non-project  teacher, secondary (high)   teac...\n",
       "229958                                                     \n",
       "417668      local fund   educational supplies and materi...\n",
       "126378     non-project  sub manager, food service  distr...\n",
       "275539     ela s - teaching spanish only  teacher, eleme...\n",
       "85262      unalloc budgets/schools  teacher,retrd shrt t...\n",
       "304569                                                     \n",
       "330504     instruction general fund   supplies  primary ...\n",
       "84272     position control pools  general purpose school...\n",
       "64760                                                      \n",
       "21870      basic (fefp k-12)              conversion cha...\n",
       "18698     all campus payroll instruction general operati...\n",
       "169454     basic (fefp k-12)              general fund  ...\n",
       "169914     security services general admin lieutenant co...\n",
       "189701     non-project  (blank)  electricity undesignate...\n",
       "43727                                                      \n",
       "5614       direction of support services - pupils * spec...\n",
       "291539     unalloc budgets/schools  teacher, short term ...\n",
       "307038     disadvantaged youth * title i - disadvantaged...\n",
       "27645      guidance services              conversion cha...\n",
       "126388      general purpose school   personal services -...\n",
       "14962       school federal projects tcher english (secon...\n",
       "84040                                                      \n",
       "61639      core matters  teacher, short term sub   emplo...\n",
       "266302     ela e-teaching sheltered eng  teacher, elemen...\n",
       "225768    transportation department transportation gener...\n",
       "                                ...                        \n",
       "333748     psychological services * general psychologist...\n",
       "292626    new construction department administration fac...\n",
       "343458     unalloc budgets/schools  teacher, super sub d...\n",
       "128261     special ed. - severe needs  teacher,spec ed c...\n",
       "186318     ela s - teaching spanish only  teacher, eleme...\n",
       "210652    teacher supply  school federal projects   pers...\n",
       "340354     title iii  ela  ela general assignment   empl...\n",
       "435205     read to achieve round three  teacher, element...\n",
       "174827     title i  ela general assignment   salaries of...\n",
       "277504                                                     \n",
       "248062    vocational curriculum development and instruct...\n",
       "70455      basic (fefp k-12)              conversion cha...\n",
       "203453     staff services                 extended learn...\n",
       "58170       school federal projects   personal services ...\n",
       "72072       general purpose school assistant principal -...\n",
       "68311      title ii-part a-teacher qualit  teacher, elem...\n",
       "225892     ela e-teaching sheltered eng  teacher, elemen...\n",
       "446383                                                     \n",
       "155111    transportation department transportation gener...\n",
       "278248     instruction general fund   supplies  primary ...\n",
       "397424     ns  gob  secondary spec ed para   additional/...\n",
       "375092      general purpose school   personal services -...\n",
       "220181    child nutrition food services (child nutrition...\n",
       "307423                                                     \n",
       "46691      title ii-part a-teacher qualit  teacher, elem...\n",
       "109283     inst staff training svcs       general fund  ...\n",
       "102430     title ii,d  teacher,retrd shrt term sub   sal...\n",
       "413949      schoolwide schools school liaison   parent/t...\n",
       "433672     non-project  library technician ii  ed resour...\n",
       "415831    instruction and curriculum instruction \"title ...\n",
       "Length: 400277, dtype: object"
      ]
     },
     "execution_count": 45,
     "metadata": {},
     "output_type": "execute_result"
    }
   ],
   "source": [
    "text_data"
   ]
  },
  {
   "cell_type": "code",
   "execution_count": 88,
   "metadata": {},
   "outputs": [
    {
     "data": {
      "text/plain": [
       "CountVectorizer(analyzer='word', binary=False, decode_error='strict',\n",
       "        dtype=<class 'numpy.int64'>, encoding='utf-8', input='content',\n",
       "        lowercase=True, max_df=1.0, max_features=None, min_df=1,\n",
       "        ngram_range=(1, 2), preprocessor=None, stop_words=None,\n",
       "        strip_accents=None, token_pattern='[A-Za-z0-9]+(?=\\\\s+)',\n",
       "        tokenizer=None, vocabulary=None)"
      ]
     },
     "execution_count": 88,
     "metadata": {},
     "output_type": "execute_result"
    }
   ],
   "source": [
    "from sklearn.feature_extraction.text import CountVectorizer\n",
    "\n",
    "vec = CountVectorizer(token_pattern=\"[A-Za-z0-9]+(?=\\\\s+)\", ngram_range=(1,2))\n",
    "vec.fit(text_data)"
   ]
  },
  {
   "cell_type": "code",
   "execution_count": 94,
   "metadata": {},
   "outputs": [
    {
     "name": "stdout",
     "output_type": "stream",
     "text": [
      "There are 32306 tokens in this dataset if we split on non-alpha numeric\n",
      "['2nd', '2nd award', '2nd grade', '2nd lang', '2nd shift', '2nd undistributed', '3rd', '3rd grade', '3rd reading', '4th', '4th grade', '5', '5 teachers', '56', '56 days', '5th', '5th grade', '6', '6 federal', '6 local']\n"
     ]
    }
   ],
   "source": [
    "msg = \"There are {} tokens in this dataset if we split on non-alpha numeric\"\n",
    "print(msg.format(len(vec.get_feature_names())))\n",
    "print(vec.get_feature_names()[50:70])"
   ]
  },
  {
   "cell_type": "code",
   "execution_count": 40,
   "metadata": {},
   "outputs": [],
   "source": [
    "# Remove symbols\n",
    "'''for category in categoric:\n",
    "    training[category] = training[category].str.replace(r\"[&/\\)('\\\"-.,]\",\"\")'''\n",
    "#vec = HashingVectorizer(token_pattern=\"[A-Za-z0-9]+(?=\\\\s+)\", ngram_range=(1,2))"
   ]
  },
  {
   "cell_type": "code",
   "execution_count": 71,
   "metadata": {},
   "outputs": [],
   "source": [
    "hec = HashingVectorizer(token_pattern=\"[A-Za-z0-9]+(?=\\\\s+)\", norm=None,\n",
    "                                                     ngram_range=(1,2))\n",
    "hashed_text = hec.fit_transform(text_data)"
   ]
  },
  {
   "cell_type": "code",
   "execution_count": 48,
   "metadata": {},
   "outputs": [
    {
     "name": "stdout",
     "output_type": "stream",
     "text": [
      "<class 'pandas.core.frame.DataFrame'>\n",
      "RangeIndex: 10866634 entries, 0 to 10866633\n",
      "Data columns (total 1 columns):\n",
      "0    float64\n",
      "dtypes: float64(1)\n",
      "memory usage: 82.9 MB\n",
      "None\n"
     ]
    }
   ],
   "source": [
    "hashed_df = pd.DataFrame(hashed_text.data)\n",
    "print(hashed_df.info())"
   ]
  },
  {
   "cell_type": "markdown",
   "metadata": {},
   "source": [
    "### Simple model to verify tokenization by CountVectorizer"
   ]
  },
  {
   "cell_type": "code",
   "execution_count": 103,
   "metadata": {},
   "outputs": [],
   "source": [
    "from sklearn.model_selection import train_test_split\n",
    "from sklearn.linear_model import SGDClassifier\n",
    "from sklearn.pipeline import Pipeline"
   ]
  },
  {
   "cell_type": "code",
   "execution_count": 119,
   "metadata": {},
   "outputs": [],
   "source": [
    "#text_data = training[categoric]"
   ]
  },
  {
   "cell_type": "code",
   "execution_count": 123,
   "metadata": {},
   "outputs": [],
   "source": [
    "text_data_10000 = training.iloc[0:10000]"
   ]
  },
  {
   "cell_type": "code",
   "execution_count": 124,
   "metadata": {},
   "outputs": [],
   "source": [
    "df_dummies = pd.get_dummies(text_data_10000[['Object_Type']])"
   ]
  },
  {
   "cell_type": "code",
   "execution_count": 125,
   "metadata": {},
   "outputs": [],
   "source": [
    "X_train, X_test, y_train, y_test = train_test_split(text_data_10000,\n",
    "                                                    df_dummies,\n",
    "                                                    test_size=0.2, \n",
    "                                                    random_state=42)"
   ]
  },
  {
   "cell_type": "code",
   "execution_count": 126,
   "metadata": {
    "collapsed": true
   },
   "outputs": [
    {
     "name": "stdout",
     "output_type": "stream",
     "text": [
      "<class 'pandas.core.frame.DataFrame'>\n",
      "Int64Index: 8000 entries, 233021 to 408226\n",
      "Data columns (total 25 columns):\n",
      "Function                  7086 non-null object\n",
      "Use                       7086 non-null object\n",
      "Sharing                   7086 non-null object\n",
      "Reporting                 7086 non-null object\n",
      "Student_Type              7086 non-null object\n",
      "Position_Type             7086 non-null object\n",
      "Object_Type               7086 non-null object\n",
      "Pre_K                     7086 non-null object\n",
      "Operating_Status          7086 non-null object\n",
      "Object_Description        8000 non-null object\n",
      "Text_2                    8000 non-null object\n",
      "SubFund_Description       8000 non-null object\n",
      "Job_Title_Description     8000 non-null object\n",
      "Text_3                    8000 non-null object\n",
      "Text_4                    8000 non-null object\n",
      "Sub_Object_Description    8000 non-null object\n",
      "Location_Description      8000 non-null object\n",
      "FTE                       8000 non-null float64\n",
      "Function_Description      8000 non-null object\n",
      "Facility_or_Department    8000 non-null object\n",
      "Position_Extra            8000 non-null object\n",
      "Total                     8000 non-null float64\n",
      "Program_Description       8000 non-null object\n",
      "Fund_Description          8000 non-null object\n",
      "Text_1                    8000 non-null object\n",
      "dtypes: float64(2), object(23)\n",
      "memory usage: 1.6+ MB\n"
     ]
    }
   ],
   "source": [
    "X_train.info()"
   ]
  },
  {
   "cell_type": "code",
   "execution_count": 127,
   "metadata": {},
   "outputs": [],
   "source": [
    "from sklearn.ensemble import RandomForestClassifier\n",
    "from sklearn.preprocessing import FunctionTransformer"
   ]
  },
  {
   "cell_type": "code",
   "execution_count": 128,
   "metadata": {},
   "outputs": [],
   "source": [
    "def combine_text_columns(dataset):\n",
    "    return dataset[categoric].apply(lambda x: \" \".join(x), axis = 1)"
   ]
  },
  {
   "cell_type": "code",
   "execution_count": 129,
   "metadata": {},
   "outputs": [],
   "source": [
    "get_text_data = FunctionTransformer(combine_text_columns, validate = False)"
   ]
  },
  {
   "cell_type": "code",
   "execution_count": 130,
   "metadata": {},
   "outputs": [],
   "source": [
    "# Edit model step in pipeline\n",
    "pl = Pipeline([\n",
    "        ('selector', get_text_data),\n",
    "        ('vectorizer', vec),\n",
    "        ('clf', RandomForestClassifier())\n",
    "    ])"
   ]
  },
  {
   "cell_type": "code",
   "execution_count": 131,
   "metadata": {},
   "outputs": [
    {
     "data": {
      "text/plain": [
       "Pipeline(memory=None,\n",
       "     steps=[('selector', FunctionTransformer(accept_sparse=False,\n",
       "          func=<function combine_text_columns at 0x7faa4830f488>,\n",
       "          inv_kw_args=None, inverse_func=None, kw_args=None,\n",
       "          pass_y='deprecated', validate=False)), ('vectorizer', CountVectorizer(analyzer='word', binary=False, d...n_jobs=1,\n",
       "            oob_score=False, random_state=None, verbose=0,\n",
       "            warm_start=False))])"
      ]
     },
     "execution_count": 131,
     "metadata": {},
     "output_type": "execute_result"
    }
   ],
   "source": [
    "# Fit to the training data\n",
    "pl.fit(X_train, y_train)"
   ]
  },
  {
   "cell_type": "code",
   "execution_count": 132,
   "metadata": {},
   "outputs": [
    {
     "data": {
      "text/plain": [
       "0.9185"
      ]
     },
     "execution_count": 132,
     "metadata": {},
     "output_type": "execute_result"
    }
   ],
   "source": [
    "from sklearn.metrics import accuracy_score\n",
    "\n",
    "y_pred = pl.predict(X_test)\n",
    "accuracy_score(y_test.values, y_pred, normalize=True)"
   ]
  },
  {
   "cell_type": "markdown",
   "metadata": {},
   "source": [
    "## Save df in a new CSV"
   ]
  },
  {
   "cell_type": "code",
   "execution_count": null,
   "metadata": {},
   "outputs": [],
   "source": [
    "training.to_csv(index = False)"
   ]
  },
  {
   "cell_type": "code",
   "execution_count": null,
   "metadata": {},
   "outputs": [],
   "source": []
  }
 ],
 "metadata": {
  "kernelspec": {
   "display_name": "Python 3",
   "language": "python",
   "name": "python3"
  },
  "language_info": {
   "codemirror_mode": {
    "name": "ipython",
    "version": 3
   },
   "file_extension": ".py",
   "mimetype": "text/x-python",
   "name": "python",
   "nbconvert_exporter": "python",
   "pygments_lexer": "ipython3",
   "version": "3.6.5"
  }
 },
 "nbformat": 4,
 "nbformat_minor": 2
}
