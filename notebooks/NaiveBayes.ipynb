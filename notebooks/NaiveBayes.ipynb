{
  "nbformat": 4,
  "nbformat_minor": 0,
  "metadata": {
    "colab": {
      "name": "NaiveBayes.ipynb",
      "version": "0.3.2",
      "provenance": [],
      "collapsed_sections": [
        "s5EujUAkrHJw",
        "8C8LyPlqrHM4"
      ]
    },
    "language_info": {
      "codemirror_mode": {
        "name": "ipython",
        "version": 3
      },
      "file_extension": ".py",
      "mimetype": "text/x-python",
      "name": "python",
      "nbconvert_exporter": "python",
      "pygments_lexer": "ipython3",
      "version": "3.6.5"
    },
    "kernelspec": {
      "display_name": "Python 3",
      "language": "python",
      "name": "python3"
    }
  },
  "cells": [
    {
      "metadata": {
        "colab_type": "code",
        "id": "SRi3OITJrHGd",
        "colab": {}
      },
      "cell_type": "code",
      "source": [
        "import pandas as pd\n",
        "import numpy as np\n",
        "\n",
        "from matplotlib import pyplot as plt\n",
        "\n",
        "from sklearn.pipeline import FeatureUnion, Pipeline\n",
        "\n",
        "from sklearn.preprocessing import FunctionTransformer, MinMaxScaler\n",
        "from sklearn.feature_extraction.text import HashingVectorizer, CountVectorizer\n",
        "\n",
        "from sklearn.decomposition import TruncatedSVD\n",
        "\n",
        "from sklearn.naive_bayes import GaussianNB\n",
        "\n",
        "from sklearn.model_selection import train_test_split, cross_val_score, cross_val_predict\n",
        "\n",
        "from sklearn.metrics import confusion_matrix, accuracy_score, classification_report\n",
        "\n",
        "import seaborn as sns; sns.set()\n",
        "\n",
        "import itertools\n",
        "\n",
        "from sklearn.base import TransformerMixin"
      ],
      "execution_count": 0,
      "outputs": []
    },
    {
      "metadata": {
        "colab_type": "code",
        "id": "71F8c2fsrHGl",
        "colab": {}
      },
      "cell_type": "code",
      "source": [
        "#Read the data using the Unnamed (probably id) as index\n",
        "url = 'https://s3.amazonaws.com/drivendata/data/4/public/81e8f2de-9915-4934-b9ae-9705685c9d50.csv'\n",
        "training = pd.read_csv(url, index_col='Unnamed: 0')\n",
        "\n",
        "labels = ['Function', 'Object_Type', 'Operating_Status', 'Position_Type', 'Pre_K', 'Reporting', \n",
        "          'Sharing', 'Student_Type', 'Use']\n",
        "\n",
        "numeric = ['FTE', 'Total']\n",
        "\n",
        "categoric = [ 'Facility_or_Department', 'Function_Description', \n",
        "            'Fund_Description', 'Job_Title_Description', 'Location_Description', \n",
        "            'Object_Description', 'Position_Extra', 'Program_Description', 'SubFund_Description', \n",
        "            'Sub_Object_Description', \n",
        "            'Text_1', 'Text_2', 'Text_3', 'Text_4']"
      ],
      "execution_count": 0,
      "outputs": []
    },
    {
      "metadata": {
        "colab_type": "text",
        "id": "iBuZgSpSrHGz"
      },
      "cell_type": "markdown",
      "source": [
        "## Pre-Processing"
      ]
    },
    {
      "metadata": {
        "colab_type": "code",
        "id": "wy1Zx5fwrHHe",
        "colab": {}
      },
      "cell_type": "code",
      "source": [
        "#Imputing data in Total column\n",
        "def impute_func_total(data):\n",
        "    if(pd.isnull(data['Total'])):        \n",
        "        if(data['Object_Type'] == 'Base Salary/Compensation'):\n",
        "            return 24146\n",
        "        if(data['Object_Type'] == 'Benefits'):\n",
        "            return 38163\n",
        "        if(data['Object_Type'] == 'Contracted Services'):\n",
        "            return 24146\n",
        "        if(data['Object_Type'] == 'Equipment & Equipment Lease'):\n",
        "            return 11257\n",
        "        if(data['Object_Type'] == 'NO_LABEL'):\n",
        "            return 58545\n",
        "        if(data['Object_Type'] == 'Other Compensation/Stipend'):\n",
        "            return 1605\n",
        "        if(data['Object_Type'] == 'Other Non-Compensation'):\n",
        "            return 10646\n",
        "        if(data['Object_Type'] == 'Rent/Utilities'):\n",
        "            return 46611\n",
        "        if(data['Object_Type'] == 'Substitute Compensation'):\n",
        "            return 1090\n",
        "        if(data['Object_Type'] == 'Supplies/Materials'):\n",
        "            return 7745\n",
        "        if(data['Object_Type'] == 'Travel & Conferences'):\n",
        "            return 1659\n",
        "    else:\n",
        "        return data['Total']"
      ],
      "execution_count": 0,
      "outputs": []
    },
    {
      "metadata": {
        "colab_type": "code",
        "id": "fbKnXV9RrHIX",
        "colab": {}
      },
      "cell_type": "code",
      "source": [
        "#Imputing data in FTE column\n",
        "def impute_func_FTE(data):\n",
        "    if(pd.isnull(data['FTE'])):        \n",
        "        if(data['Object_Type'] == 'Base Salary/Compensation'):\n",
        "            return 0.45\n",
        "        if(data['Object_Type'] == 'Benefits'):\n",
        "            return 0.0\n",
        "        if(data['Object_Type'] == 'Contracted Services'):\n",
        "            return 0.0\n",
        "        if(data['Object_Type'] == 'Equipment & Equipment Lease'):\n",
        "            return 0.0\n",
        "        if(data['Object_Type'] == 'NO_LABEL'):\n",
        "            return 0.75\n",
        "        if(data['Object_Type'] == 'Other Compensation/Stipend'):\n",
        "            return 0.000107\n",
        "        if(data['Object_Type'] == 'Other Non-Compensation'):\n",
        "            return 0.0\n",
        "        if(data['Object_Type'] == 'Rent/Utilities'):\n",
        "            return 0.0\n",
        "        if(data['Object_Type'] == 'Substitute Compensation'):\n",
        "            return 0.000059\n",
        "        if(data['Object_Type'] == 'Supplies/Materials'):\n",
        "            return 0.0\n",
        "        if(data['Object_Type'] == 'Travel & Conferences'):\n",
        "            return 0.0\n",
        "    else:\n",
        "        return data['FTE']"
      ],
      "execution_count": 0,
      "outputs": []
    },
    {
      "metadata": {
        "colab_type": "code",
        "id": "JuVDA5sarHG2",
        "colab": {}
      },
      "cell_type": "code",
      "source": [
        "def preProcessing(training):\n",
        "    # Remove inconsistent data\n",
        "    training.loc[(training['FTE'] < 0) | (training['FTE'] > 1), 'FTE'] = np.nan\n",
        "    training.loc[training['Total'] < 0, 'Total'] = np.nan\n",
        "    \n",
        "    training['Total'] = training.apply(impute_func_total, axis = 1)\n",
        "    \n",
        "    training['FTE'] = training.apply(impute_func_FTE, axis = 1)\n",
        "    \n",
        "    for category in categoric:\n",
        "        training[category] = training[category].str.lower()\n",
        "    \n",
        "    training[categoric] = training[categoric].fillna(\"\")\n",
        "    \n",
        "    return training"
      ],
      "execution_count": 0,
      "outputs": []
    },
    {
      "metadata": {
        "id": "rZnuRK10C3r9",
        "colab_type": "code",
        "colab": {}
      },
      "cell_type": "code",
      "source": [
        "df_training = preProcessing(training)\n",
        "df_training = df_training.reset_index(drop = True)"
      ],
      "execution_count": 0,
      "outputs": []
    },
    {
      "metadata": {
        "id": "M2szGqhzC3sB",
        "colab_type": "code",
        "outputId": "e021bb84-39ec-4ce4-ebcc-e34b99c25ba7",
        "colab": {
          "base_uri": "https://localhost:8080/",
          "height": 34
        }
      },
      "cell_type": "code",
      "source": [
        "df_training[numeric].shape"
      ],
      "execution_count": 0,
      "outputs": [
        {
          "output_type": "execute_result",
          "data": {
            "text/plain": [
              "(400277, 2)"
            ]
          },
          "metadata": {
            "tags": []
          },
          "execution_count": 8
        }
      ]
    },
    {
      "metadata": {
        "collapsed": true,
        "id": "lZWiC7d6C3sG",
        "colab_type": "code",
        "outputId": "e328bed6-dc72-45ff-801f-ad88c368826a",
        "colab": {
          "base_uri": "https://localhost:8080/",
          "height": 340
        }
      },
      "cell_type": "code",
      "source": [
        "df_training[categoric].info()"
      ],
      "execution_count": 0,
      "outputs": [
        {
          "output_type": "stream",
          "text": [
            "<class 'pandas.core.frame.DataFrame'>\n",
            "RangeIndex: 400277 entries, 0 to 400276\n",
            "Data columns (total 14 columns):\n",
            "Facility_or_Department    400277 non-null object\n",
            "Function_Description      400277 non-null object\n",
            "Fund_Description          400277 non-null object\n",
            "Job_Title_Description     400277 non-null object\n",
            "Location_Description      400277 non-null object\n",
            "Object_Description        400277 non-null object\n",
            "Position_Extra            400277 non-null object\n",
            "Program_Description       400277 non-null object\n",
            "SubFund_Description       400277 non-null object\n",
            "Sub_Object_Description    400277 non-null object\n",
            "Text_1                    400277 non-null object\n",
            "Text_2                    400277 non-null object\n",
            "Text_3                    400277 non-null object\n",
            "Text_4                    400277 non-null object\n",
            "dtypes: object(14)\n",
            "memory usage: 42.8+ MB\n"
          ],
          "name": "stdout"
        }
      ]
    },
    {
      "metadata": {
        "id": "VgYa4pUZC3sM",
        "colab_type": "code",
        "colab": {}
      },
      "cell_type": "code",
      "source": [
        "def combine_text_columns(dataset):\n",
        "    return dataset[categoric].apply(lambda x: \" \".join(x), axis = 1)\n",
        "\n",
        "get_text_data = FunctionTransformer(combine_text_columns, validate = False)"
      ],
      "execution_count": 0,
      "outputs": []
    },
    {
      "metadata": {
        "id": "M3xOvlO6C3sQ",
        "colab_type": "code",
        "colab": {}
      },
      "cell_type": "code",
      "source": [
        "def combine_numeric_columns(dataset):\n",
        "    return dataset[numeric]\n",
        "\n",
        "get_numeric_data = FunctionTransformer(combine_numeric_columns, validate = False)"
      ],
      "execution_count": 0,
      "outputs": []
    },
    {
      "metadata": {
        "id": "NLOyr5FigKjS",
        "colab_type": "text"
      },
      "cell_type": "markdown",
      "source": [
        "## Data Distribution and correlation"
      ]
    },
    {
      "metadata": {
        "id": "N2opmDuTWREl",
        "colab_type": "code",
        "outputId": "22c09471-8d88-4180-b36e-0b66a8e335a2",
        "colab": {
          "base_uri": "https://localhost:8080/",
          "height": 345
        }
      },
      "cell_type": "code",
      "source": [
        "plt.figure(figsize=(5,5))\n",
        "sns.heatmap(df_training[numeric].corr(), cmap=\"RdYlBu\", vmin=-1, vmax=1)"
      ],
      "execution_count": 0,
      "outputs": [
        {
          "output_type": "execute_result",
          "data": {
            "text/plain": [
              "<matplotlib.axes._subplots.AxesSubplot at 0x7ffb24e31080>"
            ]
          },
          "metadata": {
            "tags": []
          },
          "execution_count": 11
        },
        {
          "output_type": "display_data",
          "data": {
            "image/png": "[encoded data removed]",
            "text/plain": [
              "<Figure size 360x360 with 2 Axes>"
            ]
          },
          "metadata": {
            "tags": []
          }
        }
      ]
    },
    {
      "metadata": {
        "id": "OwxRMlo1ehWV",
        "colab_type": "code",
        "outputId": "52ea0224-bbf6-4602-dd66-2d41858e2429",
        "colab": {
          "base_uri": "https://localhost:8080/",
          "height": 301
        }
      },
      "cell_type": "code",
      "source": [
        "# Create the histogram\n",
        "plt.hist(df_training['Total'], bins = 20, log = True)\n",
        "\n",
        "# Add title and labels\n",
        "plt.title('Distribution of total budget expenditure')\n",
        "plt.xlabel('Total')\n",
        "plt.ylabel('num budget')\n",
        "\n",
        "# Display the histogram\n",
        "plt.show()"
      ],
      "execution_count": 0,
      "outputs": [
        {
          "output_type": "display_data",
          "data": {
            "image/png": "[encoded data removed]",
            "text/plain": [
              "<Figure size 432x288 with 1 Axes>"
            ]
          },
          "metadata": {
            "tags": []
          }
        }
      ]
    },
    {
      "metadata": {
        "id": "dGhdGRQsnSP7",
        "colab_type": "code",
        "colab": {}
      },
      "cell_type": "code",
      "source": [
        "text_data = df_training[categoric].apply(lambda x: \" \".join(x), axis = 1)"
      ],
      "execution_count": 0,
      "outputs": []
    },
    {
      "metadata": {
        "id": "zWzn26oNm_qt",
        "colab_type": "code",
        "colab": {}
      },
      "cell_type": "code",
      "source": [
        "vec_1 = CountVectorizer(token_pattern=\"[A-Za-z0-9]+(?=\\\\s+)\", ngram_range=(1,2), stop_words = 'english')"
      ],
      "execution_count": 0,
      "outputs": []
    },
    {
      "metadata": {
        "id": "xAubGUCHnEuF",
        "colab_type": "code",
        "colab": {}
      },
      "cell_type": "code",
      "source": [
        "X_train_features = vec_1.fit_transform(text_data)\n",
        "y_train_labels = training[\"Object_Type\"]"
      ],
      "execution_count": 0,
      "outputs": []
    },
    {
      "metadata": {
        "id": "SSUPjfg0p-JC",
        "colab_type": "code",
        "outputId": "96d0abcf-2573-4ee8-a1fd-8ee4820a19ad",
        "colab": {
          "base_uri": "https://localhost:8080/",
          "height": 282
        }
      },
      "cell_type": "code",
      "source": [
        "X_train_features"
      ],
      "execution_count": 0,
      "outputs": [
        {
          "output_type": "error",
          "ename": "AttributeError",
          "evalue": "ignored",
          "traceback": [
            "\u001b[0;31m---------------------------------------------------------------------------\u001b[0m",
            "\u001b[0;31mAttributeError\u001b[0m                            Traceback (most recent call last)",
            "\u001b[0;32m<ipython-input-50-8b7b3c89c1b3>\u001b[0m in \u001b[0;36m<module>\u001b[0;34m()\u001b[0m\n\u001b[0;32m----> 1\u001b[0;31m \u001b[0mX_train_features\u001b[0m\u001b[0;34m.\u001b[0m\u001b[0mget_feature_names\u001b[0m\u001b[0;34m(\u001b[0m\u001b[0;34m)\u001b[0m\u001b[0;34m\u001b[0m\u001b[0;34m\u001b[0m\u001b[0m\n\u001b[0m",
            "\u001b[0;32m/usr/local/lib/python3.6/dist-packages/scipy/sparse/base.py\u001b[0m in \u001b[0;36m__getattr__\u001b[0;34m(self, attr)\u001b[0m\n\u001b[1;32m    687\u001b[0m             \u001b[0;32mreturn\u001b[0m \u001b[0mself\u001b[0m\u001b[0;34m.\u001b[0m\u001b[0mgetnnz\u001b[0m\u001b[0;34m(\u001b[0m\u001b[0;34m)\u001b[0m\u001b[0;34m\u001b[0m\u001b[0;34m\u001b[0m\u001b[0m\n\u001b[1;32m    688\u001b[0m         \u001b[0;32melse\u001b[0m\u001b[0;34m:\u001b[0m\u001b[0;34m\u001b[0m\u001b[0;34m\u001b[0m\u001b[0m\n\u001b[0;32m--> 689\u001b[0;31m             \u001b[0;32mraise\u001b[0m \u001b[0mAttributeError\u001b[0m\u001b[0;34m(\u001b[0m\u001b[0mattr\u001b[0m \u001b[0;34m+\u001b[0m \u001b[0;34m\" not found\"\u001b[0m\u001b[0;34m)\u001b[0m\u001b[0;34m\u001b[0m\u001b[0;34m\u001b[0m\u001b[0m\n\u001b[0m\u001b[1;32m    690\u001b[0m \u001b[0;34m\u001b[0m\u001b[0m\n\u001b[1;32m    691\u001b[0m     \u001b[0;32mdef\u001b[0m \u001b[0mtranspose\u001b[0m\u001b[0;34m(\u001b[0m\u001b[0mself\u001b[0m\u001b[0;34m,\u001b[0m \u001b[0maxes\u001b[0m\u001b[0;34m=\u001b[0m\u001b[0;32mNone\u001b[0m\u001b[0;34m,\u001b[0m \u001b[0mcopy\u001b[0m\u001b[0;34m=\u001b[0m\u001b[0;32mFalse\u001b[0m\u001b[0;34m)\u001b[0m\u001b[0;34m:\u001b[0m\u001b[0;34m\u001b[0m\u001b[0;34m\u001b[0m\u001b[0m\n",
            "\u001b[0;31mAttributeError\u001b[0m: get_feature_names not found"
          ]
        }
      ]
    },
    {
      "metadata": {
        "id": "vDTqFsS7oz78",
        "colab_type": "code",
        "outputId": "704bde23-33ec-472e-c2f3-200cdab3884f",
        "colab": {
          "base_uri": "https://localhost:8080/",
          "height": 51
        }
      },
      "cell_type": "code",
      "source": [
        "svd = TruncatedSVD(n_components=20)\n",
        "svd.fit(X_train_features, y_train_labels)"
      ],
      "execution_count": 0,
      "outputs": [
        {
          "output_type": "execute_result",
          "data": {
            "text/plain": [
              "TruncatedSVD(algorithm='randomized', n_components=20, n_iter=5,\n",
              "       random_state=None, tol=0.0)"
            ]
          },
          "metadata": {
            "tags": []
          },
          "execution_count": 46
        }
      ]
    },
    {
      "metadata": {
        "id": "ZkXw7CB5oHrv",
        "colab_type": "code",
        "outputId": "eaf332b4-09e7-4a0c-992a-19d5e7ba29a5",
        "colab": {
          "base_uri": "https://localhost:8080/",
          "height": 34
        }
      },
      "cell_type": "code",
      "source": [
        "svd.components_.shape"
      ],
      "execution_count": 0,
      "outputs": [
        {
          "output_type": "execute_result",
          "data": {
            "text/plain": [
              "(20, 33207)"
            ]
          },
          "metadata": {
            "tags": []
          },
          "execution_count": 42
        }
      ]
    },
    {
      "metadata": {
        "id": "zu0hKZaGnFZf",
        "colab_type": "code",
        "colab": {}
      },
      "cell_type": "code",
      "source": [
        "feature_list = X_train_x.get_support()\n"
      ],
      "execution_count": 0,
      "outputs": []
    },
    {
      "metadata": {
        "id": "sr2rZkV-nLXu",
        "colab_type": "code",
        "colab": {}
      },
      "cell_type": "code",
      "source": [
        "#List of selected KBest words\n",
        "features = []\n",
        "columns = []\n",
        "for i in range(0, 33552):\n",
        "    if(feature_list[i]):\n",
        "        value = list(vec.vocabulary_.keys())[list(vec.vocabulary_.values()).index(i)]\n",
        "        x = (i, value)\n",
        "        features.append(x)\n",
        "        columns.append(i)"
      ],
      "execution_count": 0,
      "outputs": []
    },
    {
      "metadata": {
        "id": "krL_rVyAC3sU",
        "colab_type": "text"
      },
      "cell_type": "markdown",
      "source": [
        "### Pipeline"
      ]
    },
    {
      "metadata": {
        "id": "kUb19UOtC3sW",
        "colab_type": "code",
        "colab": {}
      },
      "cell_type": "code",
      "source": [
        "vec = HashingVectorizer(token_pattern=\"[A-Za-z0-9]+(?=\\\\s+)\", ngram_range=(1,2), stop_words = 'english')"
      ],
      "execution_count": 0,
      "outputs": []
    },
    {
      "metadata": {
        "id": "s9hE38zdXHA3",
        "colab_type": "code",
        "colab": {}
      },
      "cell_type": "code",
      "source": [
        "clf = GaussianNB()"
      ],
      "execution_count": 0,
      "outputs": []
    },
    {
      "metadata": {
        "id": "lPH3QWLOC3sa",
        "colab_type": "code",
        "colab": {}
      },
      "cell_type": "code",
      "source": [
        "pl = Pipeline([\n",
        "        ('union', FeatureUnion(\n",
        "            transformer_list = [\n",
        "                ('numeric_features', Pipeline([\n",
        "                    ('selector', get_numeric_data), \n",
        "                    ('scaler', MinMaxScaler())\n",
        "                ])),\n",
        "                ('text_features', Pipeline([\n",
        "                    ('selector', get_text_data),\n",
        "                    ('vectorizer', vec),\n",
        "                ]))\n",
        "                \n",
        "             ]\n",
        "        )),\n",
        "        ('reduce_dim', TruncatedSVD(n_components = 150)),\n",
        "        ('clf', clf)        \n",
        "    ])"
      ],
      "execution_count": 0,
      "outputs": []
    },
    {
      "metadata": {
        "id": "A3fhFZeQC3se",
        "colab_type": "text"
      },
      "cell_type": "markdown",
      "source": [
        "### Training Naive Bayes algorithm"
      ]
    },
    {
      "metadata": {
        "id": "Fv4UHoF2C3sf",
        "colab_type": "code",
        "colab": {}
      },
      "cell_type": "code",
      "source": [
        "d = {'NO_LABEL':1, 'Base Salary/Compensation':2, 'Benefits':3, 'Substitute Compensation':4, 'Supplies/Materials':5, \n",
        "    'Rent/Utilities':6, 'Other Compensation/Stipend': 7, 'Contracted Services' : 8, 'Equipment & Equipment Lease':9, \n",
        "     'Other Non-Compensation':10, 'Travel & Conferences':11}"
      ],
      "execution_count": 0,
      "outputs": []
    },
    {
      "metadata": {
        "id": "FWrBc5xmC3sj",
        "colab_type": "code",
        "colab": {}
      },
      "cell_type": "code",
      "source": [
        "labels_obT = df_training['Object_Type'].unique()"
      ],
      "execution_count": 0,
      "outputs": []
    },
    {
      "metadata": {
        "id": "pm9vXDC3C3sq",
        "colab_type": "code",
        "colab": {}
      },
      "cell_type": "code",
      "source": [
        "target = df_training[['Object_Type']].applymap(lambda s: d.get(s) if s in d else s)\n",
        "target = target['Object_Type'].values\n",
        "train = df_training.drop(columns=labels)"
      ],
      "execution_count": 0,
      "outputs": []
    },
    {
      "metadata": {
        "id": "hzWtWbTbC3tJ",
        "colab_type": "code",
        "colab": {}
      },
      "cell_type": "code",
      "source": [
        "X_train, X_test, y_train, y_test = train_test_split(train,\n",
        "                                                    target,\n",
        "                                                    test_size=0.3, \n",
        "                                                    random_state=42)"
      ],
      "execution_count": 0,
      "outputs": []
    },
    {
      "metadata": {
        "id": "gIPYHm0hC3tT",
        "colab_type": "code",
        "outputId": "a07428b2-38ed-4510-d614-83873156eca9",
        "colab": {
          "base_uri": "https://localhost:8080/",
          "height": 136
        }
      },
      "cell_type": "code",
      "source": [
        "pl.fit(X_train, y_train)"
      ],
      "execution_count": 0,
      "outputs": [
        {
          "output_type": "execute_result",
          "data": {
            "text/plain": [
              "Pipeline(memory=None,\n",
              "     steps=[('union', FeatureUnion(n_jobs=None,\n",
              "       transformer_list=[('numeric_features', Pipeline(memory=None,\n",
              "     steps=[('selector', FunctionTransformer(accept_sparse=False, check_inverse=True,\n",
              "          func=<function combine_numeric_columns at 0x7ffb32165b70>,\n",
              "          inv_kw_args=None, invers..._iter=5,\n",
              "       random_state=None, tol=0.0)), ('clf', GaussianNB(priors=None, var_smoothing=1e-09))])"
            ]
          },
          "metadata": {
            "tags": []
          },
          "execution_count": 54
        }
      ]
    },
    {
      "metadata": {
        "id": "3JIF1wTxC3tf",
        "colab_type": "code",
        "colab": {}
      },
      "cell_type": "code",
      "source": [
        "y_pred = pl.predict(X_test)"
      ],
      "execution_count": 0,
      "outputs": []
    },
    {
      "metadata": {
        "id": "HYetuyb7C3ti",
        "colab_type": "code",
        "outputId": "ae2157d4-8673-4312-88b8-21fa59052867",
        "colab": {
          "base_uri": "https://localhost:8080/",
          "height": 34
        }
      },
      "cell_type": "code",
      "source": [
        "print(\"Accuracy:\",accuracy_score(y_test, y_pred))"
      ],
      "execution_count": 0,
      "outputs": [
        {
          "output_type": "stream",
          "text": [
            "Accuracy: 0.7086039772159488\n"
          ],
          "name": "stdout"
        }
      ]
    },
    {
      "metadata": {
        "id": "YIU6AbN7V_iN",
        "colab_type": "code",
        "outputId": "522ebe61-76f3-4bb9-9aa5-9586b997f7e0",
        "colab": {
          "base_uri": "https://localhost:8080/",
          "height": 340
        }
      },
      "cell_type": "code",
      "source": [
        "def print_report(pipe):\n",
        "    report = classification_report(y_test, y_pred,\n",
        "        target_names=labels_obT)\n",
        "    print(report)\n",
        "    print(\"accuracy: {:0.3f}\".format(accuracy_score(y_test, y_pred)))\n",
        "\n",
        "print_report(pl)"
      ],
      "execution_count": 0,
      "outputs": [
        {
          "output_type": "stream",
          "text": [
            "                             precision    recall  f1-score   support\n",
            "\n",
            "                   NO_LABEL       0.83      0.83      0.83     20984\n",
            "   Base Salary/Compensation       0.73      0.65      0.69     29238\n",
            "                   Benefits       0.73      0.77      0.75     25519\n",
            "    Substitute Compensation       0.62      0.86      0.72      8292\n",
            "         Supplies/Materials       0.77      0.57      0.65      9624\n",
            "             Rent/Utilities       0.23      0.78      0.36       983\n",
            " Other Compensation/Stipend       0.75      0.62      0.68     18404\n",
            "        Contracted Services       0.65      0.55      0.59      2267\n",
            "Equipment & Equipment Lease       0.79      0.67      0.73      1334\n",
            "     Other Non-Compensation       0.26      0.56      0.36      1949\n",
            "       Travel & Conferences       0.52      0.65      0.58      1490\n",
            "\n",
            "                  micro avg       0.71      0.71      0.71    120084\n",
            "                  macro avg       0.63      0.68      0.63    120084\n",
            "               weighted avg       0.73      0.71      0.71    120084\n",
            "\n",
            "accuracy: 0.709\n"
          ],
          "name": "stdout"
        }
      ]
    },
    {
      "metadata": {
        "id": "YeKvwpGEC3to",
        "colab_type": "code",
        "outputId": "0e20bf90-4c03-4fe7-8c8e-33d652fff86a",
        "colab": {
          "base_uri": "https://localhost:8080/",
          "height": 793
        }
      },
      "cell_type": "code",
      "source": [
        "mat = confusion_matrix(y_test, y_pred)\n",
        "\n",
        "plt.figure(figsize=(10, 16))\n",
        "sns.heatmap(mat.T, square=True, annot=True, fmt='d', cbar=False,\n",
        "            xticklabels=labels_obT, yticklabels=labels_obT, linewidths=.5)\n",
        "plt.xlabel('true label')\n",
        "plt.ylabel('predicted label');"
      ],
      "execution_count": 0,
      "outputs": [
        {
          "output_type": "display_data",
          "data": {
            "image/png": "[encoded data removed]",
            "text/plain": [
              "<Figure size 720x1152 with 1 Axes>"
            ]
          },
          "metadata": {
            "tags": []
          }
        }
      ]
    }
  ]
}