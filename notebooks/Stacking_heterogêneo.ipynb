{
  "nbformat": 4,
  "nbformat_minor": 0,
  "metadata": {
    "colab": {
      "name": "Stacking heterogêneo.ipynb",
      "version": "0.3.2",
      "provenance": [],
      "toc_visible": true
    },
    "kernelspec": {
      "name": "python3",
      "display_name": "Python 3"
    }
  },
  "cells": [
    {
      "cell_type": "code",
      "metadata": {
        "id": "rjnMQklaU2ax",
        "colab_type": "code",
        "outputId": "4a9f233b-d6c3-4260-94b9-e6637dea4c80",
        "colab": {
          "base_uri": "https://localhost:8080/",
          "height": 275
        }
      },
      "source": [
        "!pip install mlxtend"
      ],
      "execution_count": 0,
      "outputs": [
        {
          "output_type": "stream",
          "text": [
            "Requirement already satisfied: mlxtend in /usr/local/lib/python3.6/dist-packages (0.14.0)\n",
            "Requirement already satisfied: setuptools in /usr/local/lib/python3.6/dist-packages (from mlxtend) (41.0.1)\n",
            "Requirement already satisfied: scikit-learn>=0.18 in /usr/local/lib/python3.6/dist-packages (from mlxtend) (0.21.2)\n",
            "Requirement already satisfied: matplotlib>=1.5.1 in /usr/local/lib/python3.6/dist-packages (from mlxtend) (3.0.3)\n",
            "Requirement already satisfied: pandas>=0.17.1 in /usr/local/lib/python3.6/dist-packages (from mlxtend) (0.24.2)\n",
            "Requirement already satisfied: scipy>=0.17 in /usr/local/lib/python3.6/dist-packages (from mlxtend) (1.3.0)\n",
            "Requirement already satisfied: numpy>=1.10.4 in /usr/local/lib/python3.6/dist-packages (from mlxtend) (1.16.4)\n",
            "Requirement already satisfied: joblib>=0.11 in /usr/local/lib/python3.6/dist-packages (from scikit-learn>=0.18->mlxtend) (0.13.2)\n",
            "Requirement already satisfied: pyparsing!=2.0.4,!=2.1.2,!=2.1.6,>=2.0.1 in /usr/local/lib/python3.6/dist-packages (from matplotlib>=1.5.1->mlxtend) (2.4.0)\n",
            "Requirement already satisfied: kiwisolver>=1.0.1 in /usr/local/lib/python3.6/dist-packages (from matplotlib>=1.5.1->mlxtend) (1.1.0)\n",
            "Requirement already satisfied: cycler>=0.10 in /usr/local/lib/python3.6/dist-packages (from matplotlib>=1.5.1->mlxtend) (0.10.0)\n",
            "Requirement already satisfied: python-dateutil>=2.1 in /usr/local/lib/python3.6/dist-packages (from matplotlib>=1.5.1->mlxtend) (2.5.3)\n",
            "Requirement already satisfied: pytz>=2011k in /usr/local/lib/python3.6/dist-packages (from pandas>=0.17.1->mlxtend) (2018.9)\n",
            "Requirement already satisfied: six in /usr/local/lib/python3.6/dist-packages (from cycler>=0.10->matplotlib>=1.5.1->mlxtend) (1.12.0)\n"
          ],
          "name": "stdout"
        }
      ]
    },
    {
      "cell_type": "code",
      "metadata": {
        "id": "tjSJTfhfWT44",
        "colab_type": "code",
        "outputId": "1dd56c15-fd54-41d8-9804-50884856782d",
        "colab": {
          "base_uri": "https://localhost:8080/",
          "height": 71
        }
      },
      "source": [
        "import pandas as pd\n",
        "import numpy as np\n",
        "import tensorflow as tf\n",
        "\n",
        "# Essemble\n",
        "from mlxtend.classifier import StackingCVClassifier\n",
        "from sklearn.naive_bayes import GaussianNB #Naive Bayes\n",
        "from sklearn.neighbors import KNeighborsClassifier\n",
        "from sklearn.tree import DecisionTreeClassifier\n",
        "from sklearn.neural_network import MLPClassifier\n",
        "from xgboost import XGBClassifier\n",
        "\n",
        "#ML steps structure\n",
        "from sklearn.pipeline import FeatureUnion, Pipeline\n",
        "\n",
        "#Preprocessing\n",
        "from sklearn.preprocessing import FunctionTransformer, MinMaxScaler\n",
        "from sklearn.feature_extraction.text import HashingVectorizer, CountVectorizer\n",
        "from sklearn.decomposition import TruncatedSVD\n",
        "\n",
        "from sklearn.model_selection import GridSearchCV\n",
        "\n",
        "#Metrics\n",
        "from sklearn.model_selection import cross_val_score\n",
        "\n",
        "import io\n",
        "from googleapiclient.http import MediaIoBaseDownload"
      ],
      "execution_count": 0,
      "outputs": [
        {
          "output_type": "stream",
          "text": [
            "/usr/local/lib/python3.6/dist-packages/sklearn/externals/six.py:31: DeprecationWarning: The module is deprecated in version 0.21 and will be removed in version 0.23 since we've dropped support for Python 2.7. Please rely on the official version of six (https://pypi.org/project/six/).\n",
            "  \"(https://pypi.org/project/six/).\", DeprecationWarning)\n"
          ],
          "name": "stderr"
        }
      ]
    },
    {
      "cell_type": "markdown",
      "metadata": {
        "id": "4WwsdXAkj9wx",
        "colab_type": "text"
      },
      "source": [
        "### Pre processing"
      ]
    },
    {
      "cell_type": "code",
      "metadata": {
        "id": "-fcJ7lQQ8LZr",
        "colab_type": "code",
        "colab": {}
      },
      "source": [
        "from google.colab import auth\n",
        "auth.authenticate_user()\n",
        "\n",
        "from googleapiclient.discovery import build\n",
        "drive_service = build('drive', 'v3')"
      ],
      "execution_count": 0,
      "outputs": []
    },
    {
      "cell_type": "code",
      "metadata": {
        "id": "yD6sdjIf8Lnk",
        "colab_type": "code",
        "colab": {}
      },
      "source": [
        "folder = ''\n",
        "response = drive_service.files().list(q=\" '\"+folder +\"' in parents\",\n",
        " spaces='drive',\n",
        " fields='nextPageToken, files(id, name)').execute()"
      ],
      "execution_count": 0,
      "outputs": []
    },
    {
      "cell_type": "code",
      "metadata": {
        "id": "Vbq6-Ies8IiK",
        "colab_type": "code",
        "outputId": "5eea5ec5-b096-4723-9f6c-7ce984bcc56a",
        "colab": {
          "base_uri": "https://localhost:8080/",
          "height": 51
        }
      },
      "source": [
        "datasets=[]\n",
        "\n",
        "page_token = None\n",
        "while True:\n",
        "    response = drive_service.files().list(q=\"'\"+ folder +\"' in parents\",\n",
        "                                          spaces='drive',\n",
        "                                          fields='nextPageToken, files(id, name)',\n",
        "                                          pageToken=page_token).execute()\n",
        "    for file in response.get('files', []):\n",
        "        # Process change\n",
        "        file_id = file.get('id')\n",
        "        request = drive_service.files().get_media(fileId=file_id)\n",
        "        downloaded = io.BytesIO()\n",
        "        downloader = MediaIoBaseDownload(downloaded, request)\n",
        "        done = False\n",
        "        while done is False:\n",
        "          # _ is a placeholder for a progress object that we ignore.\n",
        "          # (Our file is small, so we skip reporting progress.)\n",
        "          _, done = downloader.next_chunk()\n",
        "\n",
        "        downloaded.seek(0)\n",
        "\n",
        "        if('.csv' in file.get('name')):\n",
        "          print(file.get('name'))\n",
        "          datasets.append(io.BytesIO(downloaded.read()))\n",
        "\n",
        "    page_token1 = response.get('nextPageToken', None)\n",
        "    if page_token1 is None:\n",
        "        break"
      ],
      "execution_count": 0,
      "outputs": [
        {
          "output_type": "stream",
          "text": [
            "X_.csv\n",
            "y_.csv\n"
          ],
          "name": "stdout"
        }
      ]
    },
    {
      "cell_type": "code",
      "metadata": {
        "id": "C3z6inKtj61z",
        "colab_type": "code",
        "colab": {}
      },
      "source": [
        "X_train = pd.read_csv(datasets[0])\n",
        "y_ = pd.read_csv(datasets[1])\n",
        "X_values = X_train.loc[:, '0':].values"
      ],
      "execution_count": 0,
      "outputs": []
    },
    {
      "cell_type": "code",
      "metadata": {
        "id": "-aLL4OfMuLqP",
        "colab_type": "code",
        "colab": {}
      },
      "source": [
        "labels_data = pd.get_dummies(y_['0'])\n",
        "col_names = list(range(0,11))\n",
        "labels_data.columns = col_names\n",
        "labels_data = labels_data.idxmax(axis=1)"
      ],
      "execution_count": 0,
      "outputs": []
    },
    {
      "cell_type": "markdown",
      "metadata": {
        "id": "X8gylB_Mj7TR",
        "colab_type": "text"
      },
      "source": [
        "### Stacking"
      ]
    },
    {
      "cell_type": "code",
      "metadata": {
        "id": "hyu-IKkAEMjo",
        "colab_type": "code",
        "colab": {}
      },
      "source": [
        "# Decision tree \n",
        "clfA1 = DecisionTreeClassifier(random_state=0, max_depth = 25)\n",
        "clfA2 = DecisionTreeClassifier(random_state=10, max_depth = 10, min_samples_split = 4)\n",
        "clfA3 = DecisionTreeClassifier(random_state=5, max_depth = 15)\n",
        "clfA4 = DecisionTreeClassifier(random_state=15, max_depth = 25, min_weight_fraction_leaf = 0.2)\n",
        "clfA5 = DecisionTreeClassifier(random_state=0, max_depth = 25, criterion = \"entropy\", max_features = 100)\n",
        "clfA6 = DecisionTreeClassifier(random_state=8, max_depth = 25, max_features = 100)\n",
        "clfA7 = DecisionTreeClassifier(random_state=0, max_depth = 20, max_features = \"sqrt\")\n",
        "clfA8 = DecisionTreeClassifier(random_state=0, max_depth = 20, max_features = \"log2\")\n",
        "clfA9 = DecisionTreeClassifier(random_state=0, max_depth = 25, max_features = 0.6, min_samples_split = 3)\n",
        "clfA10 = DecisionTreeClassifier(random_state=0, max_depth = 25, splitter = \"random\")"
      ],
      "execution_count": 0,
      "outputs": []
    },
    {
      "cell_type": "code",
      "metadata": {
        "id": "BcvRSwfkEJX9",
        "colab_type": "code",
        "colab": {}
      },
      "source": [
        "# KNN configurations\n",
        "clfB1 = KNeighborsClassifier(n_neighbors=7)\n",
        "clfB2 = KNeighborsClassifier(n_neighbors=5, weights = \"distance\")\n",
        "clfB3 = KNeighborsClassifier(n_neighbors=4, weights = \"distance\")\n",
        "clfB4 = KNeighborsClassifier(n_neighbors=8)\n",
        "clfB5 = KNeighborsClassifier(n_neighbors=7, metric = \"minkowski\", p = 1)\n",
        "clfB6 = KNeighborsClassifier(n_neighbors=7, algorithm = \"ball_tree\")\n",
        "clfB7 = KNeighborsClassifier(n_neighbors=6)\n",
        "clfB8 = KNeighborsClassifier(n_neighbors=7, algorithm = \"kd_tree\", leaf_size = 50)\n",
        "clfB9 = KNeighborsClassifier(n_neighbors=5, algorithm = \"kd_tree\")\n",
        "clfB10 = KNeighborsClassifier(n_neighbors=7, algorithm = \"brute\")"
      ],
      "execution_count": 0,
      "outputs": []
    },
    {
      "cell_type": "code",
      "metadata": {
        "id": "gGs28CCAK9Vd",
        "colab_type": "code",
        "colab": {}
      },
      "source": [
        "# MLP configurations\n",
        "clfC1 = MLPClassifier(hidden_layer_sizes=(20,), max_iter=100, alpha=1e-4,\n",
        "                    solver='sgd', tol=1e-4, random_state=42, momentum = 0.8, \n",
        "                    validation_fraction = 0.3, early_stopping = True, n_iter_no_change = 10,\n",
        "                    learning_rate_init=.1, )\n",
        "clfC2 = MLPClassifier(hidden_layer_sizes=(20,), max_iter=100, alpha=1e-4,\n",
        "                    solver='sgd', tol=1e-4, random_state=42, momentum = 0.8, \n",
        "                    validation_fraction = 0.3, early_stopping = True, n_iter_no_change = 10,\n",
        "                    learning_rate_init=.2, )\n",
        "clfC3 = MLPClassifier(hidden_layer_sizes=(10,), max_iter=100, alpha=1e-4,\n",
        "                    solver='sgd', tol=1e-4, random_state=42, momentum = 0.8, \n",
        "                    validation_fraction = 0.3, early_stopping = True, n_iter_no_change = 10,\n",
        "                    learning_rate_init=.1, )\n",
        "clfC4 = MLPClassifier(hidden_layer_sizes=(20,), max_iter=50, alpha=1e-4,\n",
        "                    solver='sgd', tol=1e-4, random_state=42, momentum = 0.8, \n",
        "                    validation_fraction = 0.3, early_stopping = True, n_iter_no_change = 10,\n",
        "                    learning_rate_init=.1, )\n",
        "clfC5 = MLPClassifier(hidden_layer_sizes=(20,), max_iter=100, alpha=1e-4,\n",
        "                    solver='sgd', tol=1e-4, random_state=42, momentum = 0.8, \n",
        "                    validation_fraction = 0.3, early_stopping = True, n_iter_no_change = 10,\n",
        "                    learning_rate_init=.01, )\n",
        "clfC6 = MLPClassifier(hidden_layer_sizes=(10,10), max_iter=100, alpha=1e-4,\n",
        "                    solver='sgd', tol=1e-4, random_state=42, momentum = 0.8, \n",
        "                    validation_fraction = 0.3, early_stopping = True, n_iter_no_change = 10,\n",
        "                    learning_rate_init=.1, )\n",
        "clfC7 = MLPClassifier(hidden_layer_sizes=(20,), max_iter=150, alpha=1e-4,\n",
        "                    solver='sgd', tol=1e-4, random_state=42, momentum = 0.8, \n",
        "                    validation_fraction = 0.3, early_stopping = True, n_iter_no_change = 10,\n",
        "                    learning_rate_init=.1, )\n",
        "clfC8 = MLPClassifier(hidden_layer_sizes=(20,), max_iter=100, alpha=1e-5,\n",
        "                    solver='sgd', tol=1e-4, random_state=42, momentum = 0.8, \n",
        "                    validation_fraction = 0.3, early_stopping = True, n_iter_no_change = 5,\n",
        "                    learning_rate_init=.1, )\n",
        "clfC9 = MLPClassifier(hidden_layer_sizes=(20,), max_iter=40, alpha=1e-5,\n",
        "                    solver='sgd', tol=1e-4, random_state=42, momentum = 0.8, \n",
        "                    validation_fraction = 0.3, early_stopping = True, n_iter_no_change = 10,\n",
        "                    learning_rate_init=.1, )\n",
        "clfC10 = MLPClassifier(hidden_layer_sizes=(20,), max_iter=100, alpha=1e-4,\n",
        "                    solver='sgd', tol=1e-4, random_state=42, momentum = 0.8, \n",
        "                    validation_fraction = 0.3, early_stopping = True, n_iter_no_change = 10,\n",
        "                    learning_rate_init=.5, )"
      ],
      "execution_count": 0,
      "outputs": []
    },
    {
      "cell_type": "code",
      "metadata": {
        "id": "Iem71nEBj6Ai",
        "colab_type": "code",
        "colab": {}
      },
      "source": [
        "\n",
        "\n",
        "meta = XGBClassifier(random_state=0, n_jobs=-1, learning_rate=0.1,\n",
        "                    n_estimators=100, max_depth=3)\n"
      ],
      "execution_count": 0,
      "outputs": []
    },
    {
      "cell_type": "markdown",
      "metadata": {
        "id": "4aUsKu8gFuaG",
        "colab_type": "text"
      },
      "source": [
        "### 10 estimators"
      ]
    },
    {
      "cell_type": "code",
      "metadata": {
        "id": "_T4xm4oPu9pL",
        "colab_type": "code",
        "outputId": "ca153abe-ed0c-489f-abc3-1fc51d88eca1",
        "colab": {
          "base_uri": "https://localhost:8080/",
          "height": 51
        }
      },
      "source": [
        "# First stack: 50% DT and 50% KNN, 10 estimators\n",
        "stack1 = [clfA1, clfA2, clfA3, clfA4, clfA5, \n",
        "          clfB1, clfB1, clfB3, clfB4, clfB5]\n",
        "sclf = StackingCVClassifier(classifiers=stack1,\n",
        "                            meta_classifier=meta,\n",
        "                           )\n",
        "scores = cross_val_score(sclf, X_values, labels_data.values, cv=10, scoring='accuracy')\n",
        "print(scores)"
      ],
      "execution_count": 0,
      "outputs": [
        {
          "output_type": "stream",
          "text": [
            "[0.93732355 0.94155844 0.94466403 0.94918125 0.94127612 0.93929983\n",
            " 0.93675889 0.9378882  0.94099379 0.93873518]\n"
          ],
          "name": "stdout"
        }
      ]
    },
    {
      "cell_type": "code",
      "metadata": {
        "id": "aNRamJqeCKZL",
        "colab_type": "code",
        "outputId": "df034301-25a8-47d3-88b9-04da287f36d7",
        "colab": {
          "base_uri": "https://localhost:8080/",
          "height": 51
        }
      },
      "source": [
        "# Second stack: 50% DT and 50% X, 10 estimators\n",
        "stack2 = [clfA1, clfA2, clfA3, clfA4, clfA5, \n",
        "          clfC1, clfC1, clfC3, clfC4, clfC5]\n",
        "sclf = StackingCVClassifier(classifiers=stack2,\n",
        "                            meta_classifier=meta)\n",
        "scores = cross_val_score(sclf, X_values, labels_data.values, cv=10, scoring='accuracy')\n",
        "print(scores)"
      ],
      "execution_count": 0,
      "outputs": [
        {
          "output_type": "stream",
          "text": [
            "[0.89497459 0.92094862 0.92941841 0.94240542 0.9079616  0.92941841\n",
            " 0.92461886 0.91389046 0.93224167 0.89920949]\n"
          ],
          "name": "stdout"
        }
      ]
    },
    {
      "cell_type": "code",
      "metadata": {
        "id": "Dg4XhfiNHSlv",
        "colab_type": "code",
        "outputId": "0e513e11-9efb-44e0-d78b-1c16df7fc738",
        "colab": {
          "base_uri": "https://localhost:8080/",
          "height": 34
        }
      },
      "source": [
        "# third stack: 50% KNN and 50% MLP, 10 estimators\n",
        "stack3 = [clfB1, clfB2, clfB3, clfB4, clfB5, \n",
        "          clfC1, clfC1, clfC3, clfC4, clfC5]\n",
        "sclf = StackingCVClassifier(classifiers=stack3,\n",
        "                            meta_classifier=meta)\n",
        "scores = cross_val_score(sclf, X_values, labels_data.values, cv=5, scoring='accuracy')\n",
        "print(scores)"
      ],
      "execution_count": 0,
      "outputs": [
        {
          "output_type": "stream",
          "text": [
            "[0.49788255 0.62111801 0.61405985 0.601214   0.61857708]\n"
          ],
          "name": "stdout"
        }
      ]
    },
    {
      "cell_type": "code",
      "metadata": {
        "id": "omBkHVG8Nxjw",
        "colab_type": "code",
        "outputId": "9c8e33c9-8abb-4625-88c4-b191facc39b9",
        "colab": {
          "base_uri": "https://localhost:8080/",
          "height": 34
        }
      },
      "source": [
        "# forth stack: 33% KNN and 33% X, 10 estimators\n",
        "stack4 = [clfA1, clfA2, clfA3, clfA4, clfB1, \n",
        "          clfB2, clfB3, clfC1, clfC2, clfC3]\n",
        "sclf = StackingCVClassifier(classifiers=stack4,\n",
        "                            meta_classifier=meta)\n",
        "scores = cross_val_score(sclf, X_values, labels_data.values, cv=5, scoring='accuracy')\n",
        "print(scores)"
      ],
      "execution_count": 0,
      "outputs": [
        {
          "output_type": "stream",
          "text": [
            "[0.90993789 0.91600791 0.91727837 0.91883117 0.91600791]\n"
          ],
          "name": "stdout"
        }
      ]
    },
    {
      "cell_type": "markdown",
      "metadata": {
        "id": "lHHoFZdpOlLj",
        "colab_type": "text"
      },
      "source": [
        "## 15 estimators"
      ]
    },
    {
      "cell_type": "code",
      "metadata": {
        "id": "1G3GJDFAOowb",
        "colab_type": "code",
        "outputId": "4c74a31b-8bad-423e-a277-d18d1037e5b7",
        "colab": {
          "base_uri": "https://localhost:8080/",
          "height": 34
        }
      },
      "source": [
        "# first stack: 50% KNN and 50% DT, 15 estimators\n",
        "stack1 = [clfA1, clfA2, clfA3, clfA4, clfA5, clfA6, clfA7, clfA8 ,\n",
        "          clfB1, clfB2, clfB3, clfB4, clfB5, clfB6, clfB7]\n",
        "sclf = StackingCVClassifier(classifiers=stack1,\n",
        "                            meta_classifier=meta)\n",
        "scores = cross_val_score(sclf, X_values, labels_data.values, cv=5, scoring='accuracy')\n",
        "print(scores)"
      ],
      "execution_count": 0,
      "outputs": [
        {
          "output_type": "stream",
          "text": [
            "[0.95059289 0.95511011 0.95087521 0.94452287 0.94988707]\n"
          ],
          "name": "stdout"
        }
      ]
    },
    {
      "cell_type": "code",
      "metadata": {
        "id": "tX5ztl7jPMV0",
        "colab_type": "code",
        "outputId": "aecab2e9-d176-450d-a779-7b77a6de6a1d",
        "colab": {
          "base_uri": "https://localhost:8080/",
          "height": 34
        }
      },
      "source": [
        "# second stack: 50% KNN and 50% MLP, 15 estimators\n",
        "stack2 = [clfB1, clfB2, clfB3, clfB4, clfB5, clfB6, clfB7, clfB8 ,\n",
        "          clfC1, clfC2, clfC3, clfC4, clfC5, clfC6, clfC7]\n",
        "sclf = StackingCVClassifier(classifiers=stack2,\n",
        "                            meta_classifier=meta)\n",
        "scores = cross_val_score(sclf, X_values, labels_data.values, cv=5, scoring='accuracy')\n",
        "print(scores)"
      ],
      "execution_count": 0,
      "outputs": [
        {
          "output_type": "stream",
          "text": [
            "[0.61561265 0.61603614 0.60093168 0.63057595 0.54291361]\n"
          ],
          "name": "stdout"
        }
      ]
    },
    {
      "cell_type": "code",
      "metadata": {
        "id": "7LsMn3tSPNwE",
        "colab_type": "code",
        "outputId": "d0635a05-65b7-4eff-8e76-6d01f44dabfc",
        "colab": {
          "base_uri": "https://localhost:8080/",
          "height": 34
        }
      },
      "source": [
        "# third stack: 50% DT and 50% MLP, 15 estimators\n",
        "stack3 = [clfA1, clfA2, clfA3, clfA4, clfA5, clfA6, clfA7, clfA8, \n",
        "          clfC1, clfC2, clfC3, clfC4, clfC5, clfC6, clfC7]\n",
        "sclf = StackingCVClassifier(classifiers=stack3,\n",
        "                            meta_classifier=meta)\n",
        "scores = cross_val_score(sclf, X_values, labels_data.values, cv=5, scoring='accuracy')\n",
        "print(scores)"
      ],
      "execution_count": 0,
      "outputs": [
        {
          "output_type": "stream",
          "text": [
            "[0.93266516 0.95426313 0.94480519 0.92108978 0.94085263]\n"
          ],
          "name": "stdout"
        }
      ]
    },
    {
      "cell_type": "code",
      "metadata": {
        "id": "FuyEU-Z_POXV",
        "colab_type": "code",
        "outputId": "14b0f977-6bf1-4826-c5a3-ecd45c077828",
        "colab": {
          "base_uri": "https://localhost:8080/",
          "height": 34
        }
      },
      "source": [
        "# forth stack: 33% DT, 33% KNN and 33% MLP, 10 estimators\n",
        "stack4 = [clfA1, clfA2, clfA3, clfA4, clfA5, clfB1, clfB2, clfB3, clfB4, clfB5, \n",
        "          clfC1, clfC2, clfC3, clfC4, clfC5]\n",
        "sclf = StackingCVClassifier(classifiers=stack4,\n",
        "                            meta_classifier=meta)\n",
        "scores = cross_val_score(sclf, X_values, labels_data.values, cv=5, scoring='accuracy')\n",
        "print(scores)"
      ],
      "execution_count": 0,
      "outputs": [
        {
          "output_type": "stream",
          "text": [
            "[0.92772445 0.932524   0.93732355 0.93111237 0.93704122]\n"
          ],
          "name": "stdout"
        }
      ]
    },
    {
      "cell_type": "markdown",
      "metadata": {
        "id": "985DqcmRRQQp",
        "colab_type": "text"
      },
      "source": [
        "### 20 estimators"
      ]
    },
    {
      "cell_type": "code",
      "metadata": {
        "id": "SasbL3LzRU54",
        "colab_type": "code",
        "outputId": "5dea49c3-4038-4f7a-e4a7-f2b1a00bcda6",
        "colab": {
          "base_uri": "https://localhost:8080/",
          "height": 34
        }
      },
      "source": [
        "# first stack: 50% KNN and 50% DT, 20 estimators\n",
        "stack1 = [clfA1, clfA2, clfA3, clfA4, clfA5, clfA6, clfA7, clfA8, clfA9, clfA10,\n",
        "          clfB1, clfB2, clfB3, clfB4, clfB5, clfB6, clfB7, clfB8, clfB9, clfB10]\n",
        "sclf = StackingCVClassifier(classifiers=stack1,\n",
        "                            meta_classifier=meta)\n",
        "scores = cross_val_score(sclf, X_values, labels_data.values, cv=5, scoring='accuracy')\n",
        "print(scores)"
      ],
      "execution_count": 0,
      "outputs": [
        {
          "output_type": "stream",
          "text": [
            "[0.95412196 0.95962733 0.95539243 0.94734613 0.95327499]\n"
          ],
          "name": "stdout"
        }
      ]
    },
    {
      "cell_type": "code",
      "metadata": {
        "id": "9EuAPAFgRVmd",
        "colab_type": "code",
        "outputId": "12757c08-cf10-42a1-930a-e5fa620b82a3",
        "colab": {
          "base_uri": "https://localhost:8080/",
          "height": 34
        }
      },
      "source": [
        "# second stack: 50% KNN and 50% MLP, 15 estimators\n",
        "stack2 = [clfB1, clfB2, clfB3, clfB4, clfB5, clfB6, clfB7, clfB8, clfB9, clfB10,\n",
        "          clfC1, clfC2, clfC3, clfC4, clfC5, clfC6, clfC7, clfC8, clfC9, clfC10]\n",
        "sclf = StackingCVClassifier(classifiers=stack2,\n",
        "                            meta_classifier=meta)\n",
        "scores = cross_val_score(sclf, X_values, labels_data.values, cv=5, scoring='accuracy')\n",
        "print(scores)"
      ],
      "execution_count": 0,
      "outputs": [
        {
          "output_type": "stream",
          "text": [
            "[0.49830604 0.62436477 0.62619989 0.63946923 0.5107284 ]\n"
          ],
          "name": "stdout"
        }
      ]
    },
    {
      "cell_type": "code",
      "metadata": {
        "id": "fzao6SCxRWF2",
        "colab_type": "code",
        "outputId": "71b81d91-8e73-489c-a7bd-57026d646a4a",
        "colab": {
          "base_uri": "https://localhost:8080/",
          "height": 34
        }
      },
      "source": [
        "# third stack: 50% DT and 50% MLP, 15 estimators\n",
        "stack3 = [clfA1, clfA2, clfA3, clfA4, clfA5, clfA6, clfA7, clfA8, clfA9, clfA10, \n",
        "          clfC1, clfC2, clfC3, clfC4, clfC5, clfC6, clfC7, clfC8, clfC9, clfC10]\n",
        "sclf = StackingCVClassifier(classifiers=stack3,\n",
        "                            meta_classifier=meta)\n",
        "scores = cross_val_score(sclf, X_values, labels_data.values, cv=5, scoring='accuracy')\n",
        "print(scores)"
      ],
      "execution_count": 0,
      "outputs": [
        {
          "output_type": "stream",
          "text": [
            "[0.94932242 0.95750988 0.9512987  0.94438171 0.94085263]\n"
          ],
          "name": "stdout"
        }
      ]
    },
    {
      "cell_type": "code",
      "metadata": {
        "id": "OaH21rENRV5K",
        "colab_type": "code",
        "outputId": "09c2f640-f363-4319-f6d6-44e760b07a1b",
        "colab": {
          "base_uri": "https://localhost:8080/",
          "height": 34
        }
      },
      "source": [
        "# forth stack: 33% DT, 33% KNN and 33% MLP, 20 estimators\n",
        "stack4 = [clfA1, clfA2, clfA3, clfA4, clfA5, clfA6, clfA7, \n",
        "          clfB1, clfB2, clfB3, clfB4, clfB5, clfB6, clfB7, \n",
        "          clfC1, clfC2, clfC3, clfC4, clfC5, clfC6]\n",
        "sclf = StackingCVClassifier(classifiers=stack4,\n",
        "                            meta_classifier=meta)\n",
        "scores = cross_val_score(sclf, X_values, labels_data.values, cv=5, scoring='accuracy')\n",
        "print(scores)"
      ],
      "execution_count": 0,
      "outputs": [
        {
          "output_type": "stream",
          "text": [
            "[0.93817053 0.95073405 0.94099379 0.93958216 0.94551101]\n"
          ],
          "name": "stdout"
        }
      ]
    }
  ]
}